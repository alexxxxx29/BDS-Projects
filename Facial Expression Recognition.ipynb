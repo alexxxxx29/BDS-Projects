{
 "cells": [
  {
   "cell_type": "markdown",
   "id": "173b4db1",
   "metadata": {
    "papermill": {
     "duration": 0.010102,
     "end_time": "2023-10-19T02:10:48.843596",
     "exception": false,
     "start_time": "2023-10-19T02:10:48.833494",
     "status": "completed"
    },
    "tags": []
   },
   "source": [
    "# Facial Expression Recognition 2023\n",
    "### Group 15\n",
    "\n",
    "# 1. Our approach\n",
    "\n",
    "This project is about creating an algorithm that classifies images of faces into the emotion being expressed. Our approach is to combine the raw pixel feature approach with some of our own extracted edge and spectral features. \n",
    "\n",
    "# 2. Our data\n",
    "## 2.1 Importing the data"
   ]
  },
  {
   "cell_type": "code",
   "execution_count": 1,
   "id": "ebf6071b",
   "metadata": {
    "_execution_state": "idle",
    "_uuid": "051d70d956493feee0c6d64651c6a088724dca2a",
    "execution": {
     "iopub.execute_input": "2023-10-19T02:10:48.862360Z",
     "iopub.status.busy": "2023-10-19T02:10:48.860695Z",
     "iopub.status.idle": "2023-10-19T02:10:51.575510Z",
     "shell.execute_reply": "2023-10-19T02:10:51.574341Z"
    },
    "papermill": {
     "duration": 2.725678,
     "end_time": "2023-10-19T02:10:51.577086",
     "exception": false,
     "start_time": "2023-10-19T02:10:48.851408",
     "status": "completed"
    },
    "tags": []
   },
   "outputs": [
    {
     "name": "stderr",
     "output_type": "stream",
     "text": [
      "── \u001b[1mAttaching core tidyverse packages\u001b[22m ──────────────────────── tidyverse 2.0.0 ──\n",
      "\u001b[32m✔\u001b[39m \u001b[34mdplyr    \u001b[39m 1.1.2     \u001b[32m✔\u001b[39m \u001b[34mreadr    \u001b[39m 2.1.4\n",
      "\u001b[32m✔\u001b[39m \u001b[34mforcats  \u001b[39m 1.0.0     \u001b[32m✔\u001b[39m \u001b[34mstringr  \u001b[39m 1.5.0\n",
      "\u001b[32m✔\u001b[39m \u001b[34mggplot2  \u001b[39m 3.4.2     \u001b[32m✔\u001b[39m \u001b[34mtibble   \u001b[39m 3.2.1\n",
      "\u001b[32m✔\u001b[39m \u001b[34mlubridate\u001b[39m 1.9.2     \u001b[32m✔\u001b[39m \u001b[34mtidyr    \u001b[39m 1.3.0\n",
      "\u001b[32m✔\u001b[39m \u001b[34mpurrr    \u001b[39m 1.0.1     \n",
      "── \u001b[1mConflicts\u001b[22m ────────────────────────────────────────── tidyverse_conflicts() ──\n",
      "\u001b[31m✖\u001b[39m \u001b[34mdplyr\u001b[39m::\u001b[32mfilter()\u001b[39m masks \u001b[34mstats\u001b[39m::filter()\n",
      "\u001b[31m✖\u001b[39m \u001b[34mdplyr\u001b[39m::\u001b[32mlag()\u001b[39m    masks \u001b[34mstats\u001b[39m::lag()\n",
      "\u001b[36mℹ\u001b[39m Use the conflicted package (\u001b[3m\u001b[34m<http://conflicted.r-lib.org/>\u001b[39m\u001b[23m) to force all conflicts to become errors\n",
      "Loading required package: lattice\n",
      "\n",
      "\n",
      "Attaching package: ‘caret’\n",
      "\n",
      "\n",
      "The following object is masked from ‘package:purrr’:\n",
      "\n",
      "    lift\n",
      "\n",
      "\n",
      "The following object is masked from ‘package:httr’:\n",
      "\n",
      "    progress\n",
      "\n",
      "\n"
     ]
    }
   ],
   "source": [
    "## Importing packages\n",
    "\n",
    "library(tidyverse) # metapackage with lots of helpful functions\n",
    "library(png) # package that can be used to read png image files in a simple format\n",
    "library(caret) # package for modelling"
   ]
  },
  {
   "cell_type": "code",
   "execution_count": 2,
   "id": "b590d829",
   "metadata": {
    "execution": {
     "iopub.execute_input": "2023-10-19T02:10:51.615219Z",
     "iopub.status.busy": "2023-10-19T02:10:51.593984Z",
     "iopub.status.idle": "2023-10-19T02:10:52.419497Z",
     "shell.execute_reply": "2023-10-19T02:10:52.418111Z"
    },
    "papermill": {
     "duration": 0.836331,
     "end_time": "2023-10-19T02:10:52.421340",
     "exception": false,
     "start_time": "2023-10-19T02:10:51.585009",
     "status": "completed"
    },
    "tags": []
   },
   "outputs": [
    {
     "data": {
      "text/html": [
       "<style>\n",
       ".list-inline {list-style: none; margin:0; padding: 0}\n",
       ".list-inline>li {display: inline-block}\n",
       ".list-inline>li:not(:last-child)::after {content: \"\\00b7\"; padding: 0 .5ex}\n",
       "</style>\n",
       "<ol class=list-inline><li>'../input/bda-2023-facial-expressions'</li><li>'../input/bda-2023-facial-expressions/ckplus'</li><li>'../input/bda-2023-facial-expressions/ckplus/test'</li><li>'../input/bda-2023-facial-expressions/ckplus/train'</li><li>'../input/bda-2023-facial-expressions/ckplus/train/anger'</li><li>'../input/bda-2023-facial-expressions/ckplus/train/disgust'</li><li>'../input/bda-2023-facial-expressions/ckplus/train/happy'</li><li>'../input/bda-2023-facial-expressions/ckplus/train/sadness'</li></ol>\n"
      ],
      "text/latex": [
       "\\begin{enumerate*}\n",
       "\\item '../input/bda-2023-facial-expressions'\n",
       "\\item '../input/bda-2023-facial-expressions/ckplus'\n",
       "\\item '../input/bda-2023-facial-expressions/ckplus/test'\n",
       "\\item '../input/bda-2023-facial-expressions/ckplus/train'\n",
       "\\item '../input/bda-2023-facial-expressions/ckplus/train/anger'\n",
       "\\item '../input/bda-2023-facial-expressions/ckplus/train/disgust'\n",
       "\\item '../input/bda-2023-facial-expressions/ckplus/train/happy'\n",
       "\\item '../input/bda-2023-facial-expressions/ckplus/train/sadness'\n",
       "\\end{enumerate*}\n"
      ],
      "text/markdown": [
       "1. '../input/bda-2023-facial-expressions'\n",
       "2. '../input/bda-2023-facial-expressions/ckplus'\n",
       "3. '../input/bda-2023-facial-expressions/ckplus/test'\n",
       "4. '../input/bda-2023-facial-expressions/ckplus/train'\n",
       "5. '../input/bda-2023-facial-expressions/ckplus/train/anger'\n",
       "6. '../input/bda-2023-facial-expressions/ckplus/train/disgust'\n",
       "7. '../input/bda-2023-facial-expressions/ckplus/train/happy'\n",
       "8. '../input/bda-2023-facial-expressions/ckplus/train/sadness'\n",
       "\n",
       "\n"
      ],
      "text/plain": [
       "[1] \"../input/bda-2023-facial-expressions\"                     \n",
       "[2] \"../input/bda-2023-facial-expressions/ckplus\"              \n",
       "[3] \"../input/bda-2023-facial-expressions/ckplus/test\"         \n",
       "[4] \"../input/bda-2023-facial-expressions/ckplus/train\"        \n",
       "[5] \"../input/bda-2023-facial-expressions/ckplus/train/anger\"  \n",
       "[6] \"../input/bda-2023-facial-expressions/ckplus/train/disgust\"\n",
       "[7] \"../input/bda-2023-facial-expressions/ckplus/train/happy\"  \n",
       "[8] \"../input/bda-2023-facial-expressions/ckplus/train/sadness\""
      ]
     },
     "metadata": {},
     "output_type": "display_data"
    }
   ],
   "source": [
    "# Show the availabe directories\n",
    "dirs = dir(\"../input\", pattern=\"[^g]$\", recursive=TRUE, include.dirs = TRUE, full.names = TRUE)\n",
    "dirs"
   ]
  },
  {
   "cell_type": "code",
   "execution_count": 3,
   "id": "f56b10a8",
   "metadata": {
    "execution": {
     "iopub.execute_input": "2023-10-19T02:10:52.440442Z",
     "iopub.status.busy": "2023-10-19T02:10:52.439230Z",
     "iopub.status.idle": "2023-10-19T02:10:52.528109Z",
     "shell.execute_reply": "2023-10-19T02:10:52.526919Z"
    },
    "papermill": {
     "duration": 0.100073,
     "end_time": "2023-10-19T02:10:52.529590",
     "exception": false,
     "start_time": "2023-10-19T02:10:52.429517",
     "status": "completed"
    },
    "tags": []
   },
   "outputs": [
    {
     "name": "stdout",
     "output_type": "stream",
     "text": [
      " chr [1:570] \"../input/bda-2023-facial-expressions/ckplus/train/anger/S010_004_00000018a.png\" ...\n",
      " chr [1:744] \"../input/bda-2023-facial-expressions/ckplus/train/disgust/S005_001_00000009a.png\" ...\n",
      " chr [1:870] \"../input/bda-2023-facial-expressions/ckplus/train/happy/S010_006_00000013a.png\" ...\n",
      " chr [1:354] \"../input/bda-2023-facial-expressions/ckplus/train/sadness/S011_002_00000020a.png\" ...\n",
      " chr [1:1080] \"../input/bda-2023-facial-expressions/ckplus/test/S010_004_00000017a.png\" ...\n"
     ]
    }
   ],
   "source": [
    "# Get all image files: file names ending \".png\" \n",
    "anger   = dir(grep(\"anger\",   dirs, value = TRUE), pattern = \"png$\", full.names = TRUE)\n",
    "disgust = dir(grep(\"disgust\", dirs, value = TRUE), pattern = \"png$\", full.names = TRUE)\n",
    "happy   = dir(grep(\"happy\",   dirs, value = TRUE), pattern = \"png$\", full.names = TRUE)\n",
    "sad     = dir(grep(\"sad\",     dirs, value = TRUE), pattern = \"png$\", full.names = TRUE)\n",
    "test_im = dir(grep(\"test\",    dirs, value = TRUE), pattern = \"png$\", full.names = TRUE)\n",
    "\n",
    "# Check file names\n",
    "str(anger)\n",
    "str(disgust)\n",
    "str(happy)\n",
    "str(sad)\n",
    "str(test_im)"
   ]
  },
  {
   "cell_type": "markdown",
   "id": "5efaf637",
   "metadata": {
    "papermill": {
     "duration": 0.008397,
     "end_time": "2023-10-19T02:10:52.547867",
     "exception": false,
     "start_time": "2023-10-19T02:10:52.539470",
     "status": "completed"
    },
    "tags": []
   },
   "source": [
    "## 2.2 Data considerations\n",
    "\n",
    "Answer the 3 most important questions for any ML project:\n",
    "\n",
    "1. Where do the data come from? (To which population will results generalize?)\n",
    "\n",
    "  This data was sampled from the Cohn-Kanade (CK) database and contains grayscale video stills of 101 participants doing 4 facial expressions (happy, angry, sad, disgusted). Participants were 18 to 50 years of age, 69% female, 81%, Euro-American, 13% Afro-American, and 6% other groups (Lucey, et al., 2010; p. 1). Therefore, we can expect generalization to other grayscale images of adult facial expressions from a Euro-American ethnic background. Although, Afro-American and 6% other groups were included, it is unlikely that an algorithm built on this data generalizes to these largely unrepresented populations in the dataset well. Furthermore, these images were cropped to include facial close-ups, therefore similar image preprocessing would enable the best generalizability.\n",
    "  \n",
    "2. What are candidate machine learning methods? (models? features?)\n",
    "   \n",
    "  Candidate models:\n",
    "      - multinomial regression with lasso or ridge regularization\n",
    "      - lda\n",
    "      - qda\n",
    "      - classification tree\n",
    "      - KNN-scaled\n",
    "      - support vector machines\n",
    "      - random forests\n",
    "      - boosted trees      \n",
    "      \n",
    "3. What is the Bayes' error bound? (Any guestimate from scientific literature or web resources?)\n",
    "\n",
    "  This question was answered in the quickstart notebook:\n",
    "  \n",
    "  The best 'machine' we have at hand to recognize emotion from facial expression in the human brain. In a study by Mollahosseini et al. (2018) an estimate for human classification inter-rater agreement was obtained for 11 emotions. For the four included in this data set they are:\n",
    "\n",
    "\n",
    "<table>\n",
    "    <thead>\n",
    "    <tr><td>disgust</td><td>anger</td><td>happy</td><td>sad</td></tr>\n",
    "    </thead>\n",
    "    <tbody>\n",
    "        <tr><td>67.6%</td><td>62.3%</td><td>79.6%</td><td>69.7%</td></tr>\n",
    "    </tbody>\n",
    "</table>"
   ]
  },
  {
   "cell_type": "markdown",
   "id": "5aecd5e3",
   "metadata": {
    "papermill": {
     "duration": 0.008287,
     "end_time": "2023-10-19T02:10:52.564902",
     "exception": false,
     "start_time": "2023-10-19T02:10:52.556615",
     "status": "completed"
    },
    "tags": []
   },
   "source": [
    "## 2.3 Formatting Data\n",
    "\n",
    "We read in our image data pixel by pixel, such that each image is stored as a long vector of pixel intensities, row by row. We also add a vector that contains the emotion label for each of the images."
   ]
  },
  {
   "cell_type": "code",
   "execution_count": 4,
   "id": "f9e2d9e3",
   "metadata": {
    "execution": {
     "iopub.execute_input": "2023-10-19T02:10:52.584499Z",
     "iopub.status.busy": "2023-10-19T02:10:52.583279Z",
     "iopub.status.idle": "2023-10-19T02:11:11.582633Z",
     "shell.execute_reply": "2023-10-19T02:11:11.581187Z"
    },
    "papermill": {
     "duration": 19.011219,
     "end_time": "2023-10-19T02:11:11.584366",
     "exception": false,
     "start_time": "2023-10-19T02:10:52.573147",
     "status": "completed"
    },
    "tags": []
   },
   "outputs": [
    {
     "name": "stdout",
     "output_type": "stream",
     "text": [
      "                                    p20        p21        p22        p23\n",
      "anger/S010_004_00000018a.png 0.58039216 0.60784314 0.70196078 0.85882353\n",
      "anger/S010_004_00000018b.png 0.02745098 0.02745098 0.04313725 0.07450980\n",
      "anger/S010_004_00000018c.png 0.03529412 0.03137255 0.02745098 0.01960784\n",
      "anger/S010_004_00000018d.png 0.03921569 0.03137255 0.03137255 0.02745098\n",
      "anger/S010_004_00000018e.png 1.00000000 1.00000000 1.00000000 1.00000000\n",
      "anger/S010_004_00000018f.png 1.00000000 1.00000000 1.00000000 1.00000000\n"
     ]
    },
    {
     "data": {
      "text/plain": [
       "y\n",
       "  anger disgust   happy     sad \n",
       "    570     744     870     354 "
      ]
     },
     "metadata": {},
     "output_type": "display_data"
    },
    {
     "name": "stdout",
     "output_type": "stream",
     "text": [
      "                              p20        p21        p22        p23\n",
      "S010_004_00000017a.png 0.77647059 0.81960784 0.89803922 0.98039216\n",
      "S010_004_00000017b.png 0.46666667 0.52549020 0.63529412 0.74901961\n",
      "S010_004_00000017c.png 0.25490196 0.34509804 0.49803922 0.67450980\n",
      "S010_004_00000017d.png 0.04313725 0.03529412 0.03529412 0.02745098\n",
      "S010_004_00000017e.png 0.03921569 0.03137255 0.03137255 0.02745098\n",
      "S010_004_00000017f.png 0.07058824 0.10588235 0.14509804 0.24705882\n"
     ]
    }
   ],
   "source": [
    "# Combine all filenames into a single vector\n",
    "train_image_files = c(anger, happy, sad, disgust)\n",
    "\n",
    "# Read in the images as pixel values (discarding color channels)\n",
    "X = sapply(train_image_files, function(nm) c(readPNG(nm)[,,1])) %>% t() \n",
    "y = c(rep(\"anger\", length(anger)), rep(\"happy\", length(happy)), rep(\"sad\", length(sad)), rep(\"disgust\", length(disgust)))\n",
    "\n",
    "X_test = sapply(test_im, function(nm) c(readPNG(nm)[,,1])) %>% t() \n",
    "\n",
    "\n",
    "# Change row and column names of X to something more managable (caret::train requires column names)\n",
    "rownames(X)      = gsub(\".+train/\", \"\", rownames(X))\n",
    "rownames(X_test) = gsub(\".+test/\",  \"\", rownames(X_test))\n",
    "\n",
    "colnames(X) = colnames(X_test) = paste(\"p\",1:ncol(X), sep=\"\")\n",
    "\n",
    "# Check result (are X, X_test, and y what we expect)\n",
    "X[1:6,20:23] %>% print # check X\n",
    "table(y) # check y\n",
    "                \n",
    "X_test[1:6,20:23] %>% print # check X_test"
   ]
  },
  {
   "cell_type": "markdown",
   "id": "aeeb9375",
   "metadata": {
    "papermill": {
     "duration": 0.007877,
     "end_time": "2023-10-19T02:11:11.600634",
     "exception": false,
     "start_time": "2023-10-19T02:11:11.592757",
     "status": "completed"
    },
    "tags": []
   },
   "source": [
    "It is always important to have a look at your data. We therefore visualize a sample image below."
   ]
  },
  {
   "cell_type": "code",
   "execution_count": 5,
   "id": "1a0f42b7",
   "metadata": {
    "execution": {
     "iopub.execute_input": "2023-10-19T02:11:11.621967Z",
     "iopub.status.busy": "2023-10-19T02:11:11.620616Z",
     "iopub.status.idle": "2023-10-19T02:11:11.828821Z",
     "shell.execute_reply": "2023-10-19T02:11:11.827462Z"
    },
    "papermill": {
     "duration": 0.219747,
     "end_time": "2023-10-19T02:11:11.830517",
     "exception": false,
     "start_time": "2023-10-19T02:11:11.610770",
     "status": "completed"
    },
    "tags": []
   },
   "outputs": [
    {
     "data": {
      "image/png": "[encoded data removed]"
     },
     "metadata": {
      "image/png": {
       "height": 420,
       "width": 420
      }
     },
     "output_type": "display_data"
    }
   ],
   "source": [
    "# Visualization utility function\n",
    "as_image = function(x, nr=sqrt(length(x))) {opar=par(mar=rep(0,4)); on.exit(par(opar)); image(t(matrix(x,nr))[,nr:1], col = gray(0:255/255),axes=F)}\n",
    "\n",
    "# View image data sample\n",
    "as_image(X[13,])"
   ]
  },
  {
   "cell_type": "markdown",
   "id": "b1f23292",
   "metadata": {
    "papermill": {
     "duration": 0.007936,
     "end_time": "2023-10-19T02:11:11.846999",
     "exception": false,
     "start_time": "2023-10-19T02:11:11.839063",
     "status": "completed"
    },
    "tags": []
   },
   "source": [
    "# 3. Select informative pixels\n",
    "\n",
    "In this section we reduce the pixels used as features in our raw pixel data by identifying near zero variance pixels, highly correlated pixels, and any pixels that form linear combinations. We choose pixels with the highest variance, as these likely hold the most information about the differences in facial expression, whereas high correlation and linear combination pixels are removed as they violate model assumptions, such as multicolinearity. We create an index for the pixels that are do not have near zero variance, high correlations, or linear combinations. These are the pixels we then use as features.\n",
    "\n",
    "## 3.1 Remove near zero variance pixels\n",
    "\n",
    "We'll define near zero variance as a variance lower than .0475. We calculate pixel variance and select pixels with a chance of being non-zero higher than .95 and lower than .05. This threshold was chosen by visually inspecting the pixels retained. This can be seen in the code below."
   ]
  },
  {
   "cell_type": "code",
   "execution_count": 6,
   "id": "76865f2a",
   "metadata": {
    "execution": {
     "iopub.execute_input": "2023-10-19T02:11:11.865698Z",
     "iopub.status.busy": "2023-10-19T02:11:11.864531Z",
     "iopub.status.idle": "2023-10-19T02:11:12.282175Z",
     "shell.execute_reply": "2023-10-19T02:11:12.280978Z"
    },
    "papermill": {
     "duration": 0.428749,
     "end_time": "2023-10-19T02:11:12.283743",
     "exception": false,
     "start_time": "2023-10-19T02:11:11.854994",
     "status": "completed"
    },
    "tags": []
   },
   "outputs": [
    {
     "data": {
      "text/html": [
       "1548"
      ],
      "text/latex": [
       "1548"
      ],
      "text/markdown": [
       "1548"
      ],
      "text/plain": [
       "[1] 1548"
      ]
     },
     "metadata": {},
     "output_type": "display_data"
    }
   ],
   "source": [
    "# Compute variance of X\n",
    "var = apply(X,2,var)\n",
    "\n",
    "# Find pixels that do not have near-zero-variance\n",
    "use_pix = var > .05 * (1-.05)\n",
    "\n",
    "# What is the number of pixels retained?\n",
    "sum(use_pix)"
   ]
  },
  {
   "cell_type": "code",
   "execution_count": 7,
   "id": "882aa26e",
   "metadata": {
    "execution": {
     "iopub.execute_input": "2023-10-19T02:11:12.303656Z",
     "iopub.status.busy": "2023-10-19T02:11:12.302574Z",
     "iopub.status.idle": "2023-10-19T02:11:12.378045Z",
     "shell.execute_reply": "2023-10-19T02:11:12.376368Z"
    },
    "papermill": {
     "duration": 0.087759,
     "end_time": "2023-10-19T02:11:12.380114",
     "exception": false,
     "start_time": "2023-10-19T02:11:12.292355",
     "status": "completed"
    },
    "tags": []
   },
   "outputs": [
    {
     "data": {
      "image/png": "[encoded data removed]"
     },
     "metadata": {
      "image/png": {
       "height": 420,
       "width": 420
      }
     },
     "output_type": "display_data"
    }
   ],
   "source": [
    "# Visualize the pixels being retained\n",
    "# Save image to new variable to prevent changing data\n",
    "img_13 <- X[13,]\n",
    "\n",
    "# Color unused pixels white\n",
    "img_13[!use_pix] <- 1 # change pixel value of unused pixels to 1\n",
    "\n",
    "# View resulting image\n",
    "as_image(img_13)"
   ]
  },
  {
   "cell_type": "markdown",
   "id": "373d9b7d",
   "metadata": {
    "papermill": {
     "duration": 0.008601,
     "end_time": "2023-10-19T02:11:12.397577",
     "exception": false,
     "start_time": "2023-10-19T02:11:12.388976",
     "status": "completed"
    },
    "tags": []
   },
   "source": [
    "## 3.2 Remove pixels with high correlations\n",
    "\n",
    "Here we identify pixels that have very high correlations. The threshold we use here is again determined by visualizing the pixels retained."
   ]
  },
  {
   "cell_type": "code",
   "execution_count": 8,
   "id": "f89d85c7",
   "metadata": {
    "execution": {
     "iopub.execute_input": "2023-10-19T02:11:12.417637Z",
     "iopub.status.busy": "2023-10-19T02:11:12.416438Z",
     "iopub.status.idle": "2023-10-19T02:11:19.866666Z",
     "shell.execute_reply": "2023-10-19T02:11:19.865457Z"
    },
    "papermill": {
     "duration": 7.46242,
     "end_time": "2023-10-19T02:11:19.868523",
     "exception": false,
     "start_time": "2023-10-19T02:11:12.406103",
     "status": "completed"
    },
    "tags": []
   },
   "outputs": [
    {
     "name": "stdout",
     "output_type": "stream",
     "text": [
      "[1] \"High correlation pixels in X\"\n"
     ]
    },
    {
     "data": {
      "text/html": [
       "<style>\n",
       ".list-inline {list-style: none; margin:0; padding: 0}\n",
       ".list-inline>li {display: inline-block}\n",
       ".list-inline>li:not(:last-child)::after {content: \"\\00b7\"; padding: 0 .5ex}\n",
       "</style>\n",
       "<ol class=list-inline><li>7</li><li>8</li><li>9</li><li>10</li><li>11</li><li>12</li><li>13</li><li>14</li><li>15</li><li>16</li><li>17</li><li>18</li><li>32</li><li>33</li><li>34</li><li>35</li><li>36</li><li>55</li><li>56</li><li>57</li></ol>\n"
      ],
      "text/latex": [
       "\\begin{enumerate*}\n",
       "\\item 7\n",
       "\\item 8\n",
       "\\item 9\n",
       "\\item 10\n",
       "\\item 11\n",
       "\\item 12\n",
       "\\item 13\n",
       "\\item 14\n",
       "\\item 15\n",
       "\\item 16\n",
       "\\item 17\n",
       "\\item 18\n",
       "\\item 32\n",
       "\\item 33\n",
       "\\item 34\n",
       "\\item 35\n",
       "\\item 36\n",
       "\\item 55\n",
       "\\item 56\n",
       "\\item 57\n",
       "\\end{enumerate*}\n"
      ],
      "text/markdown": [
       "1. 7\n",
       "2. 8\n",
       "3. 9\n",
       "4. 10\n",
       "5. 11\n",
       "6. 12\n",
       "7. 13\n",
       "8. 14\n",
       "9. 15\n",
       "10. 16\n",
       "11. 17\n",
       "12. 18\n",
       "13. 32\n",
       "14. 33\n",
       "15. 34\n",
       "16. 35\n",
       "17. 36\n",
       "18. 55\n",
       "19. 56\n",
       "20. 57\n",
       "\n",
       "\n"
      ],
      "text/plain": [
       " [1]  7  8  9 10 11 12 13 14 15 16 17 18 32 33 34 35 36 55 56 57"
      ]
     },
     "metadata": {},
     "output_type": "display_data"
    }
   ],
   "source": [
    "# Find pixels with a very high correlation\n",
    "high_corr = findCorrelation(cor(X[,use_pix]), .97)\n",
    "\n",
    "# Are there any high correlations?\n",
    "print(\"High correlation pixels in X\")\n",
    "head(high_corr, 20)\n",
    "\n",
    "# Update use_pix to not include high correlation pixels \n",
    "use_pix[use_pix == TRUE][high_corr] <- FALSE"
   ]
  },
  {
   "cell_type": "code",
   "execution_count": 9,
   "id": "13317c08",
   "metadata": {
    "execution": {
     "iopub.execute_input": "2023-10-19T02:11:19.889216Z",
     "iopub.status.busy": "2023-10-19T02:11:19.887961Z",
     "iopub.status.idle": "2023-10-19T02:11:19.944469Z",
     "shell.execute_reply": "2023-10-19T02:11:19.943343Z"
    },
    "papermill": {
     "duration": 0.068549,
     "end_time": "2023-10-19T02:11:19.946026",
     "exception": false,
     "start_time": "2023-10-19T02:11:19.877477",
     "status": "completed"
    },
    "tags": []
   },
   "outputs": [
    {
     "data": {
      "image/png": "[encoded data removed]"
     },
     "metadata": {
      "image/png": {
       "height": 420,
       "width": 420
      }
     },
     "output_type": "display_data"
    }
   ],
   "source": [
    "# Visualize pixels being kept\n",
    "# Color unused pixels white\n",
    "img_13[!use_pix] <- 1 # change pixel value of unused pixels to 1\n",
    "\n",
    "# view resulting image\n",
    "as_image(img_13)"
   ]
  },
  {
   "cell_type": "markdown",
   "id": "6ed0ba54",
   "metadata": {
    "papermill": {
     "duration": 0.010503,
     "end_time": "2023-10-19T02:11:19.965676",
     "exception": false,
     "start_time": "2023-10-19T02:11:19.955173",
     "status": "completed"
    },
    "tags": []
   },
   "source": [
    "## 3.3 Check for linear combinations\n",
    "\n",
    "Next we check for linear combinations. There are none present in this data."
   ]
  },
  {
   "cell_type": "code",
   "execution_count": 10,
   "id": "2511dddd",
   "metadata": {
    "execution": {
     "iopub.execute_input": "2023-10-19T02:11:19.986229Z",
     "iopub.status.busy": "2023-10-19T02:11:19.985141Z",
     "iopub.status.idle": "2023-10-19T02:11:20.368963Z",
     "shell.execute_reply": "2023-10-19T02:11:20.367778Z"
    },
    "papermill": {
     "duration": 0.395869,
     "end_time": "2023-10-19T02:11:20.370454",
     "exception": false,
     "start_time": "2023-10-19T02:11:19.974585",
     "status": "completed"
    },
    "tags": []
   },
   "outputs": [
    {
     "data": {
      "text/html": [
       "<dl>\n",
       "\t<dt>$linearCombos</dt>\n",
       "\t\t<dd><ol>\n",
       "</ol>\n",
       "</dd>\n",
       "\t<dt>$remove</dt>\n",
       "\t\t<dd>NULL</dd>\n",
       "</dl>\n"
      ],
      "text/latex": [
       "\\begin{description}\n",
       "\\item[\\$linearCombos] \\begin{enumerate}\n",
       "\\end{enumerate}\n",
       "\n",
       "\\item[\\$remove] NULL\n",
       "\\end{description}\n"
      ],
      "text/markdown": [
       "$linearCombos\n",
       ":   \n",
       "\n",
       "\n",
       "$remove\n",
       ":   NULL\n",
       "\n",
       "\n"
      ],
      "text/plain": [
       "$linearCombos\n",
       "list()\n",
       "\n",
       "$remove\n",
       "NULL\n"
      ]
     },
     "metadata": {},
     "output_type": "display_data"
    }
   ],
   "source": [
    "# Check for linear combinations\n",
    "findLinearCombos(X[,use_pix])"
   ]
  },
  {
   "cell_type": "code",
   "execution_count": 11,
   "id": "0826b047",
   "metadata": {
    "execution": {
     "iopub.execute_input": "2023-10-19T02:11:20.391216Z",
     "iopub.status.busy": "2023-10-19T02:11:20.389954Z",
     "iopub.status.idle": "2023-10-19T02:11:20.409840Z",
     "shell.execute_reply": "2023-10-19T02:11:20.408616Z"
    },
    "papermill": {
     "duration": 0.031658,
     "end_time": "2023-10-19T02:11:20.411393",
     "exception": false,
     "start_time": "2023-10-19T02:11:20.379735",
     "status": "completed"
    },
    "tags": []
   },
   "outputs": [
    {
     "data": {
      "text/html": [
       "<style>\n",
       ".list-inline {list-style: none; margin:0; padding: 0}\n",
       ".list-inline>li {display: inline-block}\n",
       ".list-inline>li:not(:last-child)::after {content: \"\\00b7\"; padding: 0 .5ex}\n",
       "</style>\n",
       "<ol class=list-inline><li>2538</li><li>827</li></ol>\n"
      ],
      "text/latex": [
       "\\begin{enumerate*}\n",
       "\\item 2538\n",
       "\\item 827\n",
       "\\end{enumerate*}\n"
      ],
      "text/markdown": [
       "1. 2538\n",
       "2. 827\n",
       "\n",
       "\n"
      ],
      "text/plain": [
       "[1] 2538  827"
      ]
     },
     "metadata": {},
     "output_type": "display_data"
    }
   ],
   "source": [
    "# Check dimensions of new data\n",
    "dim(X[,use_pix])"
   ]
  },
  {
   "cell_type": "markdown",
   "id": "b78da34a",
   "metadata": {
    "papermill": {
     "duration": 0.008675,
     "end_time": "2023-10-19T02:11:20.429170",
     "exception": false,
     "start_time": "2023-10-19T02:11:20.420495",
     "status": "completed"
    },
    "tags": []
   },
   "source": [
    "# 4. Feature extraction\n",
    "## 4.1 Histogram features from edges\n",
    "\n",
    "We use the function `get_edge` below, which extracts various histogram features from the horizontal, vertical, and diagonal edges of our images. This function was modified from the notebook [Ekman machine BDA2022 | Team 1](https://www.kaggle.com/code/noahbhat/ekman-machine-bda2022-team-1#2-Features), which is the notebook of the winning competitors of the 2022 competition. Research supports that it is possible to detect facial expressions with good accuracy using edge information (García-Ramírez, Pineda, Olvera-López & Ortiz, 2016).\n",
    "\n",
    "We choose to calculate various features from these edges including mean, standard deviation, skewness, kurtosis, entropy, bimodality and frey slate features. Most of these features have premade functions, however we need to define two helper functions - `entropy` and `bimodality`, which we can then call in our feature extraction function `get_edge`.\n",
    "\n",
    "Source\n",
    "\n",
    "García-Ramírez, J., Pineda, I. O., Olvera-López, J. A., & Ortiz, M. M. (2016). Edge detection for facial expression recognition. *In LANMR* (pp. 66-73)."
   ]
  },
  {
   "cell_type": "code",
   "execution_count": 12,
   "id": "ee15ca0f",
   "metadata": {
    "execution": {
     "iopub.execute_input": "2023-10-19T02:11:20.449642Z",
     "iopub.status.busy": "2023-10-19T02:11:20.448396Z",
     "iopub.status.idle": "2023-10-19T02:11:20.460443Z",
     "shell.execute_reply": "2023-10-19T02:11:20.459212Z"
    },
    "papermill": {
     "duration": 0.024431,
     "end_time": "2023-10-19T02:11:20.462428",
     "exception": false,
     "start_time": "2023-10-19T02:11:20.437997",
     "status": "completed"
    },
    "tags": []
   },
   "outputs": [],
   "source": [
    "# Entropy function\n",
    "entropy <- function(x, \n",
    "                    # use Sturges' formula for determining the number of bins or class intervals for a histogram\n",
    "                    nbreaks = nclass.Sturges(x)) { \n",
    "    r <- range(x)\n",
    "    x_binned <- findInterval(x, seq(r[1], r[2], len = nbreaks))\n",
    "    h <- tabulate(x_binned, nbins = nbreaks)\n",
    "    p <- h / sum(h)\n",
    "    result <- -sum(p[p > 0] * log(p[p > 0]))\n",
    "    return(result)\n",
    "}\n",
    "\n",
    "# Bimodality function\n",
    "bimodality <- function(x, nbreaks = nclass.Sturges(x)) {\n",
    "    # create a histogram\n",
    "    hist_data <- hist(x, breaks = nbreaks, plot = FALSE)\n",
    "    \n",
    "    # extract the histogram counts and midpoints\n",
    "    counts <- hist_data$counts\n",
    "    midpoints <- hist_data$mids\n",
    "    \n",
    "    # find the two highest peaks (modes)\n",
    "    sorted_counts <- sort(counts, decreasing = TRUE)\n",
    "    first_mode_count <- sorted_counts[1]\n",
    "    second_mode_count <- sorted_counts[2]\n",
    "    \n",
    "    # calculate the bimodality index based on the relative sizes of the two modes\n",
    "    bimodality_index <- first_mode_count / (first_mode_count + second_mode_count)\n",
    "    \n",
    "    return(bimodality_index)\n",
    "}"
   ]
  },
  {
   "cell_type": "markdown",
   "id": "ae6a419f",
   "metadata": {
    "papermill": {
     "duration": 0.009183,
     "end_time": "2023-10-19T02:11:20.481446",
     "exception": false,
     "start_time": "2023-10-19T02:11:20.472263",
     "status": "completed"
    },
    "tags": []
   },
   "source": [
    "Next we write our edge feature extraction function, which calculates the mentioned histogram features based on different edge types (horizontal, vertical, diagonal) for each image."
   ]
  },
  {
   "cell_type": "code",
   "execution_count": 13,
   "id": "5ee4ce7a",
   "metadata": {
    "execution": {
     "iopub.execute_input": "2023-10-19T02:11:20.503461Z",
     "iopub.status.busy": "2023-10-19T02:11:20.502382Z",
     "iopub.status.idle": "2023-10-19T02:11:21.233586Z",
     "shell.execute_reply": "2023-10-19T02:11:21.232247Z"
    },
    "papermill": {
     "duration": 0.744406,
     "end_time": "2023-10-19T02:11:21.235414",
     "exception": false,
     "start_time": "2023-10-19T02:11:20.491008",
     "status": "completed"
    },
    "tags": []
   },
   "outputs": [],
   "source": [
    "# load FreySlateFeatures function \n",
    "source(\"https://bit.ly/32um24j\")\n",
    "\n",
    "# create a function to calculate features for all edges for all training images\n",
    "get_edge <- function(X, threshold = .0625) {\n",
    "    \n",
    "    edge <- function(x) {\n",
    "        x <- matrix(x, 48) # one image\n",
    "        output <- edges <- list()\n",
    "        \n",
    "        # compute different edges types\n",
    "        edges[[\"edge_h\"]] <- (x[-1,] - x[-nrow(x),]) # horizontal   \n",
    "        edges[[\"edge_v\"]] <- (x[,-1] - x[,-ncol(x)]) # vertical\n",
    "        edges[[\"edge_d1\"]] <- (edges[[\"edge_h\"]][,-1] - edges[[\"edge_h\"]][,-ncol(edges[[\"edge_h\"]])]) # h - v\n",
    "        edges[[\"edge_d2\"]] <- (edges[[\"edge_v\"]][-1,] - edges[[\"edge_v\"]][-nrow(edges[[\"edge_v\"]]),]) # v - h\n",
    "    \n",
    "         # for each edge type\n",
    "            for (i in c(\"_h\",\"_v\",\"_d1\", \"_d2\")) {\n",
    "                \n",
    "                output[[ paste0(\"fsf\", i) ]] <- FreySlateFeatures(edges[[ paste0(\"edge\", i) ]])\n",
    "                output[[ paste0(\"mean\", i) ]] <- mean(edges[[ paste0(\"edge\", i) ]])\n",
    "                output[[ paste0(\"sd\", i) ]] <- sd(edges[[ paste0(\"edge\", i) ]])\n",
    "                output[[ paste0(\"entropy\", i) ]] <- entropy(edges[[ paste0(\"edge\", i) ]])\n",
    "                output[[ paste0(\"bi\", i) ]] <- bimodality(edges[[ paste0(\"edge\", i) ]])\n",
    "                output[[ paste0(\"kurt\", i) ]] <- e1071::kurtosis(edges[[ paste0(\"edge\", i) ]])\n",
    "                output[[ paste0(\"skew2\", i) ]] <- e1071::skewness(edges[[ paste0(\"edge\", i) ]])\n",
    "                output[[ paste0(\"25quantile\", i) ]] <- quantile(edges[[ paste0(\"edge\", i) ]], .25)\n",
    "                output[[ paste0(\"75quantile\", i) ]] <- quantile(edges[[ paste0(\"edge\", i) ]], .75)\n",
    "                output[[ paste0(\"min\", i) ]] <- min(edges[[ paste0(\"edge\", i) ]])\n",
    "                output[[ paste0(\"max\", i) ]] <- max(edges[[ paste0(\"edge\", i) ]])\n",
    "                output[[ paste0(\"range\", i) ]] <-  min(edges[[ paste0(\"edge\", i) ]]) - max(edges[[ paste0(\"edge\", i) ]])\n",
    "            }\n",
    "            \n",
    "            return(unlist(output))\n",
    "        }\n",
    "    \n",
    "    # get edges for all images\n",
    "    edges <- apply(X, 1, edge)\n",
    "    \n",
    "    # transpose \n",
    "    return(t(edges))\n",
    "    }"
   ]
  },
  {
   "cell_type": "markdown",
   "id": "842515ac",
   "metadata": {
    "papermill": {
     "duration": 0.009391,
     "end_time": "2023-10-19T02:11:21.254446",
     "exception": false,
     "start_time": "2023-10-19T02:11:21.245055",
     "status": "completed"
    },
    "tags": []
   },
   "source": [
    "We can now extract these edge features from our data. We do this for both or train and test data."
   ]
  },
  {
   "cell_type": "code",
   "execution_count": 14,
   "id": "e6f3e484",
   "metadata": {
    "execution": {
     "iopub.execute_input": "2023-10-19T02:11:21.310920Z",
     "iopub.status.busy": "2023-10-19T02:11:21.309652Z",
     "iopub.status.idle": "2023-10-19T02:11:45.244691Z",
     "shell.execute_reply": "2023-10-19T02:11:45.243525Z"
    },
    "papermill": {
     "duration": 23.981452,
     "end_time": "2023-10-19T02:11:45.246964",
     "exception": false,
     "start_time": "2023-10-19T02:11:21.265512",
     "status": "completed"
    },
    "tags": []
   },
   "outputs": [
    {
     "data": {
      "text/html": [
       "<table class=\"dataframe\">\n",
       "<caption>A matrix: 6 × 108 of type dbl</caption>\n",
       "<thead>\n",
       "\t<tr><th></th><th scope=col>fsf_h.x.box</th><th scope=col>fsf_h.y.box</th><th scope=col>fsf_h.width</th><th scope=col>fsf_h.high</th><th scope=col>fsf_h.onpix</th><th scope=col>fsf_h.x.bar</th><th scope=col>fsf_h.y.bar</th><th scope=col>fsf_h.x2bar</th><th scope=col>fsf_h.y2bar</th><th scope=col>fsf_h.xybar</th><th scope=col>⋯</th><th scope=col>sd_d2</th><th scope=col>entropy_d2</th><th scope=col>bi_d2</th><th scope=col>kurt_d2</th><th scope=col>skew2_d2</th><th scope=col>25quantile_d2.25%</th><th scope=col>75quantile_d2.75%</th><th scope=col>min_d2</th><th scope=col>max_d2</th><th scope=col>range_d2</th></tr>\n",
       "</thead>\n",
       "<tbody>\n",
       "\t<tr><th scope=row>anger/S010_004_00000018a.png</th><td>7.978723</td><td>8.138298</td><td>14.68085</td><td>15.00000</td><td>7.286102</td><td>7.205441</td><td>7.403446</td><td>3.620597</td><td>3.777295</td><td>3.668446</td><td>⋯</td><td>0.05104830</td><td>1.2614609</td><td>0.5454033</td><td> 7.648672</td><td> 0.2360822</td><td>-0.01960784</td><td>0.01960784</td><td>-0.2784314</td><td>0.4078431</td><td>-0.6862745</td></tr>\n",
       "\t<tr><th scope=row>anger/S010_004_00000018b.png</th><td>7.978723</td><td>7.978723</td><td>14.68085</td><td>14.68085</td><td>6.939792</td><td>7.209387</td><td>7.247603</td><td>3.620159</td><td>3.618116</td><td>3.591863</td><td>⋯</td><td>0.04795078</td><td>1.0127155</td><td>0.5701459</td><td>11.598449</td><td> 0.5172207</td><td>-0.01568627</td><td>0.01568627</td><td>-0.3764706</td><td>0.4274510</td><td>-0.8039216</td></tr>\n",
       "\t<tr><th scope=row>anger/S010_004_00000018c.png</th><td>7.978723</td><td>8.138298</td><td>14.68085</td><td>15.00000</td><td>6.865097</td><td>7.258741</td><td>7.341256</td><td>3.621382</td><td>3.775385</td><td>3.670081</td><td>⋯</td><td>0.04672045</td><td>1.1855539</td><td>0.5520540</td><td> 7.809167</td><td>-0.2695963</td><td>-0.01568627</td><td>0.01960784</td><td>-0.3568627</td><td>0.3450980</td><td>-0.7019608</td></tr>\n",
       "\t<tr><th scope=row>anger/S010_004_00000018d.png</th><td>8.457447</td><td>7.978723</td><td>14.36170</td><td>14.68085</td><td>6.810774</td><td>6.994176</td><td>7.226281</td><td>3.466371</td><td>3.617566</td><td>3.513161</td><td>⋯</td><td>0.04486086</td><td>1.1973967</td><td>0.5464541</td><td> 8.083236</td><td>-0.1552267</td><td>-0.01568627</td><td>0.01568627</td><td>-0.3333333</td><td>0.3176471</td><td>-0.6509804</td></tr>\n",
       "\t<tr><th scope=row>anger/S010_004_00000018e.png</th><td>8.936170</td><td>8.617021</td><td>14.04255</td><td>14.68085</td><td>6.919421</td><td>6.784770</td><td>7.214173</td><td>3.316183</td><td>3.619816</td><td>3.435560</td><td>⋯</td><td>0.05596869</td><td>0.8537955</td><td>0.5518072</td><td>41.780773</td><td>-1.6458989</td><td>-0.01960784</td><td>0.01960784</td><td>-0.9333333</td><td>0.4509804</td><td>-1.3843137</td></tr>\n",
       "\t<tr><th scope=row>anger/S010_004_00000018f.png</th><td>8.936170</td><td>8.138298</td><td>14.04255</td><td>15.00000</td><td>6.817565</td><td>6.819334</td><td>7.458084</td><td>3.313498</td><td>3.776609</td><td>3.508664</td><td>⋯</td><td>0.04565286</td><td>0.8719850</td><td>0.5613787</td><td>56.473217</td><td>-2.8161857</td><td>-0.01568627</td><td>0.01960784</td><td>-0.8470588</td><td>0.2901961</td><td>-1.1372549</td></tr>\n",
       "</tbody>\n",
       "</table>\n"
      ],
      "text/latex": [
       "A matrix: 6 × 108 of type dbl\n",
       "\\begin{tabular}{r|lllllllllllllllllllll}\n",
       "  & fsf\\_h.x.box & fsf\\_h.y.box & fsf\\_h.width & fsf\\_h.high & fsf\\_h.onpix & fsf\\_h.x.bar & fsf\\_h.y.bar & fsf\\_h.x2bar & fsf\\_h.y2bar & fsf\\_h.xybar & ⋯ & sd\\_d2 & entropy\\_d2 & bi\\_d2 & kurt\\_d2 & skew2\\_d2 & 25quantile\\_d2.25\\% & 75quantile\\_d2.75\\% & min\\_d2 & max\\_d2 & range\\_d2\\\\\n",
       "\\hline\n",
       "\tanger/S010\\_004\\_00000018a.png & 7.978723 & 8.138298 & 14.68085 & 15.00000 & 7.286102 & 7.205441 & 7.403446 & 3.620597 & 3.777295 & 3.668446 & ⋯ & 0.05104830 & 1.2614609 & 0.5454033 &  7.648672 &  0.2360822 & -0.01960784 & 0.01960784 & -0.2784314 & 0.4078431 & -0.6862745\\\\\n",
       "\tanger/S010\\_004\\_00000018b.png & 7.978723 & 7.978723 & 14.68085 & 14.68085 & 6.939792 & 7.209387 & 7.247603 & 3.620159 & 3.618116 & 3.591863 & ⋯ & 0.04795078 & 1.0127155 & 0.5701459 & 11.598449 &  0.5172207 & -0.01568627 & 0.01568627 & -0.3764706 & 0.4274510 & -0.8039216\\\\\n",
       "\tanger/S010\\_004\\_00000018c.png & 7.978723 & 8.138298 & 14.68085 & 15.00000 & 6.865097 & 7.258741 & 7.341256 & 3.621382 & 3.775385 & 3.670081 & ⋯ & 0.04672045 & 1.1855539 & 0.5520540 &  7.809167 & -0.2695963 & -0.01568627 & 0.01960784 & -0.3568627 & 0.3450980 & -0.7019608\\\\\n",
       "\tanger/S010\\_004\\_00000018d.png & 8.457447 & 7.978723 & 14.36170 & 14.68085 & 6.810774 & 6.994176 & 7.226281 & 3.466371 & 3.617566 & 3.513161 & ⋯ & 0.04486086 & 1.1973967 & 0.5464541 &  8.083236 & -0.1552267 & -0.01568627 & 0.01568627 & -0.3333333 & 0.3176471 & -0.6509804\\\\\n",
       "\tanger/S010\\_004\\_00000018e.png & 8.936170 & 8.617021 & 14.04255 & 14.68085 & 6.919421 & 6.784770 & 7.214173 & 3.316183 & 3.619816 & 3.435560 & ⋯ & 0.05596869 & 0.8537955 & 0.5518072 & 41.780773 & -1.6458989 & -0.01960784 & 0.01960784 & -0.9333333 & 0.4509804 & -1.3843137\\\\\n",
       "\tanger/S010\\_004\\_00000018f.png & 8.936170 & 8.138298 & 14.04255 & 15.00000 & 6.817565 & 6.819334 & 7.458084 & 3.313498 & 3.776609 & 3.508664 & ⋯ & 0.04565286 & 0.8719850 & 0.5613787 & 56.473217 & -2.8161857 & -0.01568627 & 0.01960784 & -0.8470588 & 0.2901961 & -1.1372549\\\\\n",
       "\\end{tabular}\n"
      ],
      "text/markdown": [
       "\n",
       "A matrix: 6 × 108 of type dbl\n",
       "\n",
       "| <!--/--> | fsf_h.x.box | fsf_h.y.box | fsf_h.width | fsf_h.high | fsf_h.onpix | fsf_h.x.bar | fsf_h.y.bar | fsf_h.x2bar | fsf_h.y2bar | fsf_h.xybar | ⋯ | sd_d2 | entropy_d2 | bi_d2 | kurt_d2 | skew2_d2 | 25quantile_d2.25% | 75quantile_d2.75% | min_d2 | max_d2 | range_d2 |\n",
       "|---|---|---|---|---|---|---|---|---|---|---|---|---|---|---|---|---|---|---|---|---|---|\n",
       "| anger/S010_004_00000018a.png | 7.978723 | 8.138298 | 14.68085 | 15.00000 | 7.286102 | 7.205441 | 7.403446 | 3.620597 | 3.777295 | 3.668446 | ⋯ | 0.05104830 | 1.2614609 | 0.5454033 |  7.648672 |  0.2360822 | -0.01960784 | 0.01960784 | -0.2784314 | 0.4078431 | -0.6862745 |\n",
       "| anger/S010_004_00000018b.png | 7.978723 | 7.978723 | 14.68085 | 14.68085 | 6.939792 | 7.209387 | 7.247603 | 3.620159 | 3.618116 | 3.591863 | ⋯ | 0.04795078 | 1.0127155 | 0.5701459 | 11.598449 |  0.5172207 | -0.01568627 | 0.01568627 | -0.3764706 | 0.4274510 | -0.8039216 |\n",
       "| anger/S010_004_00000018c.png | 7.978723 | 8.138298 | 14.68085 | 15.00000 | 6.865097 | 7.258741 | 7.341256 | 3.621382 | 3.775385 | 3.670081 | ⋯ | 0.04672045 | 1.1855539 | 0.5520540 |  7.809167 | -0.2695963 | -0.01568627 | 0.01960784 | -0.3568627 | 0.3450980 | -0.7019608 |\n",
       "| anger/S010_004_00000018d.png | 8.457447 | 7.978723 | 14.36170 | 14.68085 | 6.810774 | 6.994176 | 7.226281 | 3.466371 | 3.617566 | 3.513161 | ⋯ | 0.04486086 | 1.1973967 | 0.5464541 |  8.083236 | -0.1552267 | -0.01568627 | 0.01568627 | -0.3333333 | 0.3176471 | -0.6509804 |\n",
       "| anger/S010_004_00000018e.png | 8.936170 | 8.617021 | 14.04255 | 14.68085 | 6.919421 | 6.784770 | 7.214173 | 3.316183 | 3.619816 | 3.435560 | ⋯ | 0.05596869 | 0.8537955 | 0.5518072 | 41.780773 | -1.6458989 | -0.01960784 | 0.01960784 | -0.9333333 | 0.4509804 | -1.3843137 |\n",
       "| anger/S010_004_00000018f.png | 8.936170 | 8.138298 | 14.04255 | 15.00000 | 6.817565 | 6.819334 | 7.458084 | 3.313498 | 3.776609 | 3.508664 | ⋯ | 0.04565286 | 0.8719850 | 0.5613787 | 56.473217 | -2.8161857 | -0.01568627 | 0.01960784 | -0.8470588 | 0.2901961 | -1.1372549 |\n",
       "\n"
      ],
      "text/plain": [
       "                             fsf_h.x.box fsf_h.y.box fsf_h.width fsf_h.high\n",
       "anger/S010_004_00000018a.png 7.978723    8.138298    14.68085    15.00000  \n",
       "anger/S010_004_00000018b.png 7.978723    7.978723    14.68085    14.68085  \n",
       "anger/S010_004_00000018c.png 7.978723    8.138298    14.68085    15.00000  \n",
       "anger/S010_004_00000018d.png 8.457447    7.978723    14.36170    14.68085  \n",
       "anger/S010_004_00000018e.png 8.936170    8.617021    14.04255    14.68085  \n",
       "anger/S010_004_00000018f.png 8.936170    8.138298    14.04255    15.00000  \n",
       "                             fsf_h.onpix fsf_h.x.bar fsf_h.y.bar fsf_h.x2bar\n",
       "anger/S010_004_00000018a.png 7.286102    7.205441    7.403446    3.620597   \n",
       "anger/S010_004_00000018b.png 6.939792    7.209387    7.247603    3.620159   \n",
       "anger/S010_004_00000018c.png 6.865097    7.258741    7.341256    3.621382   \n",
       "anger/S010_004_00000018d.png 6.810774    6.994176    7.226281    3.466371   \n",
       "anger/S010_004_00000018e.png 6.919421    6.784770    7.214173    3.316183   \n",
       "anger/S010_004_00000018f.png 6.817565    6.819334    7.458084    3.313498   \n",
       "                             fsf_h.y2bar fsf_h.xybar ⋯ sd_d2      entropy_d2\n",
       "anger/S010_004_00000018a.png 3.777295    3.668446    ⋯ 0.05104830 1.2614609 \n",
       "anger/S010_004_00000018b.png 3.618116    3.591863    ⋯ 0.04795078 1.0127155 \n",
       "anger/S010_004_00000018c.png 3.775385    3.670081    ⋯ 0.04672045 1.1855539 \n",
       "anger/S010_004_00000018d.png 3.617566    3.513161    ⋯ 0.04486086 1.1973967 \n",
       "anger/S010_004_00000018e.png 3.619816    3.435560    ⋯ 0.05596869 0.8537955 \n",
       "anger/S010_004_00000018f.png 3.776609    3.508664    ⋯ 0.04565286 0.8719850 \n",
       "                             bi_d2     kurt_d2   skew2_d2   25quantile_d2.25%\n",
       "anger/S010_004_00000018a.png 0.5454033  7.648672  0.2360822 -0.01960784      \n",
       "anger/S010_004_00000018b.png 0.5701459 11.598449  0.5172207 -0.01568627      \n",
       "anger/S010_004_00000018c.png 0.5520540  7.809167 -0.2695963 -0.01568627      \n",
       "anger/S010_004_00000018d.png 0.5464541  8.083236 -0.1552267 -0.01568627      \n",
       "anger/S010_004_00000018e.png 0.5518072 41.780773 -1.6458989 -0.01960784      \n",
       "anger/S010_004_00000018f.png 0.5613787 56.473217 -2.8161857 -0.01568627      \n",
       "                             75quantile_d2.75% min_d2     max_d2    range_d2  \n",
       "anger/S010_004_00000018a.png 0.01960784        -0.2784314 0.4078431 -0.6862745\n",
       "anger/S010_004_00000018b.png 0.01568627        -0.3764706 0.4274510 -0.8039216\n",
       "anger/S010_004_00000018c.png 0.01960784        -0.3568627 0.3450980 -0.7019608\n",
       "anger/S010_004_00000018d.png 0.01568627        -0.3333333 0.3176471 -0.6509804\n",
       "anger/S010_004_00000018e.png 0.01960784        -0.9333333 0.4509804 -1.3843137\n",
       "anger/S010_004_00000018f.png 0.01960784        -0.8470588 0.2901961 -1.1372549"
      ]
     },
     "metadata": {},
     "output_type": "display_data"
    },
    {
     "data": {
      "text/html": [
       "<style>\n",
       ".list-inline {list-style: none; margin:0; padding: 0}\n",
       ".list-inline>li {display: inline-block}\n",
       ".list-inline>li:not(:last-child)::after {content: \"\\00b7\"; padding: 0 .5ex}\n",
       "</style>\n",
       "<ol class=list-inline><li>2538</li><li>108</li></ol>\n"
      ],
      "text/latex": [
       "\\begin{enumerate*}\n",
       "\\item 2538\n",
       "\\item 108\n",
       "\\end{enumerate*}\n"
      ],
      "text/markdown": [
       "1. 2538\n",
       "2. 108\n",
       "\n",
       "\n"
      ],
      "text/plain": [
       "[1] 2538  108"
      ]
     },
     "metadata": {},
     "output_type": "display_data"
    }
   ],
   "source": [
    "# Compute the features for train and test sets\n",
    "edge_features <- get_edge(X) \n",
    "edge_features_test <- get_edge(X_test)\n",
    "\n",
    "# Check the results\n",
    "head(edge_features)\n",
    "dim(edge_features)"
   ]
  },
  {
   "cell_type": "markdown",
   "id": "09ad594e",
   "metadata": {
    "papermill": {
     "duration": 0.009547,
     "end_time": "2023-10-19T02:11:45.266702",
     "exception": false,
     "start_time": "2023-10-19T02:11:45.257155",
     "status": "completed"
    },
    "tags": []
   },
   "source": [
    "## 4.2 Spectral features from pixel values\n",
    "\n",
    "We also chose to extract spectral features from our pixel values, however, prior to computing the features we need to transform our data into the right format."
   ]
  },
  {
   "cell_type": "code",
   "execution_count": 15,
   "id": "2b62f222",
   "metadata": {
    "execution": {
     "iopub.execute_input": "2023-10-19T02:11:45.287759Z",
     "iopub.status.busy": "2023-10-19T02:11:45.286518Z",
     "iopub.status.idle": "2023-10-19T02:11:47.104197Z",
     "shell.execute_reply": "2023-10-19T02:11:47.102971Z"
    },
    "papermill": {
     "duration": 1.82991,
     "end_time": "2023-10-19T02:11:47.105763",
     "exception": false,
     "start_time": "2023-10-19T02:11:45.275853",
     "status": "completed"
    },
    "tags": []
   },
   "outputs": [
    {
     "data": {
      "text/html": [
       "<table class=\"dataframe\">\n",
       "<caption>A data.frame: 6 × 2305</caption>\n",
       "<thead>\n",
       "\t<tr><th></th><th scope=col>id</th><th scope=col>p1</th><th scope=col>p2</th><th scope=col>p3</th><th scope=col>p4</th><th scope=col>p5</th><th scope=col>p6</th><th scope=col>p7</th><th scope=col>p8</th><th scope=col>p9</th><th scope=col>⋯</th><th scope=col>p2295</th><th scope=col>p2296</th><th scope=col>p2297</th><th scope=col>p2298</th><th scope=col>p2299</th><th scope=col>p2300</th><th scope=col>p2301</th><th scope=col>p2302</th><th scope=col>p2303</th><th scope=col>p2304</th></tr>\n",
       "\t<tr><th></th><th scope=col>&lt;chr&gt;</th><th scope=col>&lt;dbl&gt;</th><th scope=col>&lt;dbl&gt;</th><th scope=col>&lt;dbl&gt;</th><th scope=col>&lt;dbl&gt;</th><th scope=col>&lt;dbl&gt;</th><th scope=col>&lt;dbl&gt;</th><th scope=col>&lt;dbl&gt;</th><th scope=col>&lt;dbl&gt;</th><th scope=col>&lt;dbl&gt;</th><th scope=col>⋯</th><th scope=col>&lt;dbl&gt;</th><th scope=col>&lt;dbl&gt;</th><th scope=col>&lt;dbl&gt;</th><th scope=col>&lt;dbl&gt;</th><th scope=col>&lt;dbl&gt;</th><th scope=col>&lt;dbl&gt;</th><th scope=col>&lt;dbl&gt;</th><th scope=col>&lt;dbl&gt;</th><th scope=col>&lt;dbl&gt;</th><th scope=col>&lt;dbl&gt;</th></tr>\n",
       "</thead>\n",
       "<tbody>\n",
       "\t<tr><th scope=row>1</th><td>anger/S010_004_00000018a.png</td><td>0.06666667</td><td>0.04705882</td><td>0.03529412</td><td>0.01960784</td><td>0.03137255</td><td>0.05490196</td><td>0.05882353</td><td>0.07450980</td><td>0.06666667</td><td>⋯</td><td>0.007843137</td><td>0.00000000</td><td>0.09019608</td><td>0.6</td><td>0.63921569</td><td>0.6392157</td><td>0.62745098</td><td>0.6156863</td><td>0.6156863</td><td>0.6117647</td></tr>\n",
       "\t<tr><th scope=row>2</th><td>anger/S010_004_00000018b.png</td><td>0.06274510</td><td>0.07058824</td><td>0.07058824</td><td>0.05490196</td><td>0.03921569</td><td>0.03921569</td><td>0.03921569</td><td>0.04313725</td><td>0.04313725</td><td>⋯</td><td>1.000000000</td><td>1.00000000</td><td>1.00000000</td><td>1.0</td><td>1.00000000</td><td>1.0000000</td><td>1.00000000</td><td>1.0000000</td><td>1.0000000</td><td>1.0000000</td></tr>\n",
       "\t<tr><th scope=row>3</th><td>anger/S010_004_00000018c.png</td><td>0.00000000</td><td>0.04705882</td><td>0.04705882</td><td>0.05882353</td><td>0.07058824</td><td>0.08235294</td><td>0.08627451</td><td>0.08627451</td><td>0.07450980</td><td>⋯</td><td>1.000000000</td><td>1.00000000</td><td>1.00000000</td><td>1.0</td><td>1.00000000</td><td>0.9960784</td><td>1.00000000</td><td>1.0000000</td><td>1.0000000</td><td>1.0000000</td></tr>\n",
       "\t<tr><th scope=row>4</th><td>anger/S010_004_00000018d.png</td><td>1.00000000</td><td>0.94901961</td><td>0.02352941</td><td>0.04313725</td><td>0.02745098</td><td>0.02745098</td><td>0.03529412</td><td>0.02745098</td><td>0.03137255</td><td>⋯</td><td>1.000000000</td><td>1.00000000</td><td>1.00000000</td><td>1.0</td><td>1.00000000</td><td>1.0000000</td><td>1.00000000</td><td>1.0000000</td><td>1.0000000</td><td>0.9882353</td></tr>\n",
       "\t<tr><th scope=row>5</th><td>anger/S010_004_00000018e.png</td><td>1.00000000</td><td>1.00000000</td><td>1.00000000</td><td>1.00000000</td><td>1.00000000</td><td>1.00000000</td><td>1.00000000</td><td>1.00000000</td><td>1.00000000</td><td>⋯</td><td>0.074509804</td><td>0.02352941</td><td>0.00000000</td><td>0.0</td><td>0.02352941</td><td>0.4509804</td><td>0.62745098</td><td>0.6274510</td><td>0.6235294</td><td>0.6117647</td></tr>\n",
       "\t<tr><th scope=row>6</th><td>anger/S010_004_00000018f.png</td><td>1.00000000</td><td>1.00000000</td><td>1.00000000</td><td>1.00000000</td><td>1.00000000</td><td>1.00000000</td><td>1.00000000</td><td>1.00000000</td><td>1.00000000</td><td>⋯</td><td>0.094117647</td><td>0.07843137</td><td>0.03921569</td><td>0.0</td><td>0.00000000</td><td>0.0000000</td><td>0.02745098</td><td>0.5333333</td><td>0.6196078</td><td>0.6196078</td></tr>\n",
       "</tbody>\n",
       "</table>\n"
      ],
      "text/latex": [
       "A data.frame: 6 × 2305\n",
       "\\begin{tabular}{r|lllllllllllllllllllll}\n",
       "  & id & p1 & p2 & p3 & p4 & p5 & p6 & p7 & p8 & p9 & ⋯ & p2295 & p2296 & p2297 & p2298 & p2299 & p2300 & p2301 & p2302 & p2303 & p2304\\\\\n",
       "  & <chr> & <dbl> & <dbl> & <dbl> & <dbl> & <dbl> & <dbl> & <dbl> & <dbl> & <dbl> & ⋯ & <dbl> & <dbl> & <dbl> & <dbl> & <dbl> & <dbl> & <dbl> & <dbl> & <dbl> & <dbl>\\\\\n",
       "\\hline\n",
       "\t1 & anger/S010\\_004\\_00000018a.png & 0.06666667 & 0.04705882 & 0.03529412 & 0.01960784 & 0.03137255 & 0.05490196 & 0.05882353 & 0.07450980 & 0.06666667 & ⋯ & 0.007843137 & 0.00000000 & 0.09019608 & 0.6 & 0.63921569 & 0.6392157 & 0.62745098 & 0.6156863 & 0.6156863 & 0.6117647\\\\\n",
       "\t2 & anger/S010\\_004\\_00000018b.png & 0.06274510 & 0.07058824 & 0.07058824 & 0.05490196 & 0.03921569 & 0.03921569 & 0.03921569 & 0.04313725 & 0.04313725 & ⋯ & 1.000000000 & 1.00000000 & 1.00000000 & 1.0 & 1.00000000 & 1.0000000 & 1.00000000 & 1.0000000 & 1.0000000 & 1.0000000\\\\\n",
       "\t3 & anger/S010\\_004\\_00000018c.png & 0.00000000 & 0.04705882 & 0.04705882 & 0.05882353 & 0.07058824 & 0.08235294 & 0.08627451 & 0.08627451 & 0.07450980 & ⋯ & 1.000000000 & 1.00000000 & 1.00000000 & 1.0 & 1.00000000 & 0.9960784 & 1.00000000 & 1.0000000 & 1.0000000 & 1.0000000\\\\\n",
       "\t4 & anger/S010\\_004\\_00000018d.png & 1.00000000 & 0.94901961 & 0.02352941 & 0.04313725 & 0.02745098 & 0.02745098 & 0.03529412 & 0.02745098 & 0.03137255 & ⋯ & 1.000000000 & 1.00000000 & 1.00000000 & 1.0 & 1.00000000 & 1.0000000 & 1.00000000 & 1.0000000 & 1.0000000 & 0.9882353\\\\\n",
       "\t5 & anger/S010\\_004\\_00000018e.png & 1.00000000 & 1.00000000 & 1.00000000 & 1.00000000 & 1.00000000 & 1.00000000 & 1.00000000 & 1.00000000 & 1.00000000 & ⋯ & 0.074509804 & 0.02352941 & 0.00000000 & 0.0 & 0.02352941 & 0.4509804 & 0.62745098 & 0.6274510 & 0.6235294 & 0.6117647\\\\\n",
       "\t6 & anger/S010\\_004\\_00000018f.png & 1.00000000 & 1.00000000 & 1.00000000 & 1.00000000 & 1.00000000 & 1.00000000 & 1.00000000 & 1.00000000 & 1.00000000 & ⋯ & 0.094117647 & 0.07843137 & 0.03921569 & 0.0 & 0.00000000 & 0.0000000 & 0.02745098 & 0.5333333 & 0.6196078 & 0.6196078\\\\\n",
       "\\end{tabular}\n"
      ],
      "text/markdown": [
       "\n",
       "A data.frame: 6 × 2305\n",
       "\n",
       "| <!--/--> | id &lt;chr&gt; | p1 &lt;dbl&gt; | p2 &lt;dbl&gt; | p3 &lt;dbl&gt; | p4 &lt;dbl&gt; | p5 &lt;dbl&gt; | p6 &lt;dbl&gt; | p7 &lt;dbl&gt; | p8 &lt;dbl&gt; | p9 &lt;dbl&gt; | ⋯ ⋯ | p2295 &lt;dbl&gt; | p2296 &lt;dbl&gt; | p2297 &lt;dbl&gt; | p2298 &lt;dbl&gt; | p2299 &lt;dbl&gt; | p2300 &lt;dbl&gt; | p2301 &lt;dbl&gt; | p2302 &lt;dbl&gt; | p2303 &lt;dbl&gt; | p2304 &lt;dbl&gt; |\n",
       "|---|---|---|---|---|---|---|---|---|---|---|---|---|---|---|---|---|---|---|---|---|---|\n",
       "| 1 | anger/S010_004_00000018a.png | 0.06666667 | 0.04705882 | 0.03529412 | 0.01960784 | 0.03137255 | 0.05490196 | 0.05882353 | 0.07450980 | 0.06666667 | ⋯ | 0.007843137 | 0.00000000 | 0.09019608 | 0.6 | 0.63921569 | 0.6392157 | 0.62745098 | 0.6156863 | 0.6156863 | 0.6117647 |\n",
       "| 2 | anger/S010_004_00000018b.png | 0.06274510 | 0.07058824 | 0.07058824 | 0.05490196 | 0.03921569 | 0.03921569 | 0.03921569 | 0.04313725 | 0.04313725 | ⋯ | 1.000000000 | 1.00000000 | 1.00000000 | 1.0 | 1.00000000 | 1.0000000 | 1.00000000 | 1.0000000 | 1.0000000 | 1.0000000 |\n",
       "| 3 | anger/S010_004_00000018c.png | 0.00000000 | 0.04705882 | 0.04705882 | 0.05882353 | 0.07058824 | 0.08235294 | 0.08627451 | 0.08627451 | 0.07450980 | ⋯ | 1.000000000 | 1.00000000 | 1.00000000 | 1.0 | 1.00000000 | 0.9960784 | 1.00000000 | 1.0000000 | 1.0000000 | 1.0000000 |\n",
       "| 4 | anger/S010_004_00000018d.png | 1.00000000 | 0.94901961 | 0.02352941 | 0.04313725 | 0.02745098 | 0.02745098 | 0.03529412 | 0.02745098 | 0.03137255 | ⋯ | 1.000000000 | 1.00000000 | 1.00000000 | 1.0 | 1.00000000 | 1.0000000 | 1.00000000 | 1.0000000 | 1.0000000 | 0.9882353 |\n",
       "| 5 | anger/S010_004_00000018e.png | 1.00000000 | 1.00000000 | 1.00000000 | 1.00000000 | 1.00000000 | 1.00000000 | 1.00000000 | 1.00000000 | 1.00000000 | ⋯ | 0.074509804 | 0.02352941 | 0.00000000 | 0.0 | 0.02352941 | 0.4509804 | 0.62745098 | 0.6274510 | 0.6235294 | 0.6117647 |\n",
       "| 6 | anger/S010_004_00000018f.png | 1.00000000 | 1.00000000 | 1.00000000 | 1.00000000 | 1.00000000 | 1.00000000 | 1.00000000 | 1.00000000 | 1.00000000 | ⋯ | 0.094117647 | 0.07843137 | 0.03921569 | 0.0 | 0.00000000 | 0.0000000 | 0.02745098 | 0.5333333 | 0.6196078 | 0.6196078 |\n",
       "\n"
      ],
      "text/plain": [
       "  id                           p1         p2         p3         p4        \n",
       "1 anger/S010_004_00000018a.png 0.06666667 0.04705882 0.03529412 0.01960784\n",
       "2 anger/S010_004_00000018b.png 0.06274510 0.07058824 0.07058824 0.05490196\n",
       "3 anger/S010_004_00000018c.png 0.00000000 0.04705882 0.04705882 0.05882353\n",
       "4 anger/S010_004_00000018d.png 1.00000000 0.94901961 0.02352941 0.04313725\n",
       "5 anger/S010_004_00000018e.png 1.00000000 1.00000000 1.00000000 1.00000000\n",
       "6 anger/S010_004_00000018f.png 1.00000000 1.00000000 1.00000000 1.00000000\n",
       "  p5         p6         p7         p8         p9         ⋯ p2295      \n",
       "1 0.03137255 0.05490196 0.05882353 0.07450980 0.06666667 ⋯ 0.007843137\n",
       "2 0.03921569 0.03921569 0.03921569 0.04313725 0.04313725 ⋯ 1.000000000\n",
       "3 0.07058824 0.08235294 0.08627451 0.08627451 0.07450980 ⋯ 1.000000000\n",
       "4 0.02745098 0.02745098 0.03529412 0.02745098 0.03137255 ⋯ 1.000000000\n",
       "5 1.00000000 1.00000000 1.00000000 1.00000000 1.00000000 ⋯ 0.074509804\n",
       "6 1.00000000 1.00000000 1.00000000 1.00000000 1.00000000 ⋯ 0.094117647\n",
       "  p2296      p2297      p2298 p2299      p2300     p2301      p2302    \n",
       "1 0.00000000 0.09019608 0.6   0.63921569 0.6392157 0.62745098 0.6156863\n",
       "2 1.00000000 1.00000000 1.0   1.00000000 1.0000000 1.00000000 1.0000000\n",
       "3 1.00000000 1.00000000 1.0   1.00000000 0.9960784 1.00000000 1.0000000\n",
       "4 1.00000000 1.00000000 1.0   1.00000000 1.0000000 1.00000000 1.0000000\n",
       "5 0.02352941 0.00000000 0.0   0.02352941 0.4509804 0.62745098 0.6274510\n",
       "6 0.07843137 0.03921569 0.0   0.00000000 0.0000000 0.02745098 0.5333333\n",
       "  p2303     p2304    \n",
       "1 0.6156863 0.6117647\n",
       "2 1.0000000 1.0000000\n",
       "3 1.0000000 1.0000000\n",
       "4 1.0000000 0.9882353\n",
       "5 0.6235294 0.6117647\n",
       "6 0.6196078 0.6196078"
      ]
     },
     "metadata": {},
     "output_type": "display_data"
    },
    {
     "data": {
      "text/html": [
       "<table class=\"dataframe\">\n",
       "<caption>A tibble: 6 × 3</caption>\n",
       "<thead>\n",
       "\t<tr><th scope=col>id</th><th scope=col>pixel</th><th scope=col>value</th></tr>\n",
       "\t<tr><th scope=col>&lt;chr&gt;</th><th scope=col>&lt;chr&gt;</th><th scope=col>&lt;dbl&gt;</th></tr>\n",
       "</thead>\n",
       "<tbody>\n",
       "\t<tr><td>anger/S010_004_00000018a.png</td><td>p1</td><td>0.06666667</td></tr>\n",
       "\t<tr><td>anger/S010_004_00000018a.png</td><td>p2</td><td>0.04705882</td></tr>\n",
       "\t<tr><td>anger/S010_004_00000018a.png</td><td>p3</td><td>0.03529412</td></tr>\n",
       "\t<tr><td>anger/S010_004_00000018a.png</td><td>p4</td><td>0.01960784</td></tr>\n",
       "\t<tr><td>anger/S010_004_00000018a.png</td><td>p5</td><td>0.03137255</td></tr>\n",
       "\t<tr><td>anger/S010_004_00000018a.png</td><td>p6</td><td>0.05490196</td></tr>\n",
       "</tbody>\n",
       "</table>\n"
      ],
      "text/latex": [
       "A tibble: 6 × 3\n",
       "\\begin{tabular}{lll}\n",
       " id & pixel & value\\\\\n",
       " <chr> & <chr> & <dbl>\\\\\n",
       "\\hline\n",
       "\t anger/S010\\_004\\_00000018a.png & p1 & 0.06666667\\\\\n",
       "\t anger/S010\\_004\\_00000018a.png & p2 & 0.04705882\\\\\n",
       "\t anger/S010\\_004\\_00000018a.png & p3 & 0.03529412\\\\\n",
       "\t anger/S010\\_004\\_00000018a.png & p4 & 0.01960784\\\\\n",
       "\t anger/S010\\_004\\_00000018a.png & p5 & 0.03137255\\\\\n",
       "\t anger/S010\\_004\\_00000018a.png & p6 & 0.05490196\\\\\n",
       "\\end{tabular}\n"
      ],
      "text/markdown": [
       "\n",
       "A tibble: 6 × 3\n",
       "\n",
       "| id &lt;chr&gt; | pixel &lt;chr&gt; | value &lt;dbl&gt; |\n",
       "|---|---|---|\n",
       "| anger/S010_004_00000018a.png | p1 | 0.06666667 |\n",
       "| anger/S010_004_00000018a.png | p2 | 0.04705882 |\n",
       "| anger/S010_004_00000018a.png | p3 | 0.03529412 |\n",
       "| anger/S010_004_00000018a.png | p4 | 0.01960784 |\n",
       "| anger/S010_004_00000018a.png | p5 | 0.03137255 |\n",
       "| anger/S010_004_00000018a.png | p6 | 0.05490196 |\n",
       "\n"
      ],
      "text/plain": [
       "  id                           pixel value     \n",
       "1 anger/S010_004_00000018a.png p1    0.06666667\n",
       "2 anger/S010_004_00000018a.png p2    0.04705882\n",
       "3 anger/S010_004_00000018a.png p3    0.03529412\n",
       "4 anger/S010_004_00000018a.png p4    0.01960784\n",
       "5 anger/S010_004_00000018a.png p5    0.03137255\n",
       "6 anger/S010_004_00000018a.png p6    0.05490196"
      ]
     },
     "metadata": {},
     "output_type": "display_data"
    }
   ],
   "source": [
    "# Transform X into a long dataframe\n",
    "X_tibble <- tibble::rownames_to_column(data.frame(X), \"id\")\n",
    "X_long <- pivot_longer(X_tibble, cols = !id, names_to = \"pixel\", values_to = \"value\")\n",
    "\n",
    "# Transform X_test into a long dataframe\n",
    "X_test_tibble <- tibble::rownames_to_column(data.frame(X_test), \"id\")\n",
    "X_test_long <- pivot_longer(X_test_tibble, cols = !id, names_to = \"pixel\", values_to = \"value\")\n",
    "\n",
    "# Inspect new data format\n",
    "head(X_tibble)\n",
    "head(X_long)"
   ]
  },
  {
   "cell_type": "markdown",
   "id": "b79f7bd7",
   "metadata": {
    "papermill": {
     "duration": 0.009772,
     "end_time": "2023-10-19T02:11:47.125735",
     "exception": false,
     "start_time": "2023-10-19T02:11:47.115963",
     "status": "completed"
    },
    "tags": []
   },
   "source": [
    "In the following chunk of code we create functions that each extract a different spectral feature using all pixel values per image in our data."
   ]
  },
  {
   "cell_type": "code",
   "execution_count": 16,
   "id": "a67ba61e",
   "metadata": {
    "execution": {
     "iopub.execute_input": "2023-10-19T02:11:47.148622Z",
     "iopub.status.busy": "2023-10-19T02:11:47.147332Z",
     "iopub.status.idle": "2023-10-19T02:11:47.166167Z",
     "shell.execute_reply": "2023-10-19T02:11:47.164901Z"
    },
    "papermill": {
     "duration": 0.032285,
     "end_time": "2023-10-19T02:11:47.167967",
     "exception": false,
     "start_time": "2023-10-19T02:11:47.135682",
     "status": "completed"
    },
    "tags": []
   },
   "outputs": [],
   "source": [
    "# Spectral entropy \n",
    "sp_entropy <- function(x) {\n",
    "  spec <- spectrum(x, log='n', plot = FALSE)$spec\n",
    "  entropy(spec)\n",
    "}\n",
    "\n",
    "# spectral peak \n",
    "sp_peak <- function(x) {\n",
    "  spec <- spectrum(x, plot = FALSE)\n",
    "  return(spec$freq[which.max(spec$spec)])\n",
    "}\n",
    "\n",
    "# spectral mean \n",
    "sp_mean <- function(x) {\n",
    "  spec <- spectrum(x, plot = FALSE)\n",
    "  df <- spec$freq[2] - spec$freq[1]\n",
    "  return(sum(spec$freq * spec$spec * df))\n",
    "}\n",
    "\n",
    "# spectral standard deviation \n",
    "sp_sd <- function(x) {\n",
    "  spec <- spectrum(x, plot = FALSE)\n",
    "  df <- spec$freq[2] - spec$freq[1]\n",
    "  return(sqrt(sum((spec$freq - sp_mean(x))^2 * spec$spec * df)))\n",
    "}\n",
    "\n",
    "# spectral mode\n",
    "sp_mode <- function(im) {\n",
    "    spec_features <- spectrum(im, plot = FALSE)\n",
    "    mode <- max(density(spec_features$freq * spec_features$spec)$x)\n",
    "    return(mode)\n",
    "}\n",
    "\n",
    "# spectral median\n",
    "sp_median <- function(im) {\n",
    "    spec_features <- spectrum(im, plot = FALSE)\n",
    "    median <- median(density(spec_features$freq * spec_features$spec)$x)\n",
    "    return(median)\n",
    "}\n",
    "\n",
    "# spectral kurtosis\n",
    "sp_kurt <- function(im) {\n",
    "    spec_features <- spectrum(im, plot = FALSE)\n",
    "    kurt <- e1071::kurtosis(density(spec_features$freq * spec_features$spec)$y)\n",
    "    return(kurt)\n",
    "}"
   ]
  },
  {
   "cell_type": "markdown",
   "id": "b7174fd5",
   "metadata": {
    "papermill": {
     "duration": 0.010167,
     "end_time": "2023-10-19T02:11:47.188465",
     "exception": false,
     "start_time": "2023-10-19T02:11:47.178298",
     "status": "completed"
    },
    "tags": []
   },
   "source": [
    "Next we create one big function that calculates our spectral features based on pixel values. This function was derived from a notebook of the 2022 competition - [Group 7: Emotion Recognition 2022](https://www.kaggle.com/code/dorotheehartan/group-7-emotion-recognition-2022)"
   ]
  },
  {
   "cell_type": "code",
   "execution_count": 17,
   "id": "77554992",
   "metadata": {
    "execution": {
     "iopub.execute_input": "2023-10-19T02:11:47.212391Z",
     "iopub.status.busy": "2023-10-19T02:11:47.211177Z",
     "iopub.status.idle": "2023-10-19T02:11:47.221807Z",
     "shell.execute_reply": "2023-10-19T02:11:47.220452Z"
    },
    "papermill": {
     "duration": 0.025157,
     "end_time": "2023-10-19T02:11:47.223842",
     "exception": false,
     "start_time": "2023-10-19T02:11:47.198685",
     "status": "completed"
    },
    "tags": []
   },
   "outputs": [],
   "source": [
    "spectral_f <- function (pictures) {\n",
    "  pictures %>%\n",
    "    group_by(id) %>%\n",
    "    summarise(  \n",
    "      spectral_entropy = sp_entropy(value), \n",
    "      spectral_peak = sp_peak(value),\n",
    "      spectral_mean = sp_mean(value),\n",
    "      spectral_sd = sp_sd(value),\n",
    "      spectral_mode = sp_mode(value),\n",
    "      spectral_median = sp_median(value),\n",
    "      spectral_kurt = sp_kurt(value)\n",
    "    )\n",
    "}"
   ]
  },
  {
   "cell_type": "markdown",
   "id": "dbce460e",
   "metadata": {
    "papermill": {
     "duration": 0.009913,
     "end_time": "2023-10-19T02:11:47.244215",
     "exception": false,
     "start_time": "2023-10-19T02:11:47.234302",
     "status": "completed"
    },
    "tags": []
   },
   "source": [
    "We now extract these spectral features from our data."
   ]
  },
  {
   "cell_type": "code",
   "execution_count": 18,
   "id": "14703389",
   "metadata": {
    "execution": {
     "iopub.execute_input": "2023-10-19T02:11:47.267238Z",
     "iopub.status.busy": "2023-10-19T02:11:47.265877Z",
     "iopub.status.idle": "2023-10-19T02:12:05.165977Z",
     "shell.execute_reply": "2023-10-19T02:12:05.164814Z"
    },
    "papermill": {
     "duration": 17.913371,
     "end_time": "2023-10-19T02:12:05.167515",
     "exception": false,
     "start_time": "2023-10-19T02:11:47.254144",
     "status": "completed"
    },
    "tags": []
   },
   "outputs": [
    {
     "data": {
      "text/html": [
       "<table class=\"dataframe\">\n",
       "<caption>A matrix: 6 × 7 of type dbl</caption>\n",
       "<thead>\n",
       "\t<tr><th scope=col>spectral_entropy</th><th scope=col>spectral_peak</th><th scope=col>spectral_mean</th><th scope=col>spectral_sd</th><th scope=col>spectral_mode</th><th scope=col>spectral_median</th><th scope=col>spectral_kurt</th></tr>\n",
       "</thead>\n",
       "<tbody>\n",
       "\t<tr><td>0.1192106</td><td>0.0004340278</td><td>0.001477388</td><td>0.01357745</td><td>0.2738749</td><td>0.1367595</td><td>333.0694</td></tr>\n",
       "\t<tr><td>0.1426195</td><td>0.0004340278</td><td>0.002093464</td><td>0.01968848</td><td>0.2523520</td><td>0.1259488</td><td>284.6838</td></tr>\n",
       "\t<tr><td>0.1191358</td><td>0.0416666667</td><td>0.002526994</td><td>0.02039762</td><td>0.4337071</td><td>0.2166380</td><td>215.4078</td></tr>\n",
       "\t<tr><td>0.1063805</td><td>0.0004340278</td><td>0.001937060</td><td>0.01869239</td><td>0.2168042</td><td>0.1082079</td><td>295.2168</td></tr>\n",
       "\t<tr><td>0.1507307</td><td>0.0004340278</td><td>0.002966747</td><td>0.02289131</td><td>0.4422698</td><td>0.2209549</td><td>232.8463</td></tr>\n",
       "\t<tr><td>0.1303368</td><td>0.0004340278</td><td>0.002793380</td><td>0.02090679</td><td>0.4691450</td><td>0.2344349</td><td>247.0783</td></tr>\n",
       "</tbody>\n",
       "</table>\n"
      ],
      "text/latex": [
       "A matrix: 6 × 7 of type dbl\n",
       "\\begin{tabular}{lllllll}\n",
       " spectral\\_entropy & spectral\\_peak & spectral\\_mean & spectral\\_sd & spectral\\_mode & spectral\\_median & spectral\\_kurt\\\\\n",
       "\\hline\n",
       "\t 0.1192106 & 0.0004340278 & 0.001477388 & 0.01357745 & 0.2738749 & 0.1367595 & 333.0694\\\\\n",
       "\t 0.1426195 & 0.0004340278 & 0.002093464 & 0.01968848 & 0.2523520 & 0.1259488 & 284.6838\\\\\n",
       "\t 0.1191358 & 0.0416666667 & 0.002526994 & 0.02039762 & 0.4337071 & 0.2166380 & 215.4078\\\\\n",
       "\t 0.1063805 & 0.0004340278 & 0.001937060 & 0.01869239 & 0.2168042 & 0.1082079 & 295.2168\\\\\n",
       "\t 0.1507307 & 0.0004340278 & 0.002966747 & 0.02289131 & 0.4422698 & 0.2209549 & 232.8463\\\\\n",
       "\t 0.1303368 & 0.0004340278 & 0.002793380 & 0.02090679 & 0.4691450 & 0.2344349 & 247.0783\\\\\n",
       "\\end{tabular}\n"
      ],
      "text/markdown": [
       "\n",
       "A matrix: 6 × 7 of type dbl\n",
       "\n",
       "| spectral_entropy | spectral_peak | spectral_mean | spectral_sd | spectral_mode | spectral_median | spectral_kurt |\n",
       "|---|---|---|---|---|---|---|\n",
       "| 0.1192106 | 0.0004340278 | 0.001477388 | 0.01357745 | 0.2738749 | 0.1367595 | 333.0694 |\n",
       "| 0.1426195 | 0.0004340278 | 0.002093464 | 0.01968848 | 0.2523520 | 0.1259488 | 284.6838 |\n",
       "| 0.1191358 | 0.0416666667 | 0.002526994 | 0.02039762 | 0.4337071 | 0.2166380 | 215.4078 |\n",
       "| 0.1063805 | 0.0004340278 | 0.001937060 | 0.01869239 | 0.2168042 | 0.1082079 | 295.2168 |\n",
       "| 0.1507307 | 0.0004340278 | 0.002966747 | 0.02289131 | 0.4422698 | 0.2209549 | 232.8463 |\n",
       "| 0.1303368 | 0.0004340278 | 0.002793380 | 0.02090679 | 0.4691450 | 0.2344349 | 247.0783 |\n",
       "\n"
      ],
      "text/plain": [
       "     spectral_entropy spectral_peak spectral_mean spectral_sd spectral_mode\n",
       "[1,] 0.1192106        0.0004340278  0.001477388   0.01357745  0.2738749    \n",
       "[2,] 0.1426195        0.0004340278  0.002093464   0.01968848  0.2523520    \n",
       "[3,] 0.1191358        0.0416666667  0.002526994   0.02039762  0.4337071    \n",
       "[4,] 0.1063805        0.0004340278  0.001937060   0.01869239  0.2168042    \n",
       "[5,] 0.1507307        0.0004340278  0.002966747   0.02289131  0.4422698    \n",
       "[6,] 0.1303368        0.0004340278  0.002793380   0.02090679  0.4691450    \n",
       "     spectral_median spectral_kurt\n",
       "[1,] 0.1367595       333.0694     \n",
       "[2,] 0.1259488       284.6838     \n",
       "[3,] 0.2166380       215.4078     \n",
       "[4,] 0.1082079       295.2168     \n",
       "[5,] 0.2209549       232.8463     \n",
       "[6,] 0.2344349       247.0783     "
      ]
     },
     "metadata": {},
     "output_type": "display_data"
    },
    {
     "data": {
      "text/html": [
       "<style>\n",
       ".list-inline {list-style: none; margin:0; padding: 0}\n",
       ".list-inline>li {display: inline-block}\n",
       ".list-inline>li:not(:last-child)::after {content: \"\\00b7\"; padding: 0 .5ex}\n",
       "</style>\n",
       "<ol class=list-inline><li>2538</li><li>7</li></ol>\n"
      ],
      "text/latex": [
       "\\begin{enumerate*}\n",
       "\\item 2538\n",
       "\\item 7\n",
       "\\end{enumerate*}\n"
      ],
      "text/markdown": [
       "1. 2538\n",
       "2. 7\n",
       "\n",
       "\n"
      ],
      "text/plain": [
       "[1] 2538    7"
      ]
     },
     "metadata": {},
     "output_type": "display_data"
    }
   ],
   "source": [
    "# compute the features for train and test sets\n",
    "spectral_features <- as.matrix(spectral_f(X_long) %>% select(-id))\n",
    "spectral_features_test <- as.matrix(spectral_f(X_test_long) %>% select(-id))\n",
    "\n",
    "# check the results\n",
    "head(spectral_features)\n",
    "dim(spectral_features)"
   ]
  },
  {
   "cell_type": "markdown",
   "id": "dfb79e2c",
   "metadata": {
    "papermill": {
     "duration": 0.010184,
     "end_time": "2023-10-19T02:12:05.188804",
     "exception": false,
     "start_time": "2023-10-19T02:12:05.178620",
     "status": "completed"
    },
    "tags": []
   },
   "source": [
    "## 4.3 Binding edge features with spectral features\n",
    "\n",
    "We now combine our edge and pixel histogram features into one feature matrix."
   ]
  },
  {
   "cell_type": "code",
   "execution_count": 19,
   "id": "c18fe880",
   "metadata": {
    "execution": {
     "iopub.execute_input": "2023-10-19T02:12:05.212357Z",
     "iopub.status.busy": "2023-10-19T02:12:05.211076Z",
     "iopub.status.idle": "2023-10-19T02:12:05.255316Z",
     "shell.execute_reply": "2023-10-19T02:12:05.254180Z"
    },
    "papermill": {
     "duration": 0.057946,
     "end_time": "2023-10-19T02:12:05.257176",
     "exception": false,
     "start_time": "2023-10-19T02:12:05.199230",
     "status": "completed"
    },
    "tags": []
   },
   "outputs": [
    {
     "data": {
      "text/html": [
       "<table class=\"dataframe\">\n",
       "<caption>A matrix: 6 × 115 of type dbl</caption>\n",
       "<thead>\n",
       "\t<tr><th></th><th scope=col>fsf_h.x.box</th><th scope=col>fsf_h.y.box</th><th scope=col>fsf_h.width</th><th scope=col>fsf_h.high</th><th scope=col>fsf_h.onpix</th><th scope=col>fsf_h.x.bar</th><th scope=col>fsf_h.y.bar</th><th scope=col>fsf_h.x2bar</th><th scope=col>fsf_h.y2bar</th><th scope=col>fsf_h.xybar</th><th scope=col>⋯</th><th scope=col>min_d2</th><th scope=col>max_d2</th><th scope=col>range_d2</th><th scope=col>spectral_entropy</th><th scope=col>spectral_peak</th><th scope=col>spectral_mean</th><th scope=col>spectral_sd</th><th scope=col>spectral_mode</th><th scope=col>spectral_median</th><th scope=col>spectral_kurt</th></tr>\n",
       "</thead>\n",
       "<tbody>\n",
       "\t<tr><th scope=row>anger/S010_004_00000018a.png</th><td>7.978723</td><td>8.138298</td><td>14.68085</td><td>15.00000</td><td>7.286102</td><td>7.205441</td><td>7.403446</td><td>3.620597</td><td>3.777295</td><td>3.668446</td><td>⋯</td><td>-0.2784314</td><td>0.4078431</td><td>-0.6862745</td><td>0.1192106</td><td>0.0004340278</td><td>0.001477388</td><td>0.01357745</td><td>0.2738749</td><td>0.1367595</td><td>333.0694</td></tr>\n",
       "\t<tr><th scope=row>anger/S010_004_00000018b.png</th><td>7.978723</td><td>7.978723</td><td>14.68085</td><td>14.68085</td><td>6.939792</td><td>7.209387</td><td>7.247603</td><td>3.620159</td><td>3.618116</td><td>3.591863</td><td>⋯</td><td>-0.3764706</td><td>0.4274510</td><td>-0.8039216</td><td>0.1426195</td><td>0.0004340278</td><td>0.002093464</td><td>0.01968848</td><td>0.2523520</td><td>0.1259488</td><td>284.6838</td></tr>\n",
       "\t<tr><th scope=row>anger/S010_004_00000018c.png</th><td>7.978723</td><td>8.138298</td><td>14.68085</td><td>15.00000</td><td>6.865097</td><td>7.258741</td><td>7.341256</td><td>3.621382</td><td>3.775385</td><td>3.670081</td><td>⋯</td><td>-0.3568627</td><td>0.3450980</td><td>-0.7019608</td><td>0.1191358</td><td>0.0416666667</td><td>0.002526994</td><td>0.02039762</td><td>0.4337071</td><td>0.2166380</td><td>215.4078</td></tr>\n",
       "\t<tr><th scope=row>anger/S010_004_00000018d.png</th><td>8.457447</td><td>7.978723</td><td>14.36170</td><td>14.68085</td><td>6.810774</td><td>6.994176</td><td>7.226281</td><td>3.466371</td><td>3.617566</td><td>3.513161</td><td>⋯</td><td>-0.3333333</td><td>0.3176471</td><td>-0.6509804</td><td>0.1063805</td><td>0.0004340278</td><td>0.001937060</td><td>0.01869239</td><td>0.2168042</td><td>0.1082079</td><td>295.2168</td></tr>\n",
       "\t<tr><th scope=row>anger/S010_004_00000018e.png</th><td>8.936170</td><td>8.617021</td><td>14.04255</td><td>14.68085</td><td>6.919421</td><td>6.784770</td><td>7.214173</td><td>3.316183</td><td>3.619816</td><td>3.435560</td><td>⋯</td><td>-0.9333333</td><td>0.4509804</td><td>-1.3843137</td><td>0.1507307</td><td>0.0004340278</td><td>0.002966747</td><td>0.02289131</td><td>0.4422698</td><td>0.2209549</td><td>232.8463</td></tr>\n",
       "\t<tr><th scope=row>anger/S010_004_00000018f.png</th><td>8.936170</td><td>8.138298</td><td>14.04255</td><td>15.00000</td><td>6.817565</td><td>6.819334</td><td>7.458084</td><td>3.313498</td><td>3.776609</td><td>3.508664</td><td>⋯</td><td>-0.8470588</td><td>0.2901961</td><td>-1.1372549</td><td>0.1303368</td><td>0.0004340278</td><td>0.002793380</td><td>0.02090679</td><td>0.4691450</td><td>0.2344349</td><td>247.0783</td></tr>\n",
       "</tbody>\n",
       "</table>\n"
      ],
      "text/latex": [
       "A matrix: 6 × 115 of type dbl\n",
       "\\begin{tabular}{r|lllllllllllllllllllll}\n",
       "  & fsf\\_h.x.box & fsf\\_h.y.box & fsf\\_h.width & fsf\\_h.high & fsf\\_h.onpix & fsf\\_h.x.bar & fsf\\_h.y.bar & fsf\\_h.x2bar & fsf\\_h.y2bar & fsf\\_h.xybar & ⋯ & min\\_d2 & max\\_d2 & range\\_d2 & spectral\\_entropy & spectral\\_peak & spectral\\_mean & spectral\\_sd & spectral\\_mode & spectral\\_median & spectral\\_kurt\\\\\n",
       "\\hline\n",
       "\tanger/S010\\_004\\_00000018a.png & 7.978723 & 8.138298 & 14.68085 & 15.00000 & 7.286102 & 7.205441 & 7.403446 & 3.620597 & 3.777295 & 3.668446 & ⋯ & -0.2784314 & 0.4078431 & -0.6862745 & 0.1192106 & 0.0004340278 & 0.001477388 & 0.01357745 & 0.2738749 & 0.1367595 & 333.0694\\\\\n",
       "\tanger/S010\\_004\\_00000018b.png & 7.978723 & 7.978723 & 14.68085 & 14.68085 & 6.939792 & 7.209387 & 7.247603 & 3.620159 & 3.618116 & 3.591863 & ⋯ & -0.3764706 & 0.4274510 & -0.8039216 & 0.1426195 & 0.0004340278 & 0.002093464 & 0.01968848 & 0.2523520 & 0.1259488 & 284.6838\\\\\n",
       "\tanger/S010\\_004\\_00000018c.png & 7.978723 & 8.138298 & 14.68085 & 15.00000 & 6.865097 & 7.258741 & 7.341256 & 3.621382 & 3.775385 & 3.670081 & ⋯ & -0.3568627 & 0.3450980 & -0.7019608 & 0.1191358 & 0.0416666667 & 0.002526994 & 0.02039762 & 0.4337071 & 0.2166380 & 215.4078\\\\\n",
       "\tanger/S010\\_004\\_00000018d.png & 8.457447 & 7.978723 & 14.36170 & 14.68085 & 6.810774 & 6.994176 & 7.226281 & 3.466371 & 3.617566 & 3.513161 & ⋯ & -0.3333333 & 0.3176471 & -0.6509804 & 0.1063805 & 0.0004340278 & 0.001937060 & 0.01869239 & 0.2168042 & 0.1082079 & 295.2168\\\\\n",
       "\tanger/S010\\_004\\_00000018e.png & 8.936170 & 8.617021 & 14.04255 & 14.68085 & 6.919421 & 6.784770 & 7.214173 & 3.316183 & 3.619816 & 3.435560 & ⋯ & -0.9333333 & 0.4509804 & -1.3843137 & 0.1507307 & 0.0004340278 & 0.002966747 & 0.02289131 & 0.4422698 & 0.2209549 & 232.8463\\\\\n",
       "\tanger/S010\\_004\\_00000018f.png & 8.936170 & 8.138298 & 14.04255 & 15.00000 & 6.817565 & 6.819334 & 7.458084 & 3.313498 & 3.776609 & 3.508664 & ⋯ & -0.8470588 & 0.2901961 & -1.1372549 & 0.1303368 & 0.0004340278 & 0.002793380 & 0.02090679 & 0.4691450 & 0.2344349 & 247.0783\\\\\n",
       "\\end{tabular}\n"
      ],
      "text/markdown": [
       "\n",
       "A matrix: 6 × 115 of type dbl\n",
       "\n",
       "| <!--/--> | fsf_h.x.box | fsf_h.y.box | fsf_h.width | fsf_h.high | fsf_h.onpix | fsf_h.x.bar | fsf_h.y.bar | fsf_h.x2bar | fsf_h.y2bar | fsf_h.xybar | ⋯ | min_d2 | max_d2 | range_d2 | spectral_entropy | spectral_peak | spectral_mean | spectral_sd | spectral_mode | spectral_median | spectral_kurt |\n",
       "|---|---|---|---|---|---|---|---|---|---|---|---|---|---|---|---|---|---|---|---|---|---|\n",
       "| anger/S010_004_00000018a.png | 7.978723 | 8.138298 | 14.68085 | 15.00000 | 7.286102 | 7.205441 | 7.403446 | 3.620597 | 3.777295 | 3.668446 | ⋯ | -0.2784314 | 0.4078431 | -0.6862745 | 0.1192106 | 0.0004340278 | 0.001477388 | 0.01357745 | 0.2738749 | 0.1367595 | 333.0694 |\n",
       "| anger/S010_004_00000018b.png | 7.978723 | 7.978723 | 14.68085 | 14.68085 | 6.939792 | 7.209387 | 7.247603 | 3.620159 | 3.618116 | 3.591863 | ⋯ | -0.3764706 | 0.4274510 | -0.8039216 | 0.1426195 | 0.0004340278 | 0.002093464 | 0.01968848 | 0.2523520 | 0.1259488 | 284.6838 |\n",
       "| anger/S010_004_00000018c.png | 7.978723 | 8.138298 | 14.68085 | 15.00000 | 6.865097 | 7.258741 | 7.341256 | 3.621382 | 3.775385 | 3.670081 | ⋯ | -0.3568627 | 0.3450980 | -0.7019608 | 0.1191358 | 0.0416666667 | 0.002526994 | 0.02039762 | 0.4337071 | 0.2166380 | 215.4078 |\n",
       "| anger/S010_004_00000018d.png | 8.457447 | 7.978723 | 14.36170 | 14.68085 | 6.810774 | 6.994176 | 7.226281 | 3.466371 | 3.617566 | 3.513161 | ⋯ | -0.3333333 | 0.3176471 | -0.6509804 | 0.1063805 | 0.0004340278 | 0.001937060 | 0.01869239 | 0.2168042 | 0.1082079 | 295.2168 |\n",
       "| anger/S010_004_00000018e.png | 8.936170 | 8.617021 | 14.04255 | 14.68085 | 6.919421 | 6.784770 | 7.214173 | 3.316183 | 3.619816 | 3.435560 | ⋯ | -0.9333333 | 0.4509804 | -1.3843137 | 0.1507307 | 0.0004340278 | 0.002966747 | 0.02289131 | 0.4422698 | 0.2209549 | 232.8463 |\n",
       "| anger/S010_004_00000018f.png | 8.936170 | 8.138298 | 14.04255 | 15.00000 | 6.817565 | 6.819334 | 7.458084 | 3.313498 | 3.776609 | 3.508664 | ⋯ | -0.8470588 | 0.2901961 | -1.1372549 | 0.1303368 | 0.0004340278 | 0.002793380 | 0.02090679 | 0.4691450 | 0.2344349 | 247.0783 |\n",
       "\n"
      ],
      "text/plain": [
       "                             fsf_h.x.box fsf_h.y.box fsf_h.width fsf_h.high\n",
       "anger/S010_004_00000018a.png 7.978723    8.138298    14.68085    15.00000  \n",
       "anger/S010_004_00000018b.png 7.978723    7.978723    14.68085    14.68085  \n",
       "anger/S010_004_00000018c.png 7.978723    8.138298    14.68085    15.00000  \n",
       "anger/S010_004_00000018d.png 8.457447    7.978723    14.36170    14.68085  \n",
       "anger/S010_004_00000018e.png 8.936170    8.617021    14.04255    14.68085  \n",
       "anger/S010_004_00000018f.png 8.936170    8.138298    14.04255    15.00000  \n",
       "                             fsf_h.onpix fsf_h.x.bar fsf_h.y.bar fsf_h.x2bar\n",
       "anger/S010_004_00000018a.png 7.286102    7.205441    7.403446    3.620597   \n",
       "anger/S010_004_00000018b.png 6.939792    7.209387    7.247603    3.620159   \n",
       "anger/S010_004_00000018c.png 6.865097    7.258741    7.341256    3.621382   \n",
       "anger/S010_004_00000018d.png 6.810774    6.994176    7.226281    3.466371   \n",
       "anger/S010_004_00000018e.png 6.919421    6.784770    7.214173    3.316183   \n",
       "anger/S010_004_00000018f.png 6.817565    6.819334    7.458084    3.313498   \n",
       "                             fsf_h.y2bar fsf_h.xybar ⋯ min_d2     max_d2   \n",
       "anger/S010_004_00000018a.png 3.777295    3.668446    ⋯ -0.2784314 0.4078431\n",
       "anger/S010_004_00000018b.png 3.618116    3.591863    ⋯ -0.3764706 0.4274510\n",
       "anger/S010_004_00000018c.png 3.775385    3.670081    ⋯ -0.3568627 0.3450980\n",
       "anger/S010_004_00000018d.png 3.617566    3.513161    ⋯ -0.3333333 0.3176471\n",
       "anger/S010_004_00000018e.png 3.619816    3.435560    ⋯ -0.9333333 0.4509804\n",
       "anger/S010_004_00000018f.png 3.776609    3.508664    ⋯ -0.8470588 0.2901961\n",
       "                             range_d2   spectral_entropy spectral_peak\n",
       "anger/S010_004_00000018a.png -0.6862745 0.1192106        0.0004340278 \n",
       "anger/S010_004_00000018b.png -0.8039216 0.1426195        0.0004340278 \n",
       "anger/S010_004_00000018c.png -0.7019608 0.1191358        0.0416666667 \n",
       "anger/S010_004_00000018d.png -0.6509804 0.1063805        0.0004340278 \n",
       "anger/S010_004_00000018e.png -1.3843137 0.1507307        0.0004340278 \n",
       "anger/S010_004_00000018f.png -1.1372549 0.1303368        0.0004340278 \n",
       "                             spectral_mean spectral_sd spectral_mode\n",
       "anger/S010_004_00000018a.png 0.001477388   0.01357745  0.2738749    \n",
       "anger/S010_004_00000018b.png 0.002093464   0.01968848  0.2523520    \n",
       "anger/S010_004_00000018c.png 0.002526994   0.02039762  0.4337071    \n",
       "anger/S010_004_00000018d.png 0.001937060   0.01869239  0.2168042    \n",
       "anger/S010_004_00000018e.png 0.002966747   0.02289131  0.4422698    \n",
       "anger/S010_004_00000018f.png 0.002793380   0.02090679  0.4691450    \n",
       "                             spectral_median spectral_kurt\n",
       "anger/S010_004_00000018a.png 0.1367595       333.0694     \n",
       "anger/S010_004_00000018b.png 0.1259488       284.6838     \n",
       "anger/S010_004_00000018c.png 0.2166380       215.4078     \n",
       "anger/S010_004_00000018d.png 0.1082079       295.2168     \n",
       "anger/S010_004_00000018e.png 0.2209549       232.8463     \n",
       "anger/S010_004_00000018f.png 0.2344349       247.0783     "
      ]
     },
     "metadata": {},
     "output_type": "display_data"
    },
    {
     "data": {
      "text/html": [
       "<table class=\"dataframe\">\n",
       "<caption>A matrix: 6 × 115 of type dbl</caption>\n",
       "<thead>\n",
       "\t<tr><th></th><th scope=col>fsf_h.x.box</th><th scope=col>fsf_h.y.box</th><th scope=col>fsf_h.width</th><th scope=col>fsf_h.high</th><th scope=col>fsf_h.onpix</th><th scope=col>fsf_h.x.bar</th><th scope=col>fsf_h.y.bar</th><th scope=col>fsf_h.x2bar</th><th scope=col>fsf_h.y2bar</th><th scope=col>fsf_h.xybar</th><th scope=col>⋯</th><th scope=col>min_d2</th><th scope=col>max_d2</th><th scope=col>range_d2</th><th scope=col>spectral_entropy</th><th scope=col>spectral_peak</th><th scope=col>spectral_mean</th><th scope=col>spectral_sd</th><th scope=col>spectral_mode</th><th scope=col>spectral_median</th><th scope=col>spectral_kurt</th></tr>\n",
       "</thead>\n",
       "<tbody>\n",
       "\t<tr><th scope=row>S010_004_00000017a.png</th><td>7.978723</td><td>8.138298</td><td>14.68085</td><td>15.00000</td><td>7.347216</td><td>7.217915</td><td>7.408142</td><td>3.620616</td><td>3.776851</td><td>3.668110</td><td>⋯</td><td>-0.2784314</td><td>0.4274510</td><td>-0.7058824</td><td>0.12173762</td><td>0.0004340278</td><td>0.001483003</td><td>0.01357468</td><td>0.2987645</td><td>0.1492058</td><td>252.4360</td></tr>\n",
       "\t<tr><th scope=row>S010_004_00000017b.png</th><td>7.659574</td><td>7.978723</td><td>14.04255</td><td>14.68085</td><td>6.871888</td><td>6.937648</td><td>7.248499</td><td>3.314523</td><td>3.619147</td><td>3.434284</td><td>⋯</td><td>-0.3882353</td><td>0.4274510</td><td>-0.8156863</td><td>0.08906895</td><td>0.0416666667</td><td>0.002930787</td><td>0.02239665</td><td>0.6322154</td><td>0.3158803</td><td>240.5441</td></tr>\n",
       "\t<tr><th scope=row>S010_004_00000017c.png</th><td>8.936170</td><td>8.138298</td><td>14.04255</td><td>15.00000</td><td>6.797193</td><td>6.825170</td><td>7.443053</td><td>3.313871</td><td>3.776168</td><td>3.509054</td><td>⋯</td><td>-0.2509804</td><td>0.3764706</td><td>-0.6274510</td><td>0.14145278</td><td>0.0004340278</td><td>0.002707822</td><td>0.02088621</td><td>0.3404470</td><td>0.1700569</td><td>221.1976</td></tr>\n",
       "\t<tr><th scope=row>S010_004_00000017d.png</th><td>8.457447</td><td>7.659574</td><td>14.36170</td><td>14.04255</td><td>6.661385</td><td>6.989553</td><td>6.945403</td><td>3.466538</td><td>3.311097</td><td>3.361009</td><td>⋯</td><td>-0.3450980</td><td>0.5019608</td><td>-0.8470588</td><td>0.11946165</td><td>0.0004340278</td><td>0.002736302</td><td>0.02512135</td><td>0.2411207</td><td>0.1202992</td><td>213.4516</td></tr>\n",
       "\t<tr><th scope=row>S010_004_00000017e.png</th><td>8.936170</td><td>7.978723</td><td>14.04255</td><td>14.68085</td><td>6.613852</td><td>6.801357</td><td>7.267184</td><td>3.313487</td><td>3.617753</td><td>3.437410</td><td>⋯</td><td>-0.3254902</td><td>0.4745098</td><td>-0.8000000</td><td>0.15606293</td><td>0.0004340278</td><td>0.002813014</td><td>0.02082563</td><td>0.3338763</td><td>0.1667096</td><td>370.2161</td></tr>\n",
       "\t<tr><th scope=row>S010_004_00000017f.png</th><td>7.978723</td><td>8.138298</td><td>14.68085</td><td>15.00000</td><td>7.286102</td><td>7.264513</td><td>7.383922</td><td>3.622074</td><td>3.776312</td><td>3.669621</td><td>⋯</td><td>-0.2588235</td><td>0.3333333</td><td>-0.5921569</td><td>0.13377962</td><td>0.0416666667</td><td>0.002190686</td><td>0.01887423</td><td>0.2714152</td><td>0.1355152</td><td>411.1166</td></tr>\n",
       "</tbody>\n",
       "</table>\n"
      ],
      "text/latex": [
       "A matrix: 6 × 115 of type dbl\n",
       "\\begin{tabular}{r|lllllllllllllllllllll}\n",
       "  & fsf\\_h.x.box & fsf\\_h.y.box & fsf\\_h.width & fsf\\_h.high & fsf\\_h.onpix & fsf\\_h.x.bar & fsf\\_h.y.bar & fsf\\_h.x2bar & fsf\\_h.y2bar & fsf\\_h.xybar & ⋯ & min\\_d2 & max\\_d2 & range\\_d2 & spectral\\_entropy & spectral\\_peak & spectral\\_mean & spectral\\_sd & spectral\\_mode & spectral\\_median & spectral\\_kurt\\\\\n",
       "\\hline\n",
       "\tS010\\_004\\_00000017a.png & 7.978723 & 8.138298 & 14.68085 & 15.00000 & 7.347216 & 7.217915 & 7.408142 & 3.620616 & 3.776851 & 3.668110 & ⋯ & -0.2784314 & 0.4274510 & -0.7058824 & 0.12173762 & 0.0004340278 & 0.001483003 & 0.01357468 & 0.2987645 & 0.1492058 & 252.4360\\\\\n",
       "\tS010\\_004\\_00000017b.png & 7.659574 & 7.978723 & 14.04255 & 14.68085 & 6.871888 & 6.937648 & 7.248499 & 3.314523 & 3.619147 & 3.434284 & ⋯ & -0.3882353 & 0.4274510 & -0.8156863 & 0.08906895 & 0.0416666667 & 0.002930787 & 0.02239665 & 0.6322154 & 0.3158803 & 240.5441\\\\\n",
       "\tS010\\_004\\_00000017c.png & 8.936170 & 8.138298 & 14.04255 & 15.00000 & 6.797193 & 6.825170 & 7.443053 & 3.313871 & 3.776168 & 3.509054 & ⋯ & -0.2509804 & 0.3764706 & -0.6274510 & 0.14145278 & 0.0004340278 & 0.002707822 & 0.02088621 & 0.3404470 & 0.1700569 & 221.1976\\\\\n",
       "\tS010\\_004\\_00000017d.png & 8.457447 & 7.659574 & 14.36170 & 14.04255 & 6.661385 & 6.989553 & 6.945403 & 3.466538 & 3.311097 & 3.361009 & ⋯ & -0.3450980 & 0.5019608 & -0.8470588 & 0.11946165 & 0.0004340278 & 0.002736302 & 0.02512135 & 0.2411207 & 0.1202992 & 213.4516\\\\\n",
       "\tS010\\_004\\_00000017e.png & 8.936170 & 7.978723 & 14.04255 & 14.68085 & 6.613852 & 6.801357 & 7.267184 & 3.313487 & 3.617753 & 3.437410 & ⋯ & -0.3254902 & 0.4745098 & -0.8000000 & 0.15606293 & 0.0004340278 & 0.002813014 & 0.02082563 & 0.3338763 & 0.1667096 & 370.2161\\\\\n",
       "\tS010\\_004\\_00000017f.png & 7.978723 & 8.138298 & 14.68085 & 15.00000 & 7.286102 & 7.264513 & 7.383922 & 3.622074 & 3.776312 & 3.669621 & ⋯ & -0.2588235 & 0.3333333 & -0.5921569 & 0.13377962 & 0.0416666667 & 0.002190686 & 0.01887423 & 0.2714152 & 0.1355152 & 411.1166\\\\\n",
       "\\end{tabular}\n"
      ],
      "text/markdown": [
       "\n",
       "A matrix: 6 × 115 of type dbl\n",
       "\n",
       "| <!--/--> | fsf_h.x.box | fsf_h.y.box | fsf_h.width | fsf_h.high | fsf_h.onpix | fsf_h.x.bar | fsf_h.y.bar | fsf_h.x2bar | fsf_h.y2bar | fsf_h.xybar | ⋯ | min_d2 | max_d2 | range_d2 | spectral_entropy | spectral_peak | spectral_mean | spectral_sd | spectral_mode | spectral_median | spectral_kurt |\n",
       "|---|---|---|---|---|---|---|---|---|---|---|---|---|---|---|---|---|---|---|---|---|---|\n",
       "| S010_004_00000017a.png | 7.978723 | 8.138298 | 14.68085 | 15.00000 | 7.347216 | 7.217915 | 7.408142 | 3.620616 | 3.776851 | 3.668110 | ⋯ | -0.2784314 | 0.4274510 | -0.7058824 | 0.12173762 | 0.0004340278 | 0.001483003 | 0.01357468 | 0.2987645 | 0.1492058 | 252.4360 |\n",
       "| S010_004_00000017b.png | 7.659574 | 7.978723 | 14.04255 | 14.68085 | 6.871888 | 6.937648 | 7.248499 | 3.314523 | 3.619147 | 3.434284 | ⋯ | -0.3882353 | 0.4274510 | -0.8156863 | 0.08906895 | 0.0416666667 | 0.002930787 | 0.02239665 | 0.6322154 | 0.3158803 | 240.5441 |\n",
       "| S010_004_00000017c.png | 8.936170 | 8.138298 | 14.04255 | 15.00000 | 6.797193 | 6.825170 | 7.443053 | 3.313871 | 3.776168 | 3.509054 | ⋯ | -0.2509804 | 0.3764706 | -0.6274510 | 0.14145278 | 0.0004340278 | 0.002707822 | 0.02088621 | 0.3404470 | 0.1700569 | 221.1976 |\n",
       "| S010_004_00000017d.png | 8.457447 | 7.659574 | 14.36170 | 14.04255 | 6.661385 | 6.989553 | 6.945403 | 3.466538 | 3.311097 | 3.361009 | ⋯ | -0.3450980 | 0.5019608 | -0.8470588 | 0.11946165 | 0.0004340278 | 0.002736302 | 0.02512135 | 0.2411207 | 0.1202992 | 213.4516 |\n",
       "| S010_004_00000017e.png | 8.936170 | 7.978723 | 14.04255 | 14.68085 | 6.613852 | 6.801357 | 7.267184 | 3.313487 | 3.617753 | 3.437410 | ⋯ | -0.3254902 | 0.4745098 | -0.8000000 | 0.15606293 | 0.0004340278 | 0.002813014 | 0.02082563 | 0.3338763 | 0.1667096 | 370.2161 |\n",
       "| S010_004_00000017f.png | 7.978723 | 8.138298 | 14.68085 | 15.00000 | 7.286102 | 7.264513 | 7.383922 | 3.622074 | 3.776312 | 3.669621 | ⋯ | -0.2588235 | 0.3333333 | -0.5921569 | 0.13377962 | 0.0416666667 | 0.002190686 | 0.01887423 | 0.2714152 | 0.1355152 | 411.1166 |\n",
       "\n"
      ],
      "text/plain": [
       "                       fsf_h.x.box fsf_h.y.box fsf_h.width fsf_h.high\n",
       "S010_004_00000017a.png 7.978723    8.138298    14.68085    15.00000  \n",
       "S010_004_00000017b.png 7.659574    7.978723    14.04255    14.68085  \n",
       "S010_004_00000017c.png 8.936170    8.138298    14.04255    15.00000  \n",
       "S010_004_00000017d.png 8.457447    7.659574    14.36170    14.04255  \n",
       "S010_004_00000017e.png 8.936170    7.978723    14.04255    14.68085  \n",
       "S010_004_00000017f.png 7.978723    8.138298    14.68085    15.00000  \n",
       "                       fsf_h.onpix fsf_h.x.bar fsf_h.y.bar fsf_h.x2bar\n",
       "S010_004_00000017a.png 7.347216    7.217915    7.408142    3.620616   \n",
       "S010_004_00000017b.png 6.871888    6.937648    7.248499    3.314523   \n",
       "S010_004_00000017c.png 6.797193    6.825170    7.443053    3.313871   \n",
       "S010_004_00000017d.png 6.661385    6.989553    6.945403    3.466538   \n",
       "S010_004_00000017e.png 6.613852    6.801357    7.267184    3.313487   \n",
       "S010_004_00000017f.png 7.286102    7.264513    7.383922    3.622074   \n",
       "                       fsf_h.y2bar fsf_h.xybar ⋯ min_d2     max_d2   \n",
       "S010_004_00000017a.png 3.776851    3.668110    ⋯ -0.2784314 0.4274510\n",
       "S010_004_00000017b.png 3.619147    3.434284    ⋯ -0.3882353 0.4274510\n",
       "S010_004_00000017c.png 3.776168    3.509054    ⋯ -0.2509804 0.3764706\n",
       "S010_004_00000017d.png 3.311097    3.361009    ⋯ -0.3450980 0.5019608\n",
       "S010_004_00000017e.png 3.617753    3.437410    ⋯ -0.3254902 0.4745098\n",
       "S010_004_00000017f.png 3.776312    3.669621    ⋯ -0.2588235 0.3333333\n",
       "                       range_d2   spectral_entropy spectral_peak spectral_mean\n",
       "S010_004_00000017a.png -0.7058824 0.12173762       0.0004340278  0.001483003  \n",
       "S010_004_00000017b.png -0.8156863 0.08906895       0.0416666667  0.002930787  \n",
       "S010_004_00000017c.png -0.6274510 0.14145278       0.0004340278  0.002707822  \n",
       "S010_004_00000017d.png -0.8470588 0.11946165       0.0004340278  0.002736302  \n",
       "S010_004_00000017e.png -0.8000000 0.15606293       0.0004340278  0.002813014  \n",
       "S010_004_00000017f.png -0.5921569 0.13377962       0.0416666667  0.002190686  \n",
       "                       spectral_sd spectral_mode spectral_median spectral_kurt\n",
       "S010_004_00000017a.png 0.01357468  0.2987645     0.1492058       252.4360     \n",
       "S010_004_00000017b.png 0.02239665  0.6322154     0.3158803       240.5441     \n",
       "S010_004_00000017c.png 0.02088621  0.3404470     0.1700569       221.1976     \n",
       "S010_004_00000017d.png 0.02512135  0.2411207     0.1202992       213.4516     \n",
       "S010_004_00000017e.png 0.02082563  0.3338763     0.1667096       370.2161     \n",
       "S010_004_00000017f.png 0.01887423  0.2714152     0.1355152       411.1166     "
      ]
     },
     "metadata": {},
     "output_type": "display_data"
    },
    {
     "data": {
      "text/html": [
       "<style>\n",
       ".list-inline {list-style: none; margin:0; padding: 0}\n",
       ".list-inline>li {display: inline-block}\n",
       ".list-inline>li:not(:last-child)::after {content: \"\\00b7\"; padding: 0 .5ex}\n",
       "</style>\n",
       "<ol class=list-inline><li>2538</li><li>115</li></ol>\n"
      ],
      "text/latex": [
       "\\begin{enumerate*}\n",
       "\\item 2538\n",
       "\\item 115\n",
       "\\end{enumerate*}\n"
      ],
      "text/markdown": [
       "1. 2538\n",
       "2. 115\n",
       "\n",
       "\n"
      ],
      "text/plain": [
       "[1] 2538  115"
      ]
     },
     "metadata": {},
     "output_type": "display_data"
    }
   ],
   "source": [
    "# Bind feature matrices\n",
    "edge_spec_features <- edge_features %>%\n",
    "    cbind(spectral_features)\n",
    "edge_spec_features_test <- edge_features_test %>%\n",
    "    cbind(spectral_features_test)\n",
    "\n",
    "# Inspect feature data\n",
    "head(edge_spec_features)\n",
    "head(edge_spec_features_test)\n",
    "dim(edge_spec_features)"
   ]
  },
  {
   "cell_type": "code",
   "execution_count": 20,
   "id": "3a9d45f5",
   "metadata": {
    "execution": {
     "iopub.execute_input": "2023-10-19T02:12:05.281886Z",
     "iopub.status.busy": "2023-10-19T02:12:05.280624Z",
     "iopub.status.idle": "2023-10-19T02:12:05.295484Z",
     "shell.execute_reply": "2023-10-19T02:12:05.294034Z"
    },
    "papermill": {
     "duration": 0.02936,
     "end_time": "2023-10-19T02:12:05.297462",
     "exception": false,
     "start_time": "2023-10-19T02:12:05.268102",
     "status": "completed"
    },
    "tags": []
   },
   "outputs": [
    {
     "data": {
      "text/html": [
       "TRUE"
      ],
      "text/latex": [
       "TRUE"
      ],
      "text/markdown": [
       "TRUE"
      ],
      "text/plain": [
       "[1] TRUE"
      ]
     },
     "metadata": {},
     "output_type": "display_data"
    }
   ],
   "source": [
    "# Check that row names match original\n",
    "unique(rownames(X) == rownames(edge_spec_features))"
   ]
  },
  {
   "cell_type": "markdown",
   "id": "22bd358a",
   "metadata": {
    "papermill": {
     "duration": 0.010118,
     "end_time": "2023-10-19T02:12:05.318379",
     "exception": false,
     "start_time": "2023-10-19T02:12:05.308261",
     "status": "completed"
    },
    "tags": []
   },
   "source": [
    "## 4.4 Select informative features\n",
    "\n",
    "For similar reasons as with our raw pixel data, we identify near zero variance, highly correlated, and linear combination features from our edge and spectral features. We will again create an index variable, `use_ft`, which will indicate the features to fit our models with.\n",
    "\n",
    "### Near zero variance\n",
    "\n",
    "Since we have far fewer edge and spectral features than pixels, we can use the \"slower\" caret function `nearZeroVar` to identify our near zero variance features."
   ]
  },
  {
   "cell_type": "code",
   "execution_count": 21,
   "id": "c441671e",
   "metadata": {
    "execution": {
     "iopub.execute_input": "2023-10-19T02:12:05.341914Z",
     "iopub.status.busy": "2023-10-19T02:12:05.340537Z",
     "iopub.status.idle": "2023-10-19T02:12:05.863363Z",
     "shell.execute_reply": "2023-10-19T02:12:05.861879Z"
    },
    "papermill": {
     "duration": 0.537548,
     "end_time": "2023-10-19T02:12:05.865997",
     "exception": false,
     "start_time": "2023-10-19T02:12:05.328449",
     "status": "completed"
    },
    "tags": []
   },
   "outputs": [],
   "source": [
    "# store indices of near zero variance features\n",
    "drop_nearZeroVar <- caret::nearZeroVar(edge_spec_features) # no near zero variance features\n",
    "\n",
    "# create vector of indices to keep\n",
    "use_ft <- !colnames(edge_spec_features) %in% drop_nearZeroVar"
   ]
  },
  {
   "cell_type": "markdown",
   "id": "73c5e6ad",
   "metadata": {
    "papermill": {
     "duration": 0.011594,
     "end_time": "2023-10-19T02:12:05.890246",
     "exception": false,
     "start_time": "2023-10-19T02:12:05.878652",
     "status": "completed"
    },
    "tags": []
   },
   "source": [
    "### High correlations"
   ]
  },
  {
   "cell_type": "code",
   "execution_count": 22,
   "id": "40e41cac",
   "metadata": {
    "execution": {
     "iopub.execute_input": "2023-10-19T02:12:05.916565Z",
     "iopub.status.busy": "2023-10-19T02:12:05.915268Z",
     "iopub.status.idle": "2023-10-19T02:12:05.980364Z",
     "shell.execute_reply": "2023-10-19T02:12:05.978756Z"
    },
    "papermill": {
     "duration": 0.083292,
     "end_time": "2023-10-19T02:12:05.983967",
     "exception": false,
     "start_time": "2023-10-19T02:12:05.900675",
     "status": "completed"
    },
    "tags": []
   },
   "outputs": [
    {
     "name": "stdout",
     "output_type": "stream",
     "text": [
      "[1] \"High correlation features\"\n"
     ]
    },
    {
     "data": {
      "text/html": [
       "<style>\n",
       ".list-inline {list-style: none; margin:0; padding: 0}\n",
       ".list-inline>li {display: inline-block}\n",
       ".list-inline>li:not(:last-child)::after {content: \"\\00b7\"; padding: 0 .5ex}\n",
       "</style>\n",
       "<ol class=list-inline><li>8</li><li>9</li><li>11</li><li>12</li><li>35</li><li>36</li><li>38</li><li>39</li><li>62</li><li>63</li><li>65</li><li>66</li><li>84</li><li>85</li><li>86</li><li>87</li><li>88</li><li>89</li><li>90</li><li>91</li></ol>\n"
      ],
      "text/latex": [
       "\\begin{enumerate*}\n",
       "\\item 8\n",
       "\\item 9\n",
       "\\item 11\n",
       "\\item 12\n",
       "\\item 35\n",
       "\\item 36\n",
       "\\item 38\n",
       "\\item 39\n",
       "\\item 62\n",
       "\\item 63\n",
       "\\item 65\n",
       "\\item 66\n",
       "\\item 84\n",
       "\\item 85\n",
       "\\item 86\n",
       "\\item 87\n",
       "\\item 88\n",
       "\\item 89\n",
       "\\item 90\n",
       "\\item 91\n",
       "\\end{enumerate*}\n"
      ],
      "text/markdown": [
       "1. 8\n",
       "2. 9\n",
       "3. 11\n",
       "4. 12\n",
       "5. 35\n",
       "6. 36\n",
       "7. 38\n",
       "8. 39\n",
       "9. 62\n",
       "10. 63\n",
       "11. 65\n",
       "12. 66\n",
       "13. 84\n",
       "14. 85\n",
       "15. 86\n",
       "16. 87\n",
       "17. 88\n",
       "18. 89\n",
       "19. 90\n",
       "20. 91\n",
       "\n",
       "\n"
      ],
      "text/plain": [
       " [1]  8  9 11 12 35 36 38 39 62 63 65 66 84 85 86 87 88 89 90 91"
      ]
     },
     "metadata": {},
     "output_type": "display_data"
    },
    {
     "data": {
      "text/html": [
       "58"
      ],
      "text/latex": [
       "58"
      ],
      "text/markdown": [
       "58"
      ],
      "text/plain": [
       "[1] 58"
      ]
     },
     "metadata": {},
     "output_type": "display_data"
    }
   ],
   "source": [
    "# find features with a very high correlation\n",
    "high_corr = findCorrelation(cor(edge_spec_features[,use_ft]), .9)\n",
    "\n",
    "# are there any high correlations?\n",
    "print(\"High correlation features\")\n",
    "head(high_corr, 20)\n",
    "\n",
    "# update use_ft to not include high correlation features \n",
    "use_ft[use_ft == TRUE][high_corr] <- FALSE\n",
    "\n",
    "# What is the number of features retained?\n",
    "sum(use_ft)"
   ]
  },
  {
   "cell_type": "markdown",
   "id": "4d0a92de",
   "metadata": {
    "papermill": {
     "duration": 0.012504,
     "end_time": "2023-10-19T02:12:06.014248",
     "exception": false,
     "start_time": "2023-10-19T02:12:06.001744",
     "status": "completed"
    },
    "tags": []
   },
   "source": [
    "### Linear combinations"
   ]
  },
  {
   "cell_type": "code",
   "execution_count": 23,
   "id": "fd7c6c8f",
   "metadata": {
    "execution": {
     "iopub.execute_input": "2023-10-19T02:12:06.046796Z",
     "iopub.status.busy": "2023-10-19T02:12:06.045439Z",
     "iopub.status.idle": "2023-10-19T02:12:06.068118Z",
     "shell.execute_reply": "2023-10-19T02:12:06.066981Z"
    },
    "papermill": {
     "duration": 0.039803,
     "end_time": "2023-10-19T02:12:06.069721",
     "exception": false,
     "start_time": "2023-10-19T02:12:06.029918",
     "status": "completed"
    },
    "tags": []
   },
   "outputs": [
    {
     "data": {
      "text/html": [
       "55"
      ],
      "text/latex": [
       "55"
      ],
      "text/markdown": [
       "55"
      ],
      "text/plain": [
       "[1] 55"
      ]
     },
     "metadata": {},
     "output_type": "display_data"
    }
   ],
   "source": [
    "# Check for linear combinations\n",
    "linear_combos <- findLinearCombos(edge_spec_features[,use_ft])\n",
    "drop_linear_combos <- linear_combos$remove\n",
    "\n",
    "# update use_ft to not include linear combination features\n",
    "use_ft[use_ft == TRUE][drop_linear_combos] <- FALSE\n",
    "\n",
    "# What is the number of features retained?\n",
    "sum(use_ft)"
   ]
  },
  {
   "cell_type": "markdown",
   "id": "641c8cd4",
   "metadata": {
    "papermill": {
     "duration": 0.011245,
     "end_time": "2023-10-19T02:12:06.092327",
     "exception": false,
     "start_time": "2023-10-19T02:12:06.081082",
     "status": "completed"
    },
    "tags": []
   },
   "source": [
    "## 4.5 Binding raw pixel, edge, and spectral features\n",
    "\n",
    "Now that we have identified informative and usable features from both our raw pixels, edge features, and spectral features, we can combine these into one matrix."
   ]
  },
  {
   "cell_type": "code",
   "execution_count": 24,
   "id": "49e068f9",
   "metadata": {
    "execution": {
     "iopub.execute_input": "2023-10-19T02:12:06.119068Z",
     "iopub.status.busy": "2023-10-19T02:12:06.117784Z",
     "iopub.status.idle": "2023-10-19T02:12:06.178702Z",
     "shell.execute_reply": "2023-10-19T02:12:06.177253Z"
    },
    "papermill": {
     "duration": 0.075988,
     "end_time": "2023-10-19T02:12:06.180395",
     "exception": false,
     "start_time": "2023-10-19T02:12:06.104407",
     "status": "completed"
    },
    "tags": []
   },
   "outputs": [
    {
     "data": {
      "text/html": [
       "<table class=\"dataframe\">\n",
       "<caption>A matrix: 6 × 882 of type dbl</caption>\n",
       "<thead>\n",
       "\t<tr><th></th><th scope=col>p1</th><th scope=col>p2</th><th scope=col>p3</th><th scope=col>p4</th><th scope=col>p5</th><th scope=col>p6</th><th scope=col>p31</th><th scope=col>p43</th><th scope=col>p44</th><th scope=col>p45</th><th scope=col>⋯</th><th scope=col>25quantile_d2.25%</th><th scope=col>75quantile_d2.75%</th><th scope=col>min_d2</th><th scope=col>max_d2</th><th scope=col>spectral_entropy</th><th scope=col>spectral_peak</th><th scope=col>spectral_mean</th><th scope=col>spectral_sd</th><th scope=col>spectral_median</th><th scope=col>spectral_kurt</th></tr>\n",
       "</thead>\n",
       "<tbody>\n",
       "\t<tr><th scope=row>anger/S010_004_00000018a.png</th><td>0.06666667</td><td>0.04705882</td><td>0.03529412</td><td>0.01960784</td><td>0.03137255</td><td>0.05490196</td><td>0.49411765</td><td>0.7843137</td><td>0.8078431</td><td>0.8627451</td><td>⋯</td><td>-0.01960784</td><td>0.01960784</td><td>-0.2784314</td><td>0.4078431</td><td>0.1192106</td><td>0.0004340278</td><td>0.001477388</td><td>0.01357745</td><td>0.1367595</td><td>333.0694</td></tr>\n",
       "\t<tr><th scope=row>anger/S010_004_00000018b.png</th><td>0.06274510</td><td>0.07058824</td><td>0.07058824</td><td>0.05490196</td><td>0.03921569</td><td>0.03921569</td><td>0.02745098</td><td>0.8862745</td><td>0.8784314</td><td>0.8745098</td><td>⋯</td><td>-0.01568627</td><td>0.01568627</td><td>-0.3764706</td><td>0.4274510</td><td>0.1426195</td><td>0.0004340278</td><td>0.002093464</td><td>0.01968848</td><td>0.1259488</td><td>284.6838</td></tr>\n",
       "\t<tr><th scope=row>anger/S010_004_00000018c.png</th><td>0.00000000</td><td>0.04705882</td><td>0.04705882</td><td>0.05882353</td><td>0.07058824</td><td>0.08235294</td><td>0.20392157</td><td>0.7803922</td><td>0.8352941</td><td>0.8705882</td><td>⋯</td><td>-0.01568627</td><td>0.01960784</td><td>-0.3568627</td><td>0.3450980</td><td>0.1191358</td><td>0.0416666667</td><td>0.002526994</td><td>0.02039762</td><td>0.2166380</td><td>215.4078</td></tr>\n",
       "\t<tr><th scope=row>anger/S010_004_00000018d.png</th><td>1.00000000</td><td>0.94901961</td><td>0.02352941</td><td>0.04313725</td><td>0.02745098</td><td>0.02745098</td><td>0.45098039</td><td>0.1764706</td><td>0.6705882</td><td>0.7725490</td><td>⋯</td><td>-0.01568627</td><td>0.01568627</td><td>-0.3333333</td><td>0.3176471</td><td>0.1063805</td><td>0.0004340278</td><td>0.001937060</td><td>0.01869239</td><td>0.1082079</td><td>295.2168</td></tr>\n",
       "\t<tr><th scope=row>anger/S010_004_00000018e.png</th><td>1.00000000</td><td>1.00000000</td><td>1.00000000</td><td>1.00000000</td><td>1.00000000</td><td>1.00000000</td><td>1.00000000</td><td>1.0000000</td><td>1.0000000</td><td>1.0000000</td><td>⋯</td><td>-0.01960784</td><td>0.01960784</td><td>-0.9333333</td><td>0.4509804</td><td>0.1507307</td><td>0.0004340278</td><td>0.002966747</td><td>0.02289131</td><td>0.2209549</td><td>232.8463</td></tr>\n",
       "\t<tr><th scope=row>anger/S010_004_00000018f.png</th><td>1.00000000</td><td>1.00000000</td><td>1.00000000</td><td>1.00000000</td><td>1.00000000</td><td>1.00000000</td><td>0.99607843</td><td>0.4000000</td><td>0.6745098</td><td>0.8196078</td><td>⋯</td><td>-0.01568627</td><td>0.01960784</td><td>-0.8470588</td><td>0.2901961</td><td>0.1303368</td><td>0.0004340278</td><td>0.002793380</td><td>0.02090679</td><td>0.2344349</td><td>247.0783</td></tr>\n",
       "</tbody>\n",
       "</table>\n"
      ],
      "text/latex": [
       "A matrix: 6 × 882 of type dbl\n",
       "\\begin{tabular}{r|lllllllllllllllllllll}\n",
       "  & p1 & p2 & p3 & p4 & p5 & p6 & p31 & p43 & p44 & p45 & ⋯ & 25quantile\\_d2.25\\% & 75quantile\\_d2.75\\% & min\\_d2 & max\\_d2 & spectral\\_entropy & spectral\\_peak & spectral\\_mean & spectral\\_sd & spectral\\_median & spectral\\_kurt\\\\\n",
       "\\hline\n",
       "\tanger/S010\\_004\\_00000018a.png & 0.06666667 & 0.04705882 & 0.03529412 & 0.01960784 & 0.03137255 & 0.05490196 & 0.49411765 & 0.7843137 & 0.8078431 & 0.8627451 & ⋯ & -0.01960784 & 0.01960784 & -0.2784314 & 0.4078431 & 0.1192106 & 0.0004340278 & 0.001477388 & 0.01357745 & 0.1367595 & 333.0694\\\\\n",
       "\tanger/S010\\_004\\_00000018b.png & 0.06274510 & 0.07058824 & 0.07058824 & 0.05490196 & 0.03921569 & 0.03921569 & 0.02745098 & 0.8862745 & 0.8784314 & 0.8745098 & ⋯ & -0.01568627 & 0.01568627 & -0.3764706 & 0.4274510 & 0.1426195 & 0.0004340278 & 0.002093464 & 0.01968848 & 0.1259488 & 284.6838\\\\\n",
       "\tanger/S010\\_004\\_00000018c.png & 0.00000000 & 0.04705882 & 0.04705882 & 0.05882353 & 0.07058824 & 0.08235294 & 0.20392157 & 0.7803922 & 0.8352941 & 0.8705882 & ⋯ & -0.01568627 & 0.01960784 & -0.3568627 & 0.3450980 & 0.1191358 & 0.0416666667 & 0.002526994 & 0.02039762 & 0.2166380 & 215.4078\\\\\n",
       "\tanger/S010\\_004\\_00000018d.png & 1.00000000 & 0.94901961 & 0.02352941 & 0.04313725 & 0.02745098 & 0.02745098 & 0.45098039 & 0.1764706 & 0.6705882 & 0.7725490 & ⋯ & -0.01568627 & 0.01568627 & -0.3333333 & 0.3176471 & 0.1063805 & 0.0004340278 & 0.001937060 & 0.01869239 & 0.1082079 & 295.2168\\\\\n",
       "\tanger/S010\\_004\\_00000018e.png & 1.00000000 & 1.00000000 & 1.00000000 & 1.00000000 & 1.00000000 & 1.00000000 & 1.00000000 & 1.0000000 & 1.0000000 & 1.0000000 & ⋯ & -0.01960784 & 0.01960784 & -0.9333333 & 0.4509804 & 0.1507307 & 0.0004340278 & 0.002966747 & 0.02289131 & 0.2209549 & 232.8463\\\\\n",
       "\tanger/S010\\_004\\_00000018f.png & 1.00000000 & 1.00000000 & 1.00000000 & 1.00000000 & 1.00000000 & 1.00000000 & 0.99607843 & 0.4000000 & 0.6745098 & 0.8196078 & ⋯ & -0.01568627 & 0.01960784 & -0.8470588 & 0.2901961 & 0.1303368 & 0.0004340278 & 0.002793380 & 0.02090679 & 0.2344349 & 247.0783\\\\\n",
       "\\end{tabular}\n"
      ],
      "text/markdown": [
       "\n",
       "A matrix: 6 × 882 of type dbl\n",
       "\n",
       "| <!--/--> | p1 | p2 | p3 | p4 | p5 | p6 | p31 | p43 | p44 | p45 | ⋯ | 25quantile_d2.25% | 75quantile_d2.75% | min_d2 | max_d2 | spectral_entropy | spectral_peak | spectral_mean | spectral_sd | spectral_median | spectral_kurt |\n",
       "|---|---|---|---|---|---|---|---|---|---|---|---|---|---|---|---|---|---|---|---|---|---|\n",
       "| anger/S010_004_00000018a.png | 0.06666667 | 0.04705882 | 0.03529412 | 0.01960784 | 0.03137255 | 0.05490196 | 0.49411765 | 0.7843137 | 0.8078431 | 0.8627451 | ⋯ | -0.01960784 | 0.01960784 | -0.2784314 | 0.4078431 | 0.1192106 | 0.0004340278 | 0.001477388 | 0.01357745 | 0.1367595 | 333.0694 |\n",
       "| anger/S010_004_00000018b.png | 0.06274510 | 0.07058824 | 0.07058824 | 0.05490196 | 0.03921569 | 0.03921569 | 0.02745098 | 0.8862745 | 0.8784314 | 0.8745098 | ⋯ | -0.01568627 | 0.01568627 | -0.3764706 | 0.4274510 | 0.1426195 | 0.0004340278 | 0.002093464 | 0.01968848 | 0.1259488 | 284.6838 |\n",
       "| anger/S010_004_00000018c.png | 0.00000000 | 0.04705882 | 0.04705882 | 0.05882353 | 0.07058824 | 0.08235294 | 0.20392157 | 0.7803922 | 0.8352941 | 0.8705882 | ⋯ | -0.01568627 | 0.01960784 | -0.3568627 | 0.3450980 | 0.1191358 | 0.0416666667 | 0.002526994 | 0.02039762 | 0.2166380 | 215.4078 |\n",
       "| anger/S010_004_00000018d.png | 1.00000000 | 0.94901961 | 0.02352941 | 0.04313725 | 0.02745098 | 0.02745098 | 0.45098039 | 0.1764706 | 0.6705882 | 0.7725490 | ⋯ | -0.01568627 | 0.01568627 | -0.3333333 | 0.3176471 | 0.1063805 | 0.0004340278 | 0.001937060 | 0.01869239 | 0.1082079 | 295.2168 |\n",
       "| anger/S010_004_00000018e.png | 1.00000000 | 1.00000000 | 1.00000000 | 1.00000000 | 1.00000000 | 1.00000000 | 1.00000000 | 1.0000000 | 1.0000000 | 1.0000000 | ⋯ | -0.01960784 | 0.01960784 | -0.9333333 | 0.4509804 | 0.1507307 | 0.0004340278 | 0.002966747 | 0.02289131 | 0.2209549 | 232.8463 |\n",
       "| anger/S010_004_00000018f.png | 1.00000000 | 1.00000000 | 1.00000000 | 1.00000000 | 1.00000000 | 1.00000000 | 0.99607843 | 0.4000000 | 0.6745098 | 0.8196078 | ⋯ | -0.01568627 | 0.01960784 | -0.8470588 | 0.2901961 | 0.1303368 | 0.0004340278 | 0.002793380 | 0.02090679 | 0.2344349 | 247.0783 |\n",
       "\n"
      ],
      "text/plain": [
       "                             p1         p2         p3         p4        \n",
       "anger/S010_004_00000018a.png 0.06666667 0.04705882 0.03529412 0.01960784\n",
       "anger/S010_004_00000018b.png 0.06274510 0.07058824 0.07058824 0.05490196\n",
       "anger/S010_004_00000018c.png 0.00000000 0.04705882 0.04705882 0.05882353\n",
       "anger/S010_004_00000018d.png 1.00000000 0.94901961 0.02352941 0.04313725\n",
       "anger/S010_004_00000018e.png 1.00000000 1.00000000 1.00000000 1.00000000\n",
       "anger/S010_004_00000018f.png 1.00000000 1.00000000 1.00000000 1.00000000\n",
       "                             p5         p6         p31        p43      \n",
       "anger/S010_004_00000018a.png 0.03137255 0.05490196 0.49411765 0.7843137\n",
       "anger/S010_004_00000018b.png 0.03921569 0.03921569 0.02745098 0.8862745\n",
       "anger/S010_004_00000018c.png 0.07058824 0.08235294 0.20392157 0.7803922\n",
       "anger/S010_004_00000018d.png 0.02745098 0.02745098 0.45098039 0.1764706\n",
       "anger/S010_004_00000018e.png 1.00000000 1.00000000 1.00000000 1.0000000\n",
       "anger/S010_004_00000018f.png 1.00000000 1.00000000 0.99607843 0.4000000\n",
       "                             p44       p45       ⋯ 25quantile_d2.25%\n",
       "anger/S010_004_00000018a.png 0.8078431 0.8627451 ⋯ -0.01960784      \n",
       "anger/S010_004_00000018b.png 0.8784314 0.8745098 ⋯ -0.01568627      \n",
       "anger/S010_004_00000018c.png 0.8352941 0.8705882 ⋯ -0.01568627      \n",
       "anger/S010_004_00000018d.png 0.6705882 0.7725490 ⋯ -0.01568627      \n",
       "anger/S010_004_00000018e.png 1.0000000 1.0000000 ⋯ -0.01960784      \n",
       "anger/S010_004_00000018f.png 0.6745098 0.8196078 ⋯ -0.01568627      \n",
       "                             75quantile_d2.75% min_d2     max_d2   \n",
       "anger/S010_004_00000018a.png 0.01960784        -0.2784314 0.4078431\n",
       "anger/S010_004_00000018b.png 0.01568627        -0.3764706 0.4274510\n",
       "anger/S010_004_00000018c.png 0.01960784        -0.3568627 0.3450980\n",
       "anger/S010_004_00000018d.png 0.01568627        -0.3333333 0.3176471\n",
       "anger/S010_004_00000018e.png 0.01960784        -0.9333333 0.4509804\n",
       "anger/S010_004_00000018f.png 0.01960784        -0.8470588 0.2901961\n",
       "                             spectral_entropy spectral_peak spectral_mean\n",
       "anger/S010_004_00000018a.png 0.1192106        0.0004340278  0.001477388  \n",
       "anger/S010_004_00000018b.png 0.1426195        0.0004340278  0.002093464  \n",
       "anger/S010_004_00000018c.png 0.1191358        0.0416666667  0.002526994  \n",
       "anger/S010_004_00000018d.png 0.1063805        0.0004340278  0.001937060  \n",
       "anger/S010_004_00000018e.png 0.1507307        0.0004340278  0.002966747  \n",
       "anger/S010_004_00000018f.png 0.1303368        0.0004340278  0.002793380  \n",
       "                             spectral_sd spectral_median spectral_kurt\n",
       "anger/S010_004_00000018a.png 0.01357745  0.1367595       333.0694     \n",
       "anger/S010_004_00000018b.png 0.01968848  0.1259488       284.6838     \n",
       "anger/S010_004_00000018c.png 0.02039762  0.2166380       215.4078     \n",
       "anger/S010_004_00000018d.png 0.01869239  0.1082079       295.2168     \n",
       "anger/S010_004_00000018e.png 0.02289131  0.2209549       232.8463     \n",
       "anger/S010_004_00000018f.png 0.02090679  0.2344349       247.0783     "
      ]
     },
     "metadata": {},
     "output_type": "display_data"
    }
   ],
   "source": [
    "# Bind all features into one matrix\n",
    "all_features <-  cbind(X[,use_pix], edge_spec_features[,use_ft])\n",
    "all_features_test <- cbind(X_test[,use_pix], edge_spec_features_test[,use_ft])\n",
    "\n",
    "# Inspect data\n",
    "head(all_features)"
   ]
  },
  {
   "cell_type": "markdown",
   "id": "9faca98d",
   "metadata": {
    "papermill": {
     "duration": 0.011394,
     "end_time": "2023-10-19T02:12:06.203297",
     "exception": false,
     "start_time": "2023-10-19T02:12:06.191903",
     "status": "completed"
    },
    "tags": []
   },
   "source": [
    "# 5. Model fitting\n",
    "\n",
    "In section 2.2 Data considerations, we identified several potential models for this classification problem. We fitted several of these models to the data: Classification Trees, Random Forests, k-Nearest Neighbors, Boosted Trees, Multinomial Regression with Lasso and Ridge Regularization, Support Vector Machines and Linear Discriminant Analysis with PCA preprocessing. Each of these models we originally fitted on the raw pixels - both using the full image size and 2x2 pooled image size - as well as on the edge and spectral features. However, for our final notebook we used a dataframe with the raw pixels (full size) and the calculated features combined. We removed the models fitted on the raw pixels and features separately, since these performed worse based on model accuracy estimates. "
   ]
  },
  {
   "cell_type": "markdown",
   "id": "4080a28c",
   "metadata": {
    "papermill": {
     "duration": 0.011293,
     "end_time": "2023-10-19T02:12:06.225912",
     "exception": false,
     "start_time": "2023-10-19T02:12:06.214619",
     "status": "completed"
    },
    "tags": []
   },
   "source": [
    "## 5.1 Splitting train and validation set\n",
    "\n",
    "To standardize our estimation of model accuracy, we decided to apply a validation set approach to all models. We splitted our train data into a train and validation set, and calculated our accuracy on the validation set. \n",
    "\n",
    "Below we sampled 80% of our train data to get our train indices, `train_idx`. The validation set can be indexed by removing rather than selecting train indices."
   ]
  },
  {
   "cell_type": "code",
   "execution_count": 25,
   "id": "b829ab1b",
   "metadata": {
    "execution": {
     "iopub.execute_input": "2023-10-19T02:12:06.251664Z",
     "iopub.status.busy": "2023-10-19T02:12:06.250373Z",
     "iopub.status.idle": "2023-10-19T02:12:06.262349Z",
     "shell.execute_reply": "2023-10-19T02:12:06.261110Z"
    },
    "papermill": {
     "duration": 0.026655,
     "end_time": "2023-10-19T02:12:06.263859",
     "exception": false,
     "start_time": "2023-10-19T02:12:06.237204",
     "status": "completed"
    },
    "tags": []
   },
   "outputs": [],
   "source": [
    "# Create train set indices\n",
    "set.seed(2023) # set seed for reproducibility\n",
    "train_idx <- sample(1:nrow(all_features), # sample from all images\n",
    "                    size = round(0.8 * nrow(all_features))) # take a sample 80% of the full train data"
   ]
  },
  {
   "cell_type": "markdown",
   "id": "1d8e7d6c",
   "metadata": {
    "papermill": {
     "duration": 0.010941,
     "end_time": "2023-10-19T02:12:06.285895",
     "exception": false,
     "start_time": "2023-10-19T02:12:06.274954",
     "status": "completed"
    },
    "tags": []
   },
   "source": [
    "## 5.2 Classification tree models\n",
    "\n",
    "We started by fitting classification tree models, which fit a single tree to the data in order to classify data points into classes. For our final notebook, we fitted a classification tree model on all features combined. We deployed 5-fold cross-validation to tune the complexity parameter. Cross-validation also produces models more robust against over-fitting. "
   ]
  },
  {
   "cell_type": "code",
   "execution_count": 26,
   "id": "ac3d8063",
   "metadata": {
    "execution": {
     "iopub.execute_input": "2023-10-19T02:12:06.310766Z",
     "iopub.status.busy": "2023-10-19T02:12:06.309506Z",
     "iopub.status.idle": "2023-10-19T02:12:06.335422Z",
     "shell.execute_reply": "2023-10-19T02:12:06.334078Z"
    },
    "papermill": {
     "duration": 0.041254,
     "end_time": "2023-10-19T02:12:06.338172",
     "exception": false,
     "start_time": "2023-10-19T02:12:06.296918",
     "status": "completed"
    },
    "tags": []
   },
   "outputs": [],
   "source": [
    "# Use multiple cores whenever possible\n",
    "doMC::registerDoMC(cores = 4) \n",
    "\n",
    "# Train control object for 5-fold cross-validation \n",
    "set.seed(2023)\n",
    "trCntrl <-  trainControl('cv', 5, allowParallel = TRUE)"
   ]
  },
  {
   "cell_type": "code",
   "execution_count": 27,
   "id": "d1323c97",
   "metadata": {
    "execution": {
     "iopub.execute_input": "2023-10-19T02:12:06.364166Z",
     "iopub.status.busy": "2023-10-19T02:12:06.362964Z",
     "iopub.status.idle": "2023-10-19T02:12:10.000021Z",
     "shell.execute_reply": "2023-10-19T02:12:09.998133Z"
    },
    "papermill": {
     "duration": 3.652395,
     "end_time": "2023-10-19T02:12:10.002468",
     "exception": false,
     "start_time": "2023-10-19T02:12:06.350073",
     "status": "completed"
    },
    "tags": []
   },
   "outputs": [
    {
     "data": {
      "text/plain": [
       "CART \n",
       "\n",
       "2030 samples\n",
       " 882 predictor\n",
       "   4 classes: 'anger', 'disgust', 'happy', 'sad' \n",
       "\n",
       "No pre-processing\n",
       "Resampling: Cross-Validated (5 fold) \n",
       "Summary of sample sizes: 1624, 1624, 1624, 1624, 1624 \n",
       "Resampling results:\n",
       "\n",
       "  Accuracy   Kappa    \n",
       "  0.5034483  0.2932734\n",
       "\n",
       "Tuning parameter 'cp' was held constant at a value of 0.02"
      ]
     },
     "metadata": {},
     "output_type": "display_data"
    }
   ],
   "source": [
    "# Classification tree \n",
    "fit_tree <- train(x = all_features[train_idx,], # train model on 80% of samples in the feature matrix\n",
    "                  y = y[train_idx], \n",
    "                  method='rpart',\n",
    "                  trControl = trCntrl, \n",
    "                  tuneGrid = data.frame(cp=.02))\n",
    "# View model\n",
    "fit_tree"
   ]
  },
  {
   "cell_type": "markdown",
   "id": "ddcf8a9e",
   "metadata": {
    "papermill": {
     "duration": 0.011943,
     "end_time": "2023-10-19T02:12:10.025778",
     "exception": false,
     "start_time": "2023-10-19T02:12:10.013835",
     "status": "completed"
    },
    "tags": []
   },
   "source": [
    "Here we view what features the decision tree is using to categorise the images, which can give insights into key features for our models. We can see that both calculated and pixel features are being used by the classification tree."
   ]
  },
  {
   "cell_type": "code",
   "execution_count": 28,
   "id": "09a44ad5",
   "metadata": {
    "execution": {
     "iopub.execute_input": "2023-10-19T02:12:10.052325Z",
     "iopub.status.busy": "2023-10-19T02:12:10.050902Z",
     "iopub.status.idle": "2023-10-19T02:12:10.179152Z",
     "shell.execute_reply": "2023-10-19T02:12:10.176796Z"
    },
    "papermill": {
     "duration": 0.143975,
     "end_time": "2023-10-19T02:12:10.181484",
     "exception": false,
     "start_time": "2023-10-19T02:12:10.037509",
     "status": "completed"
    },
    "tags": []
   },
   "outputs": [
    {
     "data": {
      "text/plain": [
       "n= 2030 \n",
       "\n",
       "node), split, n, loss, yval, (yprob)\n",
       "      * denotes terminal node\n",
       "\n",
       " 1) root 2030 1332 happy (0.22610837 0.29605911 0.34384236 0.13399015)  \n",
       "   2) 75quantile_d2.75%< 0.01960784 1107  707 disgust (0.32610659 0.36133695 0.15718157 0.15537489)  \n",
       "     4) fsf_v.x.ege< 28.46135 596  302 disgust (0.28187919 0.49328859 0.11073826 0.11409396) *\n",
       "     5) fsf_v.x.ege>=28.46135 511  318 anger (0.37769080 0.20743640 0.21135029 0.20352250) *\n",
       "   3) 75quantile_d2.75%>=0.01960784 923  399 happy (0.10617551 0.21776815 0.56771398 0.10834236)  \n",
       "     6) p1617>=0.6647059 524  316 happy (0.15839695 0.31488550 0.39694656 0.12977099)  \n",
       "      12) p1621>=0.5509804 428  268 disgust (0.18224299 0.37383178 0.28971963 0.15420561)  \n",
       "        24) p1532< 0.7392157 224  120 disgust (0.21428571 0.46428571 0.09375000 0.22767857) *\n",
       "        25) p1532>=0.7392157 204  101 happy (0.14705882 0.27450980 0.50490196 0.07352941) *\n",
       "      13) p1621< 0.5509804 96   12 happy (0.05208333 0.05208333 0.87500000 0.02083333) *\n",
       "     7) p1617< 0.6647059 399   83 happy (0.03759398 0.09022556 0.79197995 0.08020050) *"
      ]
     },
     "metadata": {},
     "output_type": "display_data"
    },
    {
     "data": {
      "image/png": "[encoded data removed]"
     },
     "metadata": {
      "image/png": {
       "height": 480,
       "width": 840
      }
     },
     "output_type": "display_data"
    }
   ],
   "source": [
    "## Graphical visualization of the decision tree\n",
    "options(repr.plot.width = 14, repr.plot.height = 8)\n",
    "plot(fit_tree$final, compress = TRUE, uniform = TRUE, margin = 0.05, branch = .75); \n",
    "text(fit_tree$final, cex = 0.8, all = TRUE, use.n = TRUE)\n",
    "\n",
    "## Textual visualization of the decision tree\n",
    "fit_tree$finalModel"
   ]
  },
  {
   "cell_type": "markdown",
   "id": "ece3522b",
   "metadata": {
    "papermill": {
     "duration": 0.015817,
     "end_time": "2023-10-19T02:12:10.210308",
     "exception": false,
     "start_time": "2023-10-19T02:12:10.194491",
     "status": "completed"
    },
    "tags": []
   },
   "source": [
    "## 5.3 Random Forest\n",
    "\n",
    "Classification trees use a single decision tree for classification, making it sensitive to overfitting. With Random Forests multiple different decision trees are used to make the predictions, making it less sensitive to overfitting. We fitted a random forest model to our combined features data using 5-fold cross-validation to get a more robust estimate of the model's performance."
   ]
  },
  {
   "cell_type": "code",
   "execution_count": 29,
   "id": "2746ea21",
   "metadata": {
    "execution": {
     "iopub.execute_input": "2023-10-19T02:12:10.239861Z",
     "iopub.status.busy": "2023-10-19T02:12:10.238302Z",
     "iopub.status.idle": "2023-10-19T02:12:10.252066Z",
     "shell.execute_reply": "2023-10-19T02:12:10.250802Z"
    },
    "papermill": {
     "duration": 0.03006,
     "end_time": "2023-10-19T02:12:10.254286",
     "exception": false,
     "start_time": "2023-10-19T02:12:10.224226",
     "status": "completed"
    },
    "tags": []
   },
   "outputs": [],
   "source": [
    "# TrainControl object for 5-fold cross-validation \n",
    "set.seed(2023)\n",
    "trControl_rf <- trainControl(method = \"cv\",      # Cross-validation\n",
    "                             number = 5,         # 5-fold\n",
    "                             verboseIter = TRUE, # Display progress\n",
    "                             allowParallel = TRUE)"
   ]
  },
  {
   "cell_type": "code",
   "execution_count": 30,
   "id": "7e455b5c",
   "metadata": {
    "execution": {
     "iopub.execute_input": "2023-10-19T02:12:10.282030Z",
     "iopub.status.busy": "2023-10-19T02:12:10.280843Z",
     "iopub.status.idle": "2023-10-19T02:14:38.656180Z",
     "shell.execute_reply": "2023-10-19T02:14:38.654933Z"
    },
    "papermill": {
     "duration": 148.40546,
     "end_time": "2023-10-19T02:14:38.672328",
     "exception": false,
     "start_time": "2023-10-19T02:12:10.266868",
     "status": "completed"
    },
    "tags": []
   },
   "outputs": [
    {
     "name": "stdout",
     "output_type": "stream",
     "text": [
      "Aggregating results\n",
      "Fitting final model on full training set\n"
     ]
    },
    {
     "data": {
      "text/plain": [
       "\n",
       "Call:\n",
       " randomForest(x = x, y = y, mtry = param$mtry) \n",
       "               Type of random forest: classification\n",
       "                     Number of trees: 500\n",
       "No. of variables tried at each split: 9\n",
       "\n",
       "        OOB estimate of  error rate: 13.55%\n",
       "Confusion matrix:\n",
       "        anger disgust happy sad class.error\n",
       "anger     352      81    15  11  0.23311547\n",
       "disgust    27     531    41   2  0.11647255\n",
       "happy       1       6   691   0  0.01002865\n",
       "sad        39      49     3 181  0.33455882"
      ]
     },
     "metadata": {},
     "output_type": "display_data"
    }
   ],
   "source": [
    "# Random forest with CV \n",
    "fit_rf_cv <- train(x = all_features[train_idx,], \n",
    "                   y = y[train_idx], method = 'rf', \n",
    "                   trControl = trControl_rf, \n",
    "                   tuneGrid = data.frame(mtry = 9))\n",
    "\n",
    "# View model\n",
    "fit_rf_cv$finalModel"
   ]
  },
  {
   "cell_type": "markdown",
   "id": "c9ef5784",
   "metadata": {
    "papermill": {
     "duration": 0.012702,
     "end_time": "2023-10-19T02:14:38.697409",
     "exception": false,
     "start_time": "2023-10-19T02:14:38.684707",
     "status": "completed"
    },
    "tags": []
   },
   "source": [
    "## 5.4 KNN\n",
    "\n",
    "As opposed to classification trees and random forests, k-Nearest Neighbors classifies points to a class to which it's K nearest neighbors also (mostly) belong. We wanted to investigate the classification of this model and compare it to the other models. We fitted KNN models to the data in which we standardized the features, to ensure that some features do not have a greater influence on the model's calculations than others. Again, we used 5-fold cross-validation on this model. "
   ]
  },
  {
   "cell_type": "code",
   "execution_count": 31,
   "id": "3988fd88",
   "metadata": {
    "execution": {
     "iopub.execute_input": "2023-10-19T02:14:38.725395Z",
     "iopub.status.busy": "2023-10-19T02:14:38.724179Z",
     "iopub.status.idle": "2023-10-19T02:14:55.948603Z",
     "shell.execute_reply": "2023-10-19T02:14:55.946218Z"
    },
    "papermill": {
     "duration": 17.242163,
     "end_time": "2023-10-19T02:14:55.951973",
     "exception": false,
     "start_time": "2023-10-19T02:14:38.709810",
     "status": "completed"
    },
    "tags": []
   },
   "outputs": [
    {
     "data": {
      "text/plain": [
       "k-Nearest Neighbors \n",
       "\n",
       "2030 samples\n",
       " 882 predictor\n",
       "   4 classes: 'anger', 'disgust', 'happy', 'sad' \n",
       "\n",
       "Pre-processing: scaled (882) \n",
       "Resampling: Cross-Validated (5 fold) \n",
       "Summary of sample sizes: 1624, 1624, 1624, 1624, 1624 \n",
       "Resampling results across tuning parameters:\n",
       "\n",
       "  k  Accuracy   Kappa    \n",
       "  5  0.6088670  0.4578529\n",
       "  7  0.6246305  0.4793672\n",
       "  9  0.6334975  0.4899707\n",
       "\n",
       "Accuracy was used to select the optimal model using the largest value.\n",
       "The final value used for the model was k = 9."
      ]
     },
     "metadata": {},
     "output_type": "display_data"
    }
   ],
   "source": [
    "# Set seed for reproducibility\n",
    "set.seed(2023)\n",
    "\n",
    "# KNN with scaling the features \n",
    "fit_knns <- train(all_features[train_idx,], \n",
    "                  y[train_idx], \n",
    "                  method = 'knn', \n",
    "                  trControl = trCntrl, \n",
    "                  preProcess = \"scale\")\n",
    "# View model\n",
    "fit_knns"
   ]
  },
  {
   "cell_type": "markdown",
   "id": "b776b4fe",
   "metadata": {
    "papermill": {
     "duration": 0.012347,
     "end_time": "2023-10-19T02:14:55.982120",
     "exception": false,
     "start_time": "2023-10-19T02:14:55.969773",
     "status": "completed"
    },
    "tags": []
   },
   "source": [
    "## 5.5 Boosted tree\n",
    "\n",
    "Boosted trees expand on random forests in that they also use multiple decision trees, but boosted trees build these trees in a sequential manner. This (potentially) leads to a better model performance, though boosted trees are also more prone to overfitting. We used 5-fold cross-validation in fitting the boosted tree model. "
   ]
  },
  {
   "cell_type": "code",
   "execution_count": 32,
   "id": "d5749c0d",
   "metadata": {
    "execution": {
     "iopub.execute_input": "2023-10-19T02:14:56.019269Z",
     "iopub.status.busy": "2023-10-19T02:14:56.017851Z",
     "iopub.status.idle": "2023-10-19T02:28:55.551208Z",
     "shell.execute_reply": "2023-10-19T02:28:55.549356Z"
    },
    "papermill": {
     "duration": 839.569685,
     "end_time": "2023-10-19T02:28:55.567774",
     "exception": false,
     "start_time": "2023-10-19T02:14:55.998089",
     "status": "completed"
    },
    "tags": []
   },
   "outputs": [
    {
     "data": {
      "text/plain": [
       "eXtreme Gradient Boosting \n",
       "\n",
       "2030 samples\n",
       " 882 predictor\n",
       "   4 classes: 'anger', 'disgust', 'happy', 'sad' \n",
       "\n",
       "No pre-processing\n",
       "Resampling: Cross-Validated (5 fold) \n",
       "Summary of sample sizes: 1624, 1624, 1624, 1624, 1624 \n",
       "Resampling results:\n",
       "\n",
       "  Accuracy   Kappa    \n",
       "  0.9147783  0.8821889\n",
       "\n",
       "Tuning parameter 'nrounds' was held constant at a value of 600\n",
       "Tuning\n",
       " held constant at a value of 1\n",
       "Tuning parameter 'subsample' was held\n",
       " constant at a value of 1"
      ]
     },
     "metadata": {},
     "output_type": "display_data"
    }
   ],
   "source": [
    "# Set seed for reproducibility\n",
    "set.seed(2023)  \n",
    "\n",
    "# boosted tree \n",
    "fit_xgb = train(x = all_features[train_idx,], \n",
    "                y = y[train_idx], method = \"xgbTree\", \n",
    "                trControl = trCntrl, \n",
    "                tuneGrid = data.frame(nrounds = 600, \n",
    "                                      max_depth = 4, \n",
    "                                      eta = .3, \n",
    "                                      gamma = 0, \n",
    "                                      colsample_bytree = 0.95, \n",
    "                                      min_child_weight = 1, \n",
    "                                      subsample = 1))\n",
    "# View model\n",
    "fit_xgb"
   ]
  },
  {
   "cell_type": "markdown",
   "id": "85b6e5f0",
   "metadata": {
    "papermill": {
     "duration": 0.017441,
     "end_time": "2023-10-19T02:28:55.604806",
     "exception": false,
     "start_time": "2023-10-19T02:28:55.587365",
     "status": "completed"
    },
    "tags": []
   },
   "source": [
    "## 5.6 Multinomial regression\n",
    "### 5.6.1 Lasso regression\n",
    "\n",
    "We fitted a multinomial regression model with a Lasso penalty on the combined (raw pixels and features) data. Lasso shrinks coefficients of unimportant features in the model to exactly zero. This method reduces the amount of features used by the model, which is helpful in our case, since due to the raw pixel features included we have around 800 features."
   ]
  },
  {
   "cell_type": "code",
   "execution_count": 33,
   "id": "70a01fc8",
   "metadata": {
    "execution": {
     "iopub.execute_input": "2023-10-19T02:28:55.640913Z",
     "iopub.status.busy": "2023-10-19T02:28:55.639582Z",
     "iopub.status.idle": "2023-10-19T02:29:16.932724Z",
     "shell.execute_reply": "2023-10-19T02:29:16.931256Z"
    },
    "papermill": {
     "duration": 21.311697,
     "end_time": "2023-10-19T02:29:16.935497",
     "exception": false,
     "start_time": "2023-10-19T02:28:55.623800",
     "status": "completed"
    },
    "tags": []
   },
   "outputs": [
    {
     "name": "stderr",
     "output_type": "stream",
     "text": [
      "Loading required package: Matrix\n",
      "\n",
      "\n",
      "Attaching package: ‘Matrix’\n",
      "\n",
      "\n",
      "The following objects are masked from ‘package:tidyr’:\n",
      "\n",
      "    expand, pack, unpack\n",
      "\n",
      "\n",
      "Loaded glmnet 4.1-7\n",
      "\n"
     ]
    },
    {
     "data": {
      "image/png": "[encoded data removed]"
     },
     "metadata": {
      "image/png": {
       "height": 480,
       "width": 840
      }
     },
     "output_type": "display_data"
    }
   ],
   "source": [
    "# Lasso multinomial regression \n",
    "set.seed(2023)\n",
    "fit_lasso <- glmnet::cv.glmnet(all_features[train_idx,], \n",
    "                                 y[train_idx], \n",
    "                                 family = \"multinomial\",\n",
    "                                 nfolds = 5, # 5 fold cross-validation\n",
    "                                 alpha = 1, \n",
    "                                 type.measure = \"class\",\n",
    "                                 parallel = TRUE,\n",
    "                                 standardize = TRUE)\n",
    "# Plot model\n",
    "plot(fit_lasso)"
   ]
  },
  {
   "cell_type": "markdown",
   "id": "3c78ce76",
   "metadata": {
    "papermill": {
     "duration": 0.014643,
     "end_time": "2023-10-19T02:29:16.964501",
     "exception": false,
     "start_time": "2023-10-19T02:29:16.949858",
     "status": "completed"
    },
    "tags": []
   },
   "source": [
    "### 5.7.2 Ridge regression\n",
    "\n",
    "We also fitted a multinomial regression model with a Ridge penalty on the combined (raw pixels and features) data. Ridge shrinks coefficients of unimportant features towards zero, though these coefficients will never be exactly zero."
   ]
  },
  {
   "cell_type": "code",
   "execution_count": 34,
   "id": "77c0b50a",
   "metadata": {
    "execution": {
     "iopub.execute_input": "2023-10-19T02:29:16.996610Z",
     "iopub.status.busy": "2023-10-19T02:29:16.995243Z",
     "iopub.status.idle": "2023-10-19T02:29:35.370105Z",
     "shell.execute_reply": "2023-10-19T02:29:35.368185Z"
    },
    "papermill": {
     "duration": 18.393759,
     "end_time": "2023-10-19T02:29:35.372635",
     "exception": false,
     "start_time": "2023-10-19T02:29:16.978876",
     "status": "completed"
    },
    "tags": []
   },
   "outputs": [
    {
     "data": {
      "image/png": "[encoded data removed]"
     },
     "metadata": {
      "image/png": {
       "height": 480,
       "width": 840
      }
     },
     "output_type": "display_data"
    }
   ],
   "source": [
    "# Ridge multinomial regression\n",
    "set.seed(123)\n",
    "fit_ridge <- glmnet::cv.glmnet(all_features[train_idx,], \n",
    "                               y[train_idx], \n",
    "                               family = \"multinomial\",\n",
    "                               nfolds = 5,\n",
    "                               alpha = 0, \n",
    "                               type.measure = \"class\",\n",
    "                               parallel = TRUE,\n",
    "                               standardize = TRUE)\n",
    "\n",
    "# Plot model\n",
    "plot(fit_ridge)"
   ]
  },
  {
   "cell_type": "markdown",
   "id": "c72c85bd",
   "metadata": {
    "papermill": {
     "duration": 0.013772,
     "end_time": "2023-10-19T02:29:35.401534",
     "exception": false,
     "start_time": "2023-10-19T02:29:35.387762",
     "status": "completed"
    },
    "tags": []
   },
   "source": [
    "## 5.8 Support Vector Machine\n",
    "\n",
    "We fitted a support vector machine to the combined (raw pixels and features) data. SVMs classifies the data into classes by determining the optimal hyperplane that separates the data points. We tried several different kernels: linear, sigmoid and radial, although we only included the best performing of these in the final notebook for computation time reasons. The SVM with the radial kernel had the best performance, which makes sense because there are non-linear relationships in the data and the boundary between classes is therefore more complex, which the radial kernel can capture well. Also with this model we adopted 5-fold cross-validation. "
   ]
  },
  {
   "cell_type": "code",
   "execution_count": 35,
   "id": "7741b3ce",
   "metadata": {
    "execution": {
     "iopub.execute_input": "2023-10-19T02:29:35.432829Z",
     "iopub.status.busy": "2023-10-19T02:29:35.431622Z",
     "iopub.status.idle": "2023-10-19T02:40:04.301838Z",
     "shell.execute_reply": "2023-10-19T02:40:04.299931Z"
    },
    "papermill": {
     "duration": 628.922218,
     "end_time": "2023-10-19T02:40:04.337914",
     "exception": false,
     "start_time": "2023-10-19T02:29:35.415696",
     "status": "completed"
    },
    "tags": []
   },
   "outputs": [
    {
     "data": {
      "text/plain": [
       "Support Vector Machines with Radial Basis Function Kernel \n",
       "\n",
       "2030 samples\n",
       " 882 predictor\n",
       "   4 classes: 'anger', 'disgust', 'happy', 'sad' \n",
       "\n",
       "Pre-processing: centered (882), scaled (882) \n",
       "Resampling: Bootstrapped (25 reps) \n",
       "Summary of sample sizes: 2030, 2030, 2030, 2030, 2030, 2030, ... \n",
       "Resampling results across tuning parameters:\n",
       "\n",
       "  C       Accuracy   Kappa    \n",
       "    0.25  0.7268345  0.6129013\n",
       "    0.50  0.8182080  0.7459770\n",
       "    1.00  0.8689307  0.8178687\n",
       "    2.00  0.8980110  0.8586548\n",
       "    4.00  0.9160189  0.8837816\n",
       "    8.00  0.9207154  0.8903381\n",
       "   16.00  0.9198640  0.8891762\n",
       "   32.00  0.9198538  0.8891594\n",
       "   64.00  0.9198538  0.8891594\n",
       "  128.00  0.9198538  0.8891594\n",
       "\n",
       "Tuning parameter 'sigma' was held constant at a value of 0.0006778483\n",
       "Accuracy was used to select the optimal model using the largest value.\n",
       "The final values used for the model were sigma = 0.0006778483 and C = 8."
      ]
     },
     "metadata": {},
     "output_type": "display_data"
    }
   ],
   "source": [
    "# Set seed for reproducibility\n",
    "set.seed(2023)\n",
    "\n",
    "# Support vector machine \n",
    "fit_svm <- train(x = all_features[train_idx,], \n",
    "                  y = y[train_idx], \n",
    "                  method = \"svmRadial\", \n",
    "                  trCntrl = trCntrl,\n",
    "                  preProcess = c(\"center\",\"scale\"), \n",
    "                  tuneLength = 10)\n",
    "# View model\n",
    "fit_svm "
   ]
  },
  {
   "cell_type": "markdown",
   "id": "43824e7d",
   "metadata": {
    "papermill": {
     "duration": 0.014892,
     "end_time": "2023-10-19T02:40:04.388264",
     "exception": false,
     "start_time": "2023-10-19T02:40:04.373372",
     "status": "completed"
    },
    "tags": []
   },
   "source": [
    "## 5.9 LDA with PCA\n",
    "\n",
    "Lastly, we did a Linear Discriminant Analysis of our combined (raw pixels and features) data with dimension reduction by means of Principal Component Analysis as a preprocessing step. Though our data is presumably not linearly separable, we were still interested in the outcomes this model would produce. We fitted the LDA model using 5-fold cross-validation. "
   ]
  },
  {
   "cell_type": "code",
   "execution_count": 36,
   "id": "a54e10c0",
   "metadata": {
    "execution": {
     "iopub.execute_input": "2023-10-19T02:40:04.421535Z",
     "iopub.status.busy": "2023-10-19T02:40:04.420469Z",
     "iopub.status.idle": "2023-10-19T02:40:09.802597Z",
     "shell.execute_reply": "2023-10-19T02:40:09.799744Z"
    },
    "papermill": {
     "duration": 5.401268,
     "end_time": "2023-10-19T02:40:09.804856",
     "exception": false,
     "start_time": "2023-10-19T02:40:04.403588",
     "status": "completed"
    },
    "tags": []
   },
   "outputs": [
    {
     "data": {
      "text/plain": [
       "Linear Discriminant Analysis \n",
       "\n",
       "2030 samples\n",
       " 882 predictor\n",
       "   4 classes: 'anger', 'disgust', 'happy', 'sad' \n",
       "\n",
       "Pre-processing: principal component signal extraction (882), centered\n",
       " (882), scaled (882) \n",
       "Resampling: Cross-Validated (5 fold) \n",
       "Summary of sample sizes: 1624, 1624, 1624, 1624, 1624 \n",
       "Resampling results:\n",
       "\n",
       "  Accuracy  Kappa    \n",
       "  0.820197  0.7520987\n"
      ]
     },
     "metadata": {},
     "output_type": "display_data"
    }
   ],
   "source": [
    "# Set seed for reproducibility\n",
    "set.seed(2023)  \n",
    "\n",
    "# Fit LDA\n",
    "fit_lda <- train(x = all_features[train_idx,], \n",
    "                 y = y[train_idx], # y_sample as factor \n",
    "                 method = 'lda', \n",
    "                 trControl = trCntrl,\n",
    "                 preProcess = \"pca\")\n",
    "# View model\n",
    "fit_lda"
   ]
  },
  {
   "cell_type": "markdown",
   "id": "ff1425d7",
   "metadata": {
    "papermill": {
     "duration": 0.024422,
     "end_time": "2023-10-19T02:40:09.854218",
     "exception": false,
     "start_time": "2023-10-19T02:40:09.829796",
     "status": "completed"
    },
    "tags": []
   },
   "source": [
    "## 5.10 Model performance on training set\n",
    "\n",
    "After fitting all of these models, we wanted to know how well the models do in terms of predicting the correct class labels for the training data. Therefore we calculated the accuracies of the models and made a comparison plot below. \n",
    "\n",
    "We first created accuracy functions `acc_caret` and `acc_glmnet`, which calculate the predictive accuracy of our models on the validation set for models fitted with the caret and glmnet package respectively. "
   ]
  },
  {
   "cell_type": "code",
   "execution_count": 37,
   "id": "a1e29536",
   "metadata": {
    "execution": {
     "iopub.execute_input": "2023-10-19T02:40:09.896053Z",
     "iopub.status.busy": "2023-10-19T02:40:09.894833Z",
     "iopub.status.idle": "2023-10-19T02:40:09.909083Z",
     "shell.execute_reply": "2023-10-19T02:40:09.907465Z"
    },
    "papermill": {
     "duration": 0.032811,
     "end_time": "2023-10-19T02:40:09.910922",
     "exception": false,
     "start_time": "2023-10-19T02:40:09.878111",
     "status": "completed"
    },
    "tags": []
   },
   "outputs": [],
   "source": [
    "# Create accuracy function for caret models\n",
    "acc_caret <- function(model) {\n",
    "    pred = predict(model, all_features[-train_idx,])\n",
    "    acc = mean(pred == y[-train_idx])\n",
    "    return(acc)\n",
    "}\n",
    "\n",
    "# Create accuracy function for glmnet models\n",
    "acc_glmnet <- function(model) {\n",
    "    pred = predict(model, all_features[-train_idx,],\n",
    "                   s = \"lambda.min\", type='class') %>%\n",
    "    factor()\n",
    "    acc = mean(pred == factor(y[-train_idx]))\n",
    "    return(acc)\n",
    "    }"
   ]
  },
  {
   "cell_type": "markdown",
   "id": "5faf8429",
   "metadata": {
    "papermill": {
     "duration": 0.015003,
     "end_time": "2023-10-19T02:40:09.940952",
     "exception": false,
     "start_time": "2023-10-19T02:40:09.925949",
     "status": "completed"
    },
    "tags": []
   },
   "source": [
    "Next we extracted the model accuracies using these functions and combined them together. We then plotted the accuracies for easy comparison of our models' performances."
   ]
  },
  {
   "cell_type": "code",
   "execution_count": 38,
   "id": "c9d55f79",
   "metadata": {
    "execution": {
     "iopub.execute_input": "2023-10-19T02:40:09.974615Z",
     "iopub.status.busy": "2023-10-19T02:40:09.973162Z",
     "iopub.status.idle": "2023-10-19T02:40:14.923707Z",
     "shell.execute_reply": "2023-10-19T02:40:14.921078Z"
    },
    "papermill": {
     "duration": 4.97029,
     "end_time": "2023-10-19T02:40:14.926250",
     "exception": false,
     "start_time": "2023-10-19T02:40:09.955960",
     "status": "completed"
    },
    "tags": []
   },
   "outputs": [
    {
     "data": {
      "image/png": "[encoded data removed]"
     },
     "metadata": {
      "image/png": {
       "height": 480,
       "width": 420
      }
     },
     "output_type": "display_data"
    }
   ],
   "source": [
    "# Create list of caret models\n",
    "models_caret <- list(c_tree = fit_tree,\n",
    "                     rf_cv = fit_rf_cv,\n",
    "                     knns = fit_knns,\n",
    "                     xgb = fit_xgb,\n",
    "                     svm = fit_svm,\n",
    "                     lda = fit_lda)\n",
    "\n",
    "# Create list of glmnet models \n",
    "models_glmnet <- list(lasso = fit_lasso, \n",
    "                      ridge = fit_ridge)\n",
    "\n",
    "# calculate accuracies for all models \n",
    "accuracies_caret <- sapply(models_caret, acc_caret)\n",
    "accuracies_glmnet <- sapply(models_glmnet, acc_glmnet)\n",
    "\n",
    "# merge model accuracies\n",
    "accuracies <- c(accuracies_caret, accuracies_glmnet) %>%\n",
    "                sort()\n",
    "\n",
    "# Plot model accuracies\n",
    "options(repr.plot.width = 7)\n",
    "pos = barplot(accuracies, \n",
    "              col = (accuracies == max(accuracies)) + 1, \n",
    "              horiz = TRUE, las = 1, xlim = c(0,1.1), main = \"Train Set Accuracy\") \n",
    "text(accuracies + strwidth(\"__0.000\"), pos, round(accuracies,3))"
   ]
  },
  {
   "cell_type": "markdown",
   "id": "bf494046",
   "metadata": {
    "papermill": {
     "duration": 0.015467,
     "end_time": "2023-10-19T02:40:14.957212",
     "exception": false,
     "start_time": "2023-10-19T02:40:14.941745",
     "status": "completed"
    },
    "tags": []
   },
   "source": [
    "## 5.11 Final model \n",
    "\n",
    "Based on the model comparison above, we chose the **support vector machine** as our final model. Hence, we fitted this model on the full training data set to use for our predictions."
   ]
  },
  {
   "cell_type": "code",
   "execution_count": 39,
   "id": "4b4bfe52",
   "metadata": {
    "execution": {
     "iopub.execute_input": "2023-10-19T02:40:14.990509Z",
     "iopub.status.busy": "2023-10-19T02:40:14.989324Z",
     "iopub.status.idle": "2023-10-19T02:54:51.099650Z",
     "shell.execute_reply": "2023-10-19T02:54:51.097900Z"
    },
    "papermill": {
     "duration": 876.16488,
     "end_time": "2023-10-19T02:54:51.137383",
     "exception": false,
     "start_time": "2023-10-19T02:40:14.972503",
     "status": "completed"
    },
    "tags": []
   },
   "outputs": [
    {
     "data": {
      "text/plain": [
       "Support Vector Machines with Radial Basis Function Kernel \n",
       "\n",
       "2538 samples\n",
       " 882 predictor\n",
       "   4 classes: 'anger', 'disgust', 'happy', 'sad' \n",
       "\n",
       "Pre-processing: centered (882), scaled (882) \n",
       "Resampling: Bootstrapped (25 reps) \n",
       "Summary of sample sizes: 2538, 2538, 2538, 2538, 2538, 2538, ... \n",
       "Resampling results across tuning parameters:\n",
       "\n",
       "  C       Accuracy   Kappa    \n",
       "    0.25  0.7651106  0.6699284\n",
       "    0.50  0.8424622  0.7812584\n",
       "    1.00  0.8880430  0.8452404\n",
       "    2.00  0.9187018  0.8878485\n",
       "    4.00  0.9345623  0.9098355\n",
       "    8.00  0.9389206  0.9158823\n",
       "   16.00  0.9387252  0.9156273\n",
       "   32.00  0.9385528  0.9153867\n",
       "   64.00  0.9385528  0.9153867\n",
       "  128.00  0.9385528  0.9153867\n",
       "\n",
       "Tuning parameter 'sigma' was held constant at a value of 0.0006930483\n",
       "Accuracy was used to select the optimal model using the largest value.\n",
       "The final values used for the model were sigma = 0.0006930483 and C = 8."
      ]
     },
     "metadata": {},
     "output_type": "display_data"
    }
   ],
   "source": [
    "# Support vector machine on all data \n",
    "fit_svm_final <- train(x = all_features, \n",
    "                       y = y, \n",
    "                       method = \"svmRadial\", \n",
    "                       trCntrl = trCntrl,\n",
    "                       preProcess = c(\"center\",\"scale\"), \n",
    "                       tuneLength = 10)\n",
    "\n",
    "# View model\n",
    "fit_svm_final"
   ]
  },
  {
   "cell_type": "markdown",
   "id": "713e55f1",
   "metadata": {
    "papermill": {
     "duration": 0.014326,
     "end_time": "2023-10-19T02:54:51.185104",
     "exception": false,
     "start_time": "2023-10-19T02:54:51.170778",
     "status": "completed"
    },
    "tags": []
   },
   "source": [
    "# 6. Formatting the submission file\n",
    "\n",
    "Since the SVM model with radial kernel performed best, we used that model to make predicitons on the test data. Below we converted these in the requested format for submission. "
   ]
  },
  {
   "cell_type": "code",
   "execution_count": 40,
   "id": "77a222c1",
   "metadata": {
    "execution": {
     "iopub.execute_input": "2023-10-19T02:54:51.221140Z",
     "iopub.status.busy": "2023-10-19T02:54:51.219897Z",
     "iopub.status.idle": "2023-10-19T02:54:52.040564Z",
     "shell.execute_reply": "2023-10-19T02:54:52.039347Z"
    },
    "papermill": {
     "duration": 0.840964,
     "end_time": "2023-10-19T02:54:52.042755",
     "exception": false,
     "start_time": "2023-10-19T02:54:51.201791",
     "status": "completed"
    },
    "tags": []
   },
   "outputs": [
    {
     "name": "stderr",
     "output_type": "stream",
     "text": [
      "Warning message:\n",
      "“\u001b[1m\u001b[22mThe `path` argument of `write_csv()` is deprecated as of readr 1.4.0.\n",
      "\u001b[36mℹ\u001b[39m Please use the `file` argument instead.”\n"
     ]
    },
    {
     "name": "stdout",
     "output_type": "stream",
     "text": [
      "file,category\n",
      "S010_004_00000017a.png,anger\n",
      "S010_004_00000017b.png,anger\n",
      "S010_004_00000017c.png,anger\n",
      "S010_004_00000017d.png,anger\n",
      "S010_004_00000017e.png,anger\n",
      "S010_004_00000017f.png,anger\n",
      "S011_002_00000022a.png,sad\n",
      "S011_002_00000022b.png,sad\n",
      "S011_002_00000022c.png,sad\n",
      "S011_002_00000022d.png,sad\n",
      "S011_002_00000022e.png,sad\n",
      "S011_002_00000022f.png,sad\n",
      "S011_005_00000018a.png,disgust\n",
      "S011_005_00000018b.png,disgust\n",
      "S011_005_00000018c.png,disgust\n",
      "S011_005_00000018d.png,disgust\n",
      "S011_005_00000018e.png,disgust\n",
      "S011_005_00000018f.png,disgust\n",
      "S011_006_00000013a.png,happy\n"
     ]
    }
   ],
   "source": [
    "## Make predictions\n",
    "pred_final = predict(fit_svm_final, all_features_test)\n",
    "\n",
    "## Write to file\n",
    "tibble(file = rownames(X_test), category = pred_final) %>% \n",
    "    write_csv(path = \"submission_svm.csv\")\n",
    "\n",
    "## Check result\n",
    "cat(readLines(\"submission_svm.csv\",n=20), sep=\"\\n\")"
   ]
  },
  {
   "cell_type": "markdown",
   "id": "c82a4984",
   "metadata": {
    "papermill": {
     "duration": 0.015534,
     "end_time": "2023-10-19T02:54:52.074332",
     "exception": false,
     "start_time": "2023-10-19T02:54:52.058798",
     "status": "completed"
    },
    "tags": []
   },
   "source": [
    "# 7. Division of labor\n",
    "\n",
    "For round 2 of the competition we split our efforts into different feedback points from the first round. We had been running our models on pixel and calculated feature data seperately and were advised to combine these. However, due to the thousands of features we had we first needed to reduce feature number. These tasks were brainstormed together, but then coded by Alex. Another point of inquiry was how we decide our threshold for near zero variance and high correlations. This again was brain stormed together, and the code was adjusted by Lisa. Lastly, we wanted to implement some additional models that we had previously run into issues with, namely LDA and SVM. This code was implemented by Romy. We communicated progress and problem solved together throughout this process."
   ]
  }
 ],
 "metadata": {
  "kernelspec": {
   "display_name": "R",
   "language": "R",
   "name": "ir"
  },
  "language_info": {
   "codemirror_mode": "r",
   "file_extension": ".r",
   "mimetype": "text/x-r-source",
   "name": "R",
   "pygments_lexer": "r",
   "version": "4.0.5"
  },
  "papermill": {
   "default_parameters": {},
   "duration": 2646.44038,
   "end_time": "2023-10-19T02:54:52.309495",
   "environment_variables": {},
   "exception": null,
   "input_path": "__notebook__.ipynb",
   "output_path": "__notebook__.ipynb",
   "parameters": {},
   "start_time": "2023-10-19T02:10:45.869115",
   "version": "2.4.0"
  }
 },
 "nbformat": 4,
 "nbformat_minor": 5
}
