{
 "cells": [
  {
   "cell_type": "markdown",
   "id": "62c1b352",
   "metadata": {
    "papermill": {
     "duration": 0.009251,
     "end_time": "2023-09-28T11:34:44.688601",
     "exception": false,
     "start_time": "2023-09-28T11:34:44.679350",
     "status": "completed"
    },
    "tags": []
   },
   "source": [
    "# Competition 2: Physical Acitivity Recognition - Group 4\n",
    "\n",
    "### **Authors**: Oguz, Bram, Alex\n",
    "\n",
    "## Introduction\n",
    "\n",
    "<span style=\"font-size:18px;\"> \n",
    "    \n",
    "In this project, we aim to develop a classifier for recognizing various human activities and postural transitions using data collected from smartphone sensors. We will leverage `accelerometer` and `gyroscope` data, which were obtained during controlled experiments involving **30 volunteers** aged between 19 and 48 years. These experiments encompassed a set of six fundamental activities, including three static postures **standing, sitting, lying** and three dynamic activities **walking, walking downstairs, and walking upstairs**. Additionally, we considered postural transitions such as **stand-to-sit, sit-to-stand, sit-to-lie, lie-to-sit, stand-to-lie, and lie-to-stand.** To create our classifier, we will rely on a dataset randomly split into training and test sets, with 70% of the participants contributing to the training data and the remaining 30% for evaluation. Throughout this project, we will explore and implement various machine learning techniques to accurately classify these activities and transitions.\n",
    "    \n",
    "</span>"
   ]
  },
  {
   "cell_type": "markdown",
   "id": "5e25e49d",
   "metadata": {
    "papermill": {
     "duration": 0.008139,
     "end_time": "2023-09-28T11:34:44.706219",
     "exception": false,
     "start_time": "2023-09-28T11:34:44.698080",
     "status": "completed"
    },
    "tags": []
   },
   "source": [
    "### Loading Packages"
   ]
  },
  {
   "cell_type": "code",
   "execution_count": 1,
   "id": "46a3b29b",
   "metadata": {
    "execution": {
     "iopub.execute_input": "2023-09-28T11:34:44.725990Z",
     "iopub.status.busy": "2023-09-28T11:34:44.724324Z",
     "iopub.status.idle": "2023-09-28T11:34:49.107468Z",
     "shell.execute_reply": "2023-09-28T11:34:49.105885Z"
    },
    "papermill": {
     "duration": 4.395687,
     "end_time": "2023-09-28T11:34:49.109993",
     "exception": false,
     "start_time": "2023-09-28T11:34:44.714306",
     "status": "completed"
    },
    "tags": []
   },
   "outputs": [
    {
     "name": "stderr",
     "output_type": "stream",
     "text": [
      "── \u001b[1mAttaching core tidyverse packages\u001b[22m ──────────────────────── tidyverse 2.0.0 ──\n",
      "\u001b[32m✔\u001b[39m \u001b[34mdplyr    \u001b[39m 1.1.2     \u001b[32m✔\u001b[39m \u001b[34mreadr    \u001b[39m 2.1.4\n",
      "\u001b[32m✔\u001b[39m \u001b[34mforcats  \u001b[39m 1.0.0     \u001b[32m✔\u001b[39m \u001b[34mstringr  \u001b[39m 1.5.0\n",
      "\u001b[32m✔\u001b[39m \u001b[34mggplot2  \u001b[39m 3.4.2     \u001b[32m✔\u001b[39m \u001b[34mtibble   \u001b[39m 3.2.1\n",
      "\u001b[32m✔\u001b[39m \u001b[34mlubridate\u001b[39m 1.9.2     \u001b[32m✔\u001b[39m \u001b[34mtidyr    \u001b[39m 1.3.0\n",
      "\u001b[32m✔\u001b[39m \u001b[34mpurrr    \u001b[39m 1.0.1     \n",
      "── \u001b[1mConflicts\u001b[22m ────────────────────────────────────────── tidyverse_conflicts() ──\n",
      "\u001b[31m✖\u001b[39m \u001b[34mdplyr\u001b[39m::\u001b[32mfilter()\u001b[39m masks \u001b[34mstats\u001b[39m::filter()\n",
      "\u001b[31m✖\u001b[39m \u001b[34mdplyr\u001b[39m::\u001b[32mlag()\u001b[39m    masks \u001b[34mstats\u001b[39m::lag()\n",
      "\u001b[36mℹ\u001b[39m Use the conflicted package (\u001b[3m\u001b[34m<http://conflicted.r-lib.org/>\u001b[39m\u001b[23m) to force all conflicts to become errors\n",
      "Loading required package: lattice\n",
      "\n",
      "\n",
      "Attaching package: ‘caret’\n",
      "\n",
      "\n",
      "The following object is masked from ‘package:purrr’:\n",
      "\n",
      "    lift\n",
      "\n",
      "\n",
      "The following object is masked from ‘package:httr’:\n",
      "\n",
      "    progress\n",
      "\n",
      "\n"
     ]
    }
   ],
   "source": [
    "# Load the packages\n",
    "library(tidyverse)\n",
    "library(caret)\n",
    "library(entropy)\n",
    "library(dplyr)\n",
    "\n",
    ".... = NA\n",
    "\n",
    "# Copy all files to the working directory\n",
    "system(paste0(\"cp -r \", list.files(\"../input\", pattern = \"recognition\", full.names=TRUE), \"/* ./\"))"
   ]
  },
  {
   "cell_type": "markdown",
   "id": "2f1cc8a8",
   "metadata": {
    "papermill": {
     "duration": 0.008607,
     "end_time": "2023-09-28T11:34:49.127826",
     "exception": false,
     "start_time": "2023-09-28T11:34:49.119219",
     "status": "completed"
    },
    "tags": []
   },
   "source": [
    "# 1. Reading the Data\n",
    "\n",
    "## 1.1 Importing Activity Labels"
   ]
  },
  {
   "cell_type": "code",
   "execution_count": 2,
   "id": "4a6b2c35",
   "metadata": {
    "_uuid": "7076c372a40933c42af18e4e906abc3df6d453d1",
    "execution": {
     "iopub.execute_input": "2023-09-28T11:34:49.170736Z",
     "iopub.status.busy": "2023-09-28T11:34:49.146864Z",
     "iopub.status.idle": "2023-09-28T11:34:49.522497Z",
     "shell.execute_reply": "2023-09-28T11:34:49.521121Z"
    },
    "papermill": {
     "duration": 0.387809,
     "end_time": "2023-09-28T11:34:49.524290",
     "exception": false,
     "start_time": "2023-09-28T11:34:49.136481",
     "status": "completed"
    },
    "tags": []
   },
   "outputs": [
    {
     "name": "stderr",
     "output_type": "stream",
     "text": [
      "Warning message:\n",
      "“\u001b[1m\u001b[22mOne or more parsing issues, call `problems()` on your data frame for details,\n",
      "e.g.:\n",
      "  dat <- vroom(...)\n",
      "  problems(dat)”\n",
      "\u001b[1mRows: \u001b[22m\u001b[34m12\u001b[39m \u001b[1mColumns: \u001b[22m\u001b[34m13\u001b[39m\n",
      "\u001b[36m──\u001b[39m \u001b[1mColumn specification\u001b[22m \u001b[36m────────────────────────────────────────────────────────\u001b[39m\n",
      "\u001b[1mDelimiter:\u001b[22m \" \"\n",
      "\u001b[31mchr\u001b[39m  (1): X2\n",
      "\u001b[32mdbl\u001b[39m  (1): X1\n",
      "\u001b[33mlgl\u001b[39m (11): X3, X4, X5, X6, X7, X8, X9, X10, X11, X12, X13\n",
      "\n",
      "\u001b[36mℹ\u001b[39m Use `spec()` to retrieve the full column specification for this data.\n",
      "\u001b[36mℹ\u001b[39m Specify the column types or set `show_col_types = FALSE` to quiet this message.\n"
     ]
    },
    {
     "data": {
      "text/html": [
       "<table class=\"dataframe\">\n",
       "<caption>A tibble: 6 × 2</caption>\n",
       "<thead>\n",
       "\t<tr><th scope=col>X1</th><th scope=col>X2</th></tr>\n",
       "\t<tr><th scope=col>&lt;dbl&gt;</th><th scope=col>&lt;chr&gt;</th></tr>\n",
       "</thead>\n",
       "<tbody>\n",
       "\t<tr><td>1</td><td>WALKING           </td></tr>\n",
       "\t<tr><td>2</td><td>WALKING_UPSTAIRS  </td></tr>\n",
       "\t<tr><td>3</td><td>WALKING_DOWNSTAIRS</td></tr>\n",
       "\t<tr><td>4</td><td>SITTING           </td></tr>\n",
       "\t<tr><td>5</td><td>STANDING          </td></tr>\n",
       "\t<tr><td>6</td><td>LAYING            </td></tr>\n",
       "</tbody>\n",
       "</table>\n"
      ],
      "text/latex": [
       "A tibble: 6 × 2\n",
       "\\begin{tabular}{ll}\n",
       " X1 & X2\\\\\n",
       " <dbl> & <chr>\\\\\n",
       "\\hline\n",
       "\t 1 & WALKING           \\\\\n",
       "\t 2 & WALKING\\_UPSTAIRS  \\\\\n",
       "\t 3 & WALKING\\_DOWNSTAIRS\\\\\n",
       "\t 4 & SITTING           \\\\\n",
       "\t 5 & STANDING          \\\\\n",
       "\t 6 & LAYING            \\\\\n",
       "\\end{tabular}\n"
      ],
      "text/markdown": [
       "\n",
       "A tibble: 6 × 2\n",
       "\n",
       "| X1 &lt;dbl&gt; | X2 &lt;chr&gt; |\n",
       "|---|---|\n",
       "| 1 | WALKING            |\n",
       "| 2 | WALKING_UPSTAIRS   |\n",
       "| 3 | WALKING_DOWNSTAIRS |\n",
       "| 4 | SITTING            |\n",
       "| 5 | STANDING           |\n",
       "| 6 | LAYING             |\n",
       "\n"
      ],
      "text/plain": [
       "  X1 X2                \n",
       "1 1  WALKING           \n",
       "2 2  WALKING_UPSTAIRS  \n",
       "3 3  WALKING_DOWNSTAIRS\n",
       "4 4  SITTING           \n",
       "5 5  STANDING          \n",
       "6 6  LAYING            "
      ]
     },
     "metadata": {},
     "output_type": "display_data"
    },
    {
     "name": "stderr",
     "output_type": "stream",
     "text": [
      "\u001b[1mRows: \u001b[22m\u001b[34m849\u001b[39m \u001b[1mColumns: \u001b[22m\u001b[34m5\u001b[39m\n",
      "\u001b[36m──\u001b[39m \u001b[1mColumn specification\u001b[22m \u001b[36m────────────────────────────────────────────────────────\u001b[39m\n",
      "\u001b[1mDelimiter:\u001b[22m \" \"\n",
      "\u001b[32mdbl\u001b[39m (5): X1, X2, X3, X4, X5\n",
      "\n",
      "\u001b[36mℹ\u001b[39m Use `spec()` to retrieve the full column specification for this data.\n",
      "\u001b[36mℹ\u001b[39m Specify the column types or set `show_col_types = FALSE` to quiet this message.\n"
     ]
    },
    {
     "data": {
      "text/html": [
       "<table class=\"dataframe\">\n",
       "<caption>A tibble: 6 × 5</caption>\n",
       "<thead>\n",
       "\t<tr><th scope=col>trial</th><th scope=col>userid</th><th scope=col>activity</th><th scope=col>start</th><th scope=col>end</th></tr>\n",
       "\t<tr><th scope=col>&lt;dbl&gt;</th><th scope=col>&lt;dbl&gt;</th><th scope=col>&lt;chr&gt;</th><th scope=col>&lt;dbl&gt;</th><th scope=col>&lt;dbl&gt;</th></tr>\n",
       "</thead>\n",
       "<tbody>\n",
       "\t<tr><td>1</td><td>1</td><td>STANDING    </td><td> 250</td><td>1232</td></tr>\n",
       "\t<tr><td>1</td><td>1</td><td>STAND_TO_SIT</td><td>1233</td><td>1392</td></tr>\n",
       "\t<tr><td>1</td><td>1</td><td>SITTING     </td><td>1393</td><td>2194</td></tr>\n",
       "\t<tr><td>1</td><td>1</td><td>SIT_TO_STAND</td><td>2195</td><td>2359</td></tr>\n",
       "\t<tr><td>1</td><td>1</td><td>STANDING    </td><td>2360</td><td>3374</td></tr>\n",
       "\t<tr><td>1</td><td>1</td><td>STAND_TO_LIE</td><td>3375</td><td>3662</td></tr>\n",
       "</tbody>\n",
       "</table>\n"
      ],
      "text/latex": [
       "A tibble: 6 × 5\n",
       "\\begin{tabular}{lllll}\n",
       " trial & userid & activity & start & end\\\\\n",
       " <dbl> & <dbl> & <chr> & <dbl> & <dbl>\\\\\n",
       "\\hline\n",
       "\t 1 & 1 & STANDING     &  250 & 1232\\\\\n",
       "\t 1 & 1 & STAND\\_TO\\_SIT & 1233 & 1392\\\\\n",
       "\t 1 & 1 & SITTING      & 1393 & 2194\\\\\n",
       "\t 1 & 1 & SIT\\_TO\\_STAND & 2195 & 2359\\\\\n",
       "\t 1 & 1 & STANDING     & 2360 & 3374\\\\\n",
       "\t 1 & 1 & STAND\\_TO\\_LIE & 3375 & 3662\\\\\n",
       "\\end{tabular}\n"
      ],
      "text/markdown": [
       "\n",
       "A tibble: 6 × 5\n",
       "\n",
       "| trial &lt;dbl&gt; | userid &lt;dbl&gt; | activity &lt;chr&gt; | start &lt;dbl&gt; | end &lt;dbl&gt; |\n",
       "|---|---|---|---|---|\n",
       "| 1 | 1 | STANDING     |  250 | 1232 |\n",
       "| 1 | 1 | STAND_TO_SIT | 1233 | 1392 |\n",
       "| 1 | 1 | SITTING      | 1393 | 2194 |\n",
       "| 1 | 1 | SIT_TO_STAND | 2195 | 2359 |\n",
       "| 1 | 1 | STANDING     | 2360 | 3374 |\n",
       "| 1 | 1 | STAND_TO_LIE | 3375 | 3662 |\n",
       "\n"
      ],
      "text/plain": [
       "  trial userid activity     start end \n",
       "1 1     1      STANDING      250  1232\n",
       "2 1     1      STAND_TO_SIT 1233  1392\n",
       "3 1     1      SITTING      1393  2194\n",
       "4 1     1      SIT_TO_STAND 2195  2359\n",
       "5 1     1      STANDING     2360  3374\n",
       "6 1     1      STAND_TO_LIE 3375  3662"
      ]
     },
     "metadata": {},
     "output_type": "display_data"
    }
   ],
   "source": [
    "#loading acitivity labels\n",
    "act_labels = read_delim(\"activity_labels.txt\",\" \",col_names=FALSE,trim_ws=TRUE) \n",
    "act_labels = act_labels %>% select(X1,X2)\n",
    "head(act_labels) \n",
    "\n",
    "#loading labels\n",
    "labels = read_delim(\"./RawData/Train/labels_train.txt\", \" \", col_names = F)\n",
    "colnames(labels) <- c('trial', 'userid', 'activity', 'start', 'end')\n",
    "\n",
    "labels = labels %>% mutate(activity = act_labels$X2[activity])\n",
    "head(labels)"
   ]
  },
  {
   "cell_type": "markdown",
   "id": "8f0d9269",
   "metadata": {
    "_uuid": "999173cbb57a05233f5b70f9c89a4eee6efee205",
    "papermill": {
     "duration": 0.009243,
     "end_time": "2023-09-28T11:34:49.542885",
     "exception": false,
     "start_time": "2023-09-28T11:34:49.533642",
     "status": "completed"
    },
    "tags": []
   },
   "source": [
    "## 1.2 Merging Signals and Labels\n",
    "\n",
    "It is much handier to have a data frame that gives an activity label for each trial, userid and each time sampleid that has matching rows for each row in the signals data frame. We can compute this from the labels data frame. First we add the sequence start:end inside a list() to each row of labels"
   ]
  },
  {
   "cell_type": "code",
   "execution_count": 3,
   "id": "4dd9a7cc",
   "metadata": {
    "_uuid": "8f38c8942428fd83d72afe59615fc98826c4c3bc",
    "execution": {
     "iopub.execute_input": "2023-09-28T11:34:49.564295Z",
     "iopub.status.busy": "2023-09-28T11:34:49.563094Z",
     "iopub.status.idle": "2023-09-28T11:34:49.626264Z",
     "shell.execute_reply": "2023-09-28T11:34:49.624142Z"
    },
    "papermill": {
     "duration": 0.076536,
     "end_time": "2023-09-28T11:34:49.628717",
     "exception": false,
     "start_time": "2023-09-28T11:34:49.552181",
     "status": "completed"
    },
    "tags": []
   },
   "outputs": [
    {
     "name": "stdout",
     "output_type": "stream",
     "text": [
      "\u001b[90m# A tibble: 849 × 6\u001b[39m\n",
      "   trial userid activity     start   end sampleid     \n",
      "   \u001b[3m\u001b[90m<dbl>\u001b[39m\u001b[23m  \u001b[3m\u001b[90m<dbl>\u001b[39m\u001b[23m \u001b[3m\u001b[90m<chr>\u001b[39m\u001b[23m        \u001b[3m\u001b[90m<dbl>\u001b[39m\u001b[23m \u001b[3m\u001b[90m<dbl>\u001b[39m\u001b[23m \u001b[3m\u001b[90m<list>\u001b[39m\u001b[23m       \n",
      "\u001b[90m 1\u001b[39m     1      1 STANDING       250  \u001b[4m1\u001b[24m232 \u001b[90m<int [983]>\u001b[39m  \n",
      "\u001b[90m 2\u001b[39m     1      1 STAND_TO_SIT  \u001b[4m1\u001b[24m233  \u001b[4m1\u001b[24m392 \u001b[90m<int [160]>\u001b[39m  \n",
      "\u001b[90m 3\u001b[39m     1      1 SITTING       \u001b[4m1\u001b[24m393  \u001b[4m2\u001b[24m194 \u001b[90m<int [802]>\u001b[39m  \n",
      "\u001b[90m 4\u001b[39m     1      1 SIT_TO_STAND  \u001b[4m2\u001b[24m195  \u001b[4m2\u001b[24m359 \u001b[90m<int [165]>\u001b[39m  \n",
      "\u001b[90m 5\u001b[39m     1      1 STANDING      \u001b[4m2\u001b[24m360  \u001b[4m3\u001b[24m374 \u001b[90m<int [1,015]>\u001b[39m\n",
      "\u001b[90m 6\u001b[39m     1      1 STAND_TO_LIE  \u001b[4m3\u001b[24m375  \u001b[4m3\u001b[24m662 \u001b[90m<int [288]>\u001b[39m  \n",
      "\u001b[90m 7\u001b[39m     1      1 LAYING        \u001b[4m3\u001b[24m663  \u001b[4m4\u001b[24m538 \u001b[90m<int [876]>\u001b[39m  \n",
      "\u001b[90m 8\u001b[39m     1      1 LIE_TO_SIT    \u001b[4m4\u001b[24m539  \u001b[4m4\u001b[24m735 \u001b[90m<int [197]>\u001b[39m  \n",
      "\u001b[90m 9\u001b[39m     1      1 SITTING       \u001b[4m4\u001b[24m736  \u001b[4m5\u001b[24m667 \u001b[90m<int [932]>\u001b[39m  \n",
      "\u001b[90m10\u001b[39m     1      1 SIT_TO_LIE    \u001b[4m5\u001b[24m668  \u001b[4m5\u001b[24m859 \u001b[90m<int [192]>\u001b[39m  \n",
      "\u001b[90m# ℹ 839 more rows\u001b[39m\n"
     ]
    }
   ],
   "source": [
    "# Add the sequence start:end to each row in a list.\n",
    "# The result is a nested table:\n",
    "sample_labels_nested = \n",
    "    labels %>% \n",
    "    rowwise() %>% # do next operation(s) rowwise\n",
    "    mutate(sampleid = list(start:end)) %>%\n",
    "    ungroup()\n",
    "\n",
    "# Check the resulting table:\n",
    "print(sample_labels_nested, n=10)"
   ]
  },
  {
   "cell_type": "markdown",
   "id": "17d10ad9",
   "metadata": {
    "papermill": {
     "duration": 0.009235,
     "end_time": "2023-09-28T11:34:49.647482",
     "exception": false,
     "start_time": "2023-09-28T11:34:49.638247",
     "status": "completed"
    },
    "tags": []
   },
   "source": [
    "Next we unnest the nested tibble `sample_labels_nested` to obtain a table that for each `sampleid` value stores the right `activity` label. There is however one issue: Each row corresponds to a signal segment of an activity. Some of the activities, such as WALKING, were done multiple times in the same experiment in different time segments. We need to be able to identify different segments of WALKING. Therefore, before unnesting, we'll add the row numbers as `segment` ID:\n"
   ]
  },
  {
   "cell_type": "code",
   "execution_count": 4,
   "id": "e220ebca",
   "metadata": {
    "execution": {
     "iopub.execute_input": "2023-09-28T11:34:49.668992Z",
     "iopub.status.busy": "2023-09-28T11:34:49.667870Z",
     "iopub.status.idle": "2023-09-28T11:34:50.060995Z",
     "shell.execute_reply": "2023-09-28T11:34:50.059597Z"
    },
    "papermill": {
     "duration": 0.406602,
     "end_time": "2023-09-28T11:34:50.063409",
     "exception": false,
     "start_time": "2023-09-28T11:34:49.656807",
     "status": "completed"
    },
    "tags": []
   },
   "outputs": [
    {
     "data": {
      "text/html": [
       "<table class=\"dataframe\">\n",
       "<caption>A tibble: 6 × 5</caption>\n",
       "<thead>\n",
       "\t<tr><th scope=col>trial</th><th scope=col>userid</th><th scope=col>activity</th><th scope=col>sampleid</th><th scope=col>segment</th></tr>\n",
       "\t<tr><th scope=col>&lt;dbl&gt;</th><th scope=col>&lt;dbl&gt;</th><th scope=col>&lt;chr&gt;</th><th scope=col>&lt;int&gt;</th><th scope=col>&lt;int&gt;</th></tr>\n",
       "</thead>\n",
       "<tbody>\n",
       "\t<tr><td>61</td><td>30</td><td>WALKING_UPSTAIRS</td><td>18092</td><td>849</td></tr>\n",
       "\t<tr><td>61</td><td>30</td><td>WALKING_UPSTAIRS</td><td>18093</td><td>849</td></tr>\n",
       "\t<tr><td>61</td><td>30</td><td>WALKING_UPSTAIRS</td><td>18094</td><td>849</td></tr>\n",
       "\t<tr><td>61</td><td>30</td><td>WALKING_UPSTAIRS</td><td>18095</td><td>849</td></tr>\n",
       "\t<tr><td>61</td><td>30</td><td>WALKING_UPSTAIRS</td><td>18096</td><td>849</td></tr>\n",
       "\t<tr><td>61</td><td>30</td><td>WALKING_UPSTAIRS</td><td>18097</td><td>849</td></tr>\n",
       "</tbody>\n",
       "</table>\n"
      ],
      "text/latex": [
       "A tibble: 6 × 5\n",
       "\\begin{tabular}{lllll}\n",
       " trial & userid & activity & sampleid & segment\\\\\n",
       " <dbl> & <dbl> & <chr> & <int> & <int>\\\\\n",
       "\\hline\n",
       "\t 61 & 30 & WALKING\\_UPSTAIRS & 18092 & 849\\\\\n",
       "\t 61 & 30 & WALKING\\_UPSTAIRS & 18093 & 849\\\\\n",
       "\t 61 & 30 & WALKING\\_UPSTAIRS & 18094 & 849\\\\\n",
       "\t 61 & 30 & WALKING\\_UPSTAIRS & 18095 & 849\\\\\n",
       "\t 61 & 30 & WALKING\\_UPSTAIRS & 18096 & 849\\\\\n",
       "\t 61 & 30 & WALKING\\_UPSTAIRS & 18097 & 849\\\\\n",
       "\\end{tabular}\n"
      ],
      "text/markdown": [
       "\n",
       "A tibble: 6 × 5\n",
       "\n",
       "| trial &lt;dbl&gt; | userid &lt;dbl&gt; | activity &lt;chr&gt; | sampleid &lt;int&gt; | segment &lt;int&gt; |\n",
       "|---|---|---|---|---|\n",
       "| 61 | 30 | WALKING_UPSTAIRS | 18092 | 849 |\n",
       "| 61 | 30 | WALKING_UPSTAIRS | 18093 | 849 |\n",
       "| 61 | 30 | WALKING_UPSTAIRS | 18094 | 849 |\n",
       "| 61 | 30 | WALKING_UPSTAIRS | 18095 | 849 |\n",
       "| 61 | 30 | WALKING_UPSTAIRS | 18096 | 849 |\n",
       "| 61 | 30 | WALKING_UPSTAIRS | 18097 | 849 |\n",
       "\n"
      ],
      "text/plain": [
       "  trial userid activity         sampleid segment\n",
       "1 61    30     WALKING_UPSTAIRS 18092    849    \n",
       "2 61    30     WALKING_UPSTAIRS 18093    849    \n",
       "3 61    30     WALKING_UPSTAIRS 18094    849    \n",
       "4 61    30     WALKING_UPSTAIRS 18095    849    \n",
       "5 61    30     WALKING_UPSTAIRS 18096    849    \n",
       "6 61    30     WALKING_UPSTAIRS 18097    849    "
      ]
     },
     "metadata": {},
     "output_type": "display_data"
    }
   ],
   "source": [
    "# Unnest the nested tabel.\n",
    "sample_labels = \n",
    "    sample_labels_nested %>% \n",
    "\n",
    "    # Rows are segments, we need to keep track of different segements\n",
    "    mutate(segment = row_number() ) %>% \n",
    "\n",
    "    # Expand the data frame to one sample per row\n",
    "    unnest(cols = c(sampleid)) %>% \n",
    "\n",
    "    # Remove columns we don't need anymore\n",
    "    select(-start, -end) \n",
    "# check result\n",
    "tail(sample_labels)"
   ]
  },
  {
   "cell_type": "markdown",
   "id": "e9f6a3d9",
   "metadata": {
    "papermill": {
     "duration": 0.009933,
     "end_time": "2023-09-28T11:34:50.083106",
     "exception": false,
     "start_time": "2023-09-28T11:34:50.073173",
     "status": "completed"
    },
    "tags": []
   },
   "source": [
    "# 2. Feature Extraction\n",
    "\n",
    "In this section we define helper functions needed to compute **Statistical Features, Time Domain Features,** and **Frequency Domain Features.** \n",
    "\n",
    "\n",
    "When developing functions for our feature extraction methods in this project, we utilized the research paper titled \"Feature Extraction from Signals\" by Grasman (2018), as a primary source of guidance. You can access the paper [here](https://paper.dropbox.com/doc/Feature-extraction-from-Signals-qCp5uvj47gmyuw5nmB8lL).\n",
    "\n",
    "## 2.1 Statistical features"
   ]
  },
  {
   "cell_type": "code",
   "execution_count": 5,
   "id": "2f8e824e",
   "metadata": {
    "execution": {
     "iopub.execute_input": "2023-09-28T11:34:50.105675Z",
     "iopub.status.busy": "2023-09-28T11:34:50.104385Z",
     "iopub.status.idle": "2023-09-28T11:34:50.120855Z",
     "shell.execute_reply": "2023-09-28T11:34:50.119224Z"
    },
    "papermill": {
     "duration": 0.029892,
     "end_time": "2023-09-28T11:34:50.122793",
     "exception": false,
     "start_time": "2023-09-28T11:34:50.092901",
     "status": "completed"
    },
    "tags": []
   },
   "outputs": [],
   "source": [
    "# Mode\n",
    "most_common_value <- function(x) {\n",
    "    counts <- table(x, useNA = \"no\")\n",
    "    most_frequent_idx <- which.max(counts)\n",
    "    most_frequent_value <- names(counts)[most_frequent_idx]\n",
    "    return(most_frequent_value)\n",
    "}\n",
    "\n",
    "# Power\n",
    "power <- function(x) {\n",
    "    result <- mean(x^2)\n",
    "    return(result)\n",
    "}\n",
    "\n",
    "# Entropy\n",
    "entropy <- function(x, nbreaks = 10) {\n",
    "    r <- range(x)\n",
    "    x_binned <- findInterval(x, seq(r[1], r[2], len = nbreaks))\n",
    "    h <- tabulate(x_binned, nbins = nbreaks) # fast histogram\n",
    "    p <- h / sum(h)\n",
    "    result <- -sum(p[p > 0] * log(p[p > 0]))\n",
    "    return(result)\n",
    "}\n",
    "\n",
    "# Engery\n",
    "energy <- function(x) {\n",
    "    sum(x^2)\n",
    "}\n"
   ]
  },
  {
   "cell_type": "markdown",
   "id": "34140b31",
   "metadata": {
    "papermill": {
     "duration": 0.010474,
     "end_time": "2023-09-28T11:34:50.143081",
     "exception": false,
     "start_time": "2023-09-28T11:34:50.132607",
     "status": "completed"
    },
    "tags": []
   },
   "source": [
    "## 2.2 Time domain features"
   ]
  },
  {
   "cell_type": "code",
   "execution_count": 6,
   "id": "003788ab",
   "metadata": {
    "execution": {
     "iopub.execute_input": "2023-09-28T11:34:50.166038Z",
     "iopub.status.busy": "2023-09-28T11:34:50.164739Z",
     "iopub.status.idle": "2023-09-28T11:34:50.177341Z",
     "shell.execute_reply": "2023-09-28T11:34:50.175745Z"
    },
    "papermill": {
     "duration": 0.025799,
     "end_time": "2023-09-28T11:34:50.179235",
     "exception": false,
     "start_time": "2023-09-28T11:34:50.153436",
     "status": "completed"
    },
    "tags": []
   },
   "outputs": [],
   "source": [
    "# Lagged correaltion\n",
    "lagged_cor <- function(x, y = x, lag = 0) {\n",
    "  # compute correlation between x and a time shifted y\n",
    "  r_lagged <- cor(x, dplyr::lag(y, lag), use = \"pairwise\")\n",
    "  return(r_lagged)\n",
    "}\n"
   ]
  },
  {
   "cell_type": "markdown",
   "id": "21b2033f",
   "metadata": {
    "papermill": {
     "duration": 0.009357,
     "end_time": "2023-09-28T11:34:50.198573",
     "exception": false,
     "start_time": "2023-09-28T11:34:50.189216",
     "status": "completed"
    },
    "tags": []
   },
   "source": [
    "## 2.3 Frequency domain features"
   ]
  },
  {
   "cell_type": "code",
   "execution_count": 7,
   "id": "cf9f02c2",
   "metadata": {
    "execution": {
     "iopub.execute_input": "2023-09-28T11:34:50.221549Z",
     "iopub.status.busy": "2023-09-28T11:34:50.220301Z",
     "iopub.status.idle": "2023-09-28T11:34:50.236069Z",
     "shell.execute_reply": "2023-09-28T11:34:50.234634Z"
    },
    "papermill": {
     "duration": 0.028753,
     "end_time": "2023-09-28T11:34:50.237867",
     "exception": false,
     "start_time": "2023-09-28T11:34:50.209114",
     "status": "completed"
    },
    "tags": []
   },
   "outputs": [],
   "source": [
    "# Spectral entropy function\n",
    "sp_entropy <- function(x) {\n",
    "  spec <- spectrum(x, plot = FALSE)$spec\n",
    "  entropy(spec)\n",
    "}\n",
    "\n",
    "# Spectral peak function\n",
    "sp_peak <- function(x) {\n",
    "  spec <- spectrum(x, plot = FALSE)\n",
    "  return(spec$freq[which.max(spec$spec)])\n",
    "}\n",
    "\n",
    "# Spectral mean function\n",
    "sp_mean <- function(x) {\n",
    "  spec <- spectrum(x, plot = FALSE)\n",
    "  df <- spec$freq[2] - spec$freq[1]\n",
    "  return(sum(spec$freq * spec$spec * df))\n",
    "}\n",
    "\n",
    "# Spectral standard deviation function\n",
    "sp_sd <- function(x) {\n",
    "  spec <- spectrum(x, plot = FALSE)\n",
    "  df <- spec$freq[2] - spec$freq[1]\n",
    "  return(sqrt(sum((spec$freq - sp_mean(x))^2 * spec$spec * df)))\n",
    "}\n"
   ]
  },
  {
   "cell_type": "markdown",
   "id": "63dd50d3",
   "metadata": {
    "_uuid": "70f82939d0025cd90b72ea9b46b23c9a110f4f38",
    "papermill": {
     "duration": 0.009719,
     "end_time": "2023-09-28T11:34:50.257378",
     "exception": false,
     "start_time": "2023-09-28T11:34:50.247659",
     "status": "completed"
    },
    "tags": []
   },
   "source": [
    "# 3. Putting It All Together\n",
    "\n",
    "It's very handy to define a function that takes a data file name and carries out all the steps above. Here's such a function."
   ]
  },
  {
   "cell_type": "code",
   "execution_count": 8,
   "id": "167e1e06",
   "metadata": {
    "_uuid": "daccc2b4175580864f72a2012ef6d56ee7c0a883",
    "execution": {
     "iopub.execute_input": "2023-09-28T11:34:50.279693Z",
     "iopub.status.busy": "2023-09-28T11:34:50.278512Z",
     "iopub.status.idle": "2023-09-28T11:34:50.290401Z",
     "shell.execute_reply": "2023-09-28T11:34:50.289071Z"
    },
    "papermill": {
     "duration": 0.025408,
     "end_time": "2023-09-28T11:34:50.292350",
     "exception": false,
     "start_time": "2023-09-28T11:34:50.266942",
     "status": "completed"
    },
    "tags": []
   },
   "outputs": [],
   "source": [
    "extract_features <- function(filename, sample_labels) {\n",
    "  # extract user and experiment ID's from filename\n",
    "  username <- gsub(\".+user(\\\\d+).+\", \"\\\\1\", filename) %>% as.numeric()\n",
    "  expname <- gsub(\".+exp(\\\\d+).+\", \"\\\\1\", filename) %>% as.numeric()\n",
    "  # import the sensor signals from the file\n",
    "  user01 <- read_delim(filename, \" \",\n",
    "    col_names = FALSE, progress = TRUE,\n",
    "    col_types = \"ddd\"\n",
    "  )\n",
    "\n",
    "  # merge signals with labels\n",
    "  user_df <-\n",
    "    data.frame(userid = username, trial = expname, user01) %>%\n",
    "    mutate(sampleid = 0:(nrow(user01) - 1)) %>%\n",
    "    left_join(sample_labels, by = c(\"userid\", \"trial\", \"sampleid\"))\n",
    "\n",
    "  # split in epochs of 128 samples and compute features per epoch\n",
    "  usertimedom <- user_df %>%\n",
    "    # add an epoch ID variable (on epoch = 2.56 sec)\n",
    "    mutate(epoch = sampleid %/% 128) %>%\n",
    "    # extract statistical features from each epoch\n",
    "    group_by(epoch) %>%\n",
    "    summarise(\n",
    "      # keep track of user and experiment information\n",
    "      user_id = username,\n",
    "      exp_id = expname,\n",
    "\n",
    "      # epoch's activity labels and start sample\n",
    "      activity = most_common_value(c(\"-\", activity)),\n",
    "      sampleid = sampleid[1],\n",
    "\n",
    "      ## 1. Statistical Features\n",
    "      # mean\n",
    "      level1 = mean(X1),\n",
    "      level2 = mean(X2),\n",
    "      level3 = mean(X3),\n",
    "\n",
    "      # median\n",
    "      median1 = median(X1),\n",
    "      median2 = median(X2),\n",
    "      median3 = median(X3),\n",
    "\n",
    "      # mode\n",
    "      most_common_value1 = most_common_value(X1),\n",
    "      most_common_value2 = most_common_value(X2),\n",
    "      most_common_value3 = most_common_value(X3),\n",
    "\n",
    "      # variance\n",
    "      var1 = var(X1),\n",
    "      var2 = var(X2),\n",
    "      var3 = var(X3),\n",
    "\n",
    "      # standard deviation\n",
    "      sd1 = sd(X1),\n",
    "      sd2 = sd(X2),\n",
    "      sd3 = sd(X3),\n",
    "\n",
    "      # correlation\n",
    "      cor1_2 = cor(X1, X2),\n",
    "      cor1_3 = cor(X1, X3),\n",
    "      cor2_3 = cor(X2, X3),\n",
    "\n",
    "      # power\n",
    "      pow1 = power(X1),\n",
    "      pow2 = power(X2),\n",
    "      pow3 = power(X3),\n",
    "\n",
    "      # interquartile range\n",
    "      iqr1 = IQR(X1),\n",
    "      iqr2 = IQR(X2),\n",
    "      iqr3 = IQR(X3),\n",
    "\n",
    "      # first and third quantiles\n",
    "      q1_25 = quantile(X1, .25),\n",
    "      q2_25 = quantile(X2, .25),\n",
    "      q3_25 = quantile(X3, .25),\n",
    "      q1_75 = quantile(X1, .75),\n",
    "      q2_75 = quantile(X2, .75),\n",
    "      q3_75 = quantile(X3, .75),\n",
    "\n",
    "      # skewness\n",
    "      skew1 = e1071::skewness(X1),\n",
    "      skew2 = e1071::skewness(X2),\n",
    "      skew3 = e1071::skewness(X3),\n",
    "\n",
    "      # kurtosis\n",
    "      kurt1 = e1071::kurtosis(X1),\n",
    "      kurt2 = e1071::kurtosis(X2),\n",
    "      kurt3 = e1071::kurtosis(X3),\n",
    "\n",
    "      # entropy\n",
    "      entropy1 = entropy(X1),\n",
    "      entropy2 = entropy(X2),\n",
    "      entropy3 = entropy(X3),\n",
    "\n",
    "      # energy\n",
    "      energy1 = energy(X1),\n",
    "      energy2 = energy(X2),\n",
    "      energy3 = energy(X3),\n",
    "\n",
    "      ## 2. Time Domain Features\n",
    "      # lagged correlations\n",
    "      ar1_1 = lagged_cor(X1, lag = 1),\n",
    "      ar1_2 = lagged_cor(X1, lag = 2),\n",
    "      ar2_1 = lagged_cor(X2, lag = 1),\n",
    "      ar2_2 = lagged_cor(X2, lag = 2),\n",
    "      ar3_1 = lagged_cor(X3, lag = 1),\n",
    "      ar3_2 = lagged_cor(X3, lag = 2),\n",
    "      ar12_1 = lagged_cor(X1, X2, lag = 1),\n",
    "      ar12_2 = lagged_cor(X1, X2, lag = 2),\n",
    "      ar13_1 = lagged_cor(X1, X3, lag = 1),\n",
    "      ar13_2 = lagged_cor(X1, X3, lag = 2),\n",
    "      ar23_1 = lagged_cor(X2, X3, lag = 1),\n",
    "      ar23_2 = lagged_cor(X2, X3, lag = 2),\n",
    "\n",
    "      ## 3. Frequency Domain Features\n",
    "      # spectral entropy\n",
    "      sp_entropy_1 = sp_entropy(X1),\n",
    "      sp_entropy_2 = sp_entropy(X2),\n",
    "      sp_entropy_3 = sp_entropy(X3),\n",
    "\n",
    "      # spectral peak\n",
    "      sp_peak_1 = sp_peak(X1),\n",
    "      sp_peak_2 = sp_peak(X2),\n",
    "      sp_peak_3 = sp_peak(X3),\n",
    "\n",
    "      # spectral mean\n",
    "      sp_mean_1 = sp_mean(X1),\n",
    "      sp_mean_2 = sp_mean(X2),\n",
    "      sp_mean_3 = sp_mean(X3),\n",
    "\n",
    "      # spectral standard deviation\n",
    "      sp_sd_1 = sp_sd(X1),\n",
    "      sp_sd_2 = sp_sd(X2),\n",
    "      sp_sd_3 = sp_sd(X3),\n",
    "      n_samples = n()\n",
    "    )\n",
    "\n",
    "  usertimedom\n",
    "}\n"
   ]
  },
  {
   "cell_type": "markdown",
   "id": "99c381e6",
   "metadata": {
    "papermill": {
     "duration": 0.01024,
     "end_time": "2023-09-28T11:34:50.312387",
     "exception": false,
     "start_time": "2023-09-28T11:34:50.302147",
     "status": "completed"
    },
    "tags": []
   },
   "source": [
    "# 4. Merging Training Data \n",
    "\n",
    "In this section we will apply extract_features() defined in the previous section on all elements in accelerometer files and gyroscope files. We will combine the resulted features in one data frame (along with 5 other variables). "
   ]
  },
  {
   "cell_type": "code",
   "execution_count": 9,
   "id": "f4e13aaf",
   "metadata": {
    "_uuid": "c2572d092b5b590a3f6dcc67313ff5f690beb471",
    "execution": {
     "iopub.execute_input": "2023-09-28T11:34:50.334992Z",
     "iopub.status.busy": "2023-09-28T11:34:50.333796Z",
     "iopub.status.idle": "2023-09-28T11:36:26.087157Z",
     "shell.execute_reply": "2023-09-28T11:36:26.084969Z"
    },
    "papermill": {
     "duration": 95.780608,
     "end_time": "2023-09-28T11:36:26.102972",
     "exception": false,
     "start_time": "2023-09-28T11:34:50.322364",
     "status": "completed"
    },
    "tags": []
   },
   "outputs": [
    {
     "data": {
      "text/html": [
       "<table class=\"dataframe\">\n",
       "<caption>A tibble: 6 × 139</caption>\n",
       "<thead>\n",
       "\t<tr><th scope=col>epoch</th><th scope=col>user_id</th><th scope=col>exp_id</th><th scope=col>activity</th><th scope=col>sampleid</th><th scope=col>acc_level1</th><th scope=col>acc_level2</th><th scope=col>acc_level3</th><th scope=col>acc_median1</th><th scope=col>acc_median2</th><th scope=col>⋯</th><th scope=col>gyr_sp_peak_1</th><th scope=col>gyr_sp_peak_2</th><th scope=col>gyr_sp_peak_3</th><th scope=col>gyr_sp_mean_1</th><th scope=col>gyr_sp_mean_2</th><th scope=col>gyr_sp_mean_3</th><th scope=col>gyr_sp_sd_1</th><th scope=col>gyr_sp_sd_2</th><th scope=col>gyr_sp_sd_3</th><th scope=col>gyr_n_samples</th></tr>\n",
       "\t<tr><th scope=col>&lt;dbl&gt;</th><th scope=col>&lt;dbl&gt;</th><th scope=col>&lt;dbl&gt;</th><th scope=col>&lt;chr&gt;</th><th scope=col>&lt;int&gt;</th><th scope=col>&lt;dbl&gt;</th><th scope=col>&lt;dbl&gt;</th><th scope=col>&lt;dbl&gt;</th><th scope=col>&lt;dbl&gt;</th><th scope=col>&lt;dbl&gt;</th><th scope=col>⋯</th><th scope=col>&lt;dbl&gt;</th><th scope=col>&lt;dbl&gt;</th><th scope=col>&lt;dbl&gt;</th><th scope=col>&lt;dbl&gt;</th><th scope=col>&lt;dbl&gt;</th><th scope=col>&lt;dbl&gt;</th><th scope=col>&lt;dbl&gt;</th><th scope=col>&lt;dbl&gt;</th><th scope=col>&lt;dbl&gt;</th><th scope=col>&lt;int&gt;</th></tr>\n",
       "</thead>\n",
       "<tbody>\n",
       "\t<tr><td>0</td><td>1</td><td>1</td><td>-       </td><td>  0</td><td>0.908941</td><td>-0.1649089</td><td>0.25218100</td><td>0.862500</td><td>-0.1437500</td><td>⋯</td><td>0.0156250</td><td>0.0078125</td><td>0.0468750</td><td>1.597967e-02</td><td>3.941905e-02</td><td>1.764163e-02</td><td>0.0503112203</td><td>0.0661272999</td><td>0.0525853329</td><td>128</td></tr>\n",
       "\t<tr><td>1</td><td>1</td><td>1</td><td>STANDING</td><td>128</td><td>1.015723</td><td>-0.1324110</td><td>0.05088976</td><td>1.020833</td><td>-0.1277778</td><td>⋯</td><td>0.0625000</td><td>0.0546875</td><td>0.0234375</td><td>1.200725e-03</td><td>2.435418e-02</td><td>3.629848e-03</td><td>0.0179655376</td><td>0.0725035465</td><td>0.0307453151</td><td>128</td></tr>\n",
       "\t<tr><td>2</td><td>1</td><td>1</td><td>STANDING</td><td>256</td><td>1.019217</td><td>-0.1241102</td><td>0.09873047</td><td>1.019445</td><td>-0.1250000</td><td>⋯</td><td>0.0312500</td><td>0.0156250</td><td>0.0078125</td><td>3.785223e-06</td><td>2.675050e-06</td><td>3.296914e-06</td><td>0.0008474285</td><td>0.0008939049</td><td>0.0010082550</td><td>128</td></tr>\n",
       "\t<tr><td>3</td><td>1</td><td>1</td><td>STANDING</td><td>384</td><td>1.020074</td><td>-0.1254232</td><td>0.09264323</td><td>1.020833</td><td>-0.1263889</td><td>⋯</td><td>0.0312500</td><td>0.0234375</td><td>0.0078125</td><td>5.830368e-06</td><td>4.833804e-06</td><td>4.049781e-06</td><td>0.0009059157</td><td>0.0011098283</td><td>0.0008918459</td><td>128</td></tr>\n",
       "\t<tr><td>4</td><td>1</td><td>1</td><td>STANDING</td><td>512</td><td>1.020172</td><td>-0.1297960</td><td>0.08509115</td><td>1.019445</td><td>-0.1305556</td><td>⋯</td><td>0.0078125</td><td>0.0312500</td><td>0.0312500</td><td>5.064767e-06</td><td>4.562142e-06</td><td>3.406414e-06</td><td>0.0009504851</td><td>0.0010574223</td><td>0.0008545783</td><td>128</td></tr>\n",
       "\t<tr><td>5</td><td>1</td><td>1</td><td>STANDING</td><td>640</td><td>1.020757</td><td>-0.1285590</td><td>0.08496094</td><td>1.020833</td><td>-0.1277778</td><td>⋯</td><td>0.0312500</td><td>0.0781250</td><td>0.0546875</td><td>4.914521e-06</td><td>3.769410e-06</td><td>4.274318e-06</td><td>0.0009253297</td><td>0.0009145764</td><td>0.0009264248</td><td>128</td></tr>\n",
       "</tbody>\n",
       "</table>\n"
      ],
      "text/latex": [
       "A tibble: 6 × 139\n",
       "\\begin{tabular}{lllllllllllllllllllll}\n",
       " epoch & user\\_id & exp\\_id & activity & sampleid & acc\\_level1 & acc\\_level2 & acc\\_level3 & acc\\_median1 & acc\\_median2 & ⋯ & gyr\\_sp\\_peak\\_1 & gyr\\_sp\\_peak\\_2 & gyr\\_sp\\_peak\\_3 & gyr\\_sp\\_mean\\_1 & gyr\\_sp\\_mean\\_2 & gyr\\_sp\\_mean\\_3 & gyr\\_sp\\_sd\\_1 & gyr\\_sp\\_sd\\_2 & gyr\\_sp\\_sd\\_3 & gyr\\_n\\_samples\\\\\n",
       " <dbl> & <dbl> & <dbl> & <chr> & <int> & <dbl> & <dbl> & <dbl> & <dbl> & <dbl> & ⋯ & <dbl> & <dbl> & <dbl> & <dbl> & <dbl> & <dbl> & <dbl> & <dbl> & <dbl> & <int>\\\\\n",
       "\\hline\n",
       "\t 0 & 1 & 1 & -        &   0 & 0.908941 & -0.1649089 & 0.25218100 & 0.862500 & -0.1437500 & ⋯ & 0.0156250 & 0.0078125 & 0.0468750 & 1.597967e-02 & 3.941905e-02 & 1.764163e-02 & 0.0503112203 & 0.0661272999 & 0.0525853329 & 128\\\\\n",
       "\t 1 & 1 & 1 & STANDING & 128 & 1.015723 & -0.1324110 & 0.05088976 & 1.020833 & -0.1277778 & ⋯ & 0.0625000 & 0.0546875 & 0.0234375 & 1.200725e-03 & 2.435418e-02 & 3.629848e-03 & 0.0179655376 & 0.0725035465 & 0.0307453151 & 128\\\\\n",
       "\t 2 & 1 & 1 & STANDING & 256 & 1.019217 & -0.1241102 & 0.09873047 & 1.019445 & -0.1250000 & ⋯ & 0.0312500 & 0.0156250 & 0.0078125 & 3.785223e-06 & 2.675050e-06 & 3.296914e-06 & 0.0008474285 & 0.0008939049 & 0.0010082550 & 128\\\\\n",
       "\t 3 & 1 & 1 & STANDING & 384 & 1.020074 & -0.1254232 & 0.09264323 & 1.020833 & -0.1263889 & ⋯ & 0.0312500 & 0.0234375 & 0.0078125 & 5.830368e-06 & 4.833804e-06 & 4.049781e-06 & 0.0009059157 & 0.0011098283 & 0.0008918459 & 128\\\\\n",
       "\t 4 & 1 & 1 & STANDING & 512 & 1.020172 & -0.1297960 & 0.08509115 & 1.019445 & -0.1305556 & ⋯ & 0.0078125 & 0.0312500 & 0.0312500 & 5.064767e-06 & 4.562142e-06 & 3.406414e-06 & 0.0009504851 & 0.0010574223 & 0.0008545783 & 128\\\\\n",
       "\t 5 & 1 & 1 & STANDING & 640 & 1.020757 & -0.1285590 & 0.08496094 & 1.020833 & -0.1277778 & ⋯ & 0.0312500 & 0.0781250 & 0.0546875 & 4.914521e-06 & 3.769410e-06 & 4.274318e-06 & 0.0009253297 & 0.0009145764 & 0.0009264248 & 128\\\\\n",
       "\\end{tabular}\n"
      ],
      "text/markdown": [
       "\n",
       "A tibble: 6 × 139\n",
       "\n",
       "| epoch &lt;dbl&gt; | user_id &lt;dbl&gt; | exp_id &lt;dbl&gt; | activity &lt;chr&gt; | sampleid &lt;int&gt; | acc_level1 &lt;dbl&gt; | acc_level2 &lt;dbl&gt; | acc_level3 &lt;dbl&gt; | acc_median1 &lt;dbl&gt; | acc_median2 &lt;dbl&gt; | ⋯ ⋯ | gyr_sp_peak_1 &lt;dbl&gt; | gyr_sp_peak_2 &lt;dbl&gt; | gyr_sp_peak_3 &lt;dbl&gt; | gyr_sp_mean_1 &lt;dbl&gt; | gyr_sp_mean_2 &lt;dbl&gt; | gyr_sp_mean_3 &lt;dbl&gt; | gyr_sp_sd_1 &lt;dbl&gt; | gyr_sp_sd_2 &lt;dbl&gt; | gyr_sp_sd_3 &lt;dbl&gt; | gyr_n_samples &lt;int&gt; |\n",
       "|---|---|---|---|---|---|---|---|---|---|---|---|---|---|---|---|---|---|---|---|---|\n",
       "| 0 | 1 | 1 | -        |   0 | 0.908941 | -0.1649089 | 0.25218100 | 0.862500 | -0.1437500 | ⋯ | 0.0156250 | 0.0078125 | 0.0468750 | 1.597967e-02 | 3.941905e-02 | 1.764163e-02 | 0.0503112203 | 0.0661272999 | 0.0525853329 | 128 |\n",
       "| 1 | 1 | 1 | STANDING | 128 | 1.015723 | -0.1324110 | 0.05088976 | 1.020833 | -0.1277778 | ⋯ | 0.0625000 | 0.0546875 | 0.0234375 | 1.200725e-03 | 2.435418e-02 | 3.629848e-03 | 0.0179655376 | 0.0725035465 | 0.0307453151 | 128 |\n",
       "| 2 | 1 | 1 | STANDING | 256 | 1.019217 | -0.1241102 | 0.09873047 | 1.019445 | -0.1250000 | ⋯ | 0.0312500 | 0.0156250 | 0.0078125 | 3.785223e-06 | 2.675050e-06 | 3.296914e-06 | 0.0008474285 | 0.0008939049 | 0.0010082550 | 128 |\n",
       "| 3 | 1 | 1 | STANDING | 384 | 1.020074 | -0.1254232 | 0.09264323 | 1.020833 | -0.1263889 | ⋯ | 0.0312500 | 0.0234375 | 0.0078125 | 5.830368e-06 | 4.833804e-06 | 4.049781e-06 | 0.0009059157 | 0.0011098283 | 0.0008918459 | 128 |\n",
       "| 4 | 1 | 1 | STANDING | 512 | 1.020172 | -0.1297960 | 0.08509115 | 1.019445 | -0.1305556 | ⋯ | 0.0078125 | 0.0312500 | 0.0312500 | 5.064767e-06 | 4.562142e-06 | 3.406414e-06 | 0.0009504851 | 0.0010574223 | 0.0008545783 | 128 |\n",
       "| 5 | 1 | 1 | STANDING | 640 | 1.020757 | -0.1285590 | 0.08496094 | 1.020833 | -0.1277778 | ⋯ | 0.0312500 | 0.0781250 | 0.0546875 | 4.914521e-06 | 3.769410e-06 | 4.274318e-06 | 0.0009253297 | 0.0009145764 | 0.0009264248 | 128 |\n",
       "\n"
      ],
      "text/plain": [
       "  epoch user_id exp_id activity sampleid acc_level1 acc_level2 acc_level3\n",
       "1 0     1       1      -          0      0.908941   -0.1649089 0.25218100\n",
       "2 1     1       1      STANDING 128      1.015723   -0.1324110 0.05088976\n",
       "3 2     1       1      STANDING 256      1.019217   -0.1241102 0.09873047\n",
       "4 3     1       1      STANDING 384      1.020074   -0.1254232 0.09264323\n",
       "5 4     1       1      STANDING 512      1.020172   -0.1297960 0.08509115\n",
       "6 5     1       1      STANDING 640      1.020757   -0.1285590 0.08496094\n",
       "  acc_median1 acc_median2 ⋯ gyr_sp_peak_1 gyr_sp_peak_2 gyr_sp_peak_3\n",
       "1 0.862500    -0.1437500  ⋯ 0.0156250     0.0078125     0.0468750    \n",
       "2 1.020833    -0.1277778  ⋯ 0.0625000     0.0546875     0.0234375    \n",
       "3 1.019445    -0.1250000  ⋯ 0.0312500     0.0156250     0.0078125    \n",
       "4 1.020833    -0.1263889  ⋯ 0.0312500     0.0234375     0.0078125    \n",
       "5 1.019445    -0.1305556  ⋯ 0.0078125     0.0312500     0.0312500    \n",
       "6 1.020833    -0.1277778  ⋯ 0.0312500     0.0781250     0.0546875    \n",
       "  gyr_sp_mean_1 gyr_sp_mean_2 gyr_sp_mean_3 gyr_sp_sd_1  gyr_sp_sd_2 \n",
       "1 1.597967e-02  3.941905e-02  1.764163e-02  0.0503112203 0.0661272999\n",
       "2 1.200725e-03  2.435418e-02  3.629848e-03  0.0179655376 0.0725035465\n",
       "3 3.785223e-06  2.675050e-06  3.296914e-06  0.0008474285 0.0008939049\n",
       "4 5.830368e-06  4.833804e-06  4.049781e-06  0.0009059157 0.0011098283\n",
       "5 5.064767e-06  4.562142e-06  3.406414e-06  0.0009504851 0.0010574223\n",
       "6 4.914521e-06  3.769410e-06  4.274318e-06  0.0009253297 0.0009145764\n",
       "  gyr_sp_sd_3  gyr_n_samples\n",
       "1 0.0525853329 128          \n",
       "2 0.0307453151 128          \n",
       "3 0.0010082550 128          \n",
       "4 0.0008918459 128          \n",
       "5 0.0008545783 128          \n",
       "6 0.0009264248 128          "
      ]
     },
     "metadata": {},
     "output_type": "display_data"
    }
   ],
   "source": [
    "## 1. Accelerometer Data\n",
    "\n",
    "# obtain a list of all files\n",
    "filenames <- dir(\"./RawData/Train/\", \"^acc\", full.names = TRUE)\n",
    "\n",
    "# run extract_features() on all elements in obtained files and bind results row wise\n",
    "acc_data <- map_dfr(filenames, extract_features, sample_labels)\n",
    "\n",
    "# rename columns by assing acc_ at the beginning of each name\n",
    "acc_data <- acc_data %>% rename_with(~ paste0(\"acc_\", .x), 6:length(names(acc_data)))\n",
    "\n",
    "## 2. Gyroscope Data\n",
    "\n",
    "# obtain a list of all files\n",
    "filenames <- dir(\"./RawData/Train/\", \"^gyro\", full.names = TRUE)\n",
    "\n",
    "# run extract_features() on all elements in obtained files and bind results row wise\n",
    "gyro_data <- map_dfr(filenames, extract_features, sample_labels)\n",
    "\n",
    "# rename columns by assing acc_ at the beginning of each name\n",
    "gyro_data <- gyro_data %>% rename_with(~ paste0(\"gyr_\", .x), 6:length(names(gyro_data)))\n",
    "\n",
    "## 3. Merged Data (Acccelerometer + Gyroscope)\n",
    "merged_df <- acc_data %>%\n",
    "  left_join(gyro_data,\n",
    "    by = c(\"user_id\", \"exp_id\", \"activity\", \"sampleid\", \"epoch\")\n",
    "  )\n",
    "\n",
    "# Check the result of merging\n",
    "head(merged_df)"
   ]
  },
  {
   "cell_type": "markdown",
   "id": "9edc86f9",
   "metadata": {
    "papermill": {
     "duration": 0.010169,
     "end_time": "2023-09-28T11:36:26.123284",
     "exception": false,
     "start_time": "2023-09-28T11:36:26.113115",
     "status": "completed"
    },
    "tags": []
   },
   "source": [
    "The resulted data frame consists of 139 columns, 134 of which are predictors."
   ]
  },
  {
   "cell_type": "markdown",
   "id": "c3561498",
   "metadata": {
    "papermill": {
     "duration": 0.009992,
     "end_time": "2023-09-28T11:36:26.143442",
     "exception": false,
     "start_time": "2023-09-28T11:36:26.133450",
     "status": "completed"
    },
    "tags": []
   },
   "source": [
    "# 5. Cleaning Training Data\n",
    "We will first omit NA's to avoid errors and then clean the training data using functions from the `caret` package."
   ]
  },
  {
   "cell_type": "code",
   "execution_count": 10,
   "id": "12c58b31",
   "metadata": {
    "execution": {
     "iopub.execute_input": "2023-09-28T11:36:26.167029Z",
     "iopub.status.busy": "2023-09-28T11:36:26.165673Z",
     "iopub.status.idle": "2023-09-28T11:36:26.201919Z",
     "shell.execute_reply": "2023-09-28T11:36:26.199608Z"
    },
    "papermill": {
     "duration": 0.051299,
     "end_time": "2023-09-28T11:36:26.204783",
     "exception": false,
     "start_time": "2023-09-28T11:36:26.153484",
     "status": "completed"
    },
    "tags": []
   },
   "outputs": [],
   "source": [
    "# first, omit NA's to avoid errors later \n",
    "merged_df <- na.omit(merged_df)"
   ]
  },
  {
   "cell_type": "markdown",
   "id": "4e515867",
   "metadata": {
    "papermill": {
     "duration": 0.009949,
     "end_time": "2023-09-28T11:36:26.224737",
     "exception": false,
     "start_time": "2023-09-28T11:36:26.214788",
     "status": "completed"
    },
    "tags": []
   },
   "source": [
    "## 5.1 Highly correlated features\n",
    "To start with, let's create an appropriate data frame and call it 'check_cor'. "
   ]
  },
  {
   "cell_type": "code",
   "execution_count": 11,
   "id": "7f70e9e8",
   "metadata": {
    "execution": {
     "iopub.execute_input": "2023-09-28T11:36:26.248711Z",
     "iopub.status.busy": "2023-09-28T11:36:26.247236Z",
     "iopub.status.idle": "2023-09-28T11:36:26.273279Z",
     "shell.execute_reply": "2023-09-28T11:36:26.271612Z"
    },
    "papermill": {
     "duration": 0.041154,
     "end_time": "2023-09-28T11:36:26.275921",
     "exception": false,
     "start_time": "2023-09-28T11:36:26.234767",
     "status": "completed"
    },
    "tags": []
   },
   "outputs": [],
   "source": [
    "# select feature columns (all columns expect the first five)\n",
    "check_cor <- merged_df[, 6:ncol(merged_df)]\n",
    "\n",
    "# check whether a column contains character values \n",
    "char_columns <- sapply(check_cor, is.character)\n",
    "\n",
    "# convert character columns to numeric\n",
    "check_cor[char_columns] <- lapply(check_cor[char_columns], as.numeric)"
   ]
  },
  {
   "cell_type": "markdown",
   "id": "5037bded",
   "metadata": {
    "papermill": {
     "duration": 0.009816,
     "end_time": "2023-09-28T11:36:26.295785",
     "exception": false,
     "start_time": "2023-09-28T11:36:26.285969",
     "status": "completed"
    },
    "tags": []
   },
   "source": [
    "Now, using this data frame we can remove highly correlated features."
   ]
  },
  {
   "cell_type": "code",
   "execution_count": 12,
   "id": "c41358b1",
   "metadata": {
    "execution": {
     "iopub.execute_input": "2023-09-28T11:36:26.357185Z",
     "iopub.status.busy": "2023-09-28T11:36:26.355918Z",
     "iopub.status.idle": "2023-09-28T11:36:26.515322Z",
     "shell.execute_reply": "2023-09-28T11:36:26.513774Z"
    },
    "papermill": {
     "duration": 0.17294,
     "end_time": "2023-09-28T11:36:26.517159",
     "exception": false,
     "start_time": "2023-09-28T11:36:26.344219",
     "status": "completed"
    },
    "tags": []
   },
   "outputs": [
    {
     "data": {
      "text/html": [
       "<style>\n",
       ".list-inline {list-style: none; margin:0; padding: 0}\n",
       ".list-inline>li {display: inline-block}\n",
       ".list-inline>li:not(:last-child)::after {content: \"\\00b7\"; padding: 0 .5ex}\n",
       "</style>\n",
       "<ol class=list-inline><li>8</li><li>9</li><li>13</li><li>19</li><li>22</li><li>25</li><li>26</li><li>27</li><li>28</li><li>40</li><li>51</li><li>52</li><li>65</li><li>87</li><li>88</li><li>90</li><li>107</li><li>108</li><li>109</li><li>117</li><li>119</li><li>120</li><li>121</li><li>128</li><li>131</li><li>132</li><li>1</li><li>2</li><li>3</li><li>4</li><li>14</li><li>15</li><li>5</li><li>6</li><li>20</li><li>21</li><li>43</li><li>47</li><li>16</li><li>49</li><li>18</li><li>53</li><li>68</li><li>77</li><li>80</li><li>83</li><li>84</li><li>78</li><li>79</li><li>130</li><li>67</li></ol>\n"
      ],
      "text/latex": [
       "\\begin{enumerate*}\n",
       "\\item 8\n",
       "\\item 9\n",
       "\\item 13\n",
       "\\item 19\n",
       "\\item 22\n",
       "\\item 25\n",
       "\\item 26\n",
       "\\item 27\n",
       "\\item 28\n",
       "\\item 40\n",
       "\\item 51\n",
       "\\item 52\n",
       "\\item 65\n",
       "\\item 87\n",
       "\\item 88\n",
       "\\item 90\n",
       "\\item 107\n",
       "\\item 108\n",
       "\\item 109\n",
       "\\item 117\n",
       "\\item 119\n",
       "\\item 120\n",
       "\\item 121\n",
       "\\item 128\n",
       "\\item 131\n",
       "\\item 132\n",
       "\\item 1\n",
       "\\item 2\n",
       "\\item 3\n",
       "\\item 4\n",
       "\\item 14\n",
       "\\item 15\n",
       "\\item 5\n",
       "\\item 6\n",
       "\\item 20\n",
       "\\item 21\n",
       "\\item 43\n",
       "\\item 47\n",
       "\\item 16\n",
       "\\item 49\n",
       "\\item 18\n",
       "\\item 53\n",
       "\\item 68\n",
       "\\item 77\n",
       "\\item 80\n",
       "\\item 83\n",
       "\\item 84\n",
       "\\item 78\n",
       "\\item 79\n",
       "\\item 130\n",
       "\\item 67\n",
       "\\end{enumerate*}\n"
      ],
      "text/markdown": [
       "1. 8\n",
       "2. 9\n",
       "3. 13\n",
       "4. 19\n",
       "5. 22\n",
       "6. 25\n",
       "7. 26\n",
       "8. 27\n",
       "9. 28\n",
       "10. 40\n",
       "11. 51\n",
       "12. 52\n",
       "13. 65\n",
       "14. 87\n",
       "15. 88\n",
       "16. 90\n",
       "17. 107\n",
       "18. 108\n",
       "19. 109\n",
       "20. 117\n",
       "21. 119\n",
       "22. 120\n",
       "23. 121\n",
       "24. 128\n",
       "25. 131\n",
       "26. 132\n",
       "27. 1\n",
       "28. 2\n",
       "29. 3\n",
       "30. 4\n",
       "31. 14\n",
       "32. 15\n",
       "33. 5\n",
       "34. 6\n",
       "35. 20\n",
       "36. 21\n",
       "37. 43\n",
       "38. 47\n",
       "39. 16\n",
       "40. 49\n",
       "41. 18\n",
       "42. 53\n",
       "43. 68\n",
       "44. 77\n",
       "45. 80\n",
       "46. 83\n",
       "47. 84\n",
       "48. 78\n",
       "49. 79\n",
       "50. 130\n",
       "51. 67\n",
       "\n",
       "\n"
      ],
      "text/plain": [
       " [1]   8   9  13  19  22  25  26  27  28  40  51  52  65  87  88  90 107 108 109\n",
       "[20] 117 119 120 121 128 131 132   1   2   3   4  14  15   5   6  20  21  43  47\n",
       "[39]  16  49  18  53  68  77  80  83  84  78  79 130  67"
      ]
     },
     "metadata": {},
     "output_type": "display_data"
    }
   ],
   "source": [
    "cor_matrix <- cor(check_cor)\n",
    "high_corr <- caret::findCorrelation(cor_matrix, cutoff = 0.9)\n",
    "high_corr # 51 features will be removed \n",
    "check_cor <- check_cor[, -high_corr]"
   ]
  },
  {
   "cell_type": "markdown",
   "id": "00036031",
   "metadata": {
    "papermill": {
     "duration": 0.009962,
     "end_time": "2023-09-28T11:36:26.537301",
     "exception": false,
     "start_time": "2023-09-28T11:36:26.527339",
     "status": "completed"
    },
    "tags": []
   },
   "source": [
    "## 5.2 Highly correlated linear combinations"
   ]
  },
  {
   "cell_type": "code",
   "execution_count": 13,
   "id": "2a8192b1",
   "metadata": {
    "execution": {
     "iopub.execute_input": "2023-09-28T11:36:26.561741Z",
     "iopub.status.busy": "2023-09-28T11:36:26.560388Z",
     "iopub.status.idle": "2023-09-28T11:36:26.628113Z",
     "shell.execute_reply": "2023-09-28T11:36:26.626730Z"
    },
    "papermill": {
     "duration": 0.081591,
     "end_time": "2023-09-28T11:36:26.629973",
     "exception": false,
     "start_time": "2023-09-28T11:36:26.548382",
     "status": "completed"
    },
    "tags": []
   },
   "outputs": [
    {
     "data": {
      "text/html": [
       "<style>\n",
       ".list-inline {list-style: none; margin:0; padding: 0}\n",
       ".list-inline>li {display: inline-block}\n",
       ".list-inline>li:not(:last-child)::after {content: \"\\00b7\"; padding: 0 .5ex}\n",
       "</style>\n",
       "<ol class=list-inline><li>55</li><li>57</li></ol>\n"
      ],
      "text/latex": [
       "\\begin{enumerate*}\n",
       "\\item 55\n",
       "\\item 57\n",
       "\\end{enumerate*}\n"
      ],
      "text/markdown": [
       "1. 55\n",
       "2. 57\n",
       "\n",
       "\n"
      ],
      "text/plain": [
       "[1] 55 57"
      ]
     },
     "metadata": {},
     "output_type": "display_data"
    }
   ],
   "source": [
    "lin_combo <- caret::findLinearCombos(check_cor)\n",
    "lin_combo$remove # 2 features will be removed\n",
    "check_cor <- check_cor[, -lin_combo$remove]"
   ]
  },
  {
   "cell_type": "markdown",
   "id": "87a5ad6c",
   "metadata": {
    "papermill": {
     "duration": 0.010272,
     "end_time": "2023-09-28T11:36:26.650604",
     "exception": false,
     "start_time": "2023-09-28T11:36:26.640332",
     "status": "completed"
    },
    "tags": []
   },
   "source": [
    "## 5.3 Features with near-zero variation"
   ]
  },
  {
   "cell_type": "code",
   "execution_count": 14,
   "id": "fcad5bb9",
   "metadata": {
    "execution": {
     "iopub.execute_input": "2023-09-28T11:36:26.674432Z",
     "iopub.status.busy": "2023-09-28T11:36:26.673061Z",
     "iopub.status.idle": "2023-09-28T11:36:28.093776Z",
     "shell.execute_reply": "2023-09-28T11:36:28.092324Z"
    },
    "papermill": {
     "duration": 1.434904,
     "end_time": "2023-09-28T11:36:28.095664",
     "exception": false,
     "start_time": "2023-09-28T11:36:26.660760",
     "status": "completed"
    },
    "tags": []
   },
   "outputs": [
    {
     "data": {
      "text/html": [
       "81"
      ],
      "text/latex": [
       "81"
      ],
      "text/markdown": [
       "81"
      ],
      "text/plain": [
       "[1] 81"
      ]
     },
     "metadata": {},
     "output_type": "display_data"
    }
   ],
   "source": [
    "zero_variance <- caret::nearZeroVar(check_cor)\n",
    "zero_variance # 1 feature will be removed\n",
    "check_cor <- check_cor[, -zero_variance]"
   ]
  },
  {
   "cell_type": "markdown",
   "id": "c34728cc",
   "metadata": {
    "_uuid": "689e96162446707ee9e88a4c229d169f76290b62",
    "papermill": {
     "duration": 0.010584,
     "end_time": "2023-09-28T11:36:28.117099",
     "exception": false,
     "start_time": "2023-09-28T11:36:28.106515",
     "status": "completed"
    },
    "tags": []
   },
   "source": [
    "# 6. Model fitting\n",
    "\n",
    "Before we fit our models, let's prepare the data after the data cleaning process."
   ]
  },
  {
   "cell_type": "code",
   "execution_count": 15,
   "id": "364a1136",
   "metadata": {
    "execution": {
     "iopub.execute_input": "2023-09-28T11:36:28.143415Z",
     "iopub.status.busy": "2023-09-28T11:36:28.142052Z",
     "iopub.status.idle": "2023-09-28T11:36:28.205074Z",
     "shell.execute_reply": "2023-09-28T11:36:28.203610Z"
    },
    "papermill": {
     "duration": 0.078652,
     "end_time": "2023-09-28T11:36:28.206943",
     "exception": false,
     "start_time": "2023-09-28T11:36:28.128291",
     "status": "completed"
    },
    "tags": []
   },
   "outputs": [
    {
     "data": {
      "text/html": [
       "81"
      ],
      "text/latex": [
       "81"
      ],
      "text/markdown": [
       "81"
      ],
      "text/plain": [
       "[1] 81"
      ]
     },
     "metadata": {},
     "output_type": "display_data"
    },
    {
     "data": {
      "text/html": [
       "<table class=\"dataframe\">\n",
       "<caption>A data.frame: 6 × 81</caption>\n",
       "<thead>\n",
       "\t<tr><th></th><th scope=col>activity</th><th scope=col>acc_most_common_value1</th><th scope=col>acc_var1</th><th scope=col>acc_var2</th><th scope=col>acc_var3</th><th scope=col>acc_cor1_3</th><th scope=col>acc_iqr2</th><th scope=col>acc_iqr3</th><th scope=col>acc_q2_75</th><th scope=col>acc_q3_75</th><th scope=col>⋯</th><th scope=col>gyr_ar12_1</th><th scope=col>gyr_ar13_1</th><th scope=col>gyr_sp_entropy_1</th><th scope=col>gyr_sp_entropy_2</th><th scope=col>gyr_sp_entropy_3</th><th scope=col>gyr_sp_peak_1</th><th scope=col>gyr_sp_peak_2</th><th scope=col>gyr_sp_peak_3</th><th scope=col>gyr_sp_mean_2</th><th scope=col>gyr_sp_sd_3</th></tr>\n",
       "\t<tr><th></th><th scope=col>&lt;chr&gt;</th><th scope=col>&lt;dbl&gt;</th><th scope=col>&lt;dbl&gt;</th><th scope=col>&lt;dbl&gt;</th><th scope=col>&lt;dbl&gt;</th><th scope=col>&lt;dbl&gt;</th><th scope=col>&lt;dbl&gt;</th><th scope=col>&lt;dbl&gt;</th><th scope=col>&lt;dbl&gt;</th><th scope=col>&lt;dbl&gt;</th><th scope=col>⋯</th><th scope=col>&lt;dbl&gt;</th><th scope=col>&lt;dbl&gt;</th><th scope=col>&lt;dbl&gt;</th><th scope=col>&lt;dbl&gt;</th><th scope=col>&lt;dbl&gt;</th><th scope=col>&lt;dbl&gt;</th><th scope=col>&lt;dbl&gt;</th><th scope=col>&lt;dbl&gt;</th><th scope=col>&lt;dbl&gt;</th><th scope=col>&lt;dbl&gt;</th></tr>\n",
       "</thead>\n",
       "<tbody>\n",
       "\t<tr><th scope=row>1</th><td>-       </td><td>0.8513889</td><td>2.155967e-02</td><td>6.712583e-03</td><td>1.244492e-01</td><td>-0.420072219</td><td>0.119097221</td><td>0.637500033</td><td>-0.1065972</td><td>0.55625003</td><td>⋯</td><td> 0.40172273</td><td>-0.11561293</td><td>1.1917661</td><td>0.4574458</td><td>1.1473921</td><td>0.0156250</td><td>0.0078125</td><td>0.0468750</td><td>3.941905e-02</td><td>0.0525853329</td></tr>\n",
       "\t<tr><th scope=row>2</th><td>STANDING</td><td>1.0180556</td><td>6.771014e-03</td><td>2.409512e-03</td><td>1.068274e-02</td><td>-0.135918265</td><td>0.043402774</td><td>0.084027781</td><td>-0.1152778</td><td>0.10902778</td><td>⋯</td><td>-0.06176686</td><td> 0.13260638</td><td>1.1455780</td><td>0.7867863</td><td>0.5717178</td><td>0.0625000</td><td>0.0546875</td><td>0.0234375</td><td>2.435418e-02</td><td>0.0307453151</td></tr>\n",
       "\t<tr><th scope=row>3</th><td>STANDING</td><td>1.0194445</td><td>6.433431e-06</td><td>1.521138e-05</td><td>3.147260e-05</td><td>-0.004478246</td><td>0.005555555</td><td>0.005555555</td><td>-0.1208333</td><td>0.10138889</td><td>⋯</td><td> 0.01317126</td><td>-0.14471552</td><td>0.5147188</td><td>1.6490536</td><td>1.0916376</td><td>0.0312500</td><td>0.0156250</td><td>0.0078125</td><td>2.675050e-06</td><td>0.0010082550</td></tr>\n",
       "\t<tr><th scope=row>4</th><td>STANDING</td><td>1.0194445</td><td>1.084077e-05</td><td>4.886504e-05</td><td>5.690920e-05</td><td>-0.064075880</td><td>0.010069442</td><td>0.009722225</td><td>-0.1204861</td><td>0.09722223</td><td>⋯</td><td>-0.09806813</td><td>-0.05906356</td><td>0.7588593</td><td>1.0927530</td><td>0.7281952</td><td>0.0312500</td><td>0.0234375</td><td>0.0078125</td><td>4.833804e-06</td><td>0.0008918459</td></tr>\n",
       "\t<tr><th scope=row>5</th><td>STANDING</td><td>1.0194445</td><td>8.109932e-06</td><td>2.402485e-05</td><td>2.884358e-05</td><td>-0.076268087</td><td>0.005555555</td><td>0.005555555</td><td>-0.1277778</td><td>0.08750000</td><td>⋯</td><td>-0.35076721</td><td> 0.57796574</td><td>0.6202620</td><td>0.6067769</td><td>0.4276092</td><td>0.0078125</td><td>0.0312500</td><td>0.0312500</td><td>4.562142e-06</td><td>0.0008545783</td></tr>\n",
       "\t<tr><th scope=row>6</th><td>STANDING</td><td>1.0222223</td><td>7.998862e-06</td><td>6.232838e-05</td><td>5.468400e-05</td><td>-0.220633409</td><td>0.006944447</td><td>0.008333333</td><td>-0.1236111</td><td>0.08888889</td><td>⋯</td><td>-0.05752755</td><td> 0.48180132</td><td>0.6120862</td><td>0.8216832</td><td>0.7281952</td><td>0.0312500</td><td>0.0781250</td><td>0.0546875</td><td>3.769410e-06</td><td>0.0009264248</td></tr>\n",
       "</tbody>\n",
       "</table>\n"
      ],
      "text/latex": [
       "A data.frame: 6 × 81\n",
       "\\begin{tabular}{r|lllllllllllllllllllll}\n",
       "  & activity & acc\\_most\\_common\\_value1 & acc\\_var1 & acc\\_var2 & acc\\_var3 & acc\\_cor1\\_3 & acc\\_iqr2 & acc\\_iqr3 & acc\\_q2\\_75 & acc\\_q3\\_75 & ⋯ & gyr\\_ar12\\_1 & gyr\\_ar13\\_1 & gyr\\_sp\\_entropy\\_1 & gyr\\_sp\\_entropy\\_2 & gyr\\_sp\\_entropy\\_3 & gyr\\_sp\\_peak\\_1 & gyr\\_sp\\_peak\\_2 & gyr\\_sp\\_peak\\_3 & gyr\\_sp\\_mean\\_2 & gyr\\_sp\\_sd\\_3\\\\\n",
       "  & <chr> & <dbl> & <dbl> & <dbl> & <dbl> & <dbl> & <dbl> & <dbl> & <dbl> & <dbl> & ⋯ & <dbl> & <dbl> & <dbl> & <dbl> & <dbl> & <dbl> & <dbl> & <dbl> & <dbl> & <dbl>\\\\\n",
       "\\hline\n",
       "\t1 & -        & 0.8513889 & 2.155967e-02 & 6.712583e-03 & 1.244492e-01 & -0.420072219 & 0.119097221 & 0.637500033 & -0.1065972 & 0.55625003 & ⋯ &  0.40172273 & -0.11561293 & 1.1917661 & 0.4574458 & 1.1473921 & 0.0156250 & 0.0078125 & 0.0468750 & 3.941905e-02 & 0.0525853329\\\\\n",
       "\t2 & STANDING & 1.0180556 & 6.771014e-03 & 2.409512e-03 & 1.068274e-02 & -0.135918265 & 0.043402774 & 0.084027781 & -0.1152778 & 0.10902778 & ⋯ & -0.06176686 &  0.13260638 & 1.1455780 & 0.7867863 & 0.5717178 & 0.0625000 & 0.0546875 & 0.0234375 & 2.435418e-02 & 0.0307453151\\\\\n",
       "\t3 & STANDING & 1.0194445 & 6.433431e-06 & 1.521138e-05 & 3.147260e-05 & -0.004478246 & 0.005555555 & 0.005555555 & -0.1208333 & 0.10138889 & ⋯ &  0.01317126 & -0.14471552 & 0.5147188 & 1.6490536 & 1.0916376 & 0.0312500 & 0.0156250 & 0.0078125 & 2.675050e-06 & 0.0010082550\\\\\n",
       "\t4 & STANDING & 1.0194445 & 1.084077e-05 & 4.886504e-05 & 5.690920e-05 & -0.064075880 & 0.010069442 & 0.009722225 & -0.1204861 & 0.09722223 & ⋯ & -0.09806813 & -0.05906356 & 0.7588593 & 1.0927530 & 0.7281952 & 0.0312500 & 0.0234375 & 0.0078125 & 4.833804e-06 & 0.0008918459\\\\\n",
       "\t5 & STANDING & 1.0194445 & 8.109932e-06 & 2.402485e-05 & 2.884358e-05 & -0.076268087 & 0.005555555 & 0.005555555 & -0.1277778 & 0.08750000 & ⋯ & -0.35076721 &  0.57796574 & 0.6202620 & 0.6067769 & 0.4276092 & 0.0078125 & 0.0312500 & 0.0312500 & 4.562142e-06 & 0.0008545783\\\\\n",
       "\t6 & STANDING & 1.0222223 & 7.998862e-06 & 6.232838e-05 & 5.468400e-05 & -0.220633409 & 0.006944447 & 0.008333333 & -0.1236111 & 0.08888889 & ⋯ & -0.05752755 &  0.48180132 & 0.6120862 & 0.8216832 & 0.7281952 & 0.0312500 & 0.0781250 & 0.0546875 & 3.769410e-06 & 0.0009264248\\\\\n",
       "\\end{tabular}\n"
      ],
      "text/markdown": [
       "\n",
       "A data.frame: 6 × 81\n",
       "\n",
       "| <!--/--> | activity &lt;chr&gt; | acc_most_common_value1 &lt;dbl&gt; | acc_var1 &lt;dbl&gt; | acc_var2 &lt;dbl&gt; | acc_var3 &lt;dbl&gt; | acc_cor1_3 &lt;dbl&gt; | acc_iqr2 &lt;dbl&gt; | acc_iqr3 &lt;dbl&gt; | acc_q2_75 &lt;dbl&gt; | acc_q3_75 &lt;dbl&gt; | ⋯ ⋯ | gyr_ar12_1 &lt;dbl&gt; | gyr_ar13_1 &lt;dbl&gt; | gyr_sp_entropy_1 &lt;dbl&gt; | gyr_sp_entropy_2 &lt;dbl&gt; | gyr_sp_entropy_3 &lt;dbl&gt; | gyr_sp_peak_1 &lt;dbl&gt; | gyr_sp_peak_2 &lt;dbl&gt; | gyr_sp_peak_3 &lt;dbl&gt; | gyr_sp_mean_2 &lt;dbl&gt; | gyr_sp_sd_3 &lt;dbl&gt; |\n",
       "|---|---|---|---|---|---|---|---|---|---|---|---|---|---|---|---|---|---|---|---|---|---|\n",
       "| 1 | -        | 0.8513889 | 2.155967e-02 | 6.712583e-03 | 1.244492e-01 | -0.420072219 | 0.119097221 | 0.637500033 | -0.1065972 | 0.55625003 | ⋯ |  0.40172273 | -0.11561293 | 1.1917661 | 0.4574458 | 1.1473921 | 0.0156250 | 0.0078125 | 0.0468750 | 3.941905e-02 | 0.0525853329 |\n",
       "| 2 | STANDING | 1.0180556 | 6.771014e-03 | 2.409512e-03 | 1.068274e-02 | -0.135918265 | 0.043402774 | 0.084027781 | -0.1152778 | 0.10902778 | ⋯ | -0.06176686 |  0.13260638 | 1.1455780 | 0.7867863 | 0.5717178 | 0.0625000 | 0.0546875 | 0.0234375 | 2.435418e-02 | 0.0307453151 |\n",
       "| 3 | STANDING | 1.0194445 | 6.433431e-06 | 1.521138e-05 | 3.147260e-05 | -0.004478246 | 0.005555555 | 0.005555555 | -0.1208333 | 0.10138889 | ⋯ |  0.01317126 | -0.14471552 | 0.5147188 | 1.6490536 | 1.0916376 | 0.0312500 | 0.0156250 | 0.0078125 | 2.675050e-06 | 0.0010082550 |\n",
       "| 4 | STANDING | 1.0194445 | 1.084077e-05 | 4.886504e-05 | 5.690920e-05 | -0.064075880 | 0.010069442 | 0.009722225 | -0.1204861 | 0.09722223 | ⋯ | -0.09806813 | -0.05906356 | 0.7588593 | 1.0927530 | 0.7281952 | 0.0312500 | 0.0234375 | 0.0078125 | 4.833804e-06 | 0.0008918459 |\n",
       "| 5 | STANDING | 1.0194445 | 8.109932e-06 | 2.402485e-05 | 2.884358e-05 | -0.076268087 | 0.005555555 | 0.005555555 | -0.1277778 | 0.08750000 | ⋯ | -0.35076721 |  0.57796574 | 0.6202620 | 0.6067769 | 0.4276092 | 0.0078125 | 0.0312500 | 0.0312500 | 4.562142e-06 | 0.0008545783 |\n",
       "| 6 | STANDING | 1.0222223 | 7.998862e-06 | 6.232838e-05 | 5.468400e-05 | -0.220633409 | 0.006944447 | 0.008333333 | -0.1236111 | 0.08888889 | ⋯ | -0.05752755 |  0.48180132 | 0.6120862 | 0.8216832 | 0.7281952 | 0.0312500 | 0.0781250 | 0.0546875 | 3.769410e-06 | 0.0009264248 |\n",
       "\n"
      ],
      "text/plain": [
       "  activity acc_most_common_value1 acc_var1     acc_var2     acc_var3    \n",
       "1 -        0.8513889              2.155967e-02 6.712583e-03 1.244492e-01\n",
       "2 STANDING 1.0180556              6.771014e-03 2.409512e-03 1.068274e-02\n",
       "3 STANDING 1.0194445              6.433431e-06 1.521138e-05 3.147260e-05\n",
       "4 STANDING 1.0194445              1.084077e-05 4.886504e-05 5.690920e-05\n",
       "5 STANDING 1.0194445              8.109932e-06 2.402485e-05 2.884358e-05\n",
       "6 STANDING 1.0222223              7.998862e-06 6.232838e-05 5.468400e-05\n",
       "  acc_cor1_3   acc_iqr2    acc_iqr3    acc_q2_75  acc_q3_75  ⋯ gyr_ar12_1 \n",
       "1 -0.420072219 0.119097221 0.637500033 -0.1065972 0.55625003 ⋯  0.40172273\n",
       "2 -0.135918265 0.043402774 0.084027781 -0.1152778 0.10902778 ⋯ -0.06176686\n",
       "3 -0.004478246 0.005555555 0.005555555 -0.1208333 0.10138889 ⋯  0.01317126\n",
       "4 -0.064075880 0.010069442 0.009722225 -0.1204861 0.09722223 ⋯ -0.09806813\n",
       "5 -0.076268087 0.005555555 0.005555555 -0.1277778 0.08750000 ⋯ -0.35076721\n",
       "6 -0.220633409 0.006944447 0.008333333 -0.1236111 0.08888889 ⋯ -0.05752755\n",
       "  gyr_ar13_1  gyr_sp_entropy_1 gyr_sp_entropy_2 gyr_sp_entropy_3 gyr_sp_peak_1\n",
       "1 -0.11561293 1.1917661        0.4574458        1.1473921        0.0156250    \n",
       "2  0.13260638 1.1455780        0.7867863        0.5717178        0.0625000    \n",
       "3 -0.14471552 0.5147188        1.6490536        1.0916376        0.0312500    \n",
       "4 -0.05906356 0.7588593        1.0927530        0.7281952        0.0312500    \n",
       "5  0.57796574 0.6202620        0.6067769        0.4276092        0.0078125    \n",
       "6  0.48180132 0.6120862        0.8216832        0.7281952        0.0312500    \n",
       "  gyr_sp_peak_2 gyr_sp_peak_3 gyr_sp_mean_2 gyr_sp_sd_3 \n",
       "1 0.0078125     0.0468750     3.941905e-02  0.0525853329\n",
       "2 0.0546875     0.0234375     2.435418e-02  0.0307453151\n",
       "3 0.0156250     0.0078125     2.675050e-06  0.0010082550\n",
       "4 0.0234375     0.0078125     4.833804e-06  0.0008918459\n",
       "5 0.0312500     0.0312500     4.562142e-06  0.0008545783\n",
       "6 0.0781250     0.0546875     3.769410e-06  0.0009264248"
      ]
     },
     "metadata": {},
     "output_type": "display_data"
    }
   ],
   "source": [
    "# add activity column back\n",
    "merged_df <- cbind(merged_df[, 4], check_cor)\n",
    "\n",
    "# 139 columns - 1:5 columns - 51 higly correlated features - 2 highly correlated linear combinations \n",
    "# - 1 near-zero variation feature + 4th column = 81 columns\n",
    "\n",
    "ncol(merged_df)\n",
    "head(merged_df)"
   ]
  },
  {
   "cell_type": "markdown",
   "id": "5630c839",
   "metadata": {
    "papermill": {
     "duration": 0.010688,
     "end_time": "2023-09-28T11:36:28.228348",
     "exception": false,
     "start_time": "2023-09-28T11:36:28.217660",
     "status": "completed"
    },
    "tags": []
   },
   "source": [
    "Now we are going to use five models discussed in Chapter 4 of 'An Introduction to Statistical Learning' book: **linear discriminant analysis, quadratic discriminant analysis, k-nearest neighbours, k-nearest neighbours with standardized features and Naive Bayes method.**\n",
    "\n",
    "In the code printed under we check to see if there is an imbalance in the data. This is a potential issue for the <span style=\"color:crimson;\"> QDA </span> (Bejaoui et al., 2021)."
   ]
  },
  {
   "cell_type": "code",
   "execution_count": 16,
   "id": "77ddce45",
   "metadata": {
    "execution": {
     "iopub.execute_input": "2023-09-28T11:36:28.252922Z",
     "iopub.status.busy": "2023-09-28T11:36:28.251624Z",
     "iopub.status.idle": "2023-09-28T11:36:28.271051Z",
     "shell.execute_reply": "2023-09-28T11:36:28.269575Z"
    },
    "papermill": {
     "duration": 0.033734,
     "end_time": "2023-09-28T11:36:28.272850",
     "exception": false,
     "start_time": "2023-09-28T11:36:28.239116",
     "status": "completed"
    },
    "tags": []
   },
   "outputs": [
    {
     "name": "stdout",
     "output_type": "stream",
     "text": [
      "                 Var1 Freq\n",
      "1                   - 1351\n",
      "2              LAYING  775\n",
      "3          LIE_TO_SIT   60\n",
      "4        LIE_TO_STAND   78\n",
      "5          SIT_TO_LIE   68\n",
      "6        SIT_TO_STAND   45\n",
      "7             SITTING  708\n",
      "8        STAND_TO_LIE   76\n",
      "9        STAND_TO_SIT   53\n",
      "10           STANDING  800\n",
      "11            WALKING  773\n",
      "12 WALKING_DOWNSTAIRS  715\n",
      "13   WALKING_UPSTAIRS  749\n"
     ]
    }
   ],
   "source": [
    "# Count the occurrences of each character in the \"activity\" column\n",
    "activity_counts <- table(merged_df$activity)\n",
    "\n",
    "# Convert the result to a data frame (optional)\n",
    "activity_counts_df <- as.data.frame(activity_counts)\n",
    "\n",
    "# Print the counts\n",
    "print(activity_counts_df)"
   ]
  },
  {
   "cell_type": "markdown",
   "id": "39f5f9d5",
   "metadata": {
    "papermill": {
     "duration": 0.010878,
     "end_time": "2023-09-28T11:36:28.294638",
     "exception": false,
     "start_time": "2023-09-28T11:36:28.283760",
     "status": "completed"
    },
    "tags": []
   },
   "source": [
    "The data is imbalanced (which is not surprising) but this will produce an error for QDA. The code that now follows is used to manually oversample the underrepresented data."
   ]
  },
  {
   "cell_type": "code",
   "execution_count": 17,
   "id": "1079d116",
   "metadata": {
    "execution": {
     "iopub.execute_input": "2023-09-28T11:36:28.319519Z",
     "iopub.status.busy": "2023-09-28T11:36:28.318022Z",
     "iopub.status.idle": "2023-09-28T11:36:28.503097Z",
     "shell.execute_reply": "2023-09-28T11:36:28.501104Z"
    },
    "papermill": {
     "duration": 0.200151,
     "end_time": "2023-09-28T11:36:28.505612",
     "exception": false,
     "start_time": "2023-09-28T11:36:28.305461",
     "status": "completed"
    },
    "tags": []
   },
   "outputs": [
    {
     "name": "stdout",
     "output_type": "stream",
     "text": [
      "[1] 15\n"
     ]
    }
   ],
   "source": [
    "# Find the counts of each class\n",
    "class_counts <- table(merged_df$activity)\n",
    "\n",
    "# Sort class counts in descending order and keep the top 5\n",
    "sorted_counts_top <- sort(class_counts, decreasing = TRUE)[1:5]\n",
    "sorted_counts_bottom <- sort(class_counts, increasing = TRUE)[1:5]\n",
    "\n",
    "# Calculate the mean of the top 5 largest classes\n",
    "mean_top5 <- mean(sorted_counts_top)\n",
    "mean_bottom5 <- mean(sorted_counts_bottom)\n",
    "\n",
    "# Calculate the class imbalance ratio\n",
    "imbalance_ratio <- round(mean_top5 / mean_bottom5, digits = 0)\n",
    "print(imbalance_ratio)\n",
    "\n",
    "merged_df_balance <- merged_df\n",
    "\n",
    "# Count the occurrences of each unique value in the 'activity' column\n",
    "activity_counts <- merged_df_balance %>%\n",
    "  group_by(activity) %>%\n",
    "  summarise(count = n())\n",
    "\n",
    "# Identify labels that occur less than 100 times\n",
    "labels_to_copy <- activity_counts %>%\n",
    "  filter(count < 100) %>%\n",
    "  pull(activity)\n",
    "\n",
    "# Create a new DataFrame to store the copied rows\n",
    "copied_df <- data.frame()\n",
    "\n",
    "# Loop through the labels to be copied\n",
    "for (label in labels_to_copy) {\n",
    "  # Filter rows with the current label\n",
    "  label_rows <- merged_df_balance %>%\n",
    "    filter(activity == label)\n",
    "  \n",
    "  # Copy the rows 15 times and append them to the new DataFrame\n",
    "  for (i in 1:imbalance_ratio) {\n",
    "    copied_df <- bind_rows(copied_df, label_rows)\n",
    "  }\n",
    "}\n",
    "\n",
    "# Combine the copied_df with the original DataFrame\n",
    "merged_df_balance <- bind_rows(merged_df_balance, copied_df)"
   ]
  },
  {
   "cell_type": "code",
   "execution_count": 18,
   "id": "2dc6c7bc",
   "metadata": {
    "execution": {
     "iopub.execute_input": "2023-09-28T11:36:28.530939Z",
     "iopub.status.busy": "2023-09-28T11:36:28.529500Z",
     "iopub.status.idle": "2023-09-28T11:36:28.548545Z",
     "shell.execute_reply": "2023-09-28T11:36:28.546974Z"
    },
    "papermill": {
     "duration": 0.033718,
     "end_time": "2023-09-28T11:36:28.550433",
     "exception": false,
     "start_time": "2023-09-28T11:36:28.516715",
     "status": "completed"
    },
    "tags": []
   },
   "outputs": [
    {
     "name": "stdout",
     "output_type": "stream",
     "text": [
      "                 Var1 Freq\n",
      "1                   - 1351\n",
      "2              LAYING  775\n",
      "3          LIE_TO_SIT  960\n",
      "4        LIE_TO_STAND 1248\n",
      "5          SIT_TO_LIE 1088\n",
      "6        SIT_TO_STAND  720\n",
      "7             SITTING  708\n",
      "8        STAND_TO_LIE 1216\n",
      "9        STAND_TO_SIT  848\n",
      "10           STANDING  800\n",
      "11            WALKING  773\n",
      "12 WALKING_DOWNSTAIRS  715\n",
      "13   WALKING_UPSTAIRS  749\n"
     ]
    }
   ],
   "source": [
    "# Count the occurrences of each character in the \"activity\" column\n",
    "activity_counts <- table(merged_df_balance$activity)\n",
    "\n",
    "# Convert the result to a data frame (optional)\n",
    "activity_counts_df <- as.data.frame(activity_counts)\n",
    "\n",
    "# Print the counts\n",
    "print(activity_counts_df)"
   ]
  },
  {
   "cell_type": "code",
   "execution_count": 19,
   "id": "bd00cca4",
   "metadata": {
    "execution": {
     "iopub.execute_input": "2023-09-28T11:36:28.576104Z",
     "iopub.status.busy": "2023-09-28T11:36:28.574584Z",
     "iopub.status.idle": "2023-09-28T11:36:28.585549Z",
     "shell.execute_reply": "2023-09-28T11:36:28.583798Z"
    },
    "papermill": {
     "duration": 0.026384,
     "end_time": "2023-09-28T11:36:28.588019",
     "exception": false,
     "start_time": "2023-09-28T11:36:28.561635",
     "status": "completed"
    },
    "tags": []
   },
   "outputs": [],
   "source": [
    "# quadratic discriminant analysis\n",
    "#fit_qda = caret::train(activity ~ .,\n",
    "                      # data = merged_df_balance, method = \"qda\", trControl = trcntr)\n",
    "#fit_qda"
   ]
  },
  {
   "cell_type": "markdown",
   "id": "269c449f",
   "metadata": {
    "papermill": {
     "duration": 0.01154,
     "end_time": "2023-09-28T11:36:28.610751",
     "exception": false,
     "start_time": "2023-09-28T11:36:28.599211",
     "status": "completed"
    },
    "tags": []
   },
   "source": [
    "<div class=\"alert alert-block alert-info\"> 📌 The QDA still produces a lot of errors so we've decided to not include it in our model comparison. </div>\n",
    "\n",
    "***"
   ]
  },
  {
   "cell_type": "markdown",
   "id": "c0800fd0",
   "metadata": {
    "papermill": {
     "duration": 0.011068,
     "end_time": "2023-09-28T11:36:28.632845",
     "exception": false,
     "start_time": "2023-09-28T11:36:28.621777",
     "status": "completed"
    },
    "tags": []
   },
   "source": [
    "Now we are going to use four other models discussed in Chapter 4 of 'An Introduction to Statistical Learning' book: linear discriminant analysis, k-nearest neighbours, k-nearest neighbours with standardized features, and naive Bayes classifier. "
   ]
  },
  {
   "cell_type": "code",
   "execution_count": 20,
   "id": "b0788bb4",
   "metadata": {
    "execution": {
     "iopub.execute_input": "2023-09-28T11:36:28.658585Z",
     "iopub.status.busy": "2023-09-28T11:36:28.657094Z",
     "iopub.status.idle": "2023-09-28T11:37:01.573498Z",
     "shell.execute_reply": "2023-09-28T11:37:01.571615Z"
    },
    "papermill": {
     "duration": 32.931601,
     "end_time": "2023-09-28T11:37:01.575826",
     "exception": false,
     "start_time": "2023-09-28T11:36:28.644225",
     "status": "completed"
    },
    "tags": []
   },
   "outputs": [
    {
     "data": {
      "text/plain": [
       "Linear Discriminant Analysis \n",
       "\n",
       "6251 samples\n",
       "  80 predictor\n",
       "  13 classes: '-', 'LAYING', 'LIE_TO_SIT', 'LIE_TO_STAND', 'SIT_TO_LIE', 'SIT_TO_STAND', 'SITTING', 'STAND_TO_LIE', 'STAND_TO_SIT', 'STANDING', 'WALKING', 'WALKING_DOWNSTAIRS', 'WALKING_UPSTAIRS' \n",
       "\n",
       "No pre-processing\n",
       "Resampling: Cross-Validated (10 fold) \n",
       "Summary of sample sizes: 5625, 5626, 5628, 5626, 5624, 5624, ... \n",
       "Resampling results:\n",
       "\n",
       "  Accuracy   Kappa    \n",
       "  0.7950725  0.7640373\n"
      ]
     },
     "metadata": {},
     "output_type": "display_data"
    },
    {
     "data": {
      "text/plain": [
       "k-Nearest Neighbors \n",
       "\n",
       "6251 samples\n",
       "  80 predictor\n",
       "  13 classes: '-', 'LAYING', 'LIE_TO_SIT', 'LIE_TO_STAND', 'SIT_TO_LIE', 'SIT_TO_STAND', 'SITTING', 'STAND_TO_LIE', 'STAND_TO_SIT', 'STANDING', 'WALKING', 'WALKING_DOWNSTAIRS', 'WALKING_UPSTAIRS' \n",
       "\n",
       "No pre-processing\n",
       "Resampling: Cross-Validated (10 fold) \n",
       "Summary of sample sizes: 5625, 5626, 5627, 5625, 5628, 5627, ... \n",
       "Resampling results across tuning parameters:\n",
       "\n",
       "  k  Accuracy   Kappa    \n",
       "  5  0.6829337  0.6334243\n",
       "  7  0.6781478  0.6276486\n",
       "  9  0.6706288  0.6188826\n",
       "\n",
       "Accuracy was used to select the optimal model using the largest value.\n",
       "The final value used for the model was k = 5."
      ]
     },
     "metadata": {},
     "output_type": "display_data"
    },
    {
     "data": {
      "text/plain": [
       "k-Nearest Neighbors \n",
       "\n",
       "6251 samples\n",
       "  80 predictor\n",
       "  13 classes: '-', 'LAYING', 'LIE_TO_SIT', 'LIE_TO_STAND', 'SIT_TO_LIE', 'SIT_TO_STAND', 'SITTING', 'STAND_TO_LIE', 'STAND_TO_SIT', 'STANDING', 'WALKING', 'WALKING_DOWNSTAIRS', 'WALKING_UPSTAIRS' \n",
       "\n",
       "Pre-processing: scaled (80) \n",
       "Resampling: Cross-Validated (10 fold) \n",
       "Summary of sample sizes: 5625, 5626, 5628, 5627, 5626, 5626, ... \n",
       "Resampling results across tuning parameters:\n",
       "\n",
       "  k  Accuracy   Kappa    \n",
       "  5  0.8061182  0.7762365\n",
       "  7  0.8056354  0.7755666\n",
       "  9  0.8042003  0.7738885\n",
       "\n",
       "Accuracy was used to select the optimal model using the largest value.\n",
       "The final value used for the model was k = 5."
      ]
     },
     "metadata": {},
     "output_type": "display_data"
    }
   ],
   "source": [
    "# defining 10 fold cross-validation for all of the models\n",
    "trcntr = trainControl('cv', number = 10, p = 0.8)\n",
    "\n",
    "# linear discriminant analysis\n",
    "fit_lda = caret::train(activity ~ .,\n",
    "                       data = merged_df, method = \"lda\", trControl = trcntr)\n",
    "fit_lda\n",
    "\n",
    "# k-nearest neighbours\n",
    "fit_knn <- caret::train(activity ~ .,\n",
    "                        data = merged_df, method = \"knn\", trControl = trcntr)\n",
    "fit_knn\n",
    "\n",
    "# k-nearest neighbours with standardized features\n",
    "fit_knns <- caret::train(activity ~ .,\n",
    "                         data = merged_df, method = \"knn\", trControl = trcntr, preProcess = \"scale\")\n",
    "fit_knns\n",
    "\n",
    "#naiveBayes \n",
    "naive <- e1071::naiveBayes(activity ~ ., data = merged_df)\n",
    "predictions <- predict(naive, merged_df)\n",
    "correct_predictions <- sum(predictions == merged_df$activity)\n",
    "naive_acc <- correct_predictions / nrow(merged_df)"
   ]
  },
  {
   "cell_type": "markdown",
   "id": "356ca3b6",
   "metadata": {
    "papermill": {
     "duration": 0.011674,
     "end_time": "2023-09-28T11:37:01.599189",
     "exception": false,
     "start_time": "2023-09-28T11:37:01.587515",
     "status": "completed"
    },
    "tags": []
   },
   "source": [
    "## 6.1 Model Comparison\n",
    "\n",
    "<span style=\" font-size:16px;\"> We can create a barplot which would allow to compare the cross-validated accuraces of our models. As we can see on the barplot <span style=\"color:crimson;\">  k-nearest neighbours with standardized features </span>   <span/> performed the best. Therefore, we will use that model in our prediction.\n",
    "\n",
    "    \n",
    "\n",
    "    \n"
   ]
  },
  {
   "cell_type": "code",
   "execution_count": 21,
   "id": "b4a1ddce",
   "metadata": {
    "execution": {
     "iopub.execute_input": "2023-09-28T11:37:01.625851Z",
     "iopub.status.busy": "2023-09-28T11:37:01.624568Z",
     "iopub.status.idle": "2023-09-28T11:37:01.866574Z",
     "shell.execute_reply": "2023-09-28T11:37:01.865219Z"
    },
    "papermill": {
     "duration": 0.258363,
     "end_time": "2023-09-28T11:37:01.868876",
     "exception": false,
     "start_time": "2023-09-28T11:37:01.610513",
     "status": "completed"
    },
    "tags": []
   },
   "outputs": [
    {
     "data": {
      "image/png": "[encoded data removed]"
     },
     "metadata": {
      "image/png": {
       "height": 420,
       "width": 420
      }
     },
     "output_type": "display_data"
    }
   ],
   "source": [
    "# put all fitted models in a named list\n",
    "models <- list(lda = fit_lda, knn = fit_knn, knns = fit_knns)\n",
    "\n",
    "# extract the cross-validated accuracies from each model\n",
    "Acc <- sapply(models, function(mdl) max(mdl$results$Accuracy))\n",
    "# Add the Naive Bayes accuracy to the Acc vector\n",
    "Acc[\"naive\"] <- naive_acc\n",
    "              \n",
    "# make a barplot with only the best performing model in red\n",
    "color <- 1 + (Acc >= max(Acc))\n",
    "barplot(Acc, horiz = TRUE, las = 1, col = color)\n"
   ]
  },
  {
   "cell_type": "markdown",
   "id": "222c2e93",
   "metadata": {
    "_uuid": "63f77917e08cd690655137184750cfac494607ce",
    "papermill": {
     "duration": 0.011452,
     "end_time": "2023-09-28T11:37:01.892767",
     "exception": false,
     "start_time": "2023-09-28T11:37:01.881315",
     "status": "completed"
    },
    "tags": []
   },
   "source": [
    "# 7. Submissions\n",
    "\n",
    "## 7.1 Merging test data\n",
    "\n",
    "Similarly to section 4, here we will apply extract_features() on all elements in accelerometer files and gyroscope files. However this time the files contain test data instead of training data. "
   ]
  },
  {
   "cell_type": "code",
   "execution_count": 22,
   "id": "1797829f",
   "metadata": {
    "execution": {
     "iopub.execute_input": "2023-09-28T11:37:01.918902Z",
     "iopub.status.busy": "2023-09-28T11:37:01.917486Z",
     "iopub.status.idle": "2023-09-28T11:37:42.590739Z",
     "shell.execute_reply": "2023-09-28T11:37:42.588670Z"
    },
    "papermill": {
     "duration": 40.702549,
     "end_time": "2023-09-28T11:37:42.606657",
     "exception": false,
     "start_time": "2023-09-28T11:37:01.904108",
     "status": "completed"
    },
    "tags": []
   },
   "outputs": [
    {
     "name": "stderr",
     "output_type": "stream",
     "text": [
      "Warning message:\n",
      "“\u001b[1m\u001b[22mThere were 2 warnings in `summarise()`.\n",
      "The first warning was:\n",
      "\u001b[1m\u001b[22m\u001b[36mℹ\u001b[39m In argument: `ar2_2 = lagged_cor(X2, lag = 2)`.\n",
      "\u001b[36mℹ\u001b[39m In group 139: `epoch = 138`.\n",
      "Caused by warning in `cor()`:\n",
      "\u001b[33m!\u001b[39m the standard deviation is zero\n",
      "\u001b[1m\u001b[22m\u001b[36mℹ\u001b[39m Run `dplyr::last_dplyr_warnings()` to see the 1 remaining warning.”\n"
     ]
    },
    {
     "data": {
      "text/html": [
       "<table class=\"dataframe\">\n",
       "<caption>A tibble: 6 × 139</caption>\n",
       "<thead>\n",
       "\t<tr><th scope=col>epoch</th><th scope=col>user_id</th><th scope=col>exp_id</th><th scope=col>activity</th><th scope=col>sampleid</th><th scope=col>acc_level1</th><th scope=col>acc_level2</th><th scope=col>acc_level3</th><th scope=col>acc_median1</th><th scope=col>acc_median2</th><th scope=col>⋯</th><th scope=col>gyr_sp_peak_1</th><th scope=col>gyr_sp_peak_2</th><th scope=col>gyr_sp_peak_3</th><th scope=col>gyr_sp_mean_1</th><th scope=col>gyr_sp_mean_2</th><th scope=col>gyr_sp_mean_3</th><th scope=col>gyr_sp_sd_1</th><th scope=col>gyr_sp_sd_2</th><th scope=col>gyr_sp_sd_3</th><th scope=col>gyr_n_samples</th></tr>\n",
       "\t<tr><th scope=col>&lt;dbl&gt;</th><th scope=col>&lt;dbl&gt;</th><th scope=col>&lt;dbl&gt;</th><th scope=col>&lt;chr&gt;</th><th scope=col>&lt;int&gt;</th><th scope=col>&lt;dbl&gt;</th><th scope=col>&lt;dbl&gt;</th><th scope=col>&lt;dbl&gt;</th><th scope=col>&lt;dbl&gt;</th><th scope=col>&lt;dbl&gt;</th><th scope=col>⋯</th><th scope=col>&lt;dbl&gt;</th><th scope=col>&lt;dbl&gt;</th><th scope=col>&lt;dbl&gt;</th><th scope=col>&lt;dbl&gt;</th><th scope=col>&lt;dbl&gt;</th><th scope=col>&lt;dbl&gt;</th><th scope=col>&lt;dbl&gt;</th><th scope=col>&lt;dbl&gt;</th><th scope=col>&lt;dbl&gt;</th><th scope=col>&lt;int&gt;</th></tr>\n",
       "</thead>\n",
       "<tbody>\n",
       "\t<tr><td>0</td><td>2</td><td>3</td><td>-</td><td>  0</td><td>0.1693034</td><td>-0.2382921</td><td> 0.8003690</td><td>0.3736111</td><td>-0.09861112</td><td>⋯</td><td>0.0390625</td><td>0.0078125</td><td>0.0078125</td><td>6.649702e-02</td><td>8.405664e-02</td><td>1.299314e-02</td><td>0.0673519692</td><td>0.0865161591</td><td>0.0385035775</td><td>128</td></tr>\n",
       "\t<tr><td>1</td><td>2</td><td>3</td><td>-</td><td>128</td><td>0.8997071</td><td>-0.3948568</td><td>-0.2429905</td><td>0.9541667</td><td>-0.32222224</td><td>⋯</td><td>0.0703125</td><td>0.0859375</td><td>0.0156250</td><td>2.112746e-02</td><td>4.620913e-02</td><td>2.985326e-02</td><td>0.0648998986</td><td>0.0811762584</td><td>0.0594614725</td><td>128</td></tr>\n",
       "\t<tr><td>2</td><td>2</td><td>3</td><td>-</td><td>256</td><td>0.9974935</td><td>-0.2712565</td><td> 0.1135525</td><td>0.9972222</td><td>-0.26944447</td><td>⋯</td><td>0.0625000</td><td>0.0234375</td><td>0.0312500</td><td>7.125756e-04</td><td>1.885431e-03</td><td>4.497974e-04</td><td>0.0140940530</td><td>0.0216827923</td><td>0.0092996180</td><td>128</td></tr>\n",
       "\t<tr><td>3</td><td>2</td><td>3</td><td>-</td><td>384</td><td>0.9928928</td><td>-0.2702691</td><td> 0.1391276</td><td>0.9930556</td><td>-0.26944447</td><td>⋯</td><td>0.0078125</td><td>0.0156250</td><td>0.0078125</td><td>1.936236e-05</td><td>1.576628e-05</td><td>1.157673e-05</td><td>0.0012334046</td><td>0.0014579923</td><td>0.0013317163</td><td>128</td></tr>\n",
       "\t<tr><td>4</td><td>2</td><td>3</td><td>-</td><td>512</td><td>0.9908854</td><td>-0.2861979</td><td> 0.1286350</td><td>0.9909722</td><td>-0.28611112</td><td>⋯</td><td>0.0078125</td><td>0.0312500</td><td>0.0390625</td><td>8.137027e-06</td><td>7.494763e-06</td><td>6.702299e-06</td><td>0.0009158878</td><td>0.0009492719</td><td>0.0009459367</td><td>128</td></tr>\n",
       "\t<tr><td>5</td><td>2</td><td>3</td><td>-</td><td>640</td><td>0.9909180</td><td>-0.2904948</td><td> 0.1215712</td><td>0.9902778</td><td>-0.28888890</td><td>⋯</td><td>0.0312500</td><td>0.0468750</td><td>0.0468750</td><td>6.573663e-06</td><td>1.111430e-05</td><td>1.244990e-05</td><td>0.0010116155</td><td>0.0011919468</td><td>0.0012965526</td><td>128</td></tr>\n",
       "</tbody>\n",
       "</table>\n"
      ],
      "text/latex": [
       "A tibble: 6 × 139\n",
       "\\begin{tabular}{lllllllllllllllllllll}\n",
       " epoch & user\\_id & exp\\_id & activity & sampleid & acc\\_level1 & acc\\_level2 & acc\\_level3 & acc\\_median1 & acc\\_median2 & ⋯ & gyr\\_sp\\_peak\\_1 & gyr\\_sp\\_peak\\_2 & gyr\\_sp\\_peak\\_3 & gyr\\_sp\\_mean\\_1 & gyr\\_sp\\_mean\\_2 & gyr\\_sp\\_mean\\_3 & gyr\\_sp\\_sd\\_1 & gyr\\_sp\\_sd\\_2 & gyr\\_sp\\_sd\\_3 & gyr\\_n\\_samples\\\\\n",
       " <dbl> & <dbl> & <dbl> & <chr> & <int> & <dbl> & <dbl> & <dbl> & <dbl> & <dbl> & ⋯ & <dbl> & <dbl> & <dbl> & <dbl> & <dbl> & <dbl> & <dbl> & <dbl> & <dbl> & <int>\\\\\n",
       "\\hline\n",
       "\t 0 & 2 & 3 & - &   0 & 0.1693034 & -0.2382921 &  0.8003690 & 0.3736111 & -0.09861112 & ⋯ & 0.0390625 & 0.0078125 & 0.0078125 & 6.649702e-02 & 8.405664e-02 & 1.299314e-02 & 0.0673519692 & 0.0865161591 & 0.0385035775 & 128\\\\\n",
       "\t 1 & 2 & 3 & - & 128 & 0.8997071 & -0.3948568 & -0.2429905 & 0.9541667 & -0.32222224 & ⋯ & 0.0703125 & 0.0859375 & 0.0156250 & 2.112746e-02 & 4.620913e-02 & 2.985326e-02 & 0.0648998986 & 0.0811762584 & 0.0594614725 & 128\\\\\n",
       "\t 2 & 2 & 3 & - & 256 & 0.9974935 & -0.2712565 &  0.1135525 & 0.9972222 & -0.26944447 & ⋯ & 0.0625000 & 0.0234375 & 0.0312500 & 7.125756e-04 & 1.885431e-03 & 4.497974e-04 & 0.0140940530 & 0.0216827923 & 0.0092996180 & 128\\\\\n",
       "\t 3 & 2 & 3 & - & 384 & 0.9928928 & -0.2702691 &  0.1391276 & 0.9930556 & -0.26944447 & ⋯ & 0.0078125 & 0.0156250 & 0.0078125 & 1.936236e-05 & 1.576628e-05 & 1.157673e-05 & 0.0012334046 & 0.0014579923 & 0.0013317163 & 128\\\\\n",
       "\t 4 & 2 & 3 & - & 512 & 0.9908854 & -0.2861979 &  0.1286350 & 0.9909722 & -0.28611112 & ⋯ & 0.0078125 & 0.0312500 & 0.0390625 & 8.137027e-06 & 7.494763e-06 & 6.702299e-06 & 0.0009158878 & 0.0009492719 & 0.0009459367 & 128\\\\\n",
       "\t 5 & 2 & 3 & - & 640 & 0.9909180 & -0.2904948 &  0.1215712 & 0.9902778 & -0.28888890 & ⋯ & 0.0312500 & 0.0468750 & 0.0468750 & 6.573663e-06 & 1.111430e-05 & 1.244990e-05 & 0.0010116155 & 0.0011919468 & 0.0012965526 & 128\\\\\n",
       "\\end{tabular}\n"
      ],
      "text/markdown": [
       "\n",
       "A tibble: 6 × 139\n",
       "\n",
       "| epoch &lt;dbl&gt; | user_id &lt;dbl&gt; | exp_id &lt;dbl&gt; | activity &lt;chr&gt; | sampleid &lt;int&gt; | acc_level1 &lt;dbl&gt; | acc_level2 &lt;dbl&gt; | acc_level3 &lt;dbl&gt; | acc_median1 &lt;dbl&gt; | acc_median2 &lt;dbl&gt; | ⋯ ⋯ | gyr_sp_peak_1 &lt;dbl&gt; | gyr_sp_peak_2 &lt;dbl&gt; | gyr_sp_peak_3 &lt;dbl&gt; | gyr_sp_mean_1 &lt;dbl&gt; | gyr_sp_mean_2 &lt;dbl&gt; | gyr_sp_mean_3 &lt;dbl&gt; | gyr_sp_sd_1 &lt;dbl&gt; | gyr_sp_sd_2 &lt;dbl&gt; | gyr_sp_sd_3 &lt;dbl&gt; | gyr_n_samples &lt;int&gt; |\n",
       "|---|---|---|---|---|---|---|---|---|---|---|---|---|---|---|---|---|---|---|---|---|\n",
       "| 0 | 2 | 3 | - |   0 | 0.1693034 | -0.2382921 |  0.8003690 | 0.3736111 | -0.09861112 | ⋯ | 0.0390625 | 0.0078125 | 0.0078125 | 6.649702e-02 | 8.405664e-02 | 1.299314e-02 | 0.0673519692 | 0.0865161591 | 0.0385035775 | 128 |\n",
       "| 1 | 2 | 3 | - | 128 | 0.8997071 | -0.3948568 | -0.2429905 | 0.9541667 | -0.32222224 | ⋯ | 0.0703125 | 0.0859375 | 0.0156250 | 2.112746e-02 | 4.620913e-02 | 2.985326e-02 | 0.0648998986 | 0.0811762584 | 0.0594614725 | 128 |\n",
       "| 2 | 2 | 3 | - | 256 | 0.9974935 | -0.2712565 |  0.1135525 | 0.9972222 | -0.26944447 | ⋯ | 0.0625000 | 0.0234375 | 0.0312500 | 7.125756e-04 | 1.885431e-03 | 4.497974e-04 | 0.0140940530 | 0.0216827923 | 0.0092996180 | 128 |\n",
       "| 3 | 2 | 3 | - | 384 | 0.9928928 | -0.2702691 |  0.1391276 | 0.9930556 | -0.26944447 | ⋯ | 0.0078125 | 0.0156250 | 0.0078125 | 1.936236e-05 | 1.576628e-05 | 1.157673e-05 | 0.0012334046 | 0.0014579923 | 0.0013317163 | 128 |\n",
       "| 4 | 2 | 3 | - | 512 | 0.9908854 | -0.2861979 |  0.1286350 | 0.9909722 | -0.28611112 | ⋯ | 0.0078125 | 0.0312500 | 0.0390625 | 8.137027e-06 | 7.494763e-06 | 6.702299e-06 | 0.0009158878 | 0.0009492719 | 0.0009459367 | 128 |\n",
       "| 5 | 2 | 3 | - | 640 | 0.9909180 | -0.2904948 |  0.1215712 | 0.9902778 | -0.28888890 | ⋯ | 0.0312500 | 0.0468750 | 0.0468750 | 6.573663e-06 | 1.111430e-05 | 1.244990e-05 | 0.0010116155 | 0.0011919468 | 0.0012965526 | 128 |\n",
       "\n"
      ],
      "text/plain": [
       "  epoch user_id exp_id activity sampleid acc_level1 acc_level2 acc_level3\n",
       "1 0     2       3      -          0      0.1693034  -0.2382921  0.8003690\n",
       "2 1     2       3      -        128      0.8997071  -0.3948568 -0.2429905\n",
       "3 2     2       3      -        256      0.9974935  -0.2712565  0.1135525\n",
       "4 3     2       3      -        384      0.9928928  -0.2702691  0.1391276\n",
       "5 4     2       3      -        512      0.9908854  -0.2861979  0.1286350\n",
       "6 5     2       3      -        640      0.9909180  -0.2904948  0.1215712\n",
       "  acc_median1 acc_median2 ⋯ gyr_sp_peak_1 gyr_sp_peak_2 gyr_sp_peak_3\n",
       "1 0.3736111   -0.09861112 ⋯ 0.0390625     0.0078125     0.0078125    \n",
       "2 0.9541667   -0.32222224 ⋯ 0.0703125     0.0859375     0.0156250    \n",
       "3 0.9972222   -0.26944447 ⋯ 0.0625000     0.0234375     0.0312500    \n",
       "4 0.9930556   -0.26944447 ⋯ 0.0078125     0.0156250     0.0078125    \n",
       "5 0.9909722   -0.28611112 ⋯ 0.0078125     0.0312500     0.0390625    \n",
       "6 0.9902778   -0.28888890 ⋯ 0.0312500     0.0468750     0.0468750    \n",
       "  gyr_sp_mean_1 gyr_sp_mean_2 gyr_sp_mean_3 gyr_sp_sd_1  gyr_sp_sd_2 \n",
       "1 6.649702e-02  8.405664e-02  1.299314e-02  0.0673519692 0.0865161591\n",
       "2 2.112746e-02  4.620913e-02  2.985326e-02  0.0648998986 0.0811762584\n",
       "3 7.125756e-04  1.885431e-03  4.497974e-04  0.0140940530 0.0216827923\n",
       "4 1.936236e-05  1.576628e-05  1.157673e-05  0.0012334046 0.0014579923\n",
       "5 8.137027e-06  7.494763e-06  6.702299e-06  0.0009158878 0.0009492719\n",
       "6 6.573663e-06  1.111430e-05  1.244990e-05  0.0010116155 0.0011919468\n",
       "  gyr_sp_sd_3  gyr_n_samples\n",
       "1 0.0385035775 128          \n",
       "2 0.0594614725 128          \n",
       "3 0.0092996180 128          \n",
       "4 0.0013317163 128          \n",
       "5 0.0009459367 128          \n",
       "6 0.0012965526 128          "
      ]
     },
     "metadata": {},
     "output_type": "display_data"
    }
   ],
   "source": [
    "\n",
    "## 1. Accelerometer Data\n",
    "# obtain a list of all files\n",
    "filenames_test <- dir(\"./RawData/Test/\", \"^acc\", full.names = TRUE)\n",
    "\n",
    "# run extract_features() on all elements in obtained files and bind results row wise\n",
    "acc_data_test <- map_dfr(filenames_test, extract_features, sample_labels)\n",
    "\n",
    "# rename columns by assing acc_ at the beginning of each name\n",
    "acc_data_test <- acc_data_test %>% rename_with(~ paste0(\"acc_\", .x), 6:length(names(acc_data_test)))\n",
    "\n",
    "## 2. Gyroscope Data\n",
    "# obtain a list of all files\n",
    "filenames_test <- dir(\"./RawData/Test/\", \"^gyro\", full.names = TRUE)\n",
    "\n",
    "# run extract_features() on all elements in obtained files and bind results row wise\n",
    "gyro_data_test <- map_dfr(filenames_test, extract_features, sample_labels)\n",
    "\n",
    "# rename columns by assing acc_ at the beginning of each name\n",
    "gyro_data_test <- gyro_data_test %>% rename_with(~ paste0(\"gyr_\", .x), 6:length(names(gyro_data_test)))\n",
    "\n",
    "## 3. Merged Data (Acccelerometer + Gyroscope)\n",
    "merged_df_test <- acc_data_test %>%\n",
    "  left_join(gyro_data_test,\n",
    "    by = c(\"user_id\", \"exp_id\", \"activity\", \"sampleid\", \"epoch\")\n",
    "  )\n",
    "\n",
    "# Check the result of merging\n",
    "head(merged_df_test)\n"
   ]
  },
  {
   "cell_type": "markdown",
   "id": "96140769",
   "metadata": {
    "papermill": {
     "duration": 0.011392,
     "end_time": "2023-09-28T11:37:42.629573",
     "exception": false,
     "start_time": "2023-09-28T11:37:42.618181",
     "status": "completed"
    },
    "tags": []
   },
   "source": [
    "## 7.2 Preparing data for making predictions"
   ]
  },
  {
   "cell_type": "code",
   "execution_count": 23,
   "id": "5502e097",
   "metadata": {
    "execution": {
     "iopub.execute_input": "2023-09-28T11:37:42.655549Z",
     "iopub.status.busy": "2023-09-28T11:37:42.654306Z",
     "iopub.status.idle": "2023-09-28T11:37:42.700062Z",
     "shell.execute_reply": "2023-09-28T11:37:42.698590Z"
    },
    "papermill": {
     "duration": 0.061484,
     "end_time": "2023-09-28T11:37:42.702457",
     "exception": false,
     "start_time": "2023-09-28T11:37:42.640973",
     "status": "completed"
    },
    "tags": []
   },
   "outputs": [
    {
     "name": "stderr",
     "output_type": "stream",
     "text": [
      "Warning message in lapply(pred_df[char_columns_test], as.numeric):\n",
      "“NAs introduced by coercion”\n"
     ]
    }
   ],
   "source": [
    "# remove columns that are not an activity column or a feature column\n",
    "pred_df <- merged_df_test[, -c(1:3, 5, ncol(merged_df_test))]\n",
    "\n",
    "# check whether a column contains character values\n",
    "char_columns_test <- sapply(pred_df, is.character)\n",
    "\n",
    "# convert character columns to numeric\n",
    "pred_df[char_columns_test] <- lapply(pred_df[char_columns_test], as.numeric)\n",
    "\n",
    "# replace any missing values in all columns of the pred_df data frame with the value 1\n",
    "pred_df <- pred_df %>% mutate(across(everything(), ~ replace_na(.x, 1)))"
   ]
  },
  {
   "cell_type": "markdown",
   "id": "59148f20",
   "metadata": {
    "papermill": {
     "duration": 0.011942,
     "end_time": "2023-09-28T11:37:42.726426",
     "exception": false,
     "start_time": "2023-09-28T11:37:42.714484",
     "status": "completed"
    },
    "tags": []
   },
   "source": [
    "## 7.3 Making predictions"
   ]
  },
  {
   "cell_type": "code",
   "execution_count": 24,
   "id": "4ed0f0f5",
   "metadata": {
    "execution": {
     "iopub.execute_input": "2023-09-28T11:37:42.753470Z",
     "iopub.status.busy": "2023-09-28T11:37:42.752171Z",
     "iopub.status.idle": "2023-09-28T11:37:44.362319Z",
     "shell.execute_reply": "2023-09-28T11:37:44.360342Z"
    },
    "papermill": {
     "duration": 1.62627,
     "end_time": "2023-09-28T11:37:44.364504",
     "exception": false,
     "start_time": "2023-09-28T11:37:42.738234",
     "status": "completed"
    },
    "tags": []
   },
   "outputs": [
    {
     "data": {
      "text/html": [
       "<table class=\"dataframe\">\n",
       "<caption>A tibble: 6 × 134</caption>\n",
       "<thead>\n",
       "\t<tr><th scope=col>activity</th><th scope=col>acc_level1</th><th scope=col>acc_level2</th><th scope=col>acc_level3</th><th scope=col>acc_median1</th><th scope=col>acc_median2</th><th scope=col>acc_median3</th><th scope=col>acc_most_common_value1</th><th scope=col>acc_most_common_value2</th><th scope=col>acc_most_common_value3</th><th scope=col>⋯</th><th scope=col>gyr_sp_entropy_3</th><th scope=col>gyr_sp_peak_1</th><th scope=col>gyr_sp_peak_2</th><th scope=col>gyr_sp_peak_3</th><th scope=col>gyr_sp_mean_1</th><th scope=col>gyr_sp_mean_2</th><th scope=col>gyr_sp_mean_3</th><th scope=col>gyr_sp_sd_1</th><th scope=col>gyr_sp_sd_2</th><th scope=col>gyr_sp_sd_3</th></tr>\n",
       "\t<tr><th scope=col>&lt;fct&gt;</th><th scope=col>&lt;dbl&gt;</th><th scope=col>&lt;dbl&gt;</th><th scope=col>&lt;dbl&gt;</th><th scope=col>&lt;dbl&gt;</th><th scope=col>&lt;dbl&gt;</th><th scope=col>&lt;dbl&gt;</th><th scope=col>&lt;dbl&gt;</th><th scope=col>&lt;dbl&gt;</th><th scope=col>&lt;dbl&gt;</th><th scope=col>⋯</th><th scope=col>&lt;dbl&gt;</th><th scope=col>&lt;dbl&gt;</th><th scope=col>&lt;dbl&gt;</th><th scope=col>&lt;dbl&gt;</th><th scope=col>&lt;dbl&gt;</th><th scope=col>&lt;dbl&gt;</th><th scope=col>&lt;dbl&gt;</th><th scope=col>&lt;dbl&gt;</th><th scope=col>&lt;dbl&gt;</th><th scope=col>&lt;dbl&gt;</th></tr>\n",
       "</thead>\n",
       "<tbody>\n",
       "\t<tr><td>-               </td><td>0.1693034</td><td>-0.2382921</td><td> 0.8003690</td><td>0.3736111</td><td>-0.09861112</td><td> 0.9027778</td><td>0.4527778</td><td>-0.0250000</td><td> 0.8902778</td><td>⋯</td><td>0.3533693</td><td>0.0390625</td><td>0.0078125</td><td>0.0078125</td><td>6.649702e-02</td><td>8.405664e-02</td><td>1.299314e-02</td><td>0.0673519692</td><td>0.0865161591</td><td>0.0385035775</td></tr>\n",
       "\t<tr><td>WALKING_UPSTAIRS</td><td>0.8997071</td><td>-0.3948568</td><td>-0.2429905</td><td>0.9541667</td><td>-0.32222224</td><td>-0.2451389</td><td>0.9500000</td><td>-0.3347222</td><td>-0.4236111</td><td>⋯</td><td>0.6252003</td><td>0.0703125</td><td>0.0859375</td><td>0.0156250</td><td>2.112746e-02</td><td>4.620913e-02</td><td>2.985326e-02</td><td>0.0648998986</td><td>0.0811762584</td><td>0.0594614725</td></tr>\n",
       "\t<tr><td>STANDING        </td><td>0.9974935</td><td>-0.2712565</td><td> 0.1135525</td><td>0.9972222</td><td>-0.26944447</td><td> 0.1222222</td><td>0.9888889</td><td>-0.2694445</td><td> 0.1208333</td><td>⋯</td><td>1.3466590</td><td>0.0625000</td><td>0.0234375</td><td>0.0312500</td><td>7.125756e-04</td><td>1.885431e-03</td><td>4.497974e-04</td><td>0.0140940530</td><td>0.0216827923</td><td>0.0092996180</td></tr>\n",
       "\t<tr><td>SITTING         </td><td>0.9928928</td><td>-0.2702691</td><td> 0.1391276</td><td>0.9930556</td><td>-0.26944447</td><td> 0.1375000</td><td>0.9930556</td><td>-0.2652778</td><td> 0.1375000</td><td>⋯</td><td>0.6035395</td><td>0.0078125</td><td>0.0156250</td><td>0.0078125</td><td>1.936236e-05</td><td>1.576628e-05</td><td>1.157673e-05</td><td>0.0012334046</td><td>0.0014579923</td><td>0.0013317163</td></tr>\n",
       "\t<tr><td>STANDING        </td><td>0.9908854</td><td>-0.2861979</td><td> 0.1286350</td><td>0.9909722</td><td>-0.28611112</td><td> 0.1291667</td><td>0.9888889</td><td>-0.2888889</td><td> 0.1277778</td><td>⋯</td><td>0.6550369</td><td>0.0078125</td><td>0.0312500</td><td>0.0390625</td><td>8.137027e-06</td><td>7.494763e-06</td><td>6.702299e-06</td><td>0.0009158878</td><td>0.0009492719</td><td>0.0009459367</td></tr>\n",
       "\t<tr><td>STANDING        </td><td>0.9909180</td><td>-0.2904948</td><td> 0.1215712</td><td>0.9902778</td><td>-0.28888890</td><td> 0.1208333</td><td>0.9888889</td><td>-0.2888889</td><td> 0.1138889</td><td>⋯</td><td>0.3782424</td><td>0.0312500</td><td>0.0468750</td><td>0.0468750</td><td>6.573663e-06</td><td>1.111430e-05</td><td>1.244990e-05</td><td>0.0010116155</td><td>0.0011919468</td><td>0.0012965526</td></tr>\n",
       "</tbody>\n",
       "</table>\n"
      ],
      "text/latex": [
       "A tibble: 6 × 134\n",
       "\\begin{tabular}{lllllllllllllllllllll}\n",
       " activity & acc\\_level1 & acc\\_level2 & acc\\_level3 & acc\\_median1 & acc\\_median2 & acc\\_median3 & acc\\_most\\_common\\_value1 & acc\\_most\\_common\\_value2 & acc\\_most\\_common\\_value3 & ⋯ & gyr\\_sp\\_entropy\\_3 & gyr\\_sp\\_peak\\_1 & gyr\\_sp\\_peak\\_2 & gyr\\_sp\\_peak\\_3 & gyr\\_sp\\_mean\\_1 & gyr\\_sp\\_mean\\_2 & gyr\\_sp\\_mean\\_3 & gyr\\_sp\\_sd\\_1 & gyr\\_sp\\_sd\\_2 & gyr\\_sp\\_sd\\_3\\\\\n",
       " <fct> & <dbl> & <dbl> & <dbl> & <dbl> & <dbl> & <dbl> & <dbl> & <dbl> & <dbl> & ⋯ & <dbl> & <dbl> & <dbl> & <dbl> & <dbl> & <dbl> & <dbl> & <dbl> & <dbl> & <dbl>\\\\\n",
       "\\hline\n",
       "\t -                & 0.1693034 & -0.2382921 &  0.8003690 & 0.3736111 & -0.09861112 &  0.9027778 & 0.4527778 & -0.0250000 &  0.8902778 & ⋯ & 0.3533693 & 0.0390625 & 0.0078125 & 0.0078125 & 6.649702e-02 & 8.405664e-02 & 1.299314e-02 & 0.0673519692 & 0.0865161591 & 0.0385035775\\\\\n",
       "\t WALKING\\_UPSTAIRS & 0.8997071 & -0.3948568 & -0.2429905 & 0.9541667 & -0.32222224 & -0.2451389 & 0.9500000 & -0.3347222 & -0.4236111 & ⋯ & 0.6252003 & 0.0703125 & 0.0859375 & 0.0156250 & 2.112746e-02 & 4.620913e-02 & 2.985326e-02 & 0.0648998986 & 0.0811762584 & 0.0594614725\\\\\n",
       "\t STANDING         & 0.9974935 & -0.2712565 &  0.1135525 & 0.9972222 & -0.26944447 &  0.1222222 & 0.9888889 & -0.2694445 &  0.1208333 & ⋯ & 1.3466590 & 0.0625000 & 0.0234375 & 0.0312500 & 7.125756e-04 & 1.885431e-03 & 4.497974e-04 & 0.0140940530 & 0.0216827923 & 0.0092996180\\\\\n",
       "\t SITTING          & 0.9928928 & -0.2702691 &  0.1391276 & 0.9930556 & -0.26944447 &  0.1375000 & 0.9930556 & -0.2652778 &  0.1375000 & ⋯ & 0.6035395 & 0.0078125 & 0.0156250 & 0.0078125 & 1.936236e-05 & 1.576628e-05 & 1.157673e-05 & 0.0012334046 & 0.0014579923 & 0.0013317163\\\\\n",
       "\t STANDING         & 0.9908854 & -0.2861979 &  0.1286350 & 0.9909722 & -0.28611112 &  0.1291667 & 0.9888889 & -0.2888889 &  0.1277778 & ⋯ & 0.6550369 & 0.0078125 & 0.0312500 & 0.0390625 & 8.137027e-06 & 7.494763e-06 & 6.702299e-06 & 0.0009158878 & 0.0009492719 & 0.0009459367\\\\\n",
       "\t STANDING         & 0.9909180 & -0.2904948 &  0.1215712 & 0.9902778 & -0.28888890 &  0.1208333 & 0.9888889 & -0.2888889 &  0.1138889 & ⋯ & 0.3782424 & 0.0312500 & 0.0468750 & 0.0468750 & 6.573663e-06 & 1.111430e-05 & 1.244990e-05 & 0.0010116155 & 0.0011919468 & 0.0012965526\\\\\n",
       "\\end{tabular}\n"
      ],
      "text/markdown": [
       "\n",
       "A tibble: 6 × 134\n",
       "\n",
       "| activity &lt;fct&gt; | acc_level1 &lt;dbl&gt; | acc_level2 &lt;dbl&gt; | acc_level3 &lt;dbl&gt; | acc_median1 &lt;dbl&gt; | acc_median2 &lt;dbl&gt; | acc_median3 &lt;dbl&gt; | acc_most_common_value1 &lt;dbl&gt; | acc_most_common_value2 &lt;dbl&gt; | acc_most_common_value3 &lt;dbl&gt; | ⋯ ⋯ | gyr_sp_entropy_3 &lt;dbl&gt; | gyr_sp_peak_1 &lt;dbl&gt; | gyr_sp_peak_2 &lt;dbl&gt; | gyr_sp_peak_3 &lt;dbl&gt; | gyr_sp_mean_1 &lt;dbl&gt; | gyr_sp_mean_2 &lt;dbl&gt; | gyr_sp_mean_3 &lt;dbl&gt; | gyr_sp_sd_1 &lt;dbl&gt; | gyr_sp_sd_2 &lt;dbl&gt; | gyr_sp_sd_3 &lt;dbl&gt; |\n",
       "|---|---|---|---|---|---|---|---|---|---|---|---|---|---|---|---|---|---|---|---|---|\n",
       "| -                | 0.1693034 | -0.2382921 |  0.8003690 | 0.3736111 | -0.09861112 |  0.9027778 | 0.4527778 | -0.0250000 |  0.8902778 | ⋯ | 0.3533693 | 0.0390625 | 0.0078125 | 0.0078125 | 6.649702e-02 | 8.405664e-02 | 1.299314e-02 | 0.0673519692 | 0.0865161591 | 0.0385035775 |\n",
       "| WALKING_UPSTAIRS | 0.8997071 | -0.3948568 | -0.2429905 | 0.9541667 | -0.32222224 | -0.2451389 | 0.9500000 | -0.3347222 | -0.4236111 | ⋯ | 0.6252003 | 0.0703125 | 0.0859375 | 0.0156250 | 2.112746e-02 | 4.620913e-02 | 2.985326e-02 | 0.0648998986 | 0.0811762584 | 0.0594614725 |\n",
       "| STANDING         | 0.9974935 | -0.2712565 |  0.1135525 | 0.9972222 | -0.26944447 |  0.1222222 | 0.9888889 | -0.2694445 |  0.1208333 | ⋯ | 1.3466590 | 0.0625000 | 0.0234375 | 0.0312500 | 7.125756e-04 | 1.885431e-03 | 4.497974e-04 | 0.0140940530 | 0.0216827923 | 0.0092996180 |\n",
       "| SITTING          | 0.9928928 | -0.2702691 |  0.1391276 | 0.9930556 | -0.26944447 |  0.1375000 | 0.9930556 | -0.2652778 |  0.1375000 | ⋯ | 0.6035395 | 0.0078125 | 0.0156250 | 0.0078125 | 1.936236e-05 | 1.576628e-05 | 1.157673e-05 | 0.0012334046 | 0.0014579923 | 0.0013317163 |\n",
       "| STANDING         | 0.9908854 | -0.2861979 |  0.1286350 | 0.9909722 | -0.28611112 |  0.1291667 | 0.9888889 | -0.2888889 |  0.1277778 | ⋯ | 0.6550369 | 0.0078125 | 0.0312500 | 0.0390625 | 8.137027e-06 | 7.494763e-06 | 6.702299e-06 | 0.0009158878 | 0.0009492719 | 0.0009459367 |\n",
       "| STANDING         | 0.9909180 | -0.2904948 |  0.1215712 | 0.9902778 | -0.28888890 |  0.1208333 | 0.9888889 | -0.2888889 |  0.1138889 | ⋯ | 0.3782424 | 0.0312500 | 0.0468750 | 0.0468750 | 6.573663e-06 | 1.111430e-05 | 1.244990e-05 | 0.0010116155 | 0.0011919468 | 0.0012965526 |\n",
       "\n"
      ],
      "text/plain": [
       "  activity         acc_level1 acc_level2 acc_level3 acc_median1 acc_median2\n",
       "1 -                0.1693034  -0.2382921  0.8003690 0.3736111   -0.09861112\n",
       "2 WALKING_UPSTAIRS 0.8997071  -0.3948568 -0.2429905 0.9541667   -0.32222224\n",
       "3 STANDING         0.9974935  -0.2712565  0.1135525 0.9972222   -0.26944447\n",
       "4 SITTING          0.9928928  -0.2702691  0.1391276 0.9930556   -0.26944447\n",
       "5 STANDING         0.9908854  -0.2861979  0.1286350 0.9909722   -0.28611112\n",
       "6 STANDING         0.9909180  -0.2904948  0.1215712 0.9902778   -0.28888890\n",
       "  acc_median3 acc_most_common_value1 acc_most_common_value2\n",
       "1  0.9027778  0.4527778              -0.0250000            \n",
       "2 -0.2451389  0.9500000              -0.3347222            \n",
       "3  0.1222222  0.9888889              -0.2694445            \n",
       "4  0.1375000  0.9930556              -0.2652778            \n",
       "5  0.1291667  0.9888889              -0.2888889            \n",
       "6  0.1208333  0.9888889              -0.2888889            \n",
       "  acc_most_common_value3 ⋯ gyr_sp_entropy_3 gyr_sp_peak_1 gyr_sp_peak_2\n",
       "1  0.8902778             ⋯ 0.3533693        0.0390625     0.0078125    \n",
       "2 -0.4236111             ⋯ 0.6252003        0.0703125     0.0859375    \n",
       "3  0.1208333             ⋯ 1.3466590        0.0625000     0.0234375    \n",
       "4  0.1375000             ⋯ 0.6035395        0.0078125     0.0156250    \n",
       "5  0.1277778             ⋯ 0.6550369        0.0078125     0.0312500    \n",
       "6  0.1138889             ⋯ 0.3782424        0.0312500     0.0468750    \n",
       "  gyr_sp_peak_3 gyr_sp_mean_1 gyr_sp_mean_2 gyr_sp_mean_3 gyr_sp_sd_1 \n",
       "1 0.0078125     6.649702e-02  8.405664e-02  1.299314e-02  0.0673519692\n",
       "2 0.0156250     2.112746e-02  4.620913e-02  2.985326e-02  0.0648998986\n",
       "3 0.0312500     7.125756e-04  1.885431e-03  4.497974e-04  0.0140940530\n",
       "4 0.0078125     1.936236e-05  1.576628e-05  1.157673e-05  0.0012334046\n",
       "5 0.0390625     8.137027e-06  7.494763e-06  6.702299e-06  0.0009158878\n",
       "6 0.0468750     6.573663e-06  1.111430e-05  1.244990e-05  0.0010116155\n",
       "  gyr_sp_sd_2  gyr_sp_sd_3 \n",
       "1 0.0865161591 0.0385035775\n",
       "2 0.0811762584 0.0594614725\n",
       "3 0.0216827923 0.0092996180\n",
       "4 0.0014579923 0.0013317163\n",
       "5 0.0009492719 0.0009459367\n",
       "6 0.0011919468 0.0012965526"
      ]
     },
     "metadata": {},
     "output_type": "display_data"
    },
    {
     "data": {
      "text/html": [
       "<style>\n",
       ".list-inline {list-style: none; margin:0; padding: 0}\n",
       ".list-inline>li {display: inline-block}\n",
       ".list-inline>li:not(:last-child)::after {content: \"\\00b7\"; padding: 0 .5ex}\n",
       "</style>\n",
       "<ol class=list-inline><li>'user_id'</li><li>'exp_id'</li><li>'sampleid'</li><li>'activity'</li><li>'acc_level1'</li><li>'acc_level2'</li><li>'acc_level3'</li><li>'acc_median1'</li><li>'acc_median2'</li><li>'acc_median3'</li><li>'acc_most_common_value1'</li><li>'acc_most_common_value2'</li><li>'acc_most_common_value3'</li><li>'acc_var1'</li><li>'acc_var2'</li><li>'acc_var3'</li><li>'acc_sd1'</li><li>'acc_sd2'</li><li>'acc_sd3'</li><li>'acc_cor1_2'</li><li>'acc_cor1_3'</li><li>'acc_cor2_3'</li><li>'acc_pow1'</li><li>'acc_pow2'</li><li>'acc_pow3'</li><li>'acc_iqr1'</li><li>'acc_iqr2'</li><li>'acc_iqr3'</li><li>'acc_q1_25'</li><li>'acc_q2_25'</li><li>'acc_q3_25'</li><li>'acc_q1_75'</li><li>'acc_q2_75'</li><li>'acc_q3_75'</li><li>'acc_skew1'</li><li>'acc_skew2'</li><li>'acc_skew3'</li><li>'acc_kurt1'</li><li>'acc_kurt2'</li><li>'acc_kurt3'</li><li>'acc_entropy1'</li><li>'acc_entropy2'</li><li>'acc_entropy3'</li><li>'acc_energy1'</li><li>'acc_energy2'</li><li>'acc_energy3'</li><li>'acc_ar1_1'</li><li>'acc_ar1_2'</li><li>'acc_ar2_1'</li><li>'acc_ar2_2'</li><li>'acc_ar3_1'</li><li>'acc_ar3_2'</li><li>'acc_ar12_1'</li><li>'acc_ar12_2'</li><li>'acc_ar13_1'</li><li>'acc_ar13_2'</li><li>'acc_ar23_1'</li><li>'acc_ar23_2'</li><li>'acc_sp_entropy_1'</li><li>'acc_sp_entropy_2'</li><li>'acc_sp_entropy_3'</li><li>'acc_sp_peak_1'</li><li>'acc_sp_peak_2'</li><li>'acc_sp_peak_3'</li><li>'acc_sp_mean_1'</li><li>'acc_sp_mean_2'</li><li>'acc_sp_mean_3'</li><li>'acc_sp_sd_1'</li><li>'acc_sp_sd_2'</li><li>'acc_sp_sd_3'</li><li>'acc_n_samples'</li><li>'gyr_level1'</li><li>'gyr_level2'</li><li>'gyr_level3'</li><li>'gyr_median1'</li><li>'gyr_median2'</li><li>'gyr_median3'</li><li>'gyr_most_common_value1'</li><li>'gyr_most_common_value2'</li><li>'gyr_most_common_value3'</li><li>'gyr_var1'</li><li>'gyr_var2'</li><li>'gyr_var3'</li><li>'gyr_sd1'</li><li>'gyr_sd2'</li><li>'gyr_sd3'</li><li>'gyr_cor1_2'</li><li>'gyr_cor1_3'</li><li>'gyr_cor2_3'</li><li>'gyr_pow1'</li><li>'gyr_pow2'</li><li>'gyr_pow3'</li><li>'gyr_iqr1'</li><li>'gyr_iqr2'</li><li>'gyr_iqr3'</li><li>'gyr_q1_25'</li><li>'gyr_q2_25'</li><li>'gyr_q3_25'</li><li>'gyr_q1_75'</li><li>'gyr_q2_75'</li><li>'gyr_q3_75'</li><li>'gyr_skew1'</li><li>'gyr_skew2'</li><li>'gyr_skew3'</li><li>'gyr_kurt1'</li><li>'gyr_kurt2'</li><li>'gyr_kurt3'</li><li>'gyr_entropy1'</li><li>'gyr_entropy2'</li><li>'gyr_entropy3'</li><li>'gyr_energy1'</li><li>'gyr_energy2'</li><li>'gyr_energy3'</li><li>'gyr_ar1_1'</li><li>'gyr_ar1_2'</li><li>'gyr_ar2_1'</li><li>'gyr_ar2_2'</li><li>'gyr_ar3_1'</li><li>'gyr_ar3_2'</li><li>'gyr_ar12_1'</li><li>'gyr_ar12_2'</li><li>'gyr_ar13_1'</li><li>'gyr_ar13_2'</li><li>'gyr_ar23_1'</li><li>'gyr_ar23_2'</li><li>'gyr_sp_entropy_1'</li><li>'gyr_sp_entropy_2'</li><li>'gyr_sp_entropy_3'</li><li>'gyr_sp_peak_1'</li><li>'gyr_sp_peak_2'</li><li>'gyr_sp_peak_3'</li><li>'gyr_sp_mean_1'</li><li>'gyr_sp_mean_2'</li><li>'gyr_sp_mean_3'</li><li>'gyr_sp_sd_1'</li><li>'gyr_sp_sd_2'</li><li>'gyr_sp_sd_3'</li></ol>\n"
      ],
      "text/latex": [
       "\\begin{enumerate*}\n",
       "\\item 'user\\_id'\n",
       "\\item 'exp\\_id'\n",
       "\\item 'sampleid'\n",
       "\\item 'activity'\n",
       "\\item 'acc\\_level1'\n",
       "\\item 'acc\\_level2'\n",
       "\\item 'acc\\_level3'\n",
       "\\item 'acc\\_median1'\n",
       "\\item 'acc\\_median2'\n",
       "\\item 'acc\\_median3'\n",
       "\\item 'acc\\_most\\_common\\_value1'\n",
       "\\item 'acc\\_most\\_common\\_value2'\n",
       "\\item 'acc\\_most\\_common\\_value3'\n",
       "\\item 'acc\\_var1'\n",
       "\\item 'acc\\_var2'\n",
       "\\item 'acc\\_var3'\n",
       "\\item 'acc\\_sd1'\n",
       "\\item 'acc\\_sd2'\n",
       "\\item 'acc\\_sd3'\n",
       "\\item 'acc\\_cor1\\_2'\n",
       "\\item 'acc\\_cor1\\_3'\n",
       "\\item 'acc\\_cor2\\_3'\n",
       "\\item 'acc\\_pow1'\n",
       "\\item 'acc\\_pow2'\n",
       "\\item 'acc\\_pow3'\n",
       "\\item 'acc\\_iqr1'\n",
       "\\item 'acc\\_iqr2'\n",
       "\\item 'acc\\_iqr3'\n",
       "\\item 'acc\\_q1\\_25'\n",
       "\\item 'acc\\_q2\\_25'\n",
       "\\item 'acc\\_q3\\_25'\n",
       "\\item 'acc\\_q1\\_75'\n",
       "\\item 'acc\\_q2\\_75'\n",
       "\\item 'acc\\_q3\\_75'\n",
       "\\item 'acc\\_skew1'\n",
       "\\item 'acc\\_skew2'\n",
       "\\item 'acc\\_skew3'\n",
       "\\item 'acc\\_kurt1'\n",
       "\\item 'acc\\_kurt2'\n",
       "\\item 'acc\\_kurt3'\n",
       "\\item 'acc\\_entropy1'\n",
       "\\item 'acc\\_entropy2'\n",
       "\\item 'acc\\_entropy3'\n",
       "\\item 'acc\\_energy1'\n",
       "\\item 'acc\\_energy2'\n",
       "\\item 'acc\\_energy3'\n",
       "\\item 'acc\\_ar1\\_1'\n",
       "\\item 'acc\\_ar1\\_2'\n",
       "\\item 'acc\\_ar2\\_1'\n",
       "\\item 'acc\\_ar2\\_2'\n",
       "\\item 'acc\\_ar3\\_1'\n",
       "\\item 'acc\\_ar3\\_2'\n",
       "\\item 'acc\\_ar12\\_1'\n",
       "\\item 'acc\\_ar12\\_2'\n",
       "\\item 'acc\\_ar13\\_1'\n",
       "\\item 'acc\\_ar13\\_2'\n",
       "\\item 'acc\\_ar23\\_1'\n",
       "\\item 'acc\\_ar23\\_2'\n",
       "\\item 'acc\\_sp\\_entropy\\_1'\n",
       "\\item 'acc\\_sp\\_entropy\\_2'\n",
       "\\item 'acc\\_sp\\_entropy\\_3'\n",
       "\\item 'acc\\_sp\\_peak\\_1'\n",
       "\\item 'acc\\_sp\\_peak\\_2'\n",
       "\\item 'acc\\_sp\\_peak\\_3'\n",
       "\\item 'acc\\_sp\\_mean\\_1'\n",
       "\\item 'acc\\_sp\\_mean\\_2'\n",
       "\\item 'acc\\_sp\\_mean\\_3'\n",
       "\\item 'acc\\_sp\\_sd\\_1'\n",
       "\\item 'acc\\_sp\\_sd\\_2'\n",
       "\\item 'acc\\_sp\\_sd\\_3'\n",
       "\\item 'acc\\_n\\_samples'\n",
       "\\item 'gyr\\_level1'\n",
       "\\item 'gyr\\_level2'\n",
       "\\item 'gyr\\_level3'\n",
       "\\item 'gyr\\_median1'\n",
       "\\item 'gyr\\_median2'\n",
       "\\item 'gyr\\_median3'\n",
       "\\item 'gyr\\_most\\_common\\_value1'\n",
       "\\item 'gyr\\_most\\_common\\_value2'\n",
       "\\item 'gyr\\_most\\_common\\_value3'\n",
       "\\item 'gyr\\_var1'\n",
       "\\item 'gyr\\_var2'\n",
       "\\item 'gyr\\_var3'\n",
       "\\item 'gyr\\_sd1'\n",
       "\\item 'gyr\\_sd2'\n",
       "\\item 'gyr\\_sd3'\n",
       "\\item 'gyr\\_cor1\\_2'\n",
       "\\item 'gyr\\_cor1\\_3'\n",
       "\\item 'gyr\\_cor2\\_3'\n",
       "\\item 'gyr\\_pow1'\n",
       "\\item 'gyr\\_pow2'\n",
       "\\item 'gyr\\_pow3'\n",
       "\\item 'gyr\\_iqr1'\n",
       "\\item 'gyr\\_iqr2'\n",
       "\\item 'gyr\\_iqr3'\n",
       "\\item 'gyr\\_q1\\_25'\n",
       "\\item 'gyr\\_q2\\_25'\n",
       "\\item 'gyr\\_q3\\_25'\n",
       "\\item 'gyr\\_q1\\_75'\n",
       "\\item 'gyr\\_q2\\_75'\n",
       "\\item 'gyr\\_q3\\_75'\n",
       "\\item 'gyr\\_skew1'\n",
       "\\item 'gyr\\_skew2'\n",
       "\\item 'gyr\\_skew3'\n",
       "\\item 'gyr\\_kurt1'\n",
       "\\item 'gyr\\_kurt2'\n",
       "\\item 'gyr\\_kurt3'\n",
       "\\item 'gyr\\_entropy1'\n",
       "\\item 'gyr\\_entropy2'\n",
       "\\item 'gyr\\_entropy3'\n",
       "\\item 'gyr\\_energy1'\n",
       "\\item 'gyr\\_energy2'\n",
       "\\item 'gyr\\_energy3'\n",
       "\\item 'gyr\\_ar1\\_1'\n",
       "\\item 'gyr\\_ar1\\_2'\n",
       "\\item 'gyr\\_ar2\\_1'\n",
       "\\item 'gyr\\_ar2\\_2'\n",
       "\\item 'gyr\\_ar3\\_1'\n",
       "\\item 'gyr\\_ar3\\_2'\n",
       "\\item 'gyr\\_ar12\\_1'\n",
       "\\item 'gyr\\_ar12\\_2'\n",
       "\\item 'gyr\\_ar13\\_1'\n",
       "\\item 'gyr\\_ar13\\_2'\n",
       "\\item 'gyr\\_ar23\\_1'\n",
       "\\item 'gyr\\_ar23\\_2'\n",
       "\\item 'gyr\\_sp\\_entropy\\_1'\n",
       "\\item 'gyr\\_sp\\_entropy\\_2'\n",
       "\\item 'gyr\\_sp\\_entropy\\_3'\n",
       "\\item 'gyr\\_sp\\_peak\\_1'\n",
       "\\item 'gyr\\_sp\\_peak\\_2'\n",
       "\\item 'gyr\\_sp\\_peak\\_3'\n",
       "\\item 'gyr\\_sp\\_mean\\_1'\n",
       "\\item 'gyr\\_sp\\_mean\\_2'\n",
       "\\item 'gyr\\_sp\\_mean\\_3'\n",
       "\\item 'gyr\\_sp\\_sd\\_1'\n",
       "\\item 'gyr\\_sp\\_sd\\_2'\n",
       "\\item 'gyr\\_sp\\_sd\\_3'\n",
       "\\end{enumerate*}\n"
      ],
      "text/markdown": [
       "1. 'user_id'\n",
       "2. 'exp_id'\n",
       "3. 'sampleid'\n",
       "4. 'activity'\n",
       "5. 'acc_level1'\n",
       "6. 'acc_level2'\n",
       "7. 'acc_level3'\n",
       "8. 'acc_median1'\n",
       "9. 'acc_median2'\n",
       "10. 'acc_median3'\n",
       "11. 'acc_most_common_value1'\n",
       "12. 'acc_most_common_value2'\n",
       "13. 'acc_most_common_value3'\n",
       "14. 'acc_var1'\n",
       "15. 'acc_var2'\n",
       "16. 'acc_var3'\n",
       "17. 'acc_sd1'\n",
       "18. 'acc_sd2'\n",
       "19. 'acc_sd3'\n",
       "20. 'acc_cor1_2'\n",
       "21. 'acc_cor1_3'\n",
       "22. 'acc_cor2_3'\n",
       "23. 'acc_pow1'\n",
       "24. 'acc_pow2'\n",
       "25. 'acc_pow3'\n",
       "26. 'acc_iqr1'\n",
       "27. 'acc_iqr2'\n",
       "28. 'acc_iqr3'\n",
       "29. 'acc_q1_25'\n",
       "30. 'acc_q2_25'\n",
       "31. 'acc_q3_25'\n",
       "32. 'acc_q1_75'\n",
       "33. 'acc_q2_75'\n",
       "34. 'acc_q3_75'\n",
       "35. 'acc_skew1'\n",
       "36. 'acc_skew2'\n",
       "37. 'acc_skew3'\n",
       "38. 'acc_kurt1'\n",
       "39. 'acc_kurt2'\n",
       "40. 'acc_kurt3'\n",
       "41. 'acc_entropy1'\n",
       "42. 'acc_entropy2'\n",
       "43. 'acc_entropy3'\n",
       "44. 'acc_energy1'\n",
       "45. 'acc_energy2'\n",
       "46. 'acc_energy3'\n",
       "47. 'acc_ar1_1'\n",
       "48. 'acc_ar1_2'\n",
       "49. 'acc_ar2_1'\n",
       "50. 'acc_ar2_2'\n",
       "51. 'acc_ar3_1'\n",
       "52. 'acc_ar3_2'\n",
       "53. 'acc_ar12_1'\n",
       "54. 'acc_ar12_2'\n",
       "55. 'acc_ar13_1'\n",
       "56. 'acc_ar13_2'\n",
       "57. 'acc_ar23_1'\n",
       "58. 'acc_ar23_2'\n",
       "59. 'acc_sp_entropy_1'\n",
       "60. 'acc_sp_entropy_2'\n",
       "61. 'acc_sp_entropy_3'\n",
       "62. 'acc_sp_peak_1'\n",
       "63. 'acc_sp_peak_2'\n",
       "64. 'acc_sp_peak_3'\n",
       "65. 'acc_sp_mean_1'\n",
       "66. 'acc_sp_mean_2'\n",
       "67. 'acc_sp_mean_3'\n",
       "68. 'acc_sp_sd_1'\n",
       "69. 'acc_sp_sd_2'\n",
       "70. 'acc_sp_sd_3'\n",
       "71. 'acc_n_samples'\n",
       "72. 'gyr_level1'\n",
       "73. 'gyr_level2'\n",
       "74. 'gyr_level3'\n",
       "75. 'gyr_median1'\n",
       "76. 'gyr_median2'\n",
       "77. 'gyr_median3'\n",
       "78. 'gyr_most_common_value1'\n",
       "79. 'gyr_most_common_value2'\n",
       "80. 'gyr_most_common_value3'\n",
       "81. 'gyr_var1'\n",
       "82. 'gyr_var2'\n",
       "83. 'gyr_var3'\n",
       "84. 'gyr_sd1'\n",
       "85. 'gyr_sd2'\n",
       "86. 'gyr_sd3'\n",
       "87. 'gyr_cor1_2'\n",
       "88. 'gyr_cor1_3'\n",
       "89. 'gyr_cor2_3'\n",
       "90. 'gyr_pow1'\n",
       "91. 'gyr_pow2'\n",
       "92. 'gyr_pow3'\n",
       "93. 'gyr_iqr1'\n",
       "94. 'gyr_iqr2'\n",
       "95. 'gyr_iqr3'\n",
       "96. 'gyr_q1_25'\n",
       "97. 'gyr_q2_25'\n",
       "98. 'gyr_q3_25'\n",
       "99. 'gyr_q1_75'\n",
       "100. 'gyr_q2_75'\n",
       "101. 'gyr_q3_75'\n",
       "102. 'gyr_skew1'\n",
       "103. 'gyr_skew2'\n",
       "104. 'gyr_skew3'\n",
       "105. 'gyr_kurt1'\n",
       "106. 'gyr_kurt2'\n",
       "107. 'gyr_kurt3'\n",
       "108. 'gyr_entropy1'\n",
       "109. 'gyr_entropy2'\n",
       "110. 'gyr_entropy3'\n",
       "111. 'gyr_energy1'\n",
       "112. 'gyr_energy2'\n",
       "113. 'gyr_energy3'\n",
       "114. 'gyr_ar1_1'\n",
       "115. 'gyr_ar1_2'\n",
       "116. 'gyr_ar2_1'\n",
       "117. 'gyr_ar2_2'\n",
       "118. 'gyr_ar3_1'\n",
       "119. 'gyr_ar3_2'\n",
       "120. 'gyr_ar12_1'\n",
       "121. 'gyr_ar12_2'\n",
       "122. 'gyr_ar13_1'\n",
       "123. 'gyr_ar13_2'\n",
       "124. 'gyr_ar23_1'\n",
       "125. 'gyr_ar23_2'\n",
       "126. 'gyr_sp_entropy_1'\n",
       "127. 'gyr_sp_entropy_2'\n",
       "128. 'gyr_sp_entropy_3'\n",
       "129. 'gyr_sp_peak_1'\n",
       "130. 'gyr_sp_peak_2'\n",
       "131. 'gyr_sp_peak_3'\n",
       "132. 'gyr_sp_mean_1'\n",
       "133. 'gyr_sp_mean_2'\n",
       "134. 'gyr_sp_mean_3'\n",
       "135. 'gyr_sp_sd_1'\n",
       "136. 'gyr_sp_sd_2'\n",
       "137. 'gyr_sp_sd_3'\n",
       "\n",
       "\n"
      ],
      "text/plain": [
       "  [1] \"user_id\"                \"exp_id\"                 \"sampleid\"              \n",
       "  [4] \"activity\"               \"acc_level1\"             \"acc_level2\"            \n",
       "  [7] \"acc_level3\"             \"acc_median1\"            \"acc_median2\"           \n",
       " [10] \"acc_median3\"            \"acc_most_common_value1\" \"acc_most_common_value2\"\n",
       " [13] \"acc_most_common_value3\" \"acc_var1\"               \"acc_var2\"              \n",
       " [16] \"acc_var3\"               \"acc_sd1\"                \"acc_sd2\"               \n",
       " [19] \"acc_sd3\"                \"acc_cor1_2\"             \"acc_cor1_3\"            \n",
       " [22] \"acc_cor2_3\"             \"acc_pow1\"               \"acc_pow2\"              \n",
       " [25] \"acc_pow3\"               \"acc_iqr1\"               \"acc_iqr2\"              \n",
       " [28] \"acc_iqr3\"               \"acc_q1_25\"              \"acc_q2_25\"             \n",
       " [31] \"acc_q3_25\"              \"acc_q1_75\"              \"acc_q2_75\"             \n",
       " [34] \"acc_q3_75\"              \"acc_skew1\"              \"acc_skew2\"             \n",
       " [37] \"acc_skew3\"              \"acc_kurt1\"              \"acc_kurt2\"             \n",
       " [40] \"acc_kurt3\"              \"acc_entropy1\"           \"acc_entropy2\"          \n",
       " [43] \"acc_entropy3\"           \"acc_energy1\"            \"acc_energy2\"           \n",
       " [46] \"acc_energy3\"            \"acc_ar1_1\"              \"acc_ar1_2\"             \n",
       " [49] \"acc_ar2_1\"              \"acc_ar2_2\"              \"acc_ar3_1\"             \n",
       " [52] \"acc_ar3_2\"              \"acc_ar12_1\"             \"acc_ar12_2\"            \n",
       " [55] \"acc_ar13_1\"             \"acc_ar13_2\"             \"acc_ar23_1\"            \n",
       " [58] \"acc_ar23_2\"             \"acc_sp_entropy_1\"       \"acc_sp_entropy_2\"      \n",
       " [61] \"acc_sp_entropy_3\"       \"acc_sp_peak_1\"          \"acc_sp_peak_2\"         \n",
       " [64] \"acc_sp_peak_3\"          \"acc_sp_mean_1\"          \"acc_sp_mean_2\"         \n",
       " [67] \"acc_sp_mean_3\"          \"acc_sp_sd_1\"            \"acc_sp_sd_2\"           \n",
       " [70] \"acc_sp_sd_3\"            \"acc_n_samples\"          \"gyr_level1\"            \n",
       " [73] \"gyr_level2\"             \"gyr_level3\"             \"gyr_median1\"           \n",
       " [76] \"gyr_median2\"            \"gyr_median3\"            \"gyr_most_common_value1\"\n",
       " [79] \"gyr_most_common_value2\" \"gyr_most_common_value3\" \"gyr_var1\"              \n",
       " [82] \"gyr_var2\"               \"gyr_var3\"               \"gyr_sd1\"               \n",
       " [85] \"gyr_sd2\"                \"gyr_sd3\"                \"gyr_cor1_2\"            \n",
       " [88] \"gyr_cor1_3\"             \"gyr_cor2_3\"             \"gyr_pow1\"              \n",
       " [91] \"gyr_pow2\"               \"gyr_pow3\"               \"gyr_iqr1\"              \n",
       " [94] \"gyr_iqr2\"               \"gyr_iqr3\"               \"gyr_q1_25\"             \n",
       " [97] \"gyr_q2_25\"              \"gyr_q3_25\"              \"gyr_q1_75\"             \n",
       "[100] \"gyr_q2_75\"              \"gyr_q3_75\"              \"gyr_skew1\"             \n",
       "[103] \"gyr_skew2\"              \"gyr_skew3\"              \"gyr_kurt1\"             \n",
       "[106] \"gyr_kurt2\"              \"gyr_kurt3\"              \"gyr_entropy1\"          \n",
       "[109] \"gyr_entropy2\"           \"gyr_entropy3\"           \"gyr_energy1\"           \n",
       "[112] \"gyr_energy2\"            \"gyr_energy3\"            \"gyr_ar1_1\"             \n",
       "[115] \"gyr_ar1_2\"              \"gyr_ar2_1\"              \"gyr_ar2_2\"             \n",
       "[118] \"gyr_ar3_1\"              \"gyr_ar3_2\"              \"gyr_ar12_1\"            \n",
       "[121] \"gyr_ar12_2\"             \"gyr_ar13_1\"             \"gyr_ar13_2\"            \n",
       "[124] \"gyr_ar23_1\"             \"gyr_ar23_2\"             \"gyr_sp_entropy_1\"      \n",
       "[127] \"gyr_sp_entropy_2\"       \"gyr_sp_entropy_3\"       \"gyr_sp_peak_1\"         \n",
       "[130] \"gyr_sp_peak_2\"          \"gyr_sp_peak_3\"          \"gyr_sp_mean_1\"         \n",
       "[133] \"gyr_sp_mean_2\"          \"gyr_sp_mean_3\"          \"gyr_sp_sd_1\"           \n",
       "[136] \"gyr_sp_sd_2\"            \"gyr_sp_sd_3\"           "
      ]
     },
     "metadata": {},
     "output_type": "display_data"
    }
   ],
   "source": [
    "predictions <- predict(object = fit_knns, newdata = pred_df)\n",
    "\n",
    "# put the predictions into pred_df\n",
    "pred_df[\"activity\"] <- predictions\n",
    "\n",
    "# check the result\n",
    "head(pred_df)\n",
    "\n",
    "# adding user_id, exp_id, sampleid back\n",
    "pred_df <- cbind(merged_df_test[, c(2:3, 5)], pred_df)\n",
    "\n",
    "# check the result\n",
    "colnames(pred_df)"
   ]
  },
  {
   "cell_type": "markdown",
   "id": "489ab4af",
   "metadata": {
    "_uuid": "9d6811f2aa519b89fdd455e046c1201e82109a67",
    "papermill": {
     "duration": 0.012604,
     "end_time": "2023-09-28T11:37:44.389776",
     "exception": false,
     "start_time": "2023-09-28T11:37:44.377172",
     "status": "completed"
    },
    "tags": []
   },
   "source": [
    "## 7.4 Formatting the submission file\n",
    "\n",
    "In order to turn our predictions into the right format, the following code was used. "
   ]
  },
  {
   "cell_type": "code",
   "execution_count": 25,
   "id": "5b2e2eb4",
   "metadata": {
    "execution": {
     "iopub.execute_input": "2023-09-28T11:37:44.418718Z",
     "iopub.status.busy": "2023-09-28T11:37:44.417366Z",
     "iopub.status.idle": "2023-09-28T11:37:44.471750Z",
     "shell.execute_reply": "2023-09-28T11:37:44.470237Z"
    },
    "papermill": {
     "duration": 0.071111,
     "end_time": "2023-09-28T11:37:44.473661",
     "exception": false,
     "start_time": "2023-09-28T11:37:44.402550",
     "status": "completed"
    },
    "tags": []
   },
   "outputs": [
    {
     "name": "stdout",
     "output_type": "stream",
     "text": [
      "Id,Predicted\n",
      "user02_exp03_0,-\n",
      "user02_exp03_128,WALKING_UPSTAIRS\n",
      "user02_exp03_256,STANDING\n",
      "user02_exp03_384,SITTING\n",
      "user02_exp03_512,STANDING\n",
      "user02_exp03_640,STANDING\n",
      "user02_exp03_768,SITTING\n",
      "user02_exp03_896,STANDING\n",
      "user02_exp03_1024,SITTING\n",
      "user02_exp03_1152,STANDING\n",
      "user02_exp03_1280,-\n",
      "user02_exp03_1408,-\n",
      "user02_exp03_1536,STANDING\n",
      "user02_exp03_1664,SITTING\n",
      "user02_exp03_1792,SITTING\n",
      "user02_exp03_1920,SITTING\n",
      "user02_exp03_2048,SITTING\n",
      "user02_exp03_2176,SITTING\n",
      "user02_exp03_2304,SITTING\n"
     ]
    }
   ],
   "source": [
    "pred_df %>%\n",
    "  # prepend \"user\" and \"exp\" to user_id and exp_id\n",
    "  mutate(\n",
    "    user_id = paste(ifelse(user_id < 10, \"user0\", \"user\"), user_id, sep = \"\"),\n",
    "    exp_id = paste(ifelse(exp_id < 10, \"exp0\", \"exp\"), exp_id, sep = \"\")\n",
    "  ) %>%\n",
    "  # unit columnes user_id, exp_id and sample_id into a string\n",
    "  # separated by \"_\" and store it in the new variable `Id`\n",
    "  unite(Id, user_id, exp_id, sampleid) %>%\n",
    "  # retain only the `Id` and  predictions\n",
    "  select(Id, Predicted = activity) %>%\n",
    "  # write to file\n",
    "  write_csv(\"submission.csv\")\n",
    "\n",
    "# Check the result: print first 20 lines in the submission file\n",
    "cat(readLines(\"submission.csv\", 20), sep = \"\\n\")"
   ]
  },
  {
   "cell_type": "markdown",
   "id": "f3501c6e",
   "metadata": {
    "papermill": {
     "duration": 0.012944,
     "end_time": "2023-09-28T11:37:44.500819",
     "exception": false,
     "start_time": "2023-09-28T11:37:44.487875",
     "status": "completed"
    },
    "tags": []
   },
   "source": [
    "## 8. Division of Labor\n",
    "\n",
    "Bram: Data Cleaning, Data processing, Data Merging, Modeling Fit, Time Domain Features, code styling\n",
    "\n",
    "Oguz: Data Cleaning, Frequency Domain Features, Model Selection, literature review, code styling\n",
    "\n",
    "Alex: Data Cleaning, Data Processing, Modeling Fit, Statistical Based Features, structure, code styling\n",
    "\n",
    "**References**\n",
    "\n",
    "1. Grasman, R. (2018). Feature extraction from Signals. DropBox. https://paper.dropbox.com/doc/Feature-extraction-from-Signals-qCp5uvj47gmyuw5nmB8lL\n",
    "\n",
    "2. Bejaoui, A., Elkhalil, K., Kammoun, A., Alouini, M., & Al-Naffouri, T. Y. (2021). Cost-sensitive design of quadratic discriminant analysis for imbalanced data. Pattern Recognition Letters, 149, 24–29. https://doi.org/10.1016/j.patrec.2021.06.002\n",
    "\n"
   ]
  }
 ],
 "metadata": {
  "kernelspec": {
   "display_name": "R",
   "language": "R",
   "name": "ir"
  },
  "language_info": {
   "codemirror_mode": "r",
   "file_extension": ".r",
   "mimetype": "text/x-r-source",
   "name": "R",
   "pygments_lexer": "r",
   "version": "4.0.5"
  },
  "papermill": {
   "default_parameters": {},
   "duration": 182.913216,
   "end_time": "2023-09-28T11:37:44.634724",
   "environment_variables": {},
   "exception": null,
   "input_path": "__notebook__.ipynb",
   "output_path": "__notebook__.ipynb",
   "parameters": {},
   "start_time": "2023-09-28T11:34:41.721508",
   "version": "2.4.0"
  }
 },
 "nbformat": 4,
 "nbformat_minor": 5
}
