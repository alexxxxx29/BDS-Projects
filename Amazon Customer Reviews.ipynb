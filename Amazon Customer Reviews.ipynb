{
 "cells": [
  {
   "cell_type": "code",
   "execution_count": 1,
   "id": "adec8957",
   "metadata": {
    "_execution_state": "idle",
    "_uuid": "c91e583abe80b0537679954bd6c8ffa891d03d01",
    "execution": {
     "iopub.execute_input": "2023-10-09T12:13:24.534046Z",
     "iopub.status.busy": "2023-10-09T12:13:24.532130Z",
     "iopub.status.idle": "2023-10-09T12:13:28.130493Z",
     "shell.execute_reply": "2023-10-09T12:13:28.128357Z"
    },
    "papermill": {
     "duration": 3.612897,
     "end_time": "2023-10-09T12:13:28.133704",
     "exception": false,
     "start_time": "2023-10-09T12:13:24.520807",
     "status": "completed"
    },
    "tags": []
   },
   "outputs": [
    {
     "name": "stderr",
     "output_type": "stream",
     "text": [
      "── \u001b[1mAttaching core tidyverse packages\u001b[22m ──────────────────────── tidyverse 2.0.0 ──\n",
      "\u001b[32m✔\u001b[39m \u001b[34mdplyr    \u001b[39m 1.1.2     \u001b[32m✔\u001b[39m \u001b[34mreadr    \u001b[39m 2.1.4\n",
      "\u001b[32m✔\u001b[39m \u001b[34mforcats  \u001b[39m 1.0.0     \u001b[32m✔\u001b[39m \u001b[34mstringr  \u001b[39m 1.5.0\n",
      "\u001b[32m✔\u001b[39m \u001b[34mggplot2  \u001b[39m 3.4.2     \u001b[32m✔\u001b[39m \u001b[34mtibble   \u001b[39m 3.2.1\n",
      "\u001b[32m✔\u001b[39m \u001b[34mlubridate\u001b[39m 1.9.2     \u001b[32m✔\u001b[39m \u001b[34mtidyr    \u001b[39m 1.3.0\n",
      "\u001b[32m✔\u001b[39m \u001b[34mpurrr    \u001b[39m 1.0.1     \n",
      "── \u001b[1mConflicts\u001b[22m ────────────────────────────────────────── tidyverse_conflicts() ──\n",
      "\u001b[31m✖\u001b[39m \u001b[34mdplyr\u001b[39m::\u001b[32mfilter()\u001b[39m masks \u001b[34mstats\u001b[39m::filter()\n",
      "\u001b[31m✖\u001b[39m \u001b[34mdplyr\u001b[39m::\u001b[32mlag()\u001b[39m    masks \u001b[34mstats\u001b[39m::lag()\n",
      "\u001b[36mℹ\u001b[39m Use the conflicted package (\u001b[3m\u001b[34m<http://conflicted.r-lib.org/>\u001b[39m\u001b[23m) to force all conflicts to become errors\n",
      "Loading required package: Matrix\n",
      "\n",
      "\n",
      "Attaching package: ‘Matrix’\n",
      "\n",
      "\n",
      "The following objects are masked from ‘package:tidyr’:\n",
      "\n",
      "    expand, pack, unpack\n",
      "\n",
      "\n",
      "Loaded glmnet 4.1-7\n",
      "\n",
      "Loading required package: lattice\n",
      "\n",
      "\n",
      "Attaching package: ‘caret’\n",
      "\n",
      "\n",
      "The following object is masked from ‘package:purrr’:\n",
      "\n",
      "    lift\n",
      "\n",
      "\n",
      "The following object is masked from ‘package:httr’:\n",
      "\n",
      "    progress\n",
      "\n",
      "\n",
      "Loading required package: foreach\n",
      "\n",
      "\n",
      "Attaching package: ‘foreach’\n",
      "\n",
      "\n",
      "The following objects are masked from ‘package:purrr’:\n",
      "\n",
      "    accumulate, when\n",
      "\n",
      "\n",
      "Loading required package: iterators\n",
      "\n",
      "Loading required package: parallel\n",
      "\n"
     ]
    },
    {
     "data": {
      "text/html": [
       "'customer-sentiment-from-reviews-bda-2023'"
      ],
      "text/latex": [
       "'customer-sentiment-from-reviews-bda-2023'"
      ],
      "text/markdown": [
       "'customer-sentiment-from-reviews-bda-2023'"
      ],
      "text/plain": [
       "[1] \"customer-sentiment-from-reviews-bda-2023\""
      ]
     },
     "metadata": {},
     "output_type": "display_data"
    }
   ],
   "source": [
    "## Importing packages\n",
    "library(tidyverse) # metapackage with lots of helpful functions\n",
    "library(tidytext)\n",
    "library(glmnet)\n",
    "library(caret) # used to fit different models\n",
    "library(doParallel) # enables paralell processing to speed up the process\n",
    "\n",
    "## Data attached to this notebook\n",
    "list.files(path = \"../input\")"
   ]
  },
  {
   "cell_type": "markdown",
   "id": "02aeb16c",
   "metadata": {
    "papermill": {
     "duration": 0.008199,
     "end_time": "2023-10-09T12:13:28.152108",
     "exception": false,
     "start_time": "2023-10-09T12:13:28.143909",
     "status": "completed"
    },
    "tags": []
   },
   "source": [
    "# 1. The project\n",
    "\n",
    "**Where do the data come from? (To which population will results generalize?)**\n",
    "\n",
    "Baby products reviews are part of a large crawl of product reviews from Amazon containing 82.83 million unique reviews from around 20 million users collected between May 1996 - July 2014. The results are likely to generalise to users of similar online marketplaces.\n",
    "\n",
    "**What are candidate machine learning methods? (models? features?)**\n",
    "\n",
    "Examples of the relevant ML methods are lasso regression, ridge regression, principal component analysis (PCA). Examples of the relevant features are token count, TF, IDF, TF-IDF, sentence length, negation words count, exclamation count, question mark count.\n",
    "\n",
    "**What is the Bayes' error bound?**\n",
    "\n",
    "Based on the last year results for this competition, the Bayes' error bound appears to be aroud 0.94 since it was the best accuracy achieved among last year groups."
   ]
  },
  {
   "cell_type": "markdown",
   "id": "c308e3d9",
   "metadata": {
    "_uuid": "ea195a804433c840f3dab99683f4e8b9e69c55a0",
    "papermill": {
     "duration": 0.008152,
     "end_time": "2023-10-09T12:13:28.168488",
     "exception": false,
     "start_time": "2023-10-09T12:13:28.160336",
     "status": "completed"
    },
    "tags": []
   },
   "source": [
    "# 2. Read Data\n",
    "\n",
    "Locate and load the data into memory."
   ]
  },
  {
   "cell_type": "code",
   "execution_count": 2,
   "id": "599cd042",
   "metadata": {
    "_uuid": "f66f7f950943394a8a4a148177f47055988d9967",
    "execution": {
     "iopub.execute_input": "2023-10-09T12:13:28.217215Z",
     "iopub.status.busy": "2023-10-09T12:13:28.187068Z",
     "iopub.status.idle": "2023-10-09T12:13:30.368595Z",
     "shell.execute_reply": "2023-10-09T12:13:30.366143Z"
    },
    "papermill": {
     "duration": 2.194896,
     "end_time": "2023-10-09T12:13:30.371525",
     "exception": false,
     "start_time": "2023-10-09T12:13:28.176629",
     "status": "completed"
    },
    "tags": []
   },
   "outputs": [
    {
     "data": {
      "text/html": [
       "<style>\n",
       ".list-inline {list-style: none; margin:0; padding: 0}\n",
       ".list-inline>li {display: inline-block}\n",
       ".list-inline>li:not(:last-child)::after {content: \"\\00b7\"; padding: 0 .5ex}\n",
       "</style>\n",
       "<ol class=list-inline><li>'customer-sentiment-from-reviews-bda-2023/amazon_baby_testset_sample.csv'</li><li>'customer-sentiment-from-reviews-bda-2023/amazon_baby.csv'</li></ol>\n"
      ],
      "text/latex": [
       "\\begin{enumerate*}\n",
       "\\item 'customer-sentiment-from-reviews-bda-2023/amazon\\_baby\\_testset\\_sample.csv'\n",
       "\\item 'customer-sentiment-from-reviews-bda-2023/amazon\\_baby.csv'\n",
       "\\end{enumerate*}\n"
      ],
      "text/markdown": [
       "1. 'customer-sentiment-from-reviews-bda-2023/amazon_baby_testset_sample.csv'\n",
       "2. 'customer-sentiment-from-reviews-bda-2023/amazon_baby.csv'\n",
       "\n",
       "\n"
      ],
      "text/plain": [
       "[1] \"customer-sentiment-from-reviews-bda-2023/amazon_baby_testset_sample.csv\"\n",
       "[2] \"customer-sentiment-from-reviews-bda-2023/amazon_baby.csv\"               "
      ]
     },
     "metadata": {},
     "output_type": "display_data"
    },
    {
     "name": "stderr",
     "output_type": "stream",
     "text": [
      "\u001b[1mRows: \u001b[22m\u001b[34m183531\u001b[39m \u001b[1mColumns: \u001b[22m\u001b[34m3\u001b[39m\n",
      "\u001b[36m──\u001b[39m \u001b[1mColumn specification\u001b[22m \u001b[36m────────────────────────────────────────────────────────\u001b[39m\n",
      "\u001b[1mDelimiter:\u001b[22m \",\"\n",
      "\u001b[31mchr\u001b[39m (2): name, review\n",
      "\u001b[32mdbl\u001b[39m (1): rating\n",
      "\n",
      "\u001b[36mℹ\u001b[39m Use `spec()` to retrieve the full column specification for this data.\n",
      "\u001b[36mℹ\u001b[39m Specify the column types or set `show_col_types = FALSE` to quiet this message.\n"
     ]
    },
    {
     "data": {
      "text/html": [
       "<table class=\"dataframe\">\n",
       "<caption>A tibble: 6 × 4</caption>\n",
       "<thead>\n",
       "\t<tr><th scope=col>id</th><th scope=col>name</th><th scope=col>review</th><th scope=col>rating</th></tr>\n",
       "\t<tr><th scope=col>&lt;chr&gt;</th><th scope=col>&lt;chr&gt;</th><th scope=col>&lt;chr&gt;</th><th scope=col>&lt;dbl&gt;</th></tr>\n",
       "</thead>\n",
       "<tbody>\n",
       "\t<tr><td>1</td><td>Planetwise Flannel Wipes                                                                           </td><td>These flannel wipes are OK, but in my opinion not worth keeping.  I also ordered someImse Vimse Cloth Wipes-Ocean Blue-12 countwhich are larger, had a nicer, softer texture and just seemed higher quality.  I use cloth wipes for hands and faces and have been usingThirsties 6 Pack Fab Wipes, Boyfor about 8 months now and need to replace them because they are starting to get rough and have had stink issues for a while that stripping no longer handles.                                            </td><td> 3</td></tr>\n",
       "\t<tr><td>2</td><td>Planetwise Wipe Pouch                                                                              </td><td>it came early and was not disappointed. i love planet wise bags and now my wipe holder. it keps my osocozy wipes moist and does not leak. highly recommend it.                                                                                                                                                                                                                                                                                                                                                  </td><td> 5</td></tr>\n",
       "\t<tr><td>3</td><td>Annas Dream Full Quilt with 2 Shams                                                                </td><td>Very soft and comfortable and warmer than it looks...fit the full size bed perfectly...would recommend to anyone looking for this type of quilt                                                                                                                                                                                                                                                                                                                                                                 </td><td>NA</td></tr>\n",
       "\t<tr><td>4</td><td>Stop Pacifier Sucking without tears with Thumbuddy To Love\\'s Binky Fairy Puppet and Adorable Book</td><td>This is a product well worth the purchase.  I have not found anything else like this, and it is a positive, ingenious approach to losing the binky.  What I love most about this product is how much ownership my daughter has in getting rid of the binky.  She is so proud of herself, and loves her little fairy.  I love the artwork, the chart in the back, and the clever approach of this tool.                                                                                                          </td><td> 5</td></tr>\n",
       "\t<tr><td>5</td><td>Stop Pacifier Sucking without tears with Thumbuddy To Love\\'s Binky Fairy Puppet and Adorable Book</td><td>All of my kids have cried non-stop when I tried to ween them off their pacifier, until I found Thumbuddy To Love\\'s Binky Fairy Puppet.  It is an easy way to work with your kids to allow them to understand where their pacifier is going and help them part from it.This is a must buy book, and a great gift for expecting parents!!  You will save them soo many headaches.Thanks for this book!  You all rock!!                                                                                          </td><td>NA</td></tr>\n",
       "\t<tr><td>6</td><td>Stop Pacifier Sucking without tears with Thumbuddy To Love\\'s Binky Fairy Puppet and Adorable Book</td><td>When the Binky Fairy came to our house, we didn\\'t have any special gift and book to help explain to her about how important it is to stop using a pacifier. This book does a great job to help prepare your child for the loss of their favorite item. The doll is adorable and we made lots of cute movies with the Binky Fairy telling our daughter about what happens when the Binky Fairy comes. I would highly recommend this product for any parent trying to break the pacifier or thumb sucking habit.</td><td> 5</td></tr>\n",
       "</tbody>\n",
       "</table>\n"
      ],
      "text/latex": [
       "A tibble: 6 × 4\n",
       "\\begin{tabular}{llll}\n",
       " id & name & review & rating\\\\\n",
       " <chr> & <chr> & <chr> & <dbl>\\\\\n",
       "\\hline\n",
       "\t 1 & Planetwise Flannel Wipes                                                                            & These flannel wipes are OK, but in my opinion not worth keeping.  I also ordered someImse Vimse Cloth Wipes-Ocean Blue-12 countwhich are larger, had a nicer, softer texture and just seemed higher quality.  I use cloth wipes for hands and faces and have been usingThirsties 6 Pack Fab Wipes, Boyfor about 8 months now and need to replace them because they are starting to get rough and have had stink issues for a while that stripping no longer handles.                                             &  3\\\\\n",
       "\t 2 & Planetwise Wipe Pouch                                                                               & it came early and was not disappointed. i love planet wise bags and now my wipe holder. it keps my osocozy wipes moist and does not leak. highly recommend it.                                                                                                                                                                                                                                                                                                                                                   &  5\\\\\n",
       "\t 3 & Annas Dream Full Quilt with 2 Shams                                                                 & Very soft and comfortable and warmer than it looks...fit the full size bed perfectly...would recommend to anyone looking for this type of quilt                                                                                                                                                                                                                                                                                                                                                                  & NA\\\\\n",
       "\t 4 & Stop Pacifier Sucking without tears with Thumbuddy To Love\\textbackslash{}'s Binky Fairy Puppet and Adorable Book & This is a product well worth the purchase.  I have not found anything else like this, and it is a positive, ingenious approach to losing the binky.  What I love most about this product is how much ownership my daughter has in getting rid of the binky.  She is so proud of herself, and loves her little fairy.  I love the artwork, the chart in the back, and the clever approach of this tool.                                                                                                           &  5\\\\\n",
       "\t 5 & Stop Pacifier Sucking without tears with Thumbuddy To Love\\textbackslash{}'s Binky Fairy Puppet and Adorable Book & All of my kids have cried non-stop when I tried to ween them off their pacifier, until I found Thumbuddy To Love\\textbackslash{}'s Binky Fairy Puppet.  It is an easy way to work with your kids to allow them to understand where their pacifier is going and help them part from it.This is a must buy book, and a great gift for expecting parents!!  You will save them soo many headaches.Thanks for this book!  You all rock!!                                                                                           & NA\\\\\n",
       "\t 6 & Stop Pacifier Sucking without tears with Thumbuddy To Love\\textbackslash{}'s Binky Fairy Puppet and Adorable Book & When the Binky Fairy came to our house, we didn\\textbackslash{}'t have any special gift and book to help explain to her about how important it is to stop using a pacifier. This book does a great job to help prepare your child for the loss of their favorite item. The doll is adorable and we made lots of cute movies with the Binky Fairy telling our daughter about what happens when the Binky Fairy comes. I would highly recommend this product for any parent trying to break the pacifier or thumb sucking habit. &  5\\\\\n",
       "\\end{tabular}\n"
      ],
      "text/markdown": [
       "\n",
       "A tibble: 6 × 4\n",
       "\n",
       "| id &lt;chr&gt; | name &lt;chr&gt; | review &lt;chr&gt; | rating &lt;dbl&gt; |\n",
       "|---|---|---|---|\n",
       "| 1 | Planetwise Flannel Wipes                                                                            | These flannel wipes are OK, but in my opinion not worth keeping.  I also ordered someImse Vimse Cloth Wipes-Ocean Blue-12 countwhich are larger, had a nicer, softer texture and just seemed higher quality.  I use cloth wipes for hands and faces and have been usingThirsties 6 Pack Fab Wipes, Boyfor about 8 months now and need to replace them because they are starting to get rough and have had stink issues for a while that stripping no longer handles.                                             |  3 |\n",
       "| 2 | Planetwise Wipe Pouch                                                                               | it came early and was not disappointed. i love planet wise bags and now my wipe holder. it keps my osocozy wipes moist and does not leak. highly recommend it.                                                                                                                                                                                                                                                                                                                                                   |  5 |\n",
       "| 3 | Annas Dream Full Quilt with 2 Shams                                                                 | Very soft and comfortable and warmer than it looks...fit the full size bed perfectly...would recommend to anyone looking for this type of quilt                                                                                                                                                                                                                                                                                                                                                                  | NA |\n",
       "| 4 | Stop Pacifier Sucking without tears with Thumbuddy To Love\\'s Binky Fairy Puppet and Adorable Book | This is a product well worth the purchase.  I have not found anything else like this, and it is a positive, ingenious approach to losing the binky.  What I love most about this product is how much ownership my daughter has in getting rid of the binky.  She is so proud of herself, and loves her little fairy.  I love the artwork, the chart in the back, and the clever approach of this tool.                                                                                                           |  5 |\n",
       "| 5 | Stop Pacifier Sucking without tears with Thumbuddy To Love\\'s Binky Fairy Puppet and Adorable Book | All of my kids have cried non-stop when I tried to ween them off their pacifier, until I found Thumbuddy To Love\\'s Binky Fairy Puppet.  It is an easy way to work with your kids to allow them to understand where their pacifier is going and help them part from it.This is a must buy book, and a great gift for expecting parents!!  You will save them soo many headaches.Thanks for this book!  You all rock!!                                                                                           | NA |\n",
       "| 6 | Stop Pacifier Sucking without tears with Thumbuddy To Love\\'s Binky Fairy Puppet and Adorable Book | When the Binky Fairy came to our house, we didn\\'t have any special gift and book to help explain to her about how important it is to stop using a pacifier. This book does a great job to help prepare your child for the loss of their favorite item. The doll is adorable and we made lots of cute movies with the Binky Fairy telling our daughter about what happens when the Binky Fairy comes. I would highly recommend this product for any parent trying to break the pacifier or thumb sucking habit. |  5 |\n",
       "\n"
      ],
      "text/plain": [
       "  id\n",
       "1 1 \n",
       "2 2 \n",
       "3 3 \n",
       "4 4 \n",
       "5 5 \n",
       "6 6 \n",
       "  name                                                                                               \n",
       "1 Planetwise Flannel Wipes                                                                           \n",
       "2 Planetwise Wipe Pouch                                                                              \n",
       "3 Annas Dream Full Quilt with 2 Shams                                                                \n",
       "4 Stop Pacifier Sucking without tears with Thumbuddy To Love\\\\'s Binky Fairy Puppet and Adorable Book\n",
       "5 Stop Pacifier Sucking without tears with Thumbuddy To Love\\\\'s Binky Fairy Puppet and Adorable Book\n",
       "6 Stop Pacifier Sucking without tears with Thumbuddy To Love\\\\'s Binky Fairy Puppet and Adorable Book\n",
       "  review                                                                                                                                                                                                                                                                                                                                                                                                                                                                                                          \n",
       "1 These flannel wipes are OK, but in my opinion not worth keeping.  I also ordered someImse Vimse Cloth Wipes-Ocean Blue-12 countwhich are larger, had a nicer, softer texture and just seemed higher quality.  I use cloth wipes for hands and faces and have been usingThirsties 6 Pack Fab Wipes, Boyfor about 8 months now and need to replace them because they are starting to get rough and have had stink issues for a while that stripping no longer handles.                                            \n",
       "2 it came early and was not disappointed. i love planet wise bags and now my wipe holder. it keps my osocozy wipes moist and does not leak. highly recommend it.                                                                                                                                                                                                                                                                                                                                                  \n",
       "3 Very soft and comfortable and warmer than it looks...fit the full size bed perfectly...would recommend to anyone looking for this type of quilt                                                                                                                                                                                                                                                                                                                                                                 \n",
       "4 This is a product well worth the purchase.  I have not found anything else like this, and it is a positive, ingenious approach to losing the binky.  What I love most about this product is how much ownership my daughter has in getting rid of the binky.  She is so proud of herself, and loves her little fairy.  I love the artwork, the chart in the back, and the clever approach of this tool.                                                                                                          \n",
       "5 All of my kids have cried non-stop when I tried to ween them off their pacifier, until I found Thumbuddy To Love\\\\'s Binky Fairy Puppet.  It is an easy way to work with your kids to allow them to understand where their pacifier is going and help them part from it.This is a must buy book, and a great gift for expecting parents!!  You will save them soo many headaches.Thanks for this book!  You all rock!!                                                                                          \n",
       "6 When the Binky Fairy came to our house, we didn\\\\'t have any special gift and book to help explain to her about how important it is to stop using a pacifier. This book does a great job to help prepare your child for the loss of their favorite item. The doll is adorable and we made lots of cute movies with the Binky Fairy telling our daughter about what happens when the Binky Fairy comes. I would highly recommend this product for any parent trying to break the pacifier or thumb sucking habit.\n",
       "  rating\n",
       "1  3    \n",
       "2  5    \n",
       "3 NA    \n",
       "4  5    \n",
       "5 NA    \n",
       "6  5    "
      ]
     },
     "metadata": {},
     "output_type": "display_data"
    }
   ],
   "source": [
    "dir(\"../input\", recursive=TRUE)\n",
    "\n",
    "# Find the right file path\n",
    "csv_filepath = dir(\"..\", pattern=\"amazon_baby.csv\", recursive=TRUE, full.names = TRUE)\n",
    "\n",
    "# Read in the csv file\n",
    "amazon = read_csv(csv_filepath) %>%\n",
    "    rownames_to_column('id') \n",
    "\n",
    "head(amazon)"
   ]
  },
  {
   "cell_type": "markdown",
   "id": "7f9e7d8f",
   "metadata": {
    "_uuid": "44b5752518ddc0aca9331ed5831d5edf2564f2fd",
    "papermill": {
     "duration": 0.009011,
     "end_time": "2023-10-09T12:13:30.390364",
     "exception": false,
     "start_time": "2023-10-09T12:13:30.381353",
     "status": "completed"
    },
    "tags": []
   },
   "source": [
    "The data frame contains both the train and test data. The test data are the reviews for which the rating is missing and we need to provide a prediction. The following logical index variable will be of help selecting the desired rows without the need to split the data frame into seperate sets."
   ]
  },
  {
   "cell_type": "code",
   "execution_count": 3,
   "id": "726c476c",
   "metadata": {
    "_uuid": "929ae8a13ffecf79e218434ae79b1be6140ebcd7",
    "execution": {
     "iopub.execute_input": "2023-10-09T12:13:30.458729Z",
     "iopub.status.busy": "2023-10-09T12:13:30.410273Z",
     "iopub.status.idle": "2023-10-09T12:13:30.861809Z",
     "shell.execute_reply": "2023-10-09T12:13:30.859782Z"
    },
    "papermill": {
     "duration": 0.465117,
     "end_time": "2023-10-09T12:13:30.864538",
     "exception": false,
     "start_time": "2023-10-09T12:13:30.399421",
     "status": "completed"
    },
    "tags": []
   },
   "outputs": [
    {
     "data": {
      "text/plain": [
       "trainidx\n",
       " FALSE   TRUE \n",
       " 30000 153531 "
      ]
     },
     "metadata": {},
     "output_type": "display_data"
    }
   ],
   "source": [
    "trainidx = !is.na(amazon$rating)\n",
    "table(trainidx)"
   ]
  },
  {
   "cell_type": "markdown",
   "id": "af6f1550",
   "metadata": {
    "_uuid": "548e07947ca115cc8138c438c8e6487acb62a6c0",
    "papermill": {
     "duration": 0.015451,
     "end_time": "2023-10-09T12:13:30.889193",
     "exception": false,
     "start_time": "2023-10-09T12:13:30.873742",
     "status": "completed"
    },
    "tags": []
   },
   "source": [
    "From the above, there are 153,531 training samples and 30,000 test samples."
   ]
  },
  {
   "cell_type": "markdown",
   "id": "b6297e8e",
   "metadata": {
    "papermill": {
     "duration": 0.0099,
     "end_time": "2023-10-09T12:13:30.912933",
     "exception": false,
     "start_time": "2023-10-09T12:13:30.903033",
     "status": "completed"
    },
    "tags": []
   },
   "source": [
    "# 3. Preprocessing\n",
    "\n",
    " Clearly the products differ on quality which will cause the ratings to differ, so we want to include product identiy as a predictive feature. Thus, we'll prepend the product name to the review text. "
   ]
  },
  {
   "cell_type": "code",
   "execution_count": 4,
   "id": "a31a7555",
   "metadata": {
    "execution": {
     "iopub.execute_input": "2023-10-09T12:13:30.939732Z",
     "iopub.status.busy": "2023-10-09T12:13:30.937129Z",
     "iopub.status.idle": "2023-10-09T12:13:32.655450Z",
     "shell.execute_reply": "2023-10-09T12:13:32.653819Z"
    },
    "papermill": {
     "duration": 1.732308,
     "end_time": "2023-10-09T12:13:32.657771",
     "exception": false,
     "start_time": "2023-10-09T12:13:30.925463",
     "status": "completed"
    },
    "tags": []
   },
   "outputs": [
    {
     "data": {
      "text/html": [
       "<table class=\"dataframe\">\n",
       "<caption>A tibble: 6 × 4</caption>\n",
       "<thead>\n",
       "\t<tr><th scope=col>id</th><th scope=col>review</th><th scope=col>name</th><th scope=col>rating</th></tr>\n",
       "\t<tr><th scope=col>&lt;chr&gt;</th><th scope=col>&lt;chr&gt;</th><th scope=col>&lt;chr&gt;</th><th scope=col>&lt;fct&gt;</th></tr>\n",
       "</thead>\n",
       "<tbody>\n",
       "\t<tr><td>1</td><td>Planetwise Flannel Wipes — These flannel wipes are OK, but in my opinion not worth keeping.  I also ordered someImse Vimse Cloth Wipes-Ocean Blue-12 countwhich are larger, had a nicer, softer texture and just seemed higher quality.  I use cloth wipes for hands and faces and have been usingThirsties 6 Pack Fab Wipes, Boyfor about 8 months now and need to replace them because they are starting to get rough and have had stink issues for a while that stripping no longer handles.                                                                                                                       </td><td>Planetwise Flannel Wipes                                                                           </td><td>False</td></tr>\n",
       "\t<tr><td>2</td><td>Planetwise Wipe Pouch — it came early and was not disappointed. i love planet wise bags and now my wipe holder. it keps my osocozy wipes moist and does not leak. highly recommend it.                                                                                                                                                                                                                                                                                                                                                                                                                                </td><td>Planetwise Wipe Pouch                                                                              </td><td>True </td></tr>\n",
       "\t<tr><td>3</td><td>Annas Dream Full Quilt with 2 Shams — Very soft and comfortable and warmer than it looks...fit the full size bed perfectly...would recommend to anyone looking for this type of quilt                                                                                                                                                                                                                                                                                                                                                                                                                                 </td><td>Annas Dream Full Quilt with 2 Shams                                                                </td><td>NA   </td></tr>\n",
       "\t<tr><td>4</td><td>Stop Pacifier Sucking without tears with Thumbuddy To Love\\'s Binky Fairy Puppet and Adorable Book — This is a product well worth the purchase.  I have not found anything else like this, and it is a positive, ingenious approach to losing the binky.  What I love most about this product is how much ownership my daughter has in getting rid of the binky.  She is so proud of herself, and loves her little fairy.  I love the artwork, the chart in the back, and the clever approach of this tool.                                                                                                          </td><td>Stop Pacifier Sucking without tears with Thumbuddy To Love\\'s Binky Fairy Puppet and Adorable Book</td><td>True </td></tr>\n",
       "\t<tr><td>5</td><td>Stop Pacifier Sucking without tears with Thumbuddy To Love\\'s Binky Fairy Puppet and Adorable Book — All of my kids have cried non-stop when I tried to ween them off their pacifier, until I found Thumbuddy To Love\\'s Binky Fairy Puppet.  It is an easy way to work with your kids to allow them to understand where their pacifier is going and help them part from it.This is a must buy book, and a great gift for expecting parents!!  You will save them soo many headaches.Thanks for this book!  You all rock!!                                                                                          </td><td>Stop Pacifier Sucking without tears with Thumbuddy To Love\\'s Binky Fairy Puppet and Adorable Book</td><td>NA   </td></tr>\n",
       "\t<tr><td>6</td><td>Stop Pacifier Sucking without tears with Thumbuddy To Love\\'s Binky Fairy Puppet and Adorable Book — When the Binky Fairy came to our house, we didn\\'t have any special gift and book to help explain to her about how important it is to stop using a pacifier. This book does a great job to help prepare your child for the loss of their favorite item. The doll is adorable and we made lots of cute movies with the Binky Fairy telling our daughter about what happens when the Binky Fairy comes. I would highly recommend this product for any parent trying to break the pacifier or thumb sucking habit.</td><td>Stop Pacifier Sucking without tears with Thumbuddy To Love\\'s Binky Fairy Puppet and Adorable Book</td><td>True </td></tr>\n",
       "</tbody>\n",
       "</table>\n"
      ],
      "text/latex": [
       "A tibble: 6 × 4\n",
       "\\begin{tabular}{llll}\n",
       " id & review & name & rating\\\\\n",
       " <chr> & <chr> & <chr> & <fct>\\\\\n",
       "\\hline\n",
       "\t 1 & Planetwise Flannel Wipes — These flannel wipes are OK, but in my opinion not worth keeping.  I also ordered someImse Vimse Cloth Wipes-Ocean Blue-12 countwhich are larger, had a nicer, softer texture and just seemed higher quality.  I use cloth wipes for hands and faces and have been usingThirsties 6 Pack Fab Wipes, Boyfor about 8 months now and need to replace them because they are starting to get rough and have had stink issues for a while that stripping no longer handles.                                                                                                                        & Planetwise Flannel Wipes                                                                            & False\\\\\n",
       "\t 2 & Planetwise Wipe Pouch — it came early and was not disappointed. i love planet wise bags and now my wipe holder. it keps my osocozy wipes moist and does not leak. highly recommend it.                                                                                                                                                                                                                                                                                                                                                                                                                                 & Planetwise Wipe Pouch                                                                               & True \\\\\n",
       "\t 3 & Annas Dream Full Quilt with 2 Shams — Very soft and comfortable and warmer than it looks...fit the full size bed perfectly...would recommend to anyone looking for this type of quilt                                                                                                                                                                                                                                                                                                                                                                                                                                  & Annas Dream Full Quilt with 2 Shams                                                                 & NA   \\\\\n",
       "\t 4 & Stop Pacifier Sucking without tears with Thumbuddy To Love\\textbackslash{}'s Binky Fairy Puppet and Adorable Book — This is a product well worth the purchase.  I have not found anything else like this, and it is a positive, ingenious approach to losing the binky.  What I love most about this product is how much ownership my daughter has in getting rid of the binky.  She is so proud of herself, and loves her little fairy.  I love the artwork, the chart in the back, and the clever approach of this tool.                                                                                                           & Stop Pacifier Sucking without tears with Thumbuddy To Love\\textbackslash{}'s Binky Fairy Puppet and Adorable Book & True \\\\\n",
       "\t 5 & Stop Pacifier Sucking without tears with Thumbuddy To Love\\textbackslash{}'s Binky Fairy Puppet and Adorable Book — All of my kids have cried non-stop when I tried to ween them off their pacifier, until I found Thumbuddy To Love\\textbackslash{}'s Binky Fairy Puppet.  It is an easy way to work with your kids to allow them to understand where their pacifier is going and help them part from it.This is a must buy book, and a great gift for expecting parents!!  You will save them soo many headaches.Thanks for this book!  You all rock!!                                                                                           & Stop Pacifier Sucking without tears with Thumbuddy To Love\\textbackslash{}'s Binky Fairy Puppet and Adorable Book & NA   \\\\\n",
       "\t 6 & Stop Pacifier Sucking without tears with Thumbuddy To Love\\textbackslash{}'s Binky Fairy Puppet and Adorable Book — When the Binky Fairy came to our house, we didn\\textbackslash{}'t have any special gift and book to help explain to her about how important it is to stop using a pacifier. This book does a great job to help prepare your child for the loss of their favorite item. The doll is adorable and we made lots of cute movies with the Binky Fairy telling our daughter about what happens when the Binky Fairy comes. I would highly recommend this product for any parent trying to break the pacifier or thumb sucking habit. & Stop Pacifier Sucking without tears with Thumbuddy To Love\\textbackslash{}'s Binky Fairy Puppet and Adorable Book & True \\\\\n",
       "\\end{tabular}\n"
      ],
      "text/markdown": [
       "\n",
       "A tibble: 6 × 4\n",
       "\n",
       "| id &lt;chr&gt; | review &lt;chr&gt; | name &lt;chr&gt; | rating &lt;fct&gt; |\n",
       "|---|---|---|---|\n",
       "| 1 | Planetwise Flannel Wipes — These flannel wipes are OK, but in my opinion not worth keeping.  I also ordered someImse Vimse Cloth Wipes-Ocean Blue-12 countwhich are larger, had a nicer, softer texture and just seemed higher quality.  I use cloth wipes for hands and faces and have been usingThirsties 6 Pack Fab Wipes, Boyfor about 8 months now and need to replace them because they are starting to get rough and have had stink issues for a while that stripping no longer handles.                                                                                                                        | Planetwise Flannel Wipes                                                                            | False |\n",
       "| 2 | Planetwise Wipe Pouch — it came early and was not disappointed. i love planet wise bags and now my wipe holder. it keps my osocozy wipes moist and does not leak. highly recommend it.                                                                                                                                                                                                                                                                                                                                                                                                                                 | Planetwise Wipe Pouch                                                                               | True  |\n",
       "| 3 | Annas Dream Full Quilt with 2 Shams — Very soft and comfortable and warmer than it looks...fit the full size bed perfectly...would recommend to anyone looking for this type of quilt                                                                                                                                                                                                                                                                                                                                                                                                                                  | Annas Dream Full Quilt with 2 Shams                                                                 | NA    |\n",
       "| 4 | Stop Pacifier Sucking without tears with Thumbuddy To Love\\'s Binky Fairy Puppet and Adorable Book — This is a product well worth the purchase.  I have not found anything else like this, and it is a positive, ingenious approach to losing the binky.  What I love most about this product is how much ownership my daughter has in getting rid of the binky.  She is so proud of herself, and loves her little fairy.  I love the artwork, the chart in the back, and the clever approach of this tool.                                                                                                           | Stop Pacifier Sucking without tears with Thumbuddy To Love\\'s Binky Fairy Puppet and Adorable Book | True  |\n",
       "| 5 | Stop Pacifier Sucking without tears with Thumbuddy To Love\\'s Binky Fairy Puppet and Adorable Book — All of my kids have cried non-stop when I tried to ween them off their pacifier, until I found Thumbuddy To Love\\'s Binky Fairy Puppet.  It is an easy way to work with your kids to allow them to understand where their pacifier is going and help them part from it.This is a must buy book, and a great gift for expecting parents!!  You will save them soo many headaches.Thanks for this book!  You all rock!!                                                                                           | Stop Pacifier Sucking without tears with Thumbuddy To Love\\'s Binky Fairy Puppet and Adorable Book | NA    |\n",
       "| 6 | Stop Pacifier Sucking without tears with Thumbuddy To Love\\'s Binky Fairy Puppet and Adorable Book — When the Binky Fairy came to our house, we didn\\'t have any special gift and book to help explain to her about how important it is to stop using a pacifier. This book does a great job to help prepare your child for the loss of their favorite item. The doll is adorable and we made lots of cute movies with the Binky Fairy telling our daughter about what happens when the Binky Fairy comes. I would highly recommend this product for any parent trying to break the pacifier or thumb sucking habit. | Stop Pacifier Sucking without tears with Thumbuddy To Love\\'s Binky Fairy Puppet and Adorable Book | True  |\n",
       "\n"
      ],
      "text/plain": [
       "  id\n",
       "1 1 \n",
       "2 2 \n",
       "3 3 \n",
       "4 4 \n",
       "5 5 \n",
       "6 6 \n",
       "  review                                                                                                                                                                                                                                                                                                                                                                                                                                                                                                                                                                                                                \n",
       "1 Planetwise Flannel Wipes — These flannel wipes are OK, but in my opinion not worth keeping.  I also ordered someImse Vimse Cloth Wipes-Ocean Blue-12 countwhich are larger, had a nicer, softer texture and just seemed higher quality.  I use cloth wipes for hands and faces and have been usingThirsties 6 Pack Fab Wipes, Boyfor about 8 months now and need to replace them because they are starting to get rough and have had stink issues for a while that stripping no longer handles.                                                                                                                       \n",
       "2 Planetwise Wipe Pouch — it came early and was not disappointed. i love planet wise bags and now my wipe holder. it keps my osocozy wipes moist and does not leak. highly recommend it.                                                                                                                                                                                                                                                                                                                                                                                                                                \n",
       "3 Annas Dream Full Quilt with 2 Shams — Very soft and comfortable and warmer than it looks...fit the full size bed perfectly...would recommend to anyone looking for this type of quilt                                                                                                                                                                                                                                                                                                                                                                                                                                 \n",
       "4 Stop Pacifier Sucking without tears with Thumbuddy To Love\\\\'s Binky Fairy Puppet and Adorable Book — This is a product well worth the purchase.  I have not found anything else like this, and it is a positive, ingenious approach to losing the binky.  What I love most about this product is how much ownership my daughter has in getting rid of the binky.  She is so proud of herself, and loves her little fairy.  I love the artwork, the chart in the back, and the clever approach of this tool.                                                                                                          \n",
       "5 Stop Pacifier Sucking without tears with Thumbuddy To Love\\\\'s Binky Fairy Puppet and Adorable Book — All of my kids have cried non-stop when I tried to ween them off their pacifier, until I found Thumbuddy To Love\\\\'s Binky Fairy Puppet.  It is an easy way to work with your kids to allow them to understand where their pacifier is going and help them part from it.This is a must buy book, and a great gift for expecting parents!!  You will save them soo many headaches.Thanks for this book!  You all rock!!                                                                                          \n",
       "6 Stop Pacifier Sucking without tears with Thumbuddy To Love\\\\'s Binky Fairy Puppet and Adorable Book — When the Binky Fairy came to our house, we didn\\\\'t have any special gift and book to help explain to her about how important it is to stop using a pacifier. This book does a great job to help prepare your child for the loss of their favorite item. The doll is adorable and we made lots of cute movies with the Binky Fairy telling our daughter about what happens when the Binky Fairy comes. I would highly recommend this product for any parent trying to break the pacifier or thumb sucking habit.\n",
       "  name                                                                                               \n",
       "1 Planetwise Flannel Wipes                                                                           \n",
       "2 Planetwise Wipe Pouch                                                                              \n",
       "3 Annas Dream Full Quilt with 2 Shams                                                                \n",
       "4 Stop Pacifier Sucking without tears with Thumbuddy To Love\\\\'s Binky Fairy Puppet and Adorable Book\n",
       "5 Stop Pacifier Sucking without tears with Thumbuddy To Love\\\\'s Binky Fairy Puppet and Adorable Book\n",
       "6 Stop Pacifier Sucking without tears with Thumbuddy To Love\\\\'s Binky Fairy Puppet and Adorable Book\n",
       "  rating\n",
       "1 False \n",
       "2 True  \n",
       "3 NA    \n",
       "4 True  \n",
       "5 NA    \n",
       "6 True  "
      ]
     },
     "metadata": {},
     "output_type": "display_data"
    }
   ],
   "source": [
    "amazon = amazon %>% \n",
    "    unite(review, name, review, sep = \" — \", remove = FALSE) %>%\n",
    "    mutate(rating = factor(ifelse(rating > 3, \"True\", \"False\"))) # make rating binary \n",
    "\n",
    "head(amazon)"
   ]
  },
  {
   "cell_type": "markdown",
   "id": "488e2d90",
   "metadata": {
    "papermill": {
     "duration": 0.010085,
     "end_time": "2023-10-09T12:13:32.678029",
     "exception": false,
     "start_time": "2023-10-09T12:13:32.667944",
     "status": "completed"
    },
    "tags": []
   },
   "source": [
    "Creating a sample of 10 000 cases to test the code and than commenting it out."
   ]
  },
  {
   "cell_type": "code",
   "execution_count": 5,
   "id": "dd493116",
   "metadata": {
    "execution": {
     "iopub.execute_input": "2023-10-09T12:13:32.700534Z",
     "iopub.status.busy": "2023-10-09T12:13:32.699112Z",
     "iopub.status.idle": "2023-10-09T12:13:32.715678Z",
     "shell.execute_reply": "2023-10-09T12:13:32.714035Z"
    },
    "papermill": {
     "duration": 0.031056,
     "end_time": "2023-10-09T12:13:32.718643",
     "exception": false,
     "start_time": "2023-10-09T12:13:32.687587",
     "status": "completed"
    },
    "tags": []
   },
   "outputs": [],
   "source": [
    "set.seed(1)\n",
    "sample <- amazon #%>% sample_n(5000)"
   ]
  },
  {
   "cell_type": "markdown",
   "id": "ae43cabe",
   "metadata": {
    "_uuid": "6098328162f312fdc8dbc3928891e85dbf1e479a",
    "papermill": {
     "duration": 0.009623,
     "end_time": "2023-10-09T12:13:32.737991",
     "exception": false,
     "start_time": "2023-10-09T12:13:32.728368",
     "status": "completed"
    },
    "tags": []
   },
   "source": [
    "## Tokenization\n",
    "\n",
    "We're going to use tidytext to break up the text into separate tokens and count the number of occurences per review. As tokens we are going to consider single words and bi-grams. "
   ]
  },
  {
   "cell_type": "code",
   "execution_count": 6,
   "id": "d937554b",
   "metadata": {
    "_uuid": "fca425b0d51862febe3d304fe00b95b7d0cd0769",
    "execution": {
     "iopub.execute_input": "2023-10-09T12:13:32.761368Z",
     "iopub.status.busy": "2023-10-09T12:13:32.759822Z",
     "iopub.status.idle": "2023-10-09T12:16:07.412084Z",
     "shell.execute_reply": "2023-10-09T12:16:07.410373Z"
    },
    "papermill": {
     "duration": 154.666493,
     "end_time": "2023-10-09T12:16:07.414189",
     "exception": false,
     "start_time": "2023-10-09T12:13:32.747696",
     "status": "completed"
    },
    "tags": []
   },
   "outputs": [
    {
     "data": {
      "text/html": [
       "<style>\n",
       ".list-inline {list-style: none; margin:0; padding: 0}\n",
       ".list-inline>li {display: inline-block}\n",
       ".list-inline>li:not(:last-child)::after {content: \"\\00b7\"; padding: 0 .5ex}\n",
       "</style>\n",
       "<ol class=list-inline><li>11511495</li><li>5</li></ol>\n"
      ],
      "text/latex": [
       "\\begin{enumerate*}\n",
       "\\item 11511495\n",
       "\\item 5\n",
       "\\end{enumerate*}\n"
      ],
      "text/markdown": [
       "1. 11511495\n",
       "2. 5\n",
       "\n",
       "\n"
      ],
      "text/plain": [
       "[1] 11511495        5"
      ]
     },
     "metadata": {},
     "output_type": "display_data"
    },
    {
     "data": {
      "text/html": [
       "<table class=\"dataframe\">\n",
       "<caption>A tibble: 5 × 5</caption>\n",
       "<thead>\n",
       "\t<tr><th scope=col>id</th><th scope=col>name</th><th scope=col>rating</th><th scope=col>token</th><th scope=col>n</th></tr>\n",
       "\t<tr><th scope=col>&lt;chr&gt;</th><th scope=col>&lt;chr&gt;</th><th scope=col>&lt;fct&gt;</th><th scope=col>&lt;chr&gt;</th><th scope=col>&lt;int&gt;</th></tr>\n",
       "</thead>\n",
       "<tbody>\n",
       "\t<tr><td>1</td><td>Planetwise Flannel Wipes</td><td>False</td><td>12   </td><td>1</td></tr>\n",
       "\t<tr><td>1</td><td>Planetwise Flannel Wipes</td><td>False</td><td>6    </td><td>1</td></tr>\n",
       "\t<tr><td>1</td><td>Planetwise Flannel Wipes</td><td>False</td><td>8    </td><td>1</td></tr>\n",
       "\t<tr><td>1</td><td>Planetwise Flannel Wipes</td><td>False</td><td>a    </td><td>2</td></tr>\n",
       "\t<tr><td>1</td><td>Planetwise Flannel Wipes</td><td>False</td><td>about</td><td>1</td></tr>\n",
       "</tbody>\n",
       "</table>\n"
      ],
      "text/latex": [
       "A tibble: 5 × 5\n",
       "\\begin{tabular}{lllll}\n",
       " id & name & rating & token & n\\\\\n",
       " <chr> & <chr> & <fct> & <chr> & <int>\\\\\n",
       "\\hline\n",
       "\t 1 & Planetwise Flannel Wipes & False & 12    & 1\\\\\n",
       "\t 1 & Planetwise Flannel Wipes & False & 6     & 1\\\\\n",
       "\t 1 & Planetwise Flannel Wipes & False & 8     & 1\\\\\n",
       "\t 1 & Planetwise Flannel Wipes & False & a     & 2\\\\\n",
       "\t 1 & Planetwise Flannel Wipes & False & about & 1\\\\\n",
       "\\end{tabular}\n"
      ],
      "text/markdown": [
       "\n",
       "A tibble: 5 × 5\n",
       "\n",
       "| id &lt;chr&gt; | name &lt;chr&gt; | rating &lt;fct&gt; | token &lt;chr&gt; | n &lt;int&gt; |\n",
       "|---|---|---|---|---|\n",
       "| 1 | Planetwise Flannel Wipes | False | 12    | 1 |\n",
       "| 1 | Planetwise Flannel Wipes | False | 6     | 1 |\n",
       "| 1 | Planetwise Flannel Wipes | False | 8     | 1 |\n",
       "| 1 | Planetwise Flannel Wipes | False | a     | 2 |\n",
       "| 1 | Planetwise Flannel Wipes | False | about | 1 |\n",
       "\n"
      ],
      "text/plain": [
       "  id name                     rating token n\n",
       "1 1  Planetwise Flannel Wipes False  12    1\n",
       "2 1  Planetwise Flannel Wipes False  6     1\n",
       "3 1  Planetwise Flannel Wipes False  8     1\n",
       "4 1  Planetwise Flannel Wipes False  a     2\n",
       "5 1  Planetwise Flannel Wipes False  about 1"
      ]
     },
     "metadata": {},
     "output_type": "display_data"
    }
   ],
   "source": [
    "# single word tokenization\n",
    "set.seed(1)\n",
    "\n",
    "words <- sample %>%\n",
    "  unnest_tokens(token, review, token = \"words\") %>% # unnest words from the review column\n",
    "  count(id, name, rating, token) # count the number of words per observation\n",
    "\n",
    "dim(words)\n",
    "head(words, 5)"
   ]
  },
  {
   "cell_type": "code",
   "execution_count": 7,
   "id": "c4b2a559",
   "metadata": {
    "execution": {
     "iopub.execute_input": "2023-10-09T12:16:07.446091Z",
     "iopub.status.busy": "2023-10-09T12:16:07.443553Z",
     "iopub.status.idle": "2023-10-09T12:19:49.373413Z",
     "shell.execute_reply": "2023-10-09T12:19:49.371708Z"
    },
    "papermill": {
     "duration": 221.945616,
     "end_time": "2023-10-09T12:19:49.375974",
     "exception": false,
     "start_time": "2023-10-09T12:16:07.430358",
     "status": "completed"
    },
    "tags": []
   },
   "outputs": [
    {
     "data": {
      "text/html": [
       "<style>\n",
       ".list-inline {list-style: none; margin:0; padding: 0}\n",
       ".list-inline>li {display: inline-block}\n",
       ".list-inline>li:not(:last-child)::after {content: \"\\00b7\"; padding: 0 .5ex}\n",
       "</style>\n",
       "<ol class=list-inline><li>15892066</li><li>5</li></ol>\n"
      ],
      "text/latex": [
       "\\begin{enumerate*}\n",
       "\\item 15892066\n",
       "\\item 5\n",
       "\\end{enumerate*}\n"
      ],
      "text/markdown": [
       "1. 15892066\n",
       "2. 5\n",
       "\n",
       "\n"
      ],
      "text/plain": [
       "[1] 15892066        5"
      ]
     },
     "metadata": {},
     "output_type": "display_data"
    },
    {
     "data": {
      "text/html": [
       "<table class=\"dataframe\">\n",
       "<caption>A tibble: 5 × 5</caption>\n",
       "<thead>\n",
       "\t<tr><th scope=col>id</th><th scope=col>name</th><th scope=col>rating</th><th scope=col>token</th><th scope=col>n</th></tr>\n",
       "\t<tr><th scope=col>&lt;chr&gt;</th><th scope=col>&lt;chr&gt;</th><th scope=col>&lt;fct&gt;</th><th scope=col>&lt;chr&gt;</th><th scope=col>&lt;int&gt;</th></tr>\n",
       "</thead>\n",
       "<tbody>\n",
       "\t<tr><td>1</td><td>Planetwise Flannel Wipes</td><td>False</td><td>12 countwhich</td><td>1</td></tr>\n",
       "\t<tr><td>1</td><td>Planetwise Flannel Wipes</td><td>False</td><td>6 pack       </td><td>1</td></tr>\n",
       "\t<tr><td>1</td><td>Planetwise Flannel Wipes</td><td>False</td><td>8 months     </td><td>1</td></tr>\n",
       "\t<tr><td>1</td><td>Planetwise Flannel Wipes</td><td>False</td><td>a nicer      </td><td>1</td></tr>\n",
       "\t<tr><td>1</td><td>Planetwise Flannel Wipes</td><td>False</td><td>a while      </td><td>1</td></tr>\n",
       "</tbody>\n",
       "</table>\n"
      ],
      "text/latex": [
       "A tibble: 5 × 5\n",
       "\\begin{tabular}{lllll}\n",
       " id & name & rating & token & n\\\\\n",
       " <chr> & <chr> & <fct> & <chr> & <int>\\\\\n",
       "\\hline\n",
       "\t 1 & Planetwise Flannel Wipes & False & 12 countwhich & 1\\\\\n",
       "\t 1 & Planetwise Flannel Wipes & False & 6 pack        & 1\\\\\n",
       "\t 1 & Planetwise Flannel Wipes & False & 8 months      & 1\\\\\n",
       "\t 1 & Planetwise Flannel Wipes & False & a nicer       & 1\\\\\n",
       "\t 1 & Planetwise Flannel Wipes & False & a while       & 1\\\\\n",
       "\\end{tabular}\n"
      ],
      "text/markdown": [
       "\n",
       "A tibble: 5 × 5\n",
       "\n",
       "| id &lt;chr&gt; | name &lt;chr&gt; | rating &lt;fct&gt; | token &lt;chr&gt; | n &lt;int&gt; |\n",
       "|---|---|---|---|---|\n",
       "| 1 | Planetwise Flannel Wipes | False | 12 countwhich | 1 |\n",
       "| 1 | Planetwise Flannel Wipes | False | 6 pack        | 1 |\n",
       "| 1 | Planetwise Flannel Wipes | False | 8 months      | 1 |\n",
       "| 1 | Planetwise Flannel Wipes | False | a nicer       | 1 |\n",
       "| 1 | Planetwise Flannel Wipes | False | a while       | 1 |\n",
       "\n"
      ],
      "text/plain": [
       "  id name                     rating token         n\n",
       "1 1  Planetwise Flannel Wipes False  12 countwhich 1\n",
       "2 1  Planetwise Flannel Wipes False  6 pack        1\n",
       "3 1  Planetwise Flannel Wipes False  8 months      1\n",
       "4 1  Planetwise Flannel Wipes False  a nicer       1\n",
       "5 1  Planetwise Flannel Wipes False  a while       1"
      ]
     },
     "metadata": {},
     "output_type": "display_data"
    }
   ],
   "source": [
    "# bigram tokenization\n",
    "set.seed(1)\n",
    "\n",
    "bigrams <- sample %>%\n",
    "  unnest_tokens(token, review, token = \"ngrams\", n = 2) %>%\n",
    "  count(id, name, rating, token) # count the number of bigrams per observation\n",
    "\n",
    "dim(bigrams)\n",
    "head(bigrams, 5)"
   ]
  },
  {
   "cell_type": "markdown",
   "id": "7dd8b38e",
   "metadata": {
    "_uuid": "fdf9400f7df6154bc5376ce3c5a213f56dd0560d",
    "papermill": {
     "duration": 0.010263,
     "end_time": "2023-10-09T12:19:49.404833",
     "exception": false,
     "start_time": "2023-10-09T12:19:49.394570",
     "status": "completed"
    },
    "tags": []
   },
   "source": [
    "\n",
    "# 4. Features engineering\n",
    "\n",
    "We are going to compute the following features:\n",
    "\n",
    "- **token counts** (for unigrams and bigrams)\n",
    "\n",
    "- **total number of words per review** (for unigrams and bigrams)\n",
    "\n",
    "- **the $TFIDF_{d,t}$** (for unigrams and bigrams)\n",
    "\n",
    "- **counts of exclamation and question marks per review**\n",
    "\n",
    "- **negation counts per review** (for unigrams and bigrams)"
   ]
  },
  {
   "cell_type": "markdown",
   "id": "3de92410",
   "metadata": {
    "papermill": {
     "duration": 0.010253,
     "end_time": "2023-10-09T12:19:49.425640",
     "exception": false,
     "start_time": "2023-10-09T12:19:49.415387",
     "status": "completed"
    },
    "tags": []
   },
   "source": [
    "## Token counts & total number of words per review"
   ]
  },
  {
   "cell_type": "code",
   "execution_count": 8,
   "id": "264692e7",
   "metadata": {
    "execution": {
     "iopub.execute_input": "2023-10-09T12:19:49.450034Z",
     "iopub.status.busy": "2023-10-09T12:19:49.448549Z",
     "iopub.status.idle": "2023-10-09T12:20:01.012117Z",
     "shell.execute_reply": "2023-10-09T12:20:01.008749Z"
    },
    "papermill": {
     "duration": 11.578709,
     "end_time": "2023-10-09T12:20:01.014765",
     "exception": false,
     "start_time": "2023-10-09T12:19:49.436056",
     "status": "completed"
    },
    "tags": []
   },
   "outputs": [
    {
     "name": "stderr",
     "output_type": "stream",
     "text": [
      "\u001b[1m\u001b[22mJoining with `by = join_by(name)`\n"
     ]
    },
    {
     "data": {
      "text/html": [
       "<table class=\"dataframe\">\n",
       "<caption>A tibble: 6 × 6</caption>\n",
       "<thead>\n",
       "\t<tr><th scope=col>id</th><th scope=col>name</th><th scope=col>rating</th><th scope=col>token</th><th scope=col>n</th><th scope=col>total</th></tr>\n",
       "\t<tr><th scope=col>&lt;chr&gt;</th><th scope=col>&lt;chr&gt;</th><th scope=col>&lt;fct&gt;</th><th scope=col>&lt;chr&gt;</th><th scope=col>&lt;int&gt;</th><th scope=col>&lt;int&gt;</th></tr>\n",
       "</thead>\n",
       "<tbody>\n",
       "\t<tr><td>1</td><td>Planetwise Flannel Wipes</td><td>False</td><td>12   </td><td>1</td><td>84</td></tr>\n",
       "\t<tr><td>1</td><td>Planetwise Flannel Wipes</td><td>False</td><td>6    </td><td>1</td><td>84</td></tr>\n",
       "\t<tr><td>1</td><td>Planetwise Flannel Wipes</td><td>False</td><td>8    </td><td>1</td><td>84</td></tr>\n",
       "\t<tr><td>1</td><td>Planetwise Flannel Wipes</td><td>False</td><td>a    </td><td>2</td><td>84</td></tr>\n",
       "\t<tr><td>1</td><td>Planetwise Flannel Wipes</td><td>False</td><td>about</td><td>1</td><td>84</td></tr>\n",
       "\t<tr><td>1</td><td>Planetwise Flannel Wipes</td><td>False</td><td>also </td><td>1</td><td>84</td></tr>\n",
       "</tbody>\n",
       "</table>\n"
      ],
      "text/latex": [
       "A tibble: 6 × 6\n",
       "\\begin{tabular}{llllll}\n",
       " id & name & rating & token & n & total\\\\\n",
       " <chr> & <chr> & <fct> & <chr> & <int> & <int>\\\\\n",
       "\\hline\n",
       "\t 1 & Planetwise Flannel Wipes & False & 12    & 1 & 84\\\\\n",
       "\t 1 & Planetwise Flannel Wipes & False & 6     & 1 & 84\\\\\n",
       "\t 1 & Planetwise Flannel Wipes & False & 8     & 1 & 84\\\\\n",
       "\t 1 & Planetwise Flannel Wipes & False & a     & 2 & 84\\\\\n",
       "\t 1 & Planetwise Flannel Wipes & False & about & 1 & 84\\\\\n",
       "\t 1 & Planetwise Flannel Wipes & False & also  & 1 & 84\\\\\n",
       "\\end{tabular}\n"
      ],
      "text/markdown": [
       "\n",
       "A tibble: 6 × 6\n",
       "\n",
       "| id &lt;chr&gt; | name &lt;chr&gt; | rating &lt;fct&gt; | token &lt;chr&gt; | n &lt;int&gt; | total &lt;int&gt; |\n",
       "|---|---|---|---|---|---|\n",
       "| 1 | Planetwise Flannel Wipes | False | 12    | 1 | 84 |\n",
       "| 1 | Planetwise Flannel Wipes | False | 6     | 1 | 84 |\n",
       "| 1 | Planetwise Flannel Wipes | False | 8     | 1 | 84 |\n",
       "| 1 | Planetwise Flannel Wipes | False | a     | 2 | 84 |\n",
       "| 1 | Planetwise Flannel Wipes | False | about | 1 | 84 |\n",
       "| 1 | Planetwise Flannel Wipes | False | also  | 1 | 84 |\n",
       "\n"
      ],
      "text/plain": [
       "  id name                     rating token n total\n",
       "1 1  Planetwise Flannel Wipes False  12    1 84   \n",
       "2 1  Planetwise Flannel Wipes False  6     1 84   \n",
       "3 1  Planetwise Flannel Wipes False  8     1 84   \n",
       "4 1  Planetwise Flannel Wipes False  a     2 84   \n",
       "5 1  Planetwise Flannel Wipes False  about 1 84   \n",
       "6 1  Planetwise Flannel Wipes False  also  1 84   "
      ]
     },
     "metadata": {},
     "output_type": "display_data"
    },
    {
     "data": {
      "text/html": [
       "<table class=\"dataframe\">\n",
       "<caption>A tibble: 6 × 3</caption>\n",
       "<thead>\n",
       "\t<tr><th scope=col>id</th><th scope=col>feature</th><th scope=col>value</th></tr>\n",
       "\t<tr><th scope=col>&lt;chr&gt;</th><th scope=col>&lt;chr&gt;</th><th scope=col>&lt;int&gt;</th></tr>\n",
       "</thead>\n",
       "<tbody>\n",
       "\t<tr><td>1</td><td>12   </td><td>1</td></tr>\n",
       "\t<tr><td>1</td><td>6    </td><td>1</td></tr>\n",
       "\t<tr><td>1</td><td>8    </td><td>1</td></tr>\n",
       "\t<tr><td>1</td><td>a    </td><td>2</td></tr>\n",
       "\t<tr><td>1</td><td>about</td><td>1</td></tr>\n",
       "\t<tr><td>1</td><td>also </td><td>1</td></tr>\n",
       "</tbody>\n",
       "</table>\n"
      ],
      "text/latex": [
       "A tibble: 6 × 3\n",
       "\\begin{tabular}{lll}\n",
       " id & feature & value\\\\\n",
       " <chr> & <chr> & <int>\\\\\n",
       "\\hline\n",
       "\t 1 & 12    & 1\\\\\n",
       "\t 1 & 6     & 1\\\\\n",
       "\t 1 & 8     & 1\\\\\n",
       "\t 1 & a     & 2\\\\\n",
       "\t 1 & about & 1\\\\\n",
       "\t 1 & also  & 1\\\\\n",
       "\\end{tabular}\n"
      ],
      "text/markdown": [
       "\n",
       "A tibble: 6 × 3\n",
       "\n",
       "| id &lt;chr&gt; | feature &lt;chr&gt; | value &lt;int&gt; |\n",
       "|---|---|---|\n",
       "| 1 | 12    | 1 |\n",
       "| 1 | 6     | 1 |\n",
       "| 1 | 8     | 1 |\n",
       "| 1 | a     | 2 |\n",
       "| 1 | about | 1 |\n",
       "| 1 | also  | 1 |\n",
       "\n"
      ],
      "text/plain": [
       "  id feature value\n",
       "1 1  12      1    \n",
       "2 1  6       1    \n",
       "3 1  8       1    \n",
       "4 1  a       2    \n",
       "5 1  about   1    \n",
       "6 1  also    1    "
      ]
     },
     "metadata": {},
     "output_type": "display_data"
    },
    {
     "data": {
      "text/html": [
       "<table class=\"dataframe\">\n",
       "<caption>A tibble: 6 × 3</caption>\n",
       "<thead>\n",
       "\t<tr><th scope=col>id</th><th scope=col>feature</th><th scope=col>value</th></tr>\n",
       "\t<tr><th scope=col>&lt;chr&gt;</th><th scope=col>&lt;chr&gt;</th><th scope=col>&lt;int&gt;</th></tr>\n",
       "</thead>\n",
       "<tbody>\n",
       "\t<tr><td>1     </td><td>total_num_words</td><td>   84</td></tr>\n",
       "\t<tr><td>10    </td><td>total_num_words</td><td>  920</td></tr>\n",
       "\t<tr><td>100   </td><td>total_num_words</td><td>   37</td></tr>\n",
       "\t<tr><td>1000  </td><td>total_num_words</td><td>19249</td></tr>\n",
       "\t<tr><td>10000 </td><td>total_num_words</td><td> 2113</td></tr>\n",
       "\t<tr><td>100000</td><td>total_num_words</td><td> 3608</td></tr>\n",
       "</tbody>\n",
       "</table>\n"
      ],
      "text/latex": [
       "A tibble: 6 × 3\n",
       "\\begin{tabular}{lll}\n",
       " id & feature & value\\\\\n",
       " <chr> & <chr> & <int>\\\\\n",
       "\\hline\n",
       "\t 1      & total\\_num\\_words &    84\\\\\n",
       "\t 10     & total\\_num\\_words &   920\\\\\n",
       "\t 100    & total\\_num\\_words &    37\\\\\n",
       "\t 1000   & total\\_num\\_words & 19249\\\\\n",
       "\t 10000  & total\\_num\\_words &  2113\\\\\n",
       "\t 100000 & total\\_num\\_words &  3608\\\\\n",
       "\\end{tabular}\n"
      ],
      "text/markdown": [
       "\n",
       "A tibble: 6 × 3\n",
       "\n",
       "| id &lt;chr&gt; | feature &lt;chr&gt; | value &lt;int&gt; |\n",
       "|---|---|---|\n",
       "| 1      | total_num_words |    84 |\n",
       "| 10     | total_num_words |   920 |\n",
       "| 100    | total_num_words |    37 |\n",
       "| 1000   | total_num_words | 19249 |\n",
       "| 10000  | total_num_words |  2113 |\n",
       "| 100000 | total_num_words |  3608 |\n",
       "\n"
      ],
      "text/plain": [
       "  id     feature         value\n",
       "1 1      total_num_words    84\n",
       "2 10     total_num_words   920\n",
       "3 100    total_num_words    37\n",
       "4 1000   total_num_words 19249\n",
       "5 10000  total_num_words  2113\n",
       "6 100000 total_num_words  3608"
      ]
     },
     "metadata": {},
     "output_type": "display_data"
    }
   ],
   "source": [
    "# total number of words per review\n",
    "total_words <- words %>%\n",
    " group_by(name) %>%\n",
    " summarize(total = sum(n))\n",
    "\n",
    "# combine token counts and total number of words per review \n",
    "review_words <- left_join(words, total_words)\n",
    "head(review_words)\n",
    "\n",
    "# transforming token counts into \"id - feature - value\" format          \n",
    "token_counts <- review_words %>%\n",
    "    mutate(feature = \"token_counts\") %>%\n",
    "    select(id, feature = token, value = n) %>%\n",
    "    distinct()\n",
    "head(token_counts)\n",
    "\n",
    "# transforming total number of words per review into \"id - feature - value\" format\n",
    "total_num_words <- review_words %>%\n",
    "    mutate(feature = \"total_num_words\") %>%\n",
    "    select(id, feature, value = total) %>%\n",
    "    distinct()\n",
    "head(total_num_words)"
   ]
  },
  {
   "cell_type": "markdown",
   "id": "925ccc4f",
   "metadata": {
    "papermill": {
     "duration": 0.019734,
     "end_time": "2023-10-09T12:20:01.046368",
     "exception": false,
     "start_time": "2023-10-09T12:20:01.026634",
     "status": "completed"
    },
    "tags": []
   },
   "source": [
    "## TF-IDF\n",
    "\n",
    "**Non-zero variance features** for Unigrams\n",
    "\n",
    "For binary and count data as considered here the variance is determined by the average. Hence, for the current data we can look simply at document frequencies and do not need to compute variances. \n",
    "\n",
    "We will remove tokens that occur in less than 0.01% of the documents (there are ~180,000 reviews in the data set; less than 0.01% &times; 180,000 reviews = 18 of the reviews).  \n",
    "\n",
    "we can filter the rows in `features` for which $-\\log(\\text{df}_t / N) \\leq -\\log(0.01\\%)$."
   ]
  },
  {
   "cell_type": "code",
   "execution_count": 9,
   "id": "f305a55a",
   "metadata": {
    "execution": {
     "iopub.execute_input": "2023-10-09T12:20:01.077766Z",
     "iopub.status.busy": "2023-10-09T12:20:01.076238Z",
     "iopub.status.idle": "2023-10-09T12:20:01.092599Z",
     "shell.execute_reply": "2023-10-09T12:20:01.090037Z"
    },
    "papermill": {
     "duration": 0.034371,
     "end_time": "2023-10-09T12:20:01.097568",
     "exception": false,
     "start_time": "2023-10-09T12:20:01.063197",
     "status": "completed"
    },
    "tags": []
   },
   "outputs": [],
   "source": [
    "create_tfidf <- . %>%\n",
    "\n",
    "    # Bind the TF-IDF columns\n",
    "    bind_tf_idf(token, id, n) %>%\n",
    "\n",
    "    # Replace NAs with 0\n",
    "    replace_na(list(tf = 0, idf = Inf, tf_idf = 0)) %>%\n",
    "\n",
    "    # Remove tokens that appear in more than 99.99% of reviews\n",
    "    filter(idf <= -log(0.01 / 100)) %>%\n",
    "\n",
    "    # Select only the columns we need\n",
    "    select(id, feature = token, value = tf_idf )"
   ]
  },
  {
   "cell_type": "markdown",
   "id": "97a42838",
   "metadata": {
    "papermill": {
     "duration": 0.011785,
     "end_time": "2023-10-09T12:20:01.122878",
     "exception": false,
     "start_time": "2023-10-09T12:20:01.111093",
     "status": "completed"
    },
    "tags": []
   },
   "source": [
    "### For Unigrams"
   ]
  },
  {
   "cell_type": "code",
   "execution_count": 10,
   "id": "227dd700",
   "metadata": {
    "execution": {
     "iopub.execute_input": "2023-10-09T12:20:01.148278Z",
     "iopub.status.busy": "2023-10-09T12:20:01.146630Z",
     "iopub.status.idle": "2023-10-09T12:20:06.695319Z",
     "shell.execute_reply": "2023-10-09T12:20:06.693187Z"
    },
    "papermill": {
     "duration": 5.564723,
     "end_time": "2023-10-09T12:20:06.698469",
     "exception": false,
     "start_time": "2023-10-09T12:20:01.133746",
     "status": "completed"
    },
    "tags": []
   },
   "outputs": [
    {
     "data": {
      "text/html": [
       "<style>\n",
       ".list-inline {list-style: none; margin:0; padding: 0}\n",
       ".list-inline>li {display: inline-block}\n",
       ".list-inline>li:not(:last-child)::after {content: \"\\00b7\"; padding: 0 .5ex}\n",
       "</style>\n",
       "<ol class=list-inline><li>11290427</li><li>3</li></ol>\n"
      ],
      "text/latex": [
       "\\begin{enumerate*}\n",
       "\\item 11290427\n",
       "\\item 3\n",
       "\\end{enumerate*}\n"
      ],
      "text/markdown": [
       "1. 11290427\n",
       "2. 3\n",
       "\n",
       "\n"
      ],
      "text/plain": [
       "[1] 11290427        3"
      ]
     },
     "metadata": {},
     "output_type": "display_data"
    },
    {
     "data": {
      "text/html": [
       "<table class=\"dataframe\">\n",
       "<caption>A tibble: 6 × 3</caption>\n",
       "<thead>\n",
       "\t<tr><th scope=col>id</th><th scope=col>feature</th><th scope=col>value</th></tr>\n",
       "\t<tr><th scope=col>&lt;chr&gt;</th><th scope=col>&lt;chr&gt;</th><th scope=col>&lt;dbl&gt;</th></tr>\n",
       "</thead>\n",
       "<tbody>\n",
       "\t<tr><td>1</td><td>12   </td><td>0.045978984</td></tr>\n",
       "\t<tr><td>1</td><td>6    </td><td>0.030938856</td></tr>\n",
       "\t<tr><td>1</td><td>8    </td><td>0.040013073</td></tr>\n",
       "\t<tr><td>1</td><td>a    </td><td>0.008632354</td></tr>\n",
       "\t<tr><td>1</td><td>about</td><td>0.023040804</td></tr>\n",
       "\t<tr><td>1</td><td>also </td><td>0.022591531</td></tr>\n",
       "</tbody>\n",
       "</table>\n"
      ],
      "text/latex": [
       "A tibble: 6 × 3\n",
       "\\begin{tabular}{lll}\n",
       " id & feature & value\\\\\n",
       " <chr> & <chr> & <dbl>\\\\\n",
       "\\hline\n",
       "\t 1 & 12    & 0.045978984\\\\\n",
       "\t 1 & 6     & 0.030938856\\\\\n",
       "\t 1 & 8     & 0.040013073\\\\\n",
       "\t 1 & a     & 0.008632354\\\\\n",
       "\t 1 & about & 0.023040804\\\\\n",
       "\t 1 & also  & 0.022591531\\\\\n",
       "\\end{tabular}\n"
      ],
      "text/markdown": [
       "\n",
       "A tibble: 6 × 3\n",
       "\n",
       "| id &lt;chr&gt; | feature &lt;chr&gt; | value &lt;dbl&gt; |\n",
       "|---|---|---|\n",
       "| 1 | 12    | 0.045978984 |\n",
       "| 1 | 6     | 0.030938856 |\n",
       "| 1 | 8     | 0.040013073 |\n",
       "| 1 | a     | 0.008632354 |\n",
       "| 1 | about | 0.023040804 |\n",
       "| 1 | also  | 0.022591531 |\n",
       "\n"
      ],
      "text/plain": [
       "  id feature value      \n",
       "1 1  12      0.045978984\n",
       "2 1  6       0.030938856\n",
       "3 1  8       0.040013073\n",
       "4 1  a       0.008632354\n",
       "5 1  about   0.023040804\n",
       "6 1  also    0.022591531"
      ]
     },
     "metadata": {},
     "output_type": "display_data"
    }
   ],
   "source": [
    "words_tfidf <- create_tfidf(words)\n",
    "dim(words_tfidf)\n",
    "head(words_tfidf)"
   ]
  },
  {
   "cell_type": "markdown",
   "id": "65944f1f",
   "metadata": {
    "papermill": {
     "duration": 0.011397,
     "end_time": "2023-10-09T12:20:06.721129",
     "exception": false,
     "start_time": "2023-10-09T12:20:06.709732",
     "status": "completed"
    },
    "tags": []
   },
   "source": [
    "### For Bigrams"
   ]
  },
  {
   "cell_type": "code",
   "execution_count": 11,
   "id": "fd3d6943",
   "metadata": {
    "execution": {
     "iopub.execute_input": "2023-10-09T12:20:06.747178Z",
     "iopub.status.busy": "2023-10-09T12:20:06.745660Z",
     "iopub.status.idle": "2023-10-09T12:20:40.256195Z",
     "shell.execute_reply": "2023-10-09T12:20:40.254472Z"
    },
    "papermill": {
     "duration": 33.527163,
     "end_time": "2023-10-09T12:20:40.259492",
     "exception": false,
     "start_time": "2023-10-09T12:20:06.732329",
     "status": "completed"
    },
    "tags": []
   },
   "outputs": [
    {
     "data": {
      "text/html": [
       "<style>\n",
       ".list-inline {list-style: none; margin:0; padding: 0}\n",
       ".list-inline>li {display: inline-block}\n",
       ".list-inline>li:not(:last-child)::after {content: \"\\00b7\"; padding: 0 .5ex}\n",
       "</style>\n",
       "<ol class=list-inline><li>12431575</li><li>3</li></ol>\n"
      ],
      "text/latex": [
       "\\begin{enumerate*}\n",
       "\\item 12431575\n",
       "\\item 3\n",
       "\\end{enumerate*}\n"
      ],
      "text/markdown": [
       "1. 12431575\n",
       "2. 3\n",
       "\n",
       "\n"
      ],
      "text/plain": [
       "[1] 12431575        3"
      ]
     },
     "metadata": {},
     "output_type": "display_data"
    },
    {
     "data": {
      "text/html": [
       "<table class=\"dataframe\">\n",
       "<caption>A tibble: 6 × 3</caption>\n",
       "<thead>\n",
       "\t<tr><th scope=col>id</th><th scope=col>feature</th><th scope=col>value</th></tr>\n",
       "\t<tr><th scope=col>&lt;chr&gt;</th><th scope=col>&lt;chr&gt;</th><th scope=col>&lt;dbl&gt;</th></tr>\n",
       "</thead>\n",
       "<tbody>\n",
       "\t<tr><td>1</td><td>6 pack      </td><td>0.06150993</td></tr>\n",
       "\t<tr><td>1</td><td>8 months    </td><td>0.06099085</td></tr>\n",
       "\t<tr><td>1</td><td>a nicer     </td><td>0.09649717</td></tr>\n",
       "\t<tr><td>1</td><td>a while     </td><td>0.05405163</td></tr>\n",
       "\t<tr><td>1</td><td>about 8     </td><td>0.07926356</td></tr>\n",
       "\t<tr><td>1</td><td>also ordered</td><td>0.09221965</td></tr>\n",
       "</tbody>\n",
       "</table>\n"
      ],
      "text/latex": [
       "A tibble: 6 × 3\n",
       "\\begin{tabular}{lll}\n",
       " id & feature & value\\\\\n",
       " <chr> & <chr> & <dbl>\\\\\n",
       "\\hline\n",
       "\t 1 & 6 pack       & 0.06150993\\\\\n",
       "\t 1 & 8 months     & 0.06099085\\\\\n",
       "\t 1 & a nicer      & 0.09649717\\\\\n",
       "\t 1 & a while      & 0.05405163\\\\\n",
       "\t 1 & about 8      & 0.07926356\\\\\n",
       "\t 1 & also ordered & 0.09221965\\\\\n",
       "\\end{tabular}\n"
      ],
      "text/markdown": [
       "\n",
       "A tibble: 6 × 3\n",
       "\n",
       "| id &lt;chr&gt; | feature &lt;chr&gt; | value &lt;dbl&gt; |\n",
       "|---|---|---|\n",
       "| 1 | 6 pack       | 0.06150993 |\n",
       "| 1 | 8 months     | 0.06099085 |\n",
       "| 1 | a nicer      | 0.09649717 |\n",
       "| 1 | a while      | 0.05405163 |\n",
       "| 1 | about 8      | 0.07926356 |\n",
       "| 1 | also ordered | 0.09221965 |\n",
       "\n"
      ],
      "text/plain": [
       "  id feature      value     \n",
       "1 1  6 pack       0.06150993\n",
       "2 1  8 months     0.06099085\n",
       "3 1  a nicer      0.09649717\n",
       "4 1  a while      0.05405163\n",
       "5 1  about 8      0.07926356\n",
       "6 1  also ordered 0.09221965"
      ]
     },
     "metadata": {},
     "output_type": "display_data"
    }
   ],
   "source": [
    "bigrams_tfidf <- create_tfidf(bigrams)\n",
    "dim(bigrams_tfidf)\n",
    "head(bigrams_tfidf)"
   ]
  },
  {
   "cell_type": "markdown",
   "id": "97f6ce78",
   "metadata": {
    "papermill": {
     "duration": 0.011418,
     "end_time": "2023-10-09T12:20:40.283617",
     "exception": false,
     "start_time": "2023-10-09T12:20:40.272199",
     "status": "completed"
    },
    "tags": []
   },
   "source": [
    "## Exclamation & question marks"
   ]
  },
  {
   "cell_type": "code",
   "execution_count": 12,
   "id": "ca3b59e3",
   "metadata": {
    "execution": {
     "iopub.execute_input": "2023-10-09T12:20:40.353884Z",
     "iopub.status.busy": "2023-10-09T12:20:40.352347Z",
     "iopub.status.idle": "2023-10-09T12:20:58.030254Z",
     "shell.execute_reply": "2023-10-09T12:20:58.028461Z"
    },
    "papermill": {
     "duration": 17.694,
     "end_time": "2023-10-09T12:20:58.032642",
     "exception": false,
     "start_time": "2023-10-09T12:20:40.338642",
     "status": "completed"
    },
    "tags": []
   },
   "outputs": [
    {
     "data": {
      "text/html": [
       "<table class=\"dataframe\">\n",
       "<caption>A grouped_df: 6 × 3</caption>\n",
       "<thead>\n",
       "\t<tr><th scope=col>id</th><th scope=col>feature</th><th scope=col>value</th></tr>\n",
       "\t<tr><th scope=col>&lt;chr&gt;</th><th scope=col>&lt;chr&gt;</th><th scope=col>&lt;int&gt;</th></tr>\n",
       "</thead>\n",
       "<tbody>\n",
       "\t<tr><td>100   </td><td>!</td><td>2</td></tr>\n",
       "\t<tr><td>1000  </td><td>!</td><td>1</td></tr>\n",
       "\t<tr><td>10000 </td><td>!</td><td>1</td></tr>\n",
       "\t<tr><td>100001</td><td>!</td><td>2</td></tr>\n",
       "\t<tr><td>10001 </td><td>!</td><td>1</td></tr>\n",
       "\t<tr><td>100020</td><td>!</td><td>1</td></tr>\n",
       "</tbody>\n",
       "</table>\n"
      ],
      "text/latex": [
       "A grouped\\_df: 6 × 3\n",
       "\\begin{tabular}{lll}\n",
       " id & feature & value\\\\\n",
       " <chr> & <chr> & <int>\\\\\n",
       "\\hline\n",
       "\t 100    & ! & 2\\\\\n",
       "\t 1000   & ! & 1\\\\\n",
       "\t 10000  & ! & 1\\\\\n",
       "\t 100001 & ! & 2\\\\\n",
       "\t 10001  & ! & 1\\\\\n",
       "\t 100020 & ! & 1\\\\\n",
       "\\end{tabular}\n"
      ],
      "text/markdown": [
       "\n",
       "A grouped_df: 6 × 3\n",
       "\n",
       "| id &lt;chr&gt; | feature &lt;chr&gt; | value &lt;int&gt; |\n",
       "|---|---|---|\n",
       "| 100    | ! | 2 |\n",
       "| 1000   | ! | 1 |\n",
       "| 10000  | ! | 1 |\n",
       "| 100001 | ! | 2 |\n",
       "| 10001  | ! | 1 |\n",
       "| 100020 | ! | 1 |\n",
       "\n"
      ],
      "text/plain": [
       "  id     feature value\n",
       "1 100    !       2    \n",
       "2 1000   !       1    \n",
       "3 10000  !       1    \n",
       "4 100001 !       2    \n",
       "5 10001  !       1    \n",
       "6 100020 !       1    "
      ]
     },
     "metadata": {},
     "output_type": "display_data"
    },
    {
     "data": {
      "text/html": [
       "<table class=\"dataframe\">\n",
       "<caption>A grouped_df: 6 × 3</caption>\n",
       "<thead>\n",
       "\t<tr><th scope=col>id</th><th scope=col>feature</th><th scope=col>value</th></tr>\n",
       "\t<tr><th scope=col>&lt;chr&gt;</th><th scope=col>&lt;chr&gt;</th><th scope=col>&lt;int&gt;</th></tr>\n",
       "</thead>\n",
       "<tbody>\n",
       "\t<tr><td>100076</td><td>?</td><td>1</td></tr>\n",
       "\t<tr><td>100077</td><td>?</td><td>2</td></tr>\n",
       "\t<tr><td>100082</td><td>?</td><td>1</td></tr>\n",
       "\t<tr><td>100095</td><td>?</td><td>4</td></tr>\n",
       "\t<tr><td>10010 </td><td>?</td><td>1</td></tr>\n",
       "\t<tr><td>100113</td><td>?</td><td>1</td></tr>\n",
       "</tbody>\n",
       "</table>\n"
      ],
      "text/latex": [
       "A grouped\\_df: 6 × 3\n",
       "\\begin{tabular}{lll}\n",
       " id & feature & value\\\\\n",
       " <chr> & <chr> & <int>\\\\\n",
       "\\hline\n",
       "\t 100076 & ? & 1\\\\\n",
       "\t 100077 & ? & 2\\\\\n",
       "\t 100082 & ? & 1\\\\\n",
       "\t 100095 & ? & 4\\\\\n",
       "\t 10010  & ? & 1\\\\\n",
       "\t 100113 & ? & 1\\\\\n",
       "\\end{tabular}\n"
      ],
      "text/markdown": [
       "\n",
       "A grouped_df: 6 × 3\n",
       "\n",
       "| id &lt;chr&gt; | feature &lt;chr&gt; | value &lt;int&gt; |\n",
       "|---|---|---|\n",
       "| 100076 | ? | 1 |\n",
       "| 100077 | ? | 2 |\n",
       "| 100082 | ? | 1 |\n",
       "| 100095 | ? | 4 |\n",
       "| 10010  | ? | 1 |\n",
       "| 100113 | ? | 1 |\n",
       "\n"
      ],
      "text/plain": [
       "  id     feature value\n",
       "1 100076 ?       1    \n",
       "2 100077 ?       2    \n",
       "3 100082 ?       1    \n",
       "4 100095 ?       4    \n",
       "5 10010  ?       1    \n",
       "6 100113 ?       1    "
      ]
     },
     "metadata": {},
     "output_type": "display_data"
    }
   ],
   "source": [
    "# tokenize and process the data\n",
    "set.seed(1)\n",
    "expr <- sample %>%\n",
    "  unnest_tokens(token, review, token = \"words\", strip_punct = FALSE) %>%\n",
    "  select(id, token, value = rating)\n",
    "\n",
    "# exclamation marks in \"id - feature - value\" format\n",
    "exclamations <- expr %>%\n",
    "  filter(token == \"!\") %>%\n",
    "  group_by(id) %>%\n",
    "  count() %>%\n",
    "  mutate(token = \"!\") %>%\n",
    "  select(id, feature = token, value = n)\n",
    "head(exclamations)\n",
    "\n",
    "# question marks in \"id - feature - value\" format\n",
    "questions <- expr %>%\n",
    "  filter(token == \"?\") %>%\n",
    "  group_by(id) %>%\n",
    "  count() %>%\n",
    "  mutate(token = \"?\") %>%\n",
    "  select(id, feature = token, value = n)\n",
    "head(questions)"
   ]
  },
  {
   "cell_type": "markdown",
   "id": "cf34aa76",
   "metadata": {
    "papermill": {
     "duration": 0.012742,
     "end_time": "2023-10-09T12:20:58.058182",
     "exception": false,
     "start_time": "2023-10-09T12:20:58.045440",
     "status": "completed"
    },
    "tags": []
   },
   "source": [
    "## Negation counts   \n",
    "### For unigrams"
   ]
  },
  {
   "cell_type": "code",
   "execution_count": 13,
   "id": "67b0980c",
   "metadata": {
    "execution": {
     "iopub.execute_input": "2023-10-09T12:20:58.085743Z",
     "iopub.status.busy": "2023-10-09T12:20:58.084187Z",
     "iopub.status.idle": "2023-10-09T12:21:00.689876Z",
     "shell.execute_reply": "2023-10-09T12:21:00.688212Z"
    },
    "papermill": {
     "duration": 2.622122,
     "end_time": "2023-10-09T12:21:00.692206",
     "exception": false,
     "start_time": "2023-10-09T12:20:58.070084",
     "status": "completed"
    },
    "tags": []
   },
   "outputs": [
    {
     "data": {
      "text/html": [
       "<table class=\"dataframe\">\n",
       "<caption>A tibble: 3 × 2</caption>\n",
       "<thead>\n",
       "\t<tr><th scope=col>id</th><th scope=col>neg_count</th></tr>\n",
       "\t<tr><th scope=col>&lt;chr&gt;</th><th scope=col>&lt;int&gt;</th></tr>\n",
       "</thead>\n",
       "<tbody>\n",
       "\t<tr><td>1  </td><td>2</td></tr>\n",
       "\t<tr><td>10 </td><td>3</td></tr>\n",
       "\t<tr><td>100</td><td>1</td></tr>\n",
       "</tbody>\n",
       "</table>\n"
      ],
      "text/latex": [
       "A tibble: 3 × 2\n",
       "\\begin{tabular}{ll}\n",
       " id & neg\\_count\\\\\n",
       " <chr> & <int>\\\\\n",
       "\\hline\n",
       "\t 1   & 2\\\\\n",
       "\t 10  & 3\\\\\n",
       "\t 100 & 1\\\\\n",
       "\\end{tabular}\n"
      ],
      "text/markdown": [
       "\n",
       "A tibble: 3 × 2\n",
       "\n",
       "| id &lt;chr&gt; | neg_count &lt;int&gt; |\n",
       "|---|---|\n",
       "| 1   | 2 |\n",
       "| 10  | 3 |\n",
       "| 100 | 1 |\n",
       "\n"
      ],
      "text/plain": [
       "  id  neg_count\n",
       "1 1   2        \n",
       "2 10  3        \n",
       "3 100 1        "
      ]
     },
     "metadata": {},
     "output_type": "display_data"
    },
    {
     "data": {
      "text/html": [
       "<table class=\"dataframe\">\n",
       "<caption>A tibble: 6 × 3</caption>\n",
       "<thead>\n",
       "\t<tr><th scope=col>id</th><th scope=col>feature</th><th scope=col>value</th></tr>\n",
       "\t<tr><th scope=col>&lt;chr&gt;</th><th scope=col>&lt;chr&gt;</th><th scope=col>&lt;dbl&gt;</th></tr>\n",
       "</thead>\n",
       "<tbody>\n",
       "\t<tr><td>1     </td><td>neg_count</td><td>2</td></tr>\n",
       "\t<tr><td>10    </td><td>neg_count</td><td>3</td></tr>\n",
       "\t<tr><td>100   </td><td>neg_count</td><td>1</td></tr>\n",
       "\t<tr><td>1000  </td><td>neg_count</td><td>7</td></tr>\n",
       "\t<tr><td>10000 </td><td>neg_count</td><td>1</td></tr>\n",
       "\t<tr><td>100000</td><td>neg_count</td><td>0</td></tr>\n",
       "</tbody>\n",
       "</table>\n"
      ],
      "text/latex": [
       "A tibble: 6 × 3\n",
       "\\begin{tabular}{lll}\n",
       " id & feature & value\\\\\n",
       " <chr> & <chr> & <dbl>\\\\\n",
       "\\hline\n",
       "\t 1      & neg\\_count & 2\\\\\n",
       "\t 10     & neg\\_count & 3\\\\\n",
       "\t 100    & neg\\_count & 1\\\\\n",
       "\t 1000   & neg\\_count & 7\\\\\n",
       "\t 10000  & neg\\_count & 1\\\\\n",
       "\t 100000 & neg\\_count & 0\\\\\n",
       "\\end{tabular}\n"
      ],
      "text/markdown": [
       "\n",
       "A tibble: 6 × 3\n",
       "\n",
       "| id &lt;chr&gt; | feature &lt;chr&gt; | value &lt;dbl&gt; |\n",
       "|---|---|---|\n",
       "| 1      | neg_count | 2 |\n",
       "| 10     | neg_count | 3 |\n",
       "| 100    | neg_count | 1 |\n",
       "| 1000   | neg_count | 7 |\n",
       "| 10000  | neg_count | 1 |\n",
       "| 100000 | neg_count | 0 |\n",
       "\n"
      ],
      "text/plain": [
       "  id     feature   value\n",
       "1 1      neg_count 2    \n",
       "2 10     neg_count 3    \n",
       "3 100    neg_count 1    \n",
       "4 1000   neg_count 7    \n",
       "5 10000  neg_count 1    \n",
       "6 100000 neg_count 0    "
      ]
     },
     "metadata": {},
     "output_type": "display_data"
    }
   ],
   "source": [
    "# create a list of negation words\n",
    "negation <-  tibble(word = c(\"not\", \"no\", \"never\", \"neither\", \"nor\", \"none\", \"nobody\", \"nowhere\", \"nothing\", \"no one\", \"non\", \"t\")) # \"t\" stands for isn't, haven't, couldn't, etc.\n",
    "\n",
    "# select only those rows of review_tf_idf that contain negation\n",
    "negation_labeled <- inner_join(review_words, negation, by = c(token = \"word\"))\n",
    "\n",
    "# negation counts perreview\n",
    "negation_scores <- negation_labeled %>%\n",
    "    select(id, n) %>%\n",
    "    group_by(id) %>%\n",
    "    summarise(neg_count = sum(n))\n",
    "head(negation_scores, 3)\n",
    "\n",
    "# transforming into \"id - feature - value\" format\n",
    "neg_count <- review_words %>%\n",
    "    select(id) %>%\n",
    "    distinct()%>%\n",
    "    left_join(negation_scores, by =\"id\") %>%\n",
    "    mutate(neg_count = ifelse(is.na(neg_count), 0, neg_count), feature = \"neg_count\")  %>%\n",
    "    select(id, feature, value = neg_count)\n",
    "head(neg_count)"
   ]
  },
  {
   "cell_type": "markdown",
   "id": "9e7ec544",
   "metadata": {
    "papermill": {
     "duration": 0.011883,
     "end_time": "2023-10-09T12:21:00.716259",
     "exception": false,
     "start_time": "2023-10-09T12:21:00.704376",
     "status": "completed"
    },
    "tags": []
   },
   "source": [
    "### For Bigrams"
   ]
  },
  {
   "cell_type": "markdown",
   "id": "a3353471",
   "metadata": {
    "papermill": {
     "duration": 0.012105,
     "end_time": "2023-10-09T12:21:00.740823",
     "exception": false,
     "start_time": "2023-10-09T12:21:00.728718",
     "status": "completed"
    },
    "tags": []
   },
   "source": [
    "## Combining the data and creating a sparse matrix"
   ]
  },
  {
   "cell_type": "code",
   "execution_count": 14,
   "id": "6d6af53f",
   "metadata": {
    "execution": {
     "iopub.execute_input": "2023-10-09T12:21:00.768760Z",
     "iopub.status.busy": "2023-10-09T12:21:00.767223Z",
     "iopub.status.idle": "2023-10-09T12:21:22.983505Z",
     "shell.execute_reply": "2023-10-09T12:21:22.981854Z"
    },
    "papermill": {
     "duration": 22.233483,
     "end_time": "2023-10-09T12:21:22.986591",
     "exception": false,
     "start_time": "2023-10-09T12:21:00.753108",
     "status": "completed"
    },
    "tags": []
   },
   "outputs": [
    {
     "data": {
      "text/plain": [
       "10 x 6 sparse Matrix of class \"dgCMatrix\"\n",
       "       citrus i 3pack white pants 3pack ? ! neg_count\n",
       "1             .           .           . . .         2\n",
       "10            .           .           . . .         3\n",
       "100           .           .           . . 2         1\n",
       "1000          .           .           . . 1         7\n",
       "10000         .           .           . . 1         1\n",
       "100000        .           .           . . .         0\n",
       "100001        .           .           . . 2         0\n",
       "100002        .           .           . . .         1\n",
       "100003        .           .           . . .         1\n",
       "100004        .           .           . . .         1"
      ]
     },
     "metadata": {},
     "output_type": "display_data"
    }
   ],
   "source": [
    "# Combine features\n",
    "features_df <-bind_rows(token_counts,\n",
    "                        total_num_words,\n",
    "                        words_tfidf,\n",
    "                        bigrams_tfidf,\n",
    "                        questions,\n",
    "                        exclamations,\n",
    "                        neg_count)\n",
    "\n",
    "# Turn features into a sparse design matrix \n",
    "sparseM = features_df %>% \n",
    "    cast_sparse(id, feature, value)\n",
    "\n",
    "# Verify the result:\n",
    "sparseM[1:10,(ncol(sparseM)-5):ncol(sparseM)]\n"
   ]
  },
  {
   "cell_type": "markdown",
   "id": "3f81a551",
   "metadata": {
    "papermill": {
     "duration": 0.012418,
     "end_time": "2023-10-09T12:21:23.012617",
     "exception": false,
     "start_time": "2023-10-09T12:21:23.000199",
     "status": "completed"
    },
    "tags": []
   },
   "source": [
    "## Correlated and linear combinations of features \n",
    "\n",
    "Although correlated (linear combinations of) features may exist, with thousands of features it's computationally too cumbersome to try to remove them directly. Instead we'll have to rely on the properties of the Lasso and Ridge regression to deal with them.\n",
    "\n"
   ]
  },
  {
   "cell_type": "markdown",
   "id": "4ce6f824",
   "metadata": {
    "papermill": {
     "duration": 0.012401,
     "end_time": "2023-10-09T12:21:23.037990",
     "exception": false,
     "start_time": "2023-10-09T12:21:23.025589",
     "status": "completed"
    },
    "tags": []
   },
   "source": [
    "# 5. Models"
   ]
  },
  {
   "cell_type": "markdown",
   "id": "23e6a878",
   "metadata": {
    "_uuid": "31b0ac2cecf396ee96aaab8cf8af9e022ebe2ef2",
    "papermill": {
     "duration": 0.012066,
     "end_time": "2023-10-09T12:21:23.062067",
     "exception": false,
     "start_time": "2023-10-09T12:21:23.050001",
     "status": "completed"
    },
    "tags": []
   },
   "source": [
    "## Model fitting\n",
    "\n",
    "The aim of this competition is the predict the probability that a customer is ***satisfied***. This is deemed to be the case if `rating > 3`. \n",
    "\n"
   ]
  },
  {
   "cell_type": "markdown",
   "id": "15a493b0",
   "metadata": {
    "papermill": {
     "duration": 0.012107,
     "end_time": "2023-10-09T12:21:23.086203",
     "exception": false,
     "start_time": "2023-10-09T12:21:23.074096",
     "status": "completed"
    },
    "tags": []
   },
   "source": [
    "Let's split design matrix and target into training and test portions."
   ]
  },
  {
   "cell_type": "code",
   "execution_count": 15,
   "id": "5c352d98",
   "metadata": {
    "execution": {
     "iopub.execute_input": "2023-10-09T12:21:23.113785Z",
     "iopub.status.busy": "2023-10-09T12:21:23.112177Z",
     "iopub.status.idle": "2023-10-09T12:21:24.136471Z",
     "shell.execute_reply": "2023-10-09T12:21:24.134707Z"
    },
    "papermill": {
     "duration": 1.040745,
     "end_time": "2023-10-09T12:21:24.138839",
     "exception": false,
     "start_time": "2023-10-09T12:21:23.098094",
     "status": "completed"
    },
    "tags": []
   },
   "outputs": [],
   "source": [
    "# train indices\n",
    "train_id <- sample %>%\n",
    "    filter(!is.na(rating)) %>%\n",
    "    select(id) %>%\n",
    "    pull() # get id's and put them in a vector\n",
    "\n",
    "# test indices\n",
    "test_id <- sample %>%\n",
    "    filter(is.na(rating)) %>%\n",
    "    select(id) %>%\n",
    "    pull()\n",
    "\n",
    "# splitting design matrix\n",
    "train <- sparseM[rownames(sparseM) %in% train_id, ]\n",
    "test <-  sparseM[rownames(sparseM) %in% test_id, ]"
   ]
  },
  {
   "cell_type": "code",
   "execution_count": 16,
   "id": "6fd7aa19",
   "metadata": {
    "execution": {
     "iopub.execute_input": "2023-10-09T12:21:24.166474Z",
     "iopub.status.busy": "2023-10-09T12:21:24.165020Z",
     "iopub.status.idle": "2023-10-09T12:21:24.264768Z",
     "shell.execute_reply": "2023-10-09T12:21:24.263107Z"
    },
    "papermill": {
     "duration": 0.115985,
     "end_time": "2023-10-09T12:21:24.266905",
     "exception": false,
     "start_time": "2023-10-09T12:21:24.150920",
     "status": "completed"
    },
    "tags": []
   },
   "outputs": [
    {
     "data": {
      "text/html": [
       "<style>\n",
       ".list-inline {list-style: none; margin:0; padding: 0}\n",
       ".list-inline>li {display: inline-block}\n",
       ".list-inline>li:not(:last-child)::after {content: \"\\00b7\"; padding: 0 .5ex}\n",
       "</style>\n",
       "<ol class=list-inline><li>False</li><li>True</li></ol>\n",
       "\n",
       "<details>\n",
       "\t<summary style=display:list-item;cursor:pointer>\n",
       "\t\t<strong>Levels</strong>:\n",
       "\t</summary>\n",
       "\t<style>\n",
       "\t.list-inline {list-style: none; margin:0; padding: 0}\n",
       "\t.list-inline>li {display: inline-block}\n",
       "\t.list-inline>li:not(:last-child)::after {content: \"\\00b7\"; padding: 0 .5ex}\n",
       "\t</style>\n",
       "\t<ol class=list-inline><li>'False'</li><li>'True'</li></ol>\n",
       "</details>"
      ],
      "text/latex": [
       "\\begin{enumerate*}\n",
       "\\item False\n",
       "\\item True\n",
       "\\end{enumerate*}\n",
       "\n",
       "\\emph{Levels}: \\begin{enumerate*}\n",
       "\\item 'False'\n",
       "\\item 'True'\n",
       "\\end{enumerate*}\n"
      ],
      "text/markdown": [
       "1. False\n",
       "2. True\n",
       "\n",
       "\n",
       "\n",
       "**Levels**: 1. 'False'\n",
       "2. 'True'\n",
       "\n",
       "\n"
      ],
      "text/plain": [
       "[1] False True \n",
       "Levels: False True"
      ]
     },
     "metadata": {},
     "output_type": "display_data"
    }
   ],
   "source": [
    "# extracting y values for training set\n",
    "target <- data.frame(id = rownames(train)) %>%\n",
    "  inner_join(sample, by = \"id\") %>%\n",
    "  pull(rating) \n",
    "unique(target)"
   ]
  },
  {
   "cell_type": "markdown",
   "id": "5739615e",
   "metadata": {
    "papermill": {
     "duration": 0.012271,
     "end_time": "2023-10-09T12:21:24.292186",
     "exception": false,
     "start_time": "2023-10-09T12:21:24.279915",
     "status": "completed"
    },
    "tags": []
   },
   "source": [
    "### 1. Lasso regression "
   ]
  },
  {
   "cell_type": "code",
   "execution_count": 17,
   "id": "dbd86eb7",
   "metadata": {
    "execution": {
     "iopub.execute_input": "2023-10-09T12:21:24.320095Z",
     "iopub.status.busy": "2023-10-09T12:21:24.318475Z",
     "iopub.status.idle": "2023-10-09T12:21:26.811347Z",
     "shell.execute_reply": "2023-10-09T12:21:26.809583Z"
    },
    "papermill": {
     "duration": 2.509183,
     "end_time": "2023-10-09T12:21:26.813451",
     "exception": false,
     "start_time": "2023-10-09T12:21:24.304268",
     "status": "completed"
    },
    "tags": []
   },
   "outputs": [
    {
     "data": {
      "text/html": [
       "4"
      ],
      "text/latex": [
       "4"
      ],
      "text/markdown": [
       "4"
      ],
      "text/plain": [
       "[1] 4"
      ]
     },
     "metadata": {},
     "output_type": "display_data"
    }
   ],
   "source": [
    "# Use all available cores\n",
    "cl <- makePSOCKcluster(detectCores())\n",
    "\n",
    "# Register the cluster with doParallel\n",
    "registerDoParallel(cl)\n",
    "\n",
    "# Check registered cores to confirm it worked\n",
    "getDoParWorkers()"
   ]
  },
  {
   "cell_type": "markdown",
   "id": "0e7a6177",
   "metadata": {
    "papermill": {
     "duration": 0.012577,
     "end_time": "2023-10-09T12:21:26.838779",
     "exception": false,
     "start_time": "2023-10-09T12:21:26.826202",
     "status": "completed"
    },
    "tags": []
   },
   "source": [
    "Now, let's tune λ by cross-validation."
   ]
  },
  {
   "cell_type": "code",
   "execution_count": 18,
   "id": "6d3011ac",
   "metadata": {
    "execution": {
     "iopub.execute_input": "2023-10-09T12:21:26.867059Z",
     "iopub.status.busy": "2023-10-09T12:21:26.865593Z",
     "iopub.status.idle": "2023-10-09T20:13:11.704991Z",
     "shell.execute_reply": "2023-10-09T20:13:11.702152Z"
    },
    "papermill": {
     "duration": 28304.857018,
     "end_time": "2023-10-09T20:13:11.708279",
     "exception": false,
     "start_time": "2023-10-09T12:21:26.851261",
     "status": "completed"
    },
    "tags": []
   },
   "outputs": [
    {
     "name": "stderr",
     "output_type": "stream",
     "text": [
      "Warning message:\n",
      "“from glmnet C++ code (error code -54); Convergence for 54th lambda value not reached after maxit=100000 iterations; solutions for larger lambdas returned”\n"
     ]
    },
    {
     "data": {
      "text/plain": [
       "\n",
       "Call:  cv.glmnet(x = train, y = target, lambda = grid, type.measure = \"auc\",      nfolds = 10, parallel = TRUE, family = \"binomial\", standardize = TRUE,      alpha = 1) \n",
       "\n",
       "Measure: AUC \n",
       "\n",
       "      Lambda Index Measure       SE Nonzero\n",
       "min 0.002848    52  0.9424 0.000574    2026\n",
       "1se 0.002848    52  0.9424 0.000574    2026"
      ]
     },
     "metadata": {},
     "output_type": "display_data"
    },
    {
     "data": {
      "image/png": "[encoded data removed]"
     },
     "metadata": {
      "image/png": {
       "height": 420,
       "width": 420
      }
     },
     "output_type": "display_data"
    }
   ],
   "source": [
    "# Define lambda grid\n",
    "grid <- 10^seq(-4, -1, length = 100)\n",
    "\n",
    "# Fit the lasso model with cross-validation\n",
    "lasso_reg_cv <- cv.glmnet(\n",
    "  x = train,\n",
    "  y = target,\n",
    "  family = \"binomial\", # We predict two classes, so it's binomial\n",
    "  standardize = TRUE, # Have to standardize for lasso and ridge\n",
    "  parallel = TRUE, # Set to true to use multiple cpu cores\n",
    "  type.measure = \"auc\", # Evaluate with Area Under the Curve\n",
    "  nfold = 10, # Set to 10-fold cross validation\n",
    "  alpha = 1, # Alpha = 1 for Lasso\n",
    "  lambda = grid # Use the grid of lambda values\n",
    ")\n",
    "\n",
    "# Take a look at the results\n",
    "lasso_reg_cv\n",
    "plot(lasso_reg_cv)"
   ]
  },
  {
   "cell_type": "markdown",
   "id": "77328077",
   "metadata": {
    "papermill": {
     "duration": 0.023096,
     "end_time": "2023-10-09T20:13:11.755256",
     "exception": false,
     "start_time": "2023-10-09T20:13:11.732160",
     "status": "completed"
    },
    "tags": []
   },
   "source": [
    "We can now evaluate the performance at the cross-validated  λ."
   ]
  },
  {
   "cell_type": "markdown",
   "id": "5692758c",
   "metadata": {
    "papermill": {
     "duration": 0.022095,
     "end_time": "2023-10-09T20:13:11.800708",
     "exception": false,
     "start_time": "2023-10-09T20:13:11.778613",
     "status": "completed"
    },
    "tags": []
   },
   "source": [
    "### 2. Ridge regression \n"
   ]
  },
  {
   "cell_type": "code",
   "execution_count": 19,
   "id": "eccebc85",
   "metadata": {
    "execution": {
     "iopub.execute_input": "2023-10-09T20:13:14.283107Z",
     "iopub.status.busy": "2023-10-09T20:13:14.280908Z",
     "iopub.status.idle": "2023-10-09T20:27:22.221484Z",
     "shell.execute_reply": "2023-10-09T20:27:22.219800Z"
    },
    "papermill": {
     "duration": 850.400781,
     "end_time": "2023-10-09T20:27:22.224398",
     "exception": false,
     "start_time": "2023-10-09T20:13:11.823617",
     "status": "completed"
    },
    "tags": []
   },
   "outputs": [
    {
     "data": {
      "text/plain": [
       "\n",
       "Call:  cv.glmnet(x = train, y = target, lambda = grid, type.measure = \"auc\",      nfolds = 10, parallel = TRUE, family = \"binomial\", standardize = TRUE,      alpha = 0) \n",
       "\n",
       "Measure: AUC \n",
       "\n",
       "    Lambda Index Measure        SE Nonzero\n",
       "min 0.5722    79  0.9483 0.0004963  184412\n",
       "1se 0.7743    78  0.9481 0.0004860  184412"
      ]
     },
     "metadata": {},
     "output_type": "display_data"
    },
    {
     "data": {
      "image/png": "[encoded data removed]"
     },
     "metadata": {
      "image/png": {
       "height": 420,
       "width": 420
      }
     },
     "output_type": "display_data"
    }
   ],
   "source": [
    "grid <- 10^seq(-3, 10, length = 100)\n",
    "\n",
    "# Fit the ridge model with cross-validation\n",
    "ridge_reg_cv <- cv.glmnet(\n",
    "  x = train,\n",
    "  y = target,\n",
    "  family = \"binomial\", # We predict two classes, so it's binomial\n",
    "  standardize = TRUE, # Have to standardize for lasso and ridge\n",
    "  parallel = TRUE, # Set to true to use multiple cpu cores\n",
    "  type.measure = \"auc\", # Evaluate with Area Under the Curve\n",
    "  nfold = 10, # Set to 10-fold cross validation\n",
    "  alpha = 0, # Alpha = 0 for Ridge\n",
    "  lambda = grid # Use the grid of lambda values\n",
    ")\n",
    "\n",
    "# Take a look at the results\n",
    "ridge_reg_cv\n",
    "plot(ridge_reg_cv)"
   ]
  },
  {
   "cell_type": "code",
   "execution_count": 20,
   "id": "d1fda6fe",
   "metadata": {
    "execution": {
     "iopub.execute_input": "2023-10-09T20:27:22.356611Z",
     "iopub.status.busy": "2023-10-09T20:27:22.355149Z",
     "iopub.status.idle": "2023-10-09T20:27:24.321806Z",
     "shell.execute_reply": "2023-10-09T20:27:24.319898Z"
    },
    "papermill": {
     "duration": 2.085736,
     "end_time": "2023-10-09T20:27:24.324563",
     "exception": false,
     "start_time": "2023-10-09T20:27:22.238827",
     "status": "completed"
    },
    "tags": []
   },
   "outputs": [],
   "source": [
    "# lasso predictions \n",
    "lasso_pred  <- predict(lasso_reg_cv, \n",
    "                          train, \n",
    "                          s = \"lambda.min\", \n",
    "                          type = \"class\") %>% \n",
    "                          factor()\n",
    "\n",
    "# ridge predictions\n",
    "ridge_pred  <- predict(ridge_reg_cv, \n",
    "                          train, \n",
    "                          s = \"lambda.min\", \n",
    "                          type = \"class\") %>% \n",
    "                          factor()\n",
    "\n",
    "\n"
   ]
  },
  {
   "cell_type": "markdown",
   "id": "fa4af7a6",
   "metadata": {
    "papermill": {
     "duration": 0.013899,
     "end_time": "2023-10-09T20:27:24.353631",
     "exception": false,
     "start_time": "2023-10-09T20:27:24.339732",
     "status": "completed"
    },
    "tags": []
   },
   "source": [
    "### 3. Principal component analysis\n",
    "\n",
    "PCA appears to be inapplicable in our case due to the problems with scaling. This is caused by the fact that all the values in some column are the same or equal to zero."
   ]
  },
  {
   "cell_type": "code",
   "execution_count": 21,
   "id": "e3845993",
   "metadata": {
    "execution": {
     "iopub.execute_input": "2023-10-09T20:27:24.385250Z",
     "iopub.status.busy": "2023-10-09T20:27:24.383707Z",
     "iopub.status.idle": "2023-10-09T20:27:24.397883Z",
     "shell.execute_reply": "2023-10-09T20:27:24.396335Z"
    },
    "papermill": {
     "duration": 0.033073,
     "end_time": "2023-10-09T20:27:24.400548",
     "exception": false,
     "start_time": "2023-10-09T20:27:24.367475",
     "status": "completed"
    },
    "tags": []
   },
   "outputs": [],
   "source": [
    "#features_df1 <- bind_rows(total_num_words,\n",
    "#                        total_num_bigrams,\n",
    "#                        words_tfidf,\n",
    "#                        bigrams_tfidf,\n",
    "#                        questions,\n",
    "#                        exclamations,\n",
    "#                        neg_count,\n",
    "#                        neg_count_bigrams\n",
    "#                        ) # some features were omitted due to problems with pivot wider\n",
    "\n",
    "# pivot_wider the data frame with features\n",
    "#features_df_wide <- features_df1 %>%\n",
    "#     pivot_wider(names_from = \"feature\", \n",
    "#                 values_from = \"value\",\n",
    "#                 values_fill = list(value = 0),# replace NAs with 0\n",
    "#                 names_repair = \"minimal\") # to avoid problems naming conflicts caused by token_counts and review_tf_idf2 \n",
    "\n",
    "# filter to include only rows where 'id' is in the training set (= the same number of rows as in 'y')\n",
    "#features_df_wide <- features_df_wide[features_df_wide$id %in% rownames(train), ]\n",
    "\n",
    "# de-select id\n",
    "#features_df_wide = features_df_wide  %>% select(-id)\n",
    "\n",
    "# perform PCA\n",
    "#pca_model <- prcomp(features_df_wide, scale = TRUE) # unable to scale; scale = FALSE does not yield meaningful results\n",
    "#summary(pca_model)$importance \n",
    "\n",
    "# scree plot for proportion of variance explained\n",
    "#plot(summary(pca_model)$importance[2, 1:10], \n",
    "#      type = \"o\", \n",
    "#      ylab = \"PVE\", \n",
    "#      xlab = \"Principal Component\", \n",
    "#      main = \"Scree plot for PCA\")\n",
    "\n",
    "# create a data frame for modeling\n",
    "#model_data <- cbind(y, as.data.frame(pca_model$x))\n",
    "\n",
    "# train a logistic regression model\n",
    "#model <- glm(y ~ ., data = model_data, family = \"binomial\")\n",
    "\n"
   ]
  },
  {
   "cell_type": "markdown",
   "id": "d2afab44",
   "metadata": {
    "papermill": {
     "duration": 0.013525,
     "end_time": "2023-10-09T20:27:24.427870",
     "exception": false,
     "start_time": "2023-10-09T20:27:24.414345",
     "status": "completed"
    },
    "tags": []
   },
   "source": [
    "## Model evaluation\n",
    "\n"
   ]
  },
  {
   "cell_type": "markdown",
   "id": "7e254acf",
   "metadata": {
    "papermill": {
     "duration": 0.013798,
     "end_time": "2023-10-09T20:27:24.455242",
     "exception": false,
     "start_time": "2023-10-09T20:27:24.441444",
     "status": "completed"
    },
    "tags": []
   },
   "source": [
    "In this section we wull evaluate the model usingarious predictive performance measures, including AUC."
   ]
  },
  {
   "cell_type": "code",
   "execution_count": 22,
   "id": "8e44d4b1",
   "metadata": {
    "execution": {
     "iopub.execute_input": "2023-10-09T20:27:24.485807Z",
     "iopub.status.busy": "2023-10-09T20:27:24.484219Z",
     "iopub.status.idle": "2023-10-09T20:27:24.633133Z",
     "shell.execute_reply": "2023-10-09T20:27:24.631258Z"
    },
    "papermill": {
     "duration": 0.166582,
     "end_time": "2023-10-09T20:27:24.635342",
     "exception": false,
     "start_time": "2023-10-09T20:27:24.468760",
     "status": "completed"
    },
    "tags": []
   },
   "outputs": [
    {
     "data": {
      "text/html": [
       "<table class=\"dataframe\">\n",
       "<caption>A data.frame: 2 × 5</caption>\n",
       "<thead>\n",
       "\t<tr><th scope=col>regression</th><th scope=col>accuracy</th><th scope=col>sensitivity</th><th scope=col>specificity</th><th scope=col>auc</th></tr>\n",
       "\t<tr><th scope=col>&lt;chr&gt;</th><th scope=col>&lt;dbl&gt;</th><th scope=col>&lt;dbl&gt;</th><th scope=col>&lt;dbl&gt;</th><th scope=col>&lt;dbl&gt;</th></tr>\n",
       "</thead>\n",
       "<tbody>\n",
       "\t<tr><td>Lasso</td><td>0.8971869</td><td>0.6581936</td><td>0.9709046</td><td>0.9424415</td></tr>\n",
       "\t<tr><td>Ridge</td><td>0.9504204</td><td>0.7998232</td><td>0.7998232</td><td>0.9483476</td></tr>\n",
       "</tbody>\n",
       "</table>\n"
      ],
      "text/latex": [
       "A data.frame: 2 × 5\n",
       "\\begin{tabular}{lllll}\n",
       " regression & accuracy & sensitivity & specificity & auc\\\\\n",
       " <chr> & <dbl> & <dbl> & <dbl> & <dbl>\\\\\n",
       "\\hline\n",
       "\t Lasso & 0.8971869 & 0.6581936 & 0.9709046 & 0.9424415\\\\\n",
       "\t Ridge & 0.9504204 & 0.7998232 & 0.7998232 & 0.9483476\\\\\n",
       "\\end{tabular}\n"
      ],
      "text/markdown": [
       "\n",
       "A data.frame: 2 × 5\n",
       "\n",
       "| regression &lt;chr&gt; | accuracy &lt;dbl&gt; | sensitivity &lt;dbl&gt; | specificity &lt;dbl&gt; | auc &lt;dbl&gt; |\n",
       "|---|---|---|---|---|\n",
       "| Lasso | 0.8971869 | 0.6581936 | 0.9709046 | 0.9424415 |\n",
       "| Ridge | 0.9504204 | 0.7998232 | 0.7998232 | 0.9483476 |\n",
       "\n"
      ],
      "text/plain": [
       "  regression accuracy  sensitivity specificity auc      \n",
       "1 Lasso      0.8971869 0.6581936   0.9709046   0.9424415\n",
       "2 Ridge      0.9504204 0.7998232   0.7998232   0.9483476"
      ]
     },
     "metadata": {},
     "output_type": "display_data"
    }
   ],
   "source": [
    "# performance evaluation\n",
    "lasso_cm <- caret::confusionMatrix(lasso_pred, target)\n",
    "\n",
    "# AUC\n",
    "lasso_auc <- lasso_reg_cv$cvm %>% max()\n",
    "\n",
    "# accuracy\n",
    "lasso_accuracy <- (lasso_pred == target) %>% mean()\n",
    "\n",
    "# sensitivity\n",
    "lasso_sensitivity <- lasso_cm$byClass[[\"Sensitivity\"]]\n",
    "\n",
    "# specificity\n",
    "lasso_specificity <- lasso_cm$byClass[[\"Specificity\"]]\n",
    "\n",
    "\n",
    "# performance evaluation\n",
    "ridge_cm <- caret::confusionMatrix(ridge_pred, target)\n",
    "\n",
    "# AUC\n",
    "ridge_auc <- ridge_reg_cv$cvm %>% max()\n",
    "\n",
    "# accuracy\n",
    "ridge_accuracy <- (ridge_pred == target) %>% mean()\n",
    "\n",
    "# sensitivity\n",
    "ridge_sensitivity <- ridge_cm$byClass[[\"Sensitivity\"]]\n",
    "\n",
    "# specificity\n",
    "ridge_specificity <- ridge_cm$byClass[[\"Specificity\"]]\n",
    "\n",
    "accuracy <- c(lasso_accuracy, ridge_accuracy)\n",
    "sensitivity <- c(lasso_sensitivity, ridge_sensitivity)\n",
    "specificity <- c(lasso_specificity, ridge_sensitivity)\n",
    "auc <- c(lasso_auc, ridge_auc)\n",
    "regression <- c(\"Lasso\", \"Ridge\")\n",
    "lasso_vs_ridge <- data.frame(regression, accuracy, sensitivity, specificity, auc)\n",
    "lasso_vs_ridge"
   ]
  },
  {
   "cell_type": "markdown",
   "id": "7c004507",
   "metadata": {
    "_uuid": "db4164fa915f86b512ba3a4a576683dcf4b48320",
    "papermill": {
     "duration": 0.014628,
     "end_time": "2023-10-09T20:27:24.664594",
     "exception": false,
     "start_time": "2023-10-09T20:27:24.649966",
     "status": "completed"
    },
    "tags": []
   },
   "source": [
    "\n",
    "# 6. Submitting your predictions\n"
   ]
  },
  {
   "cell_type": "code",
   "execution_count": 23,
   "id": "14ba748b",
   "metadata": {
    "execution": {
     "iopub.execute_input": "2023-10-09T20:27:24.697084Z",
     "iopub.status.busy": "2023-10-09T20:27:24.695515Z",
     "iopub.status.idle": "2023-10-09T20:27:24.872738Z",
     "shell.execute_reply": "2023-10-09T20:27:24.871106Z"
    },
    "papermill": {
     "duration": 0.195763,
     "end_time": "2023-10-09T20:27:24.874974",
     "exception": false,
     "start_time": "2023-10-09T20:27:24.679211",
     "status": "completed"
    },
    "tags": []
   },
   "outputs": [
    {
     "data": {
      "text/html": [
       "<table class=\"dataframe\">\n",
       "<caption>A tibble: 6 × 2</caption>\n",
       "<thead>\n",
       "\t<tr><th scope=col>Id</th><th scope=col>Prediction</th></tr>\n",
       "\t<tr><th scope=col>&lt;chr&gt;</th><th scope=col>&lt;dbl&gt;</th></tr>\n",
       "</thead>\n",
       "<tbody>\n",
       "\t<tr><td>3 </td><td>0.9585770</td></tr>\n",
       "\t<tr><td>5 </td><td>0.9692157</td></tr>\n",
       "\t<tr><td>8 </td><td>0.9264010</td></tr>\n",
       "\t<tr><td>14</td><td>0.8387249</td></tr>\n",
       "\t<tr><td>20</td><td>0.9124983</td></tr>\n",
       "\t<tr><td>22</td><td>0.2608595</td></tr>\n",
       "</tbody>\n",
       "</table>\n"
      ],
      "text/latex": [
       "A tibble: 6 × 2\n",
       "\\begin{tabular}{ll}\n",
       " Id & Prediction\\\\\n",
       " <chr> & <dbl>\\\\\n",
       "\\hline\n",
       "\t 3  & 0.9585770\\\\\n",
       "\t 5  & 0.9692157\\\\\n",
       "\t 8  & 0.9264010\\\\\n",
       "\t 14 & 0.8387249\\\\\n",
       "\t 20 & 0.9124983\\\\\n",
       "\t 22 & 0.2608595\\\\\n",
       "\\end{tabular}\n"
      ],
      "text/markdown": [
       "\n",
       "A tibble: 6 × 2\n",
       "\n",
       "| Id &lt;chr&gt; | Prediction &lt;dbl&gt; |\n",
       "|---|---|\n",
       "| 3  | 0.9585770 |\n",
       "| 5  | 0.9692157 |\n",
       "| 8  | 0.9264010 |\n",
       "| 14 | 0.8387249 |\n",
       "| 20 | 0.9124983 |\n",
       "| 22 | 0.2608595 |\n",
       "\n"
      ],
      "text/plain": [
       "   Id Prediction\n",
       "3  3  0.9585770 \n",
       "5  5  0.9692157 \n",
       "8  8  0.9264010 \n",
       "14 14 0.8387249 \n",
       "20 20 0.9124983 \n",
       "22 22 0.2608595 "
      ]
     },
     "metadata": {},
     "output_type": "display_data"
    },
    {
     "data": {
      "text/html": [
       "<style>\n",
       ".list-inline {list-style: none; margin:0; padding: 0}\n",
       ".list-inline>li {display: inline-block}\n",
       ".list-inline>li:not(:last-child)::after {content: \"\\00b7\"; padding: 0 .5ex}\n",
       "</style>\n",
       "<ol class=list-inline><li>30000</li><li>2</li></ol>\n"
      ],
      "text/latex": [
       "\\begin{enumerate*}\n",
       "\\item 30000\n",
       "\\item 2\n",
       "\\end{enumerate*}\n"
      ],
      "text/markdown": [
       "1. 30000\n",
       "2. 2\n",
       "\n",
       "\n"
      ],
      "text/plain": [
       "[1] 30000     2"
      ]
     },
     "metadata": {},
     "output_type": "display_data"
    }
   ],
   "source": [
    "# prepare prediction for the testing set\n",
    "lassopred  <- predict(lasso_reg_cv, \n",
    "                          test, \n",
    "                          s = \"lambda.min\", \n",
    "                          type = \"response\")\n",
    "\n",
    "\n",
    "final <- tibble(Id =rownames(lassopred), \n",
    "                    Prediction = lassopred[,1]) %>%\n",
    "         arrange(as.integer(Id)) \n",
    "\n",
    "head(final)\n",
    "dim(final)"
   ]
  },
  {
   "cell_type": "code",
   "execution_count": 24,
   "id": "d0b681b5",
   "metadata": {
    "execution": {
     "iopub.execute_input": "2023-10-09T20:27:24.907483Z",
     "iopub.status.busy": "2023-10-09T20:27:24.905721Z",
     "iopub.status.idle": "2023-10-09T20:27:24.941050Z",
     "shell.execute_reply": "2023-10-09T20:27:24.939205Z"
    },
    "papermill": {
     "duration": 0.05407,
     "end_time": "2023-10-09T20:27:24.943371",
     "exception": false,
     "start_time": "2023-10-09T20:27:24.889301",
     "status": "completed"
    },
    "tags": []
   },
   "outputs": [],
   "source": [
    "# write your predictions data frame to file\n",
    "write_csv(final, file=\"predictions.csv\")"
   ]
  },
  {
   "cell_type": "markdown",
   "id": "644c885b",
   "metadata": {
    "papermill": {
     "duration": 0.014234,
     "end_time": "2023-10-09T20:27:24.972695",
     "exception": false,
     "start_time": "2023-10-09T20:27:24.958461",
     "status": "completed"
    },
    "tags": []
   },
   "source": [
    "# 7. Member Contribution\n",
    "\n",
    "All members worked on feature functions:\n",
    "\n",
    "- Alex = Negations, IT-IDF, Token Count\n",
    "- Jakov = Sentence Length\n",
    "- Joselyn = Exclamations & Questions\n",
    "\n",
    "Jakob worked on the model on his own and we all cleaned up the notebook together."
   ]
  }
 ],
 "metadata": {
  "kernelspec": {
   "display_name": "R",
   "language": "R",
   "name": "ir"
  },
  "language_info": {
   "codemirror_mode": "r",
   "file_extension": ".r",
   "mimetype": "text/x-r-source",
   "name": "R",
   "pygments_lexer": "r",
   "version": "4.0.5"
  },
  "papermill": {
   "default_parameters": {},
   "duration": 29645.519492,
   "end_time": "2023-10-09T20:27:26.618991",
   "environment_variables": {},
   "exception": null,
   "input_path": "__notebook__.ipynb",
   "output_path": "__notebook__.ipynb",
   "parameters": {},
   "start_time": "2023-10-09T12:13:21.099499",
   "version": "2.4.0"
  }
 },
 "nbformat": 4,
 "nbformat_minor": 5
}
